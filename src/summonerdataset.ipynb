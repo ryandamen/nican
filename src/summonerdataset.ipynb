{
 "metadata": {
  "language_info": {
   "codemirror_mode": {
    "name": "ipython",
    "version": 3
   },
   "file_extension": ".py",
   "mimetype": "text/x-python",
   "name": "python",
   "nbconvert_exporter": "python",
   "pygments_lexer": "ipython3",
   "version": "3.9.1-final"
  },
  "orig_nbformat": 2,
  "kernelspec": {
   "name": "python3",
   "display_name": "Python 3",
   "language": "python"
  }
 },
 "nbformat": 4,
 "nbformat_minor": 2,
 "cells": [
  {
   "source": [
    "# Calling the API and creating the dataset"
   ],
   "cell_type": "markdown",
   "metadata": {}
  },
  {
   "cell_type": "code",
   "execution_count": null,
   "metadata": {},
   "outputs": [],
   "source": [
    "## Notes\n",
    "\n",
    "! Display line numbers by clicking left of the green bar of the cell and pressing L. Has to be done on a per cell basis. \n",
    "\n",
    "Source: https://riot-api-libraries.readthedocs.io/en/latest/collectingdata.html\n",
    "\n",
    "You can also use the League endpoints to get lists of ranked summoners. The positional league endpoints provide a paginated list of all summoners in a Tier + Division + Position (e.g. all ranked Diamond II Top laners). Alternatively, Canisback on the Discord currently hosts a list of league IDs that you can use to pull summoners from the leagues/{leagueId} endpoints. These lists are provided for free to the community for use, and may go down or stop being updated at any time.\n",
    "    https://developer.riotgames.com/apis#league-exp-v4/GET_getLeagueEntries\n",
    "\n",
    "Helpful tutorial for this\n",
    "- pulling specific data from API https://www.dataquest.io/blog/python-api-tutorial/ \n",
    "\n",
    "List of public API's for playing around another time\n",
    "- https://github.com/public-apis/public-apis\n",
    "\n",
    "Other (unused so far) tutorials:\n",
    "- Writing & reading Json files https://stackabuse.com/reading-and-writing-json-to-a-file-in-python/ \n",
    "\n"
   ]
  },
  {
   "source": [
    "## 1/4 Get summoner IDs & names by region, tier & division https://developer.riotgames.com/apis#league-exp-v4/GET_getLeagueEntries"
   ],
   "cell_type": "markdown",
   "metadata": {}
  },
  {
   "cell_type": "code",
   "execution_count": null,
   "metadata": {},
   "outputs": [],
   "source": [
    "# remaining to do for Block: [get summoner ID]\n",
    "    * [ ] create a dataframe that tracks the last page with data for each tier/division\n",
    "    * [ ] when done put the dataframe in a dict where the key is the tier+division\n",
    "    * [ ] make the block into a function\n"
   ]
  },
  {
   "cell_type": "code",
   "execution_count": 5,
   "metadata": {
    "tags": []
   },
   "outputs": [
    {
     "output_type": "stream",
     "name": "stdout",
     "text": [
      "CHALLENGER I\n",
      "https://euw1.api.riotgames.com/lol/league-exp/v4/entries/RANKED_SOLO_5x5/CHALLENGER/I?page=1&api_key=RGAPI-853eea41-c5c5-4ef7-83a6-9855143e7b98\n",
      "200\n",
      "if response code\n",
      "if bool\n",
      "page  1 done\n",
      "https://euw1.api.riotgames.com/lol/league-exp/v4/entries/RANKED_SOLO_5x5/CHALLENGER/I?page=2&api_key=RGAPI-853eea41-c5c5-4ef7-83a6-9855143e7b98\n",
      "200\n",
      "if response code\n",
      "if bool\n",
      "page  2 done\n",
      "https://euw1.api.riotgames.com/lol/league-exp/v4/entries/RANKED_SOLO_5x5/CHALLENGER/I?page=3&api_key=RGAPI-853eea41-c5c5-4ef7-83a6-9855143e7b98\n",
      "200\n",
      "if response code\n",
      "else bool\n",
      "page_counter:  3\n",
      "CHALLENGER II\n",
      "https://euw1.api.riotgames.com/lol/league-exp/v4/entries/RANKED_SOLO_5x5/CHALLENGER/II?page=1&api_key=RGAPI-853eea41-c5c5-4ef7-83a6-9855143e7b98\n",
      "400\n",
      "else response code\n",
      "page_counter:  1\n"
     ]
    },
    {
     "output_type": "execute_result",
     "data": {
      "text/plain": [
       "                                           summonerId    summonerName  wins  \\\n",
       "248   M4SXp1xpyOPloPZ_uuRElVZDJffY8uHaGUW8cl9ImNU3lP4        LLS Emil   117   \n",
       "249  sFDPZOQYKEYRZ-_JgMNcOPy7VWuN2z76VdOLFwChDGs6fyE7          Joïnze   107   \n",
       "250  ERfKaYhH914vk52KK_uAdkVWxSJDIBOc0lJLUK5c6TNfGHuG         Sinerio    92   \n",
       "251   20xSqo16q2FMpkvupb7IJOPgTS34SNzdKqxqLk5FtjSldc0     Jug  Kίng      70   \n",
       "252   Hb2H8ibHMzzrlyHFgr7bXbz8bJ3qp4NQgugp1z-r8gSLPlg   Mike Wazοwski    50   \n",
       "253   kS5Uy7YaZXpxuh6zgvv-KDdb73KRHtUNo0TxoemJg8D5HTE          Sebekx   127   \n",
       "254  VkNwjcdl5yLRaAIpFwQ_r7atCPaHDDTGY8j81kP10ChF7QMu         ψτροφήψ   119   \n",
       "255   Ge0DEzqDfa3dYbcGJWN3DPGn0y7I0kYPljHG6S3R1PrClf8     LDLC Manaty    72   \n",
       "256  nfDdxGmMEYJvwQ0Iup7Wa_0OOAcTTdxPgpmJhsJK3_wLfJ9h    FΙGHT FΙGHT    106   \n",
       "257   kW23wtKQGDMdiM1I9tDh0kqTWXEPZS8N1nkNw3QKns_8OAY     it me sharp   102   \n",
       "\n",
       "     losses  \n",
       "248      88  \n",
       "249      73  \n",
       "250      83  \n",
       "251      48  \n",
       "252      34  \n",
       "253     112  \n",
       "254     103  \n",
       "255      66  \n",
       "256      91  \n",
       "257      91  "
      ],
      "text/html": "<div>\n<style scoped>\n    .dataframe tbody tr th:only-of-type {\n        vertical-align: middle;\n    }\n\n    .dataframe tbody tr th {\n        vertical-align: top;\n    }\n\n    .dataframe thead th {\n        text-align: right;\n    }\n</style>\n<table border=\"1\" class=\"dataframe\">\n  <thead>\n    <tr style=\"text-align: right;\">\n      <th></th>\n      <th>summonerId</th>\n      <th>summonerName</th>\n      <th>wins</th>\n      <th>losses</th>\n    </tr>\n  </thead>\n  <tbody>\n    <tr>\n      <th>248</th>\n      <td>M4SXp1xpyOPloPZ_uuRElVZDJffY8uHaGUW8cl9ImNU3lP4</td>\n      <td>LLS Emil</td>\n      <td>117</td>\n      <td>88</td>\n    </tr>\n    <tr>\n      <th>249</th>\n      <td>sFDPZOQYKEYRZ-_JgMNcOPy7VWuN2z76VdOLFwChDGs6fyE7</td>\n      <td>Joïnze</td>\n      <td>107</td>\n      <td>73</td>\n    </tr>\n    <tr>\n      <th>250</th>\n      <td>ERfKaYhH914vk52KK_uAdkVWxSJDIBOc0lJLUK5c6TNfGHuG</td>\n      <td>Sinerio</td>\n      <td>92</td>\n      <td>83</td>\n    </tr>\n    <tr>\n      <th>251</th>\n      <td>20xSqo16q2FMpkvupb7IJOPgTS34SNzdKqxqLk5FtjSldc0</td>\n      <td>Jug  Kίng</td>\n      <td>70</td>\n      <td>48</td>\n    </tr>\n    <tr>\n      <th>252</th>\n      <td>Hb2H8ibHMzzrlyHFgr7bXbz8bJ3qp4NQgugp1z-r8gSLPlg</td>\n      <td>Mike Wazοwski</td>\n      <td>50</td>\n      <td>34</td>\n    </tr>\n    <tr>\n      <th>253</th>\n      <td>kS5Uy7YaZXpxuh6zgvv-KDdb73KRHtUNo0TxoemJg8D5HTE</td>\n      <td>Sebekx</td>\n      <td>127</td>\n      <td>112</td>\n    </tr>\n    <tr>\n      <th>254</th>\n      <td>VkNwjcdl5yLRaAIpFwQ_r7atCPaHDDTGY8j81kP10ChF7QMu</td>\n      <td>ψτροφήψ</td>\n      <td>119</td>\n      <td>103</td>\n    </tr>\n    <tr>\n      <th>255</th>\n      <td>Ge0DEzqDfa3dYbcGJWN3DPGn0y7I0kYPljHG6S3R1PrClf8</td>\n      <td>LDLC Manaty</td>\n      <td>72</td>\n      <td>66</td>\n    </tr>\n    <tr>\n      <th>256</th>\n      <td>nfDdxGmMEYJvwQ0Iup7Wa_0OOAcTTdxPgpmJhsJK3_wLfJ9h</td>\n      <td>FΙGHT FΙGHT</td>\n      <td>106</td>\n      <td>91</td>\n    </tr>\n    <tr>\n      <th>257</th>\n      <td>kW23wtKQGDMdiM1I9tDh0kqTWXEPZS8N1nkNw3QKns_8OAY</td>\n      <td>it me sharp</td>\n      <td>102</td>\n      <td>91</td>\n    </tr>\n  </tbody>\n</table>\n</div>"
     },
     "metadata": {},
     "execution_count": 5
    }
   ],
   "source": [
    "# Block: [get summoner ID]\n",
    "# gets all the summonerName, summonerID, wins & losses for all tiers & divisions in a region and puts them in a summonerID dataframe (todo:) that is connected to a dictionary of tiers and divisions.\n",
    "# currently uses test dataset tier_list2 & division_list2\n",
    "\n",
    "\n",
    "# importing tools\n",
    "import requests\n",
    "import pandas as pd\n",
    "import json\n",
    "\n",
    "# printing things more readable (in a vertical list instead of horizontal)\n",
    "def jprint(obj):\n",
    "    text = json.dumps(obj, sort_keys=True, indent=4)\n",
    "    print(text)\n",
    "\n",
    "# temp api key location\n",
    "apikey = 'RGAPI-853eea41-c5c5-4ef7-83a6-9855143e7b98'\n",
    "\n",
    "# set variables\n",
    "region = 'euw1'\n",
    "queue_type = 'RANKED_SOLO_5x5' \n",
    "\n",
    "# create variables that will be looped\n",
    "tier_list = ['IRON', 'BRONZE', 'SILVER', 'GOLD', 'PLATINUM', 'DIAMOND', 'MASTER', 'GRANDMASTER', 'CHALLENGER']\n",
    "division_list = ['I', 'II', 'III', 'IV']\n",
    "\n",
    "tier_list2 = ['CHALLENGER'] # testing with these\n",
    "division_list2 = ['I', 'II'] # testing with these\n",
    "\n",
    "# iterate through the variables to create the dataset\n",
    "for tier_counter in tier_list2:      # iterate through the tiers\n",
    "    for division_counter in division_list2: # iterate through the divisions\n",
    "        summoner_list = [] # create an empty summoner_list for each tier & division combination. data from more pages will go into the existing list\n",
    "        print(tier_counter, division_counter)\n",
    "        page_counter = 1\n",
    "        keep_going = True\n",
    "        while keep_going == True:\n",
    "            url_id = ('https://' + region + '.api.riotgames.com/lol/league-exp/v4/entries/' + queue_type + '/' + str(tier_counter) + '/' + str(division_counter) + '?page=' + str(page_counter) + '&api_key=' + apikey) # create the URL  \n",
    "            print (url_id)\n",
    "            response_code = requests.get(url_id) # access the url\n",
    "            print(str(response_code.status_code)) # response_code is an object, so have to change the type of reponse_code to a string with str(response_code)\n",
    "            if response_code.status_code == 200: \n",
    "                print('if response code')\n",
    "                response_json = response_code.json() # put the response in a json format\n",
    "                if bool(response_json):    # check if there is data, if true then do the follwing | ## I think it makes more sense to pull just a little bit of text, no need to put everything in and then run the check, just put in a little bit and if that works keep going. > looking for code efficiency\n",
    "                    print('if bool')\n",
    "                    # grab summonerId, summonerName, wins, & losses and append them to a new list summoner_list\n",
    "                    ## !!! need to append each dataframe to the right division_tier combination dictionary?/dataframe? # if its in a dictionary then it doesnt make sense to put it in a dataframe too right?\n",
    "                    for summoner_counter in response_json:\n",
    "                        summoner_list.append([summoner_counter['summonerId'], summoner_counter['summonerName'], summoner_counter['wins'], summoner_counter['losses']])\n",
    "                        # jprint (summoner_list)\n",
    "                    summoner_df = pd.DataFrame(data=summoner_list, columns=['summonerId', 'summonerName', 'wins', 'losses']) # create and fill a dataframe from the list summoner_list ## note this should be at the end of running through all the pages, so it only has to be done 1x. ##? not sure if this is the right place, I feel like it should be more to the left indented. Leaving it for now cuz it works, albeit not efficient\n",
    "                    # summoner_df.head(10)    #displaying the first 10 results of the dataframe\n",
    "                    # summoner_df.tail(10)    #displaying the last 10 results of the dataframe\n",
    "                    summoner_dict = summoner_df.to_dict() # converting the dataframe into a dictionary\n",
    "                    # summoner_dict.keys() # returns a list of all the available keys in the dictionary\n",
    "                    # summoner_dict.values() # returns a list of all the available values in the dictionary\n",
    "                    print ('page ', page_counter, 'done')\n",
    "                    page_counter = page_counter+1\n",
    "                else:\n",
    "                    print('else bool')\n",
    "                    keep_going = False\n",
    "                    print('page_counter: ', page_counter)\n",
    "                    break\n",
    "            else:  # else if there is no data, exit this loop\n",
    "                print('else response code')\n",
    "                print('page_counter: ', page_counter)\n",
    "                break\n",
    "        \n",
    "# challenger has 1 page of data\n",
    "# grandmaster has 4 pages of data\n",
    "\n",
    "# summoner_df.head(10)    #displaying the first 10 results of the dataframe\n",
    "summoner_df.tail(10)    #displaying the last 10 results of the dataframe\n",
    "# will print the challenger I list cuz that one is filled last"
   ]
  },
  {
   "source": [
    "## 2/4 Get account ID by summoner ID or name https://developer.riotgames.com/apis#summoner-v4/GET_getBySummonerName"
   ],
   "cell_type": "markdown",
   "metadata": {}
  },
  {
   "cell_type": "code",
   "execution_count": null,
   "metadata": {},
   "outputs": [],
   "source": [
    "# remaining to do for Block: [get account ID]\n",
    "    * [ ] fix the 'response code 429 Rate limit exceeded' error\n",
    "    * [ ] make the block into a function\n",
    "    * [ ] make sure that the accountId is connected to the correctly corresponding summonerId"
   ]
  },
  {
   "cell_type": "code",
   "execution_count": 3,
   "metadata": {
    "tags": []
   },
   "outputs": [
    {
     "output_type": "error",
     "ename": "KeyboardInterrupt",
     "evalue": "",
     "traceback": [
      "\u001b[0;31m---------------------------------------------------------------------------\u001b[0m",
      "\u001b[0;31mKeyboardInterrupt\u001b[0m                         Traceback (most recent call last)",
      "\u001b[0;32m<ipython-input-3-d6db13830fb0>\u001b[0m in \u001b[0;36m<module>\u001b[0;34m\u001b[0m\n\u001b[1;32m     22\u001b[0m     \u001b[0murl_id\u001b[0m \u001b[0;34m=\u001b[0m \u001b[0;34m'https://'\u001b[0m \u001b[0;34m+\u001b[0m \u001b[0mregion\u001b[0m \u001b[0;34m+\u001b[0m \u001b[0;34m'.api.riotgames.com/lol/summoner/v4/summoners/'\u001b[0m \u001b[0;34m+\u001b[0m \u001b[0maccountId_counter\u001b[0m \u001b[0;34m+\u001b[0m \u001b[0;34m'?api_key='\u001b[0m \u001b[0;34m+\u001b[0m \u001b[0mapikey\u001b[0m \u001b[0;31m# create the URL\u001b[0m\u001b[0;34m\u001b[0m\u001b[0;34m\u001b[0m\u001b[0m\n\u001b[1;32m     23\u001b[0m     \u001b[0;31m# print ('url_id', url_id)\u001b[0m\u001b[0;34m\u001b[0m\u001b[0;34m\u001b[0m\u001b[0;34m\u001b[0m\u001b[0m\n\u001b[0;32m---> 24\u001b[0;31m     \u001b[0mresponse_code_account\u001b[0m \u001b[0;34m=\u001b[0m \u001b[0mrequests\u001b[0m\u001b[0;34m.\u001b[0m\u001b[0mget\u001b[0m\u001b[0;34m(\u001b[0m\u001b[0murl_id\u001b[0m\u001b[0;34m)\u001b[0m \u001b[0;31m# access the url\u001b[0m\u001b[0;34m\u001b[0m\u001b[0;34m\u001b[0m\u001b[0m\n\u001b[0m\u001b[1;32m     25\u001b[0m     \u001b[0;31m# print(str(response_code_account.status_code)) # response_code is an object, so have to change the type of reponse_code to a string with str(response_code)\u001b[0m\u001b[0;34m\u001b[0m\u001b[0;34m\u001b[0m\u001b[0;34m\u001b[0m\u001b[0m\n\u001b[1;32m     26\u001b[0m     \u001b[0;32mif\u001b[0m \u001b[0mresponse_code_account\u001b[0m\u001b[0;34m.\u001b[0m\u001b[0mstatus_code\u001b[0m \u001b[0;34m==\u001b[0m \u001b[0;36m200\u001b[0m\u001b[0;34m:\u001b[0m\u001b[0;34m\u001b[0m\u001b[0;34m\u001b[0m\u001b[0m\n",
      "\u001b[0;32m~/miniconda3/envs/rito/lib/python3.9/site-packages/requests/api.py\u001b[0m in \u001b[0;36mget\u001b[0;34m(url, params, **kwargs)\u001b[0m\n\u001b[1;32m     74\u001b[0m \u001b[0;34m\u001b[0m\u001b[0m\n\u001b[1;32m     75\u001b[0m     \u001b[0mkwargs\u001b[0m\u001b[0;34m.\u001b[0m\u001b[0msetdefault\u001b[0m\u001b[0;34m(\u001b[0m\u001b[0;34m'allow_redirects'\u001b[0m\u001b[0;34m,\u001b[0m \u001b[0;32mTrue\u001b[0m\u001b[0;34m)\u001b[0m\u001b[0;34m\u001b[0m\u001b[0;34m\u001b[0m\u001b[0m\n\u001b[0;32m---> 76\u001b[0;31m     \u001b[0;32mreturn\u001b[0m \u001b[0mrequest\u001b[0m\u001b[0;34m(\u001b[0m\u001b[0;34m'get'\u001b[0m\u001b[0;34m,\u001b[0m \u001b[0murl\u001b[0m\u001b[0;34m,\u001b[0m \u001b[0mparams\u001b[0m\u001b[0;34m=\u001b[0m\u001b[0mparams\u001b[0m\u001b[0;34m,\u001b[0m \u001b[0;34m**\u001b[0m\u001b[0mkwargs\u001b[0m\u001b[0;34m)\u001b[0m\u001b[0;34m\u001b[0m\u001b[0;34m\u001b[0m\u001b[0m\n\u001b[0m\u001b[1;32m     77\u001b[0m \u001b[0;34m\u001b[0m\u001b[0m\n\u001b[1;32m     78\u001b[0m \u001b[0;34m\u001b[0m\u001b[0m\n",
      "\u001b[0;32m~/miniconda3/envs/rito/lib/python3.9/site-packages/requests/api.py\u001b[0m in \u001b[0;36mrequest\u001b[0;34m(method, url, **kwargs)\u001b[0m\n\u001b[1;32m     59\u001b[0m     \u001b[0;31m# cases, and look like a memory leak in others.\u001b[0m\u001b[0;34m\u001b[0m\u001b[0;34m\u001b[0m\u001b[0;34m\u001b[0m\u001b[0m\n\u001b[1;32m     60\u001b[0m     \u001b[0;32mwith\u001b[0m \u001b[0msessions\u001b[0m\u001b[0;34m.\u001b[0m\u001b[0mSession\u001b[0m\u001b[0;34m(\u001b[0m\u001b[0;34m)\u001b[0m \u001b[0;32mas\u001b[0m \u001b[0msession\u001b[0m\u001b[0;34m:\u001b[0m\u001b[0;34m\u001b[0m\u001b[0;34m\u001b[0m\u001b[0m\n\u001b[0;32m---> 61\u001b[0;31m         \u001b[0;32mreturn\u001b[0m \u001b[0msession\u001b[0m\u001b[0;34m.\u001b[0m\u001b[0mrequest\u001b[0m\u001b[0;34m(\u001b[0m\u001b[0mmethod\u001b[0m\u001b[0;34m=\u001b[0m\u001b[0mmethod\u001b[0m\u001b[0;34m,\u001b[0m \u001b[0murl\u001b[0m\u001b[0;34m=\u001b[0m\u001b[0murl\u001b[0m\u001b[0;34m,\u001b[0m \u001b[0;34m**\u001b[0m\u001b[0mkwargs\u001b[0m\u001b[0;34m)\u001b[0m\u001b[0;34m\u001b[0m\u001b[0;34m\u001b[0m\u001b[0m\n\u001b[0m\u001b[1;32m     62\u001b[0m \u001b[0;34m\u001b[0m\u001b[0m\n\u001b[1;32m     63\u001b[0m \u001b[0;34m\u001b[0m\u001b[0m\n",
      "\u001b[0;32m~/miniconda3/envs/rito/lib/python3.9/site-packages/requests/sessions.py\u001b[0m in \u001b[0;36mrequest\u001b[0;34m(self, method, url, params, data, headers, cookies, files, auth, timeout, allow_redirects, proxies, hooks, stream, verify, cert, json)\u001b[0m\n\u001b[1;32m    540\u001b[0m         }\n\u001b[1;32m    541\u001b[0m         \u001b[0msend_kwargs\u001b[0m\u001b[0;34m.\u001b[0m\u001b[0mupdate\u001b[0m\u001b[0;34m(\u001b[0m\u001b[0msettings\u001b[0m\u001b[0;34m)\u001b[0m\u001b[0;34m\u001b[0m\u001b[0;34m\u001b[0m\u001b[0m\n\u001b[0;32m--> 542\u001b[0;31m         \u001b[0mresp\u001b[0m \u001b[0;34m=\u001b[0m \u001b[0mself\u001b[0m\u001b[0;34m.\u001b[0m\u001b[0msend\u001b[0m\u001b[0;34m(\u001b[0m\u001b[0mprep\u001b[0m\u001b[0;34m,\u001b[0m \u001b[0;34m**\u001b[0m\u001b[0msend_kwargs\u001b[0m\u001b[0;34m)\u001b[0m\u001b[0;34m\u001b[0m\u001b[0;34m\u001b[0m\u001b[0m\n\u001b[0m\u001b[1;32m    543\u001b[0m \u001b[0;34m\u001b[0m\u001b[0m\n\u001b[1;32m    544\u001b[0m         \u001b[0;32mreturn\u001b[0m \u001b[0mresp\u001b[0m\u001b[0;34m\u001b[0m\u001b[0;34m\u001b[0m\u001b[0m\n",
      "\u001b[0;32m~/miniconda3/envs/rito/lib/python3.9/site-packages/requests/sessions.py\u001b[0m in \u001b[0;36msend\u001b[0;34m(self, request, **kwargs)\u001b[0m\n\u001b[1;32m    653\u001b[0m \u001b[0;34m\u001b[0m\u001b[0m\n\u001b[1;32m    654\u001b[0m         \u001b[0;31m# Send the request\u001b[0m\u001b[0;34m\u001b[0m\u001b[0;34m\u001b[0m\u001b[0;34m\u001b[0m\u001b[0m\n\u001b[0;32m--> 655\u001b[0;31m         \u001b[0mr\u001b[0m \u001b[0;34m=\u001b[0m \u001b[0madapter\u001b[0m\u001b[0;34m.\u001b[0m\u001b[0msend\u001b[0m\u001b[0;34m(\u001b[0m\u001b[0mrequest\u001b[0m\u001b[0;34m,\u001b[0m \u001b[0;34m**\u001b[0m\u001b[0mkwargs\u001b[0m\u001b[0;34m)\u001b[0m\u001b[0;34m\u001b[0m\u001b[0;34m\u001b[0m\u001b[0m\n\u001b[0m\u001b[1;32m    656\u001b[0m \u001b[0;34m\u001b[0m\u001b[0m\n\u001b[1;32m    657\u001b[0m         \u001b[0;31m# Total elapsed time of the request (approximately)\u001b[0m\u001b[0;34m\u001b[0m\u001b[0;34m\u001b[0m\u001b[0;34m\u001b[0m\u001b[0m\n",
      "\u001b[0;32m~/miniconda3/envs/rito/lib/python3.9/site-packages/requests/adapters.py\u001b[0m in \u001b[0;36msend\u001b[0;34m(self, request, stream, timeout, verify, cert, proxies)\u001b[0m\n\u001b[1;32m    437\u001b[0m         \u001b[0;32mtry\u001b[0m\u001b[0;34m:\u001b[0m\u001b[0;34m\u001b[0m\u001b[0;34m\u001b[0m\u001b[0m\n\u001b[1;32m    438\u001b[0m             \u001b[0;32mif\u001b[0m \u001b[0;32mnot\u001b[0m \u001b[0mchunked\u001b[0m\u001b[0;34m:\u001b[0m\u001b[0;34m\u001b[0m\u001b[0;34m\u001b[0m\u001b[0m\n\u001b[0;32m--> 439\u001b[0;31m                 resp = conn.urlopen(\n\u001b[0m\u001b[1;32m    440\u001b[0m                     \u001b[0mmethod\u001b[0m\u001b[0;34m=\u001b[0m\u001b[0mrequest\u001b[0m\u001b[0;34m.\u001b[0m\u001b[0mmethod\u001b[0m\u001b[0;34m,\u001b[0m\u001b[0;34m\u001b[0m\u001b[0;34m\u001b[0m\u001b[0m\n\u001b[1;32m    441\u001b[0m                     \u001b[0murl\u001b[0m\u001b[0;34m=\u001b[0m\u001b[0murl\u001b[0m\u001b[0;34m,\u001b[0m\u001b[0;34m\u001b[0m\u001b[0;34m\u001b[0m\u001b[0m\n",
      "\u001b[0;32m~/miniconda3/envs/rito/lib/python3.9/site-packages/urllib3/connectionpool.py\u001b[0m in \u001b[0;36murlopen\u001b[0;34m(self, method, url, body, headers, retries, redirect, assert_same_host, timeout, pool_timeout, release_conn, chunked, body_pos, **response_kw)\u001b[0m\n\u001b[1;32m    697\u001b[0m \u001b[0;34m\u001b[0m\u001b[0m\n\u001b[1;32m    698\u001b[0m             \u001b[0;31m# Make the request on the httplib connection object.\u001b[0m\u001b[0;34m\u001b[0m\u001b[0;34m\u001b[0m\u001b[0;34m\u001b[0m\u001b[0m\n\u001b[0;32m--> 699\u001b[0;31m             httplib_response = self._make_request(\n\u001b[0m\u001b[1;32m    700\u001b[0m                 \u001b[0mconn\u001b[0m\u001b[0;34m,\u001b[0m\u001b[0;34m\u001b[0m\u001b[0;34m\u001b[0m\u001b[0m\n\u001b[1;32m    701\u001b[0m                 \u001b[0mmethod\u001b[0m\u001b[0;34m,\u001b[0m\u001b[0;34m\u001b[0m\u001b[0;34m\u001b[0m\u001b[0m\n",
      "\u001b[0;32m~/miniconda3/envs/rito/lib/python3.9/site-packages/urllib3/connectionpool.py\u001b[0m in \u001b[0;36m_make_request\u001b[0;34m(self, conn, method, url, timeout, chunked, **httplib_request_kw)\u001b[0m\n\u001b[1;32m    443\u001b[0m                     \u001b[0;31m# Python 3 (including for exceptions like SystemExit).\u001b[0m\u001b[0;34m\u001b[0m\u001b[0;34m\u001b[0m\u001b[0;34m\u001b[0m\u001b[0m\n\u001b[1;32m    444\u001b[0m                     \u001b[0;31m# Otherwise it looks like a bug in the code.\u001b[0m\u001b[0;34m\u001b[0m\u001b[0;34m\u001b[0m\u001b[0;34m\u001b[0m\u001b[0m\n\u001b[0;32m--> 445\u001b[0;31m                     \u001b[0msix\u001b[0m\u001b[0;34m.\u001b[0m\u001b[0mraise_from\u001b[0m\u001b[0;34m(\u001b[0m\u001b[0me\u001b[0m\u001b[0;34m,\u001b[0m \u001b[0;32mNone\u001b[0m\u001b[0;34m)\u001b[0m\u001b[0;34m\u001b[0m\u001b[0;34m\u001b[0m\u001b[0m\n\u001b[0m\u001b[1;32m    446\u001b[0m         \u001b[0;32mexcept\u001b[0m \u001b[0;34m(\u001b[0m\u001b[0mSocketTimeout\u001b[0m\u001b[0;34m,\u001b[0m \u001b[0mBaseSSLError\u001b[0m\u001b[0;34m,\u001b[0m \u001b[0mSocketError\u001b[0m\u001b[0;34m)\u001b[0m \u001b[0;32mas\u001b[0m \u001b[0me\u001b[0m\u001b[0;34m:\u001b[0m\u001b[0;34m\u001b[0m\u001b[0;34m\u001b[0m\u001b[0m\n\u001b[1;32m    447\u001b[0m             \u001b[0mself\u001b[0m\u001b[0;34m.\u001b[0m\u001b[0m_raise_timeout\u001b[0m\u001b[0;34m(\u001b[0m\u001b[0merr\u001b[0m\u001b[0;34m=\u001b[0m\u001b[0me\u001b[0m\u001b[0;34m,\u001b[0m \u001b[0murl\u001b[0m\u001b[0;34m=\u001b[0m\u001b[0murl\u001b[0m\u001b[0;34m,\u001b[0m \u001b[0mtimeout_value\u001b[0m\u001b[0;34m=\u001b[0m\u001b[0mread_timeout\u001b[0m\u001b[0;34m)\u001b[0m\u001b[0;34m\u001b[0m\u001b[0;34m\u001b[0m\u001b[0m\n",
      "\u001b[0;32m~/miniconda3/envs/rito/lib/python3.9/site-packages/urllib3/packages/six.py\u001b[0m in \u001b[0;36mraise_from\u001b[0;34m(value, from_value)\u001b[0m\n",
      "\u001b[0;32m~/miniconda3/envs/rito/lib/python3.9/site-packages/urllib3/connectionpool.py\u001b[0m in \u001b[0;36m_make_request\u001b[0;34m(self, conn, method, url, timeout, chunked, **httplib_request_kw)\u001b[0m\n\u001b[1;32m    438\u001b[0m                 \u001b[0;31m# Python 3\u001b[0m\u001b[0;34m\u001b[0m\u001b[0;34m\u001b[0m\u001b[0;34m\u001b[0m\u001b[0m\n\u001b[1;32m    439\u001b[0m                 \u001b[0;32mtry\u001b[0m\u001b[0;34m:\u001b[0m\u001b[0;34m\u001b[0m\u001b[0;34m\u001b[0m\u001b[0m\n\u001b[0;32m--> 440\u001b[0;31m                     \u001b[0mhttplib_response\u001b[0m \u001b[0;34m=\u001b[0m \u001b[0mconn\u001b[0m\u001b[0;34m.\u001b[0m\u001b[0mgetresponse\u001b[0m\u001b[0;34m(\u001b[0m\u001b[0;34m)\u001b[0m\u001b[0;34m\u001b[0m\u001b[0;34m\u001b[0m\u001b[0m\n\u001b[0m\u001b[1;32m    441\u001b[0m                 \u001b[0;32mexcept\u001b[0m \u001b[0mBaseException\u001b[0m \u001b[0;32mas\u001b[0m \u001b[0me\u001b[0m\u001b[0;34m:\u001b[0m\u001b[0;34m\u001b[0m\u001b[0;34m\u001b[0m\u001b[0m\n\u001b[1;32m    442\u001b[0m                     \u001b[0;31m# Remove the TypeError from the exception chain in\u001b[0m\u001b[0;34m\u001b[0m\u001b[0;34m\u001b[0m\u001b[0;34m\u001b[0m\u001b[0m\n",
      "\u001b[0;32m~/miniconda3/envs/rito/lib/python3.9/http/client.py\u001b[0m in \u001b[0;36mgetresponse\u001b[0;34m(self)\u001b[0m\n\u001b[1;32m   1345\u001b[0m         \u001b[0;32mtry\u001b[0m\u001b[0;34m:\u001b[0m\u001b[0;34m\u001b[0m\u001b[0;34m\u001b[0m\u001b[0m\n\u001b[1;32m   1346\u001b[0m             \u001b[0;32mtry\u001b[0m\u001b[0;34m:\u001b[0m\u001b[0;34m\u001b[0m\u001b[0;34m\u001b[0m\u001b[0m\n\u001b[0;32m-> 1347\u001b[0;31m                 \u001b[0mresponse\u001b[0m\u001b[0;34m.\u001b[0m\u001b[0mbegin\u001b[0m\u001b[0;34m(\u001b[0m\u001b[0;34m)\u001b[0m\u001b[0;34m\u001b[0m\u001b[0;34m\u001b[0m\u001b[0m\n\u001b[0m\u001b[1;32m   1348\u001b[0m             \u001b[0;32mexcept\u001b[0m \u001b[0mConnectionError\u001b[0m\u001b[0;34m:\u001b[0m\u001b[0;34m\u001b[0m\u001b[0;34m\u001b[0m\u001b[0m\n\u001b[1;32m   1349\u001b[0m                 \u001b[0mself\u001b[0m\u001b[0;34m.\u001b[0m\u001b[0mclose\u001b[0m\u001b[0;34m(\u001b[0m\u001b[0;34m)\u001b[0m\u001b[0;34m\u001b[0m\u001b[0;34m\u001b[0m\u001b[0m\n",
      "\u001b[0;32m~/miniconda3/envs/rito/lib/python3.9/http/client.py\u001b[0m in \u001b[0;36mbegin\u001b[0;34m(self)\u001b[0m\n\u001b[1;32m    305\u001b[0m         \u001b[0;31m# read until we get a non-100 response\u001b[0m\u001b[0;34m\u001b[0m\u001b[0;34m\u001b[0m\u001b[0;34m\u001b[0m\u001b[0m\n\u001b[1;32m    306\u001b[0m         \u001b[0;32mwhile\u001b[0m \u001b[0;32mTrue\u001b[0m\u001b[0;34m:\u001b[0m\u001b[0;34m\u001b[0m\u001b[0;34m\u001b[0m\u001b[0m\n\u001b[0;32m--> 307\u001b[0;31m             \u001b[0mversion\u001b[0m\u001b[0;34m,\u001b[0m \u001b[0mstatus\u001b[0m\u001b[0;34m,\u001b[0m \u001b[0mreason\u001b[0m \u001b[0;34m=\u001b[0m \u001b[0mself\u001b[0m\u001b[0;34m.\u001b[0m\u001b[0m_read_status\u001b[0m\u001b[0;34m(\u001b[0m\u001b[0;34m)\u001b[0m\u001b[0;34m\u001b[0m\u001b[0;34m\u001b[0m\u001b[0m\n\u001b[0m\u001b[1;32m    308\u001b[0m             \u001b[0;32mif\u001b[0m \u001b[0mstatus\u001b[0m \u001b[0;34m!=\u001b[0m \u001b[0mCONTINUE\u001b[0m\u001b[0;34m:\u001b[0m\u001b[0;34m\u001b[0m\u001b[0;34m\u001b[0m\u001b[0m\n\u001b[1;32m    309\u001b[0m                 \u001b[0;32mbreak\u001b[0m\u001b[0;34m\u001b[0m\u001b[0;34m\u001b[0m\u001b[0m\n",
      "\u001b[0;32m~/miniconda3/envs/rito/lib/python3.9/http/client.py\u001b[0m in \u001b[0;36m_read_status\u001b[0;34m(self)\u001b[0m\n\u001b[1;32m    266\u001b[0m \u001b[0;34m\u001b[0m\u001b[0m\n\u001b[1;32m    267\u001b[0m     \u001b[0;32mdef\u001b[0m \u001b[0m_read_status\u001b[0m\u001b[0;34m(\u001b[0m\u001b[0mself\u001b[0m\u001b[0;34m)\u001b[0m\u001b[0;34m:\u001b[0m\u001b[0;34m\u001b[0m\u001b[0;34m\u001b[0m\u001b[0m\n\u001b[0;32m--> 268\u001b[0;31m         \u001b[0mline\u001b[0m \u001b[0;34m=\u001b[0m \u001b[0mstr\u001b[0m\u001b[0;34m(\u001b[0m\u001b[0mself\u001b[0m\u001b[0;34m.\u001b[0m\u001b[0mfp\u001b[0m\u001b[0;34m.\u001b[0m\u001b[0mreadline\u001b[0m\u001b[0;34m(\u001b[0m\u001b[0m_MAXLINE\u001b[0m \u001b[0;34m+\u001b[0m \u001b[0;36m1\u001b[0m\u001b[0;34m)\u001b[0m\u001b[0;34m,\u001b[0m \u001b[0;34m\"iso-8859-1\"\u001b[0m\u001b[0;34m)\u001b[0m\u001b[0;34m\u001b[0m\u001b[0;34m\u001b[0m\u001b[0m\n\u001b[0m\u001b[1;32m    269\u001b[0m         \u001b[0;32mif\u001b[0m \u001b[0mlen\u001b[0m\u001b[0;34m(\u001b[0m\u001b[0mline\u001b[0m\u001b[0;34m)\u001b[0m \u001b[0;34m>\u001b[0m \u001b[0m_MAXLINE\u001b[0m\u001b[0;34m:\u001b[0m\u001b[0;34m\u001b[0m\u001b[0;34m\u001b[0m\u001b[0m\n\u001b[1;32m    270\u001b[0m             \u001b[0;32mraise\u001b[0m \u001b[0mLineTooLong\u001b[0m\u001b[0;34m(\u001b[0m\u001b[0;34m\"status line\"\u001b[0m\u001b[0;34m)\u001b[0m\u001b[0;34m\u001b[0m\u001b[0;34m\u001b[0m\u001b[0m\n",
      "\u001b[0;32m~/miniconda3/envs/rito/lib/python3.9/socket.py\u001b[0m in \u001b[0;36mreadinto\u001b[0;34m(self, b)\u001b[0m\n\u001b[1;32m    702\u001b[0m         \u001b[0;32mwhile\u001b[0m \u001b[0;32mTrue\u001b[0m\u001b[0;34m:\u001b[0m\u001b[0;34m\u001b[0m\u001b[0;34m\u001b[0m\u001b[0m\n\u001b[1;32m    703\u001b[0m             \u001b[0;32mtry\u001b[0m\u001b[0;34m:\u001b[0m\u001b[0;34m\u001b[0m\u001b[0;34m\u001b[0m\u001b[0m\n\u001b[0;32m--> 704\u001b[0;31m                 \u001b[0;32mreturn\u001b[0m \u001b[0mself\u001b[0m\u001b[0;34m.\u001b[0m\u001b[0m_sock\u001b[0m\u001b[0;34m.\u001b[0m\u001b[0mrecv_into\u001b[0m\u001b[0;34m(\u001b[0m\u001b[0mb\u001b[0m\u001b[0;34m)\u001b[0m\u001b[0;34m\u001b[0m\u001b[0;34m\u001b[0m\u001b[0m\n\u001b[0m\u001b[1;32m    705\u001b[0m             \u001b[0;32mexcept\u001b[0m \u001b[0mtimeout\u001b[0m\u001b[0;34m:\u001b[0m\u001b[0;34m\u001b[0m\u001b[0;34m\u001b[0m\u001b[0m\n\u001b[1;32m    706\u001b[0m                 \u001b[0mself\u001b[0m\u001b[0;34m.\u001b[0m\u001b[0m_timeout_occurred\u001b[0m \u001b[0;34m=\u001b[0m \u001b[0;32mTrue\u001b[0m\u001b[0;34m\u001b[0m\u001b[0;34m\u001b[0m\u001b[0m\n",
      "\u001b[0;32m~/miniconda3/envs/rito/lib/python3.9/ssl.py\u001b[0m in \u001b[0;36mrecv_into\u001b[0;34m(self, buffer, nbytes, flags)\u001b[0m\n\u001b[1;32m   1239\u001b[0m                   \u001b[0;34m\"non-zero flags not allowed in calls to recv_into() on %s\"\u001b[0m \u001b[0;34m%\u001b[0m\u001b[0;34m\u001b[0m\u001b[0;34m\u001b[0m\u001b[0m\n\u001b[1;32m   1240\u001b[0m                   self.__class__)\n\u001b[0;32m-> 1241\u001b[0;31m             \u001b[0;32mreturn\u001b[0m \u001b[0mself\u001b[0m\u001b[0;34m.\u001b[0m\u001b[0mread\u001b[0m\u001b[0;34m(\u001b[0m\u001b[0mnbytes\u001b[0m\u001b[0;34m,\u001b[0m \u001b[0mbuffer\u001b[0m\u001b[0;34m)\u001b[0m\u001b[0;34m\u001b[0m\u001b[0;34m\u001b[0m\u001b[0m\n\u001b[0m\u001b[1;32m   1242\u001b[0m         \u001b[0;32melse\u001b[0m\u001b[0;34m:\u001b[0m\u001b[0;34m\u001b[0m\u001b[0;34m\u001b[0m\u001b[0m\n\u001b[1;32m   1243\u001b[0m             \u001b[0;32mreturn\u001b[0m \u001b[0msuper\u001b[0m\u001b[0;34m(\u001b[0m\u001b[0;34m)\u001b[0m\u001b[0;34m.\u001b[0m\u001b[0mrecv_into\u001b[0m\u001b[0;34m(\u001b[0m\u001b[0mbuffer\u001b[0m\u001b[0;34m,\u001b[0m \u001b[0mnbytes\u001b[0m\u001b[0;34m,\u001b[0m \u001b[0mflags\u001b[0m\u001b[0;34m)\u001b[0m\u001b[0;34m\u001b[0m\u001b[0;34m\u001b[0m\u001b[0m\n",
      "\u001b[0;32m~/miniconda3/envs/rito/lib/python3.9/ssl.py\u001b[0m in \u001b[0;36mread\u001b[0;34m(self, len, buffer)\u001b[0m\n\u001b[1;32m   1097\u001b[0m         \u001b[0;32mtry\u001b[0m\u001b[0;34m:\u001b[0m\u001b[0;34m\u001b[0m\u001b[0;34m\u001b[0m\u001b[0m\n\u001b[1;32m   1098\u001b[0m             \u001b[0;32mif\u001b[0m \u001b[0mbuffer\u001b[0m \u001b[0;32mis\u001b[0m \u001b[0;32mnot\u001b[0m \u001b[0;32mNone\u001b[0m\u001b[0;34m:\u001b[0m\u001b[0;34m\u001b[0m\u001b[0;34m\u001b[0m\u001b[0m\n\u001b[0;32m-> 1099\u001b[0;31m                 \u001b[0;32mreturn\u001b[0m \u001b[0mself\u001b[0m\u001b[0;34m.\u001b[0m\u001b[0m_sslobj\u001b[0m\u001b[0;34m.\u001b[0m\u001b[0mread\u001b[0m\u001b[0;34m(\u001b[0m\u001b[0mlen\u001b[0m\u001b[0;34m,\u001b[0m \u001b[0mbuffer\u001b[0m\u001b[0;34m)\u001b[0m\u001b[0;34m\u001b[0m\u001b[0;34m\u001b[0m\u001b[0m\n\u001b[0m\u001b[1;32m   1100\u001b[0m             \u001b[0;32melse\u001b[0m\u001b[0;34m:\u001b[0m\u001b[0;34m\u001b[0m\u001b[0;34m\u001b[0m\u001b[0m\n\u001b[1;32m   1101\u001b[0m                 \u001b[0;32mreturn\u001b[0m \u001b[0mself\u001b[0m\u001b[0;34m.\u001b[0m\u001b[0m_sslobj\u001b[0m\u001b[0;34m.\u001b[0m\u001b[0mread\u001b[0m\u001b[0;34m(\u001b[0m\u001b[0mlen\u001b[0m\u001b[0;34m)\u001b[0m\u001b[0;34m\u001b[0m\u001b[0;34m\u001b[0m\u001b[0m\n",
      "\u001b[0;31mKeyboardInterrupt\u001b[0m: "
     ]
    }
   ],
   "source": [
    "# Block: [get account ID]\n",
    "# gets the account ID using the summoner ID and adds them to the existing summonerID dataframe\n",
    "\n",
    "# importing tools\n",
    "import requests\n",
    "import pandas as pd\n",
    "import json\n",
    "\n",
    "# printing things more readable (in a vertical list instead of horizontal)\n",
    "def jprint(obj):\n",
    "    text = json.dumps(obj, sort_keys=True, indent=4)\n",
    "    print(text)\n",
    "\n",
    "# temp api key location\n",
    "apikey = 'RGAPI-853eea41-c5c5-4ef7-83a6-9855143e7b98'\n",
    "\n",
    "# create an empty account list\n",
    "account_list = []\n",
    "\n",
    "for accountId_counter in summoner_df['summonerId']:\n",
    "    #print(summoner_df['summonerId'].head(2)) # print the top 2 values of the column summonerId\n",
    "    url_id = 'https://' + region + '.api.riotgames.com/lol/summoner/v4/summoners/' + accountId_counter + '?api_key=' + apikey # create the URL \n",
    "    # print ('url_id', url_id)\n",
    "    response_code_account = requests.get(url_id) # access the url\n",
    "    # print(str(response_code_account.status_code)) # response_code is an object, so have to change the type of reponse_code to a string with str(response_code)\n",
    "    if response_code_account.status_code == 200: \n",
    "        # print('if response code')\n",
    "        response_json_account = response_code_account.json() # put the response in a json format\n",
    "        if bool(response_json_account):    ##? I think it makes more sense to pull just a little bit of text, no need to put everything in and then run the check, just put in a little bit and if that works keep going. > looking for code efficiency\n",
    "            # print('if bool')\n",
    "            # print('response_json_account', response_json_account) # print the response body\n",
    "            # print('id=', response_json_account['id']) # print the summonerId ('id' in the response body) from the json response\n",
    "            account_list.append([response_json_account['id'], response_json_account['accountId']]) # append the summonerId and accountId to the account_list list\n",
    "            # print('counter=', accountId_counter, 'account_list=', account_list)\n",
    "        else:\n",
    "            print('else bool')\n",
    "    else:\n",
    "        print('else response code', str(response_code_account.status_code)) # response_code is an object, so have to change the type of reponse_code to a string with str(response_code)\n",
    "\n",
    "print (account_list)\n",
    "\n",
    "# append to the existing summoner_df dataframe as a new column at position 0, named \"accountId\", with the list account_list, do not allow columns with the same name.\n",
    "summoner_df.insert (0, \"accountId\", account_list, allow_duplicates = False)\n",
    "print (summoner_df)"
   ]
  },
  {
   "cell_type": "code",
   "execution_count": 4,
   "metadata": {},
   "outputs": [
    {
     "output_type": "stream",
     "name": "stdout",
     "text": [
      "[['g2YD33k6-PJP1GXbOomLnunrGgnh43arV_knNEoKSUJk_zM', 'Bg4Ejd_O72GTvMx8IBMyOignD-1eMifVxacJDcXYjvUUZQ'], ['p5yXs9T4RbRCLVMbKQYEIPYvf6SpLnuV06W4lLk4uplyDVs', 'nnRoPXZ-f4rxwFUtOfElmwnmczB8kjPjPZLcn2H9AEy3nw'], ['PKWTXuIqlW-sVxu9giyen6sKtQEGhqMthdOwb2KXKhAMyc4', 'bLa61l1IQywQN8bZ_kD_3cgJyzTqJS4xxByoxaQ8vlnUHg'], ['RQwkFLRLJAA39aI6qru1PE6NIZgztRPU7hR0PLp1Vq09ApQ', 'ccak3NKbEk8r8sVVRNl2y8kRFRpQSgJVXUIL2iGDtcCDOqg'], ['1PnvjdQ8fp9RrXg9pdJMGb00Del3rqwjFqZwHDr6lnzCR18', 'K71CJD8vIGKUzfPA3bUrMb8Y3FueCSNr7oSzAUBKSiUMGcE'], ['MGV5ICWr6QKalToGZ5p-fykdB6I5hXPwi5oig89iuMy6vfgD', 'nNjqpA0y0EiqLA2L0_rfHRoFC7RV4zRHNayHTIDi2gLH_4vTRairGA8u'], ['Ni0KtYINGti4Xvna202thV4UJgq98ABoD-2p6GX2FkB76LQ', 'jcNK6MXCs6Met12ozVU4T59IpCrgwH-S2nDdySbp12WVHg'], ['1BcwUfjWBdBrJcP2Xn3w9GRzVFcERudGzUOW3N0ZZ1AIe_A', 'FhrN1TwOcxc3Jcu7DFNrwnich-e4QxU5FFn3bgdyjLPGxg'], ['_G1CJBv0bslZ-9-anVIyYIXeZXtppcpf5Ci8qEDrDG1Trac', 'yaaOTEigH9oSRlYzKjbAw9XhzMAH7oIlWFsl24vfFDpNxg'], ['XC0i5PmsvYaDEO2yyDfBdlCobFKG1RXJaDe-CHd8CJKukwsI', 'ASNqg5OSyFLO14SCn5g448rmC18mL42gEgRdvE1YT_Y1FzOvPV4pCD-C'], ['6_umUZuI_TMoOdsoW_t_511MvPHqrQMM0zMm8F1noDbhlU4', '6kVn9UjdU-l0mtgBLqETMo6iaD8MWWxZG9ELYhrP9Ea6_b8'], ['JS8aoLcZNbB-8b-De76Cj3JJzrrZpqG_uYjCI-3BX57LRjvMa0Li0Qkg_g', 'pXDDDCk3daGATEeJj5g0ojqkR64gMROQnuNXPX-K8wyxEbHCFvWrGzz6'], ['6MEh4RBdg6bE5jiOXMxH-svQtxXKH9qrqY9AFBgNGZu9iDIH', 'P41DogeiuGcqCr4qOaMaxj6CL5JAYSiUQa5zQ2hftlmwoOw'], ['NPDXHEgKn5bz7_Lgu4e7p15MUSPux1s-9vrzRvV3eSClHb0', 'XWX1eQoKjRDe6kkT1N_0qYuJMhMzHC_UCPB-i6y6MasejA'], ['tyyetAUjlsaHO2LC4Vao0DEQ1SOAK5q5kGfldZLOHRh4ScM', 'pHJemA5RhNPJeXoYp8IIfySqoB5fh-7aJqB5uiIwYMWOyQ'], ['10PtLbQcAYXiYvOpRXSw6twkm5txYXKE2Ob8mebejknkO0Qrqpcs8tn1Yw', 'VcyxngZB4Dba11g3PmruLSuZ_eNV3pWelkIP_RQZXxJDpWRUFZsTHCdr'], ['icQuzrvC6IViMhzPRKW9FxdwTDzJpI6TlgGxSXWnCdUzWLdr', '2HWv5uNdE4g8H7q5sn-WJm_WfqnCy1IcFqiWqJHw26k9R7a4z4AHqXGb'], ['eNbZ9GFebYlMtq0lBMGi91TYQRVk88Hfa2jse9jPv1FIFho', 'YpuFPuoUCRaS6CKEodS7lJ5CxoFSRLIRaxDGl7ttn0C-8_c'], ['sZsK16kBavyZa-g2MW9ohThhLL3aKMXr6eh1hzFKP-d1xzMI', 'kemm2MzV6ud_KOOu6lrALiARRp2QxzQMpxDFBi49EB6DHyi2KqtYW6vE'], ['1Dfh6waYOPr0MPzZwVFkGgftVX30l8ulZMJvkFuUzuRXsV4', 'yFweKMRo0WiPbTWphuaoT146csz6w9UsY8EGCiCFtloJUw'], ['WxvtWxuorzvjPTUSEOpx1jwXjFcZUEYF0kh0epqPE_UWtB4', '7hogWc403Un2qzdHBK9mbu3X3aBbGYEpC4WoxEgblBmaHl0'], ['uDljNbi6-k1bGiXK1p0KwtRSiiNl76KdnmPI5Ze-GwVnwRI', 'KT9JI1LlBVhv0eVns1CRJNViWLq_YgGNZxDkGnwcbloDPNo']]\n"
     ]
    }
   ],
   "source": [
    "print (account_list)"
   ]
  },
  {
   "cell_type": "code",
   "execution_count": null,
   "metadata": {},
   "outputs": [],
   "source": [
    "put 3/4 and 4/4 in the matchdataset file. just placeholding hte names here"
   ]
  },
  {
   "source": [
    "## 3/4 Get match list by account ID https://developer.riotgames.com/apis#match-v4/GET_getMatchlist"
   ],
   "cell_type": "markdown",
   "metadata": {}
  },
  {
   "cell_type": "code",
   "execution_count": null,
   "metadata": {},
   "outputs": [],
   "source": []
  },
  {
   "source": [
    "## 4/4 Get match data by match ID https://developer.riotgames.com/apis#match-v4/GET_getMatch"
   ],
   "cell_type": "markdown",
   "metadata": {}
  }
 ]
}