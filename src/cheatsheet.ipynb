{
 "cells": [
  {
   "cell_type": "markdown",
   "metadata": {},
   "source": [
    "# Imports"
   ]
  },
  {
   "cell_type": "code",
   "execution_count": 3,
   "metadata": {},
   "outputs": [],
   "source": [
    "from pathlib2 import Path\n",
    "from riotwatcher import LolWatcher, ApiError\n",
    "import arrow\n",
    "import json"
   ]
  },
  {
   "cell_type": "markdown",
   "metadata": {},
   "source": [
    "# Main"
   ]
  },
  {
   "cell_type": "code",
   "execution_count": 4,
   "metadata": {},
   "outputs": [],
   "source": [
    "# Folder locations\n",
    "\n",
    "# Project folders\n",
    "project_folder = Path.cwd().parent\n",
    "\n",
    "# Raw data storage\n",
    "data_folder = project_folder / \"data\"\n",
    "\n",
    "# Out folder\n",
    "out_folder = project_folder / \"out\""
   ]
  },
  {
   "source": [
    "### Patches"
   ],
   "cell_type": "markdown",
   "metadata": {}
  },
  {
   "cell_type": "code",
   "execution_count": 5,
   "metadata": {},
   "outputs": [
    {
     "output_type": "stream",
     "name": "stdout",
     "text": [
      "{'name': '1.0.0.152', 'start': 1354575600, 'season': 0}\n{'name': '1.0.0.153', 'start': 1355439600, 'season': 0}\n{'name': '1.0.0.154', 'start': 1358290800, 'season': 0}\n{'name': '3.01', 'start': 1359691200, 'season': 1}\n{'name': '3.01', 'start': 1359705600, 'season': 1}\n{'name': '3.02', 'start': 1360742400, 'season': 1}\n{'name': '3.03', 'start': 1362124800, 'season': 1}\n{'name': '3.04', 'start': 1363680000, 'season': 1}\n{'name': '3.5', 'start': 1364457600, 'season': 1}\n{'name': '3.6', 'start': 1367308800, 'season': 1}\n{'name': '3.7', 'start': 1368604800, 'season': 1}\n{'name': '3.8', 'start': 1371110400, 'season': 1}\n{'name': '3.9', 'start': 1373356800, 'season': 1}\n{'name': '3.10', 'start': 1375171200, 'season': 1}\n{'name': '3.10a', 'start': 1377158400, 'season': 1}\n{'name': '3.11', 'start': 1378281600, 'season': 1}\n{'name': '3.12', 'start': 1380614400, 'season': 1}\n{'name': '3.13', 'start': 1383033600, 'season': 1}\n{'name': '4.1', 'start': 1389772800, 'season': 3}\n{'name': '4.2', 'start': 1392019200, 'season': 3}\n{'name': '4.3', 'start': 1393488000, 'season': 3}\n{'name': '4.4', 'start': 1395129600, 'season': 3}\n{'name': '4.5', 'start': 1396512000, 'season': 3}\n{'name': '4.6', 'start': 1398067200, 'season': 3}\n{'name': '4.7', 'start': 1399536000, 'season': 3}\n{'name': '4.8', 'start': 1400745600, 'season': 3}\n{'name': '4.9', 'start': 1401868800, 'season': 3}\n{'name': '4.10', 'start': 1403078400, 'season': 3}\n{'name': '4.11', 'start': 1404288000, 'season': 3}\n{'name': '4.12', 'start': 1405497600, 'season': 3}\n{'name': '4.13', 'start': 1406707200, 'season': 3}\n{'name': '4.14', 'start': 1407916800, 'season': 3}\n{'name': '4.15', 'start': 1409126400, 'season': 3}\n{'name': '4.16', 'start': 1410336000, 'season': 3}\n{'name': '4.17', 'start': 1411632000, 'season': 3}\n{'name': '4.18', 'start': 1412841600, 'season': 3}\n{'name': '4.19', 'start': 1415174400, 'season': 3}\n{'name': '5.1', 'start': 1421308800, 'season': 5}\n{'name': '5.2', 'start': 1422432000, 'season': 5}\n{'name': '5.3', 'start': 1423641600, 'season': 5}\n{'name': '5.4', 'start': 1424851200, 'season': 5}\n{'name': '5.5', 'start': 1426147200, 'season': 5}\n{'name': '5.6', 'start': 1427270400, 'season': 5}\n{'name': '5.7', 'start': 1428480000, 'season': 5}\n{'name': '5.8', 'start': 1430208000, 'season': 5}\n{'name': '5.9', 'start': 1431590400, 'season': 5}\n{'name': '5.10', 'start': 1432800000, 'season': 5}\n{'name': '5.11', 'start': 1433923200, 'season': 5}\n{'name': '5.12', 'start': 1435132800, 'season': 5}\n{'name': '5.13', 'start': 1436342400, 'season': 5}\n{'name': '5.14', 'start': 1437552000, 'season': 5}\n{'name': '5.15', 'start': 1438761600, 'season': 5}\n{'name': '5.16', 'start': 1440057600, 'season': 5}\n{'name': '5.17', 'start': 1441180800, 'season': 5}\n{'name': '5.18', 'start': 1442390400, 'season': 5}\n{'name': '5.19', 'start': 1443600000, 'season': 5}\n{'name': '5.20', 'start': 1444809600, 'season': 5}\n{'name': '5.21', 'start': 1446105600, 'season': 5}\n{'name': '5.22', 'start': 1447228800, 'season': 6}\n{'name': '5.23', 'start': 1448352000, 'season': 6}\n{'name': '5.24', 'start': 1449648000, 'season': 6}\n{'name': '6.1', 'start': 1452758400, 'season': 7}\n{'name': '6.2', 'start': 1453968000, 'season': 7}\n{'name': '6.3', 'start': 1455091200, 'season': 7}\n{'name': '6.4', 'start': 1456300800, 'season': 7}\n{'name': '6.5', 'start': 1457510400, 'season': 7}\n{'name': '6.6', 'start': 1458720000, 'season': 7}\n{'name': '6.7', 'start': 1459929600, 'season': 7}\n{'name': '6.8', 'start': 1461139200, 'season': 7}\n{'name': '6.9', 'start': 1462348800, 'season': 7}\n{'name': '6.10', 'start': 1463558400, 'season': 7}\n{'name': '6.11', 'start': 1464768000, 'season': 7}\n{'name': '6.12', 'start': 1465977600, 'season': 7}\n{'name': '6.13', 'start': 1467187200, 'season': 7}\n{'name': '6.14', 'start': 1468396800, 'season': 7}\n{'name': '6.15', 'start': 1469520000, 'season': 7}\n{'name': '6.16', 'start': 1470816000, 'season': 7}\n{'name': '6.17', 'start': 1472025600, 'season': 7}\n{'name': '6.18', 'start': 1473321600, 'season': 7}\n{'name': '6.19', 'start': 1474444800, 'season': 7}\n{'name': '6.20', 'start': 1475654400, 'season': 7}\n{'name': '6.21', 'start': 1476864000, 'season': 7}\n{'name': '6.22', 'start': 1478764800, 'season': 8}\n{'name': '6.23', 'start': 1479801600, 'season': 8}\n{'name': '6.24', 'start': 1481097600, 'season': 8}\n{'name': '7.1', 'start': 1484121600, 'season': 9}\n{'name': '7.2', 'start': 1485331200, 'season': 9}\n{'name': '7.3', 'start': 1486540800, 'season': 9}\n{'name': '7.4', 'start': 1487836800, 'season': 9}\n{'name': '7.5', 'start': 1488960000, 'season': 9}\n{'name': '7.6', 'start': 1490169600, 'season': 9}\n{'name': '7.7', 'start': 1491379200, 'season': 9}\n{'name': '7.8', 'start': 1492588800, 'season': 9}\n{'name': '7.9', 'start': 1493798400, 'season': 9}\n{'name': '7.10', 'start': 1495008000, 'season': 9}\n{'name': '7.11', 'start': 1496304000, 'season': 9}\n{'name': '7.12', 'start': 1497427200, 'season': 9}\n{'name': '7.13', 'start': 1498636800, 'season': 9}\n{'name': '7.14', 'start': 1499846400, 'season': 9}\n{'name': '7.15', 'start': 1501056000, 'season': 9}\n{'name': '7.16', 'start': 1502265600, 'season': 9}\n{'name': '7.17', 'start': 1503475200, 'season': 9}\n{'name': '7.18', 'start': 1505289600, 'season': 9}\n{'name': '7.19', 'start': 1506499200, 'season': 9}\n{'name': '7.20', 'start': 1507708800, 'season': 9}\n{'name': '7.21', 'start': 1508918400, 'season': 9}\n{'name': '7.22', 'start': 1510128000, 'season': 10}\n{'name': '7.23', 'start': 1511251200, 'season': 10}\n{'name': '7.24', 'start': 1512547200, 'season': 10}\n{'name': '8.1', 'start': 1515571200, 'season': 11}\n{'name': '8.2', 'start': 1516780800, 'season': 11}\n{'name': '8.3', 'start': 1517990400, 'season': 11}\n{'name': '8.4', 'start': 1519286400, 'season': 11}\n{'name': '8.5', 'start': 1520409600, 'season': 11}\n{'name': '8.6', 'start': 1521705600, 'season': 11}\n{'name': '8.9', 'start': 1525248000, 'season': 11}\n{'name': '8.10', 'start': 1526457600, 'season': 11}\n{'name': '8.11', 'start': 1527751674, 'season': 11}\n{'name': '8.12', 'start': 1528875231, 'season': 11}\n{'name': '8.13', 'start': 1530084350, 'season': 11}\n{'name': '8.14', 'start': 1531897200, 'season': 11}\n{'name': '8.15', 'start': 1533108600, 'season': 11}\n{'name': '8.16', 'start': 1534316400, 'season': 11}\n{'name': '8.17', 'start': 1535529600, 'season': 11}\n{'name': '8.18', 'start': 1536735600, 'season': 11}\n{'name': '8.19', 'start': 1537945200, 'season': 11}\n{'name': '8.20', 'start': 1539154800, 'season': 11}\n{'name': '8.21', 'start': 1540364400, 'season': 11}\n{'name': '8.22', 'start': 1541577600, 'season': 11}\n{'name': '8.23', 'start': 1542704400, 'season': 12}\n{'name': '8.24', 'start': 1543996800, 'season': 12}\n{'name': '9.1', 'start': 1547020800, 'season': 13}\n{'name': '9.2', 'start': 1548316800, 'season': 13}\n{'name': '9.3', 'start': 1549440000, 'season': 13}\n{'name': '9.4', 'start': 1550736000, 'season': 13}\n{'name': '9.5', 'start': 1551859200, 'season': 13}\n{'name': '9.6', 'start': 1553065200, 'season': 13}\n{'name': '9.7', 'start': 1554274800, 'season': 13}\n{'name': '9.8', 'start': 1555484400, 'season': 13}\n{'name': '9.9', 'start': 1556694000, 'season': 13}\n{'name': '9.10', 'start': 1557817200, 'season': 13}\n{'name': '9.11', 'start': 1559199600, 'season': 13}\n{'name': '9.12', 'start': 1560326400, 'season': 13}\n{'name': '9.13', 'start': 1561532400, 'season': 13}\n{'name': '9.14', 'start': 1563346800, 'season': 13}\n{'name': '9.15', 'start': 1564556400, 'season': 13}\n{'name': '9.16', 'start': 1565766000, 'season': 13}\n{'name': '9.17', 'start': 1566975600, 'season': 13}\n{'name': '9.18', 'start': 1568185200, 'season': 13}\n{'name': '9.19', 'start': 1569394800, 'season': 13}\n{'name': '9.20', 'start': 1570608000, 'season': 13}\n{'name': '9.21', 'start': 1571821200, 'season': 13}\n{'name': '9.22', 'start': 1573027200, 'season': 13}\n{'name': '9.23', 'start': 1574240400, 'season': 13}\n{'name': '9.24', 'start': 1576054800, 'season': 13}\n{'name': '10.1', 'start': 1578477600, 'season': 13}\n{'name': '10.2', 'start': 1579770000, 'season': 13}\n{'name': '10.3', 'start': 1580886000, 'season': 13}\n{'name': '10.4', 'start': 1582182000, 'season': 13}\n{'name': '10.5', 'start': 1583308800, 'season': 13}\n{'name': '10.6', 'start': 1584518400, 'season': 13}\n{'name': '10.7', 'start': 1585724400, 'season': 13}\n{'name': '10.8', 'start': 1586934000, 'season': 13}\n{'name': '10.9', 'start': 1588143600, 'season': 13}\n{'name': '10.10', 'start': 1589364000, 'season': 13}\n{'name': '10.11', 'start': 1590652800, 'season': 13}\n{'name': '10.12', 'start': 1591772400, 'season': 13}\n{'name': '10.13', 'start': 1592985600, 'season': 13}\n{'name': '10.14', 'start': 1594191600, 'season': 13}\n{'name': '10.15', 'start': 1595401200, 'season': 13}\n{'name': '10.16', 'start': 1596610800, 'season': 13}\n{'name': '10.17', 'start': 1598162400, 'season': 13}\n{'name': '10.18', 'start': 1599030000, 'season': 13}\n{'name': '10.19', 'start': 1600239600, 'season': 13}\n{'name': '10.20', 'start': 1601449200, 'season': 13}\n{'name': '10.21', 'start': 1602658800, 'season': 13}\n{'name': '10.22', 'start': 1603872000, 'season': 13}\n{'name': '10.23', 'start': 1605085200, 'season': 13}\n{'name': '10.24', 'start': 1606212000, 'season': 13}\n{'name': '10.25', 'start': 1607504400, 'season': 13}\n"
     ]
    }
   ],
   "source": [
    "# Overview of when each patch was implemented and inversely when each season starts\n",
    "patch_overview = data_folder / \"patches.json\"\n",
    "with open(patch_overview) as json_data:\n",
    "    patch_list = json.load(json_data)\n",
    "    for patch_dict in patch_list[\"patches\"]:\n",
    "        print(patch_dict)"
   ]
  },
  {
   "source": [
    "### Seasons"
   ],
   "cell_type": "markdown",
   "metadata": {}
  },
  {
   "cell_type": "code",
   "execution_count": 11,
   "metadata": {},
   "outputs": [
    {
     "output_type": "stream",
     "name": "stdout",
     "text": [
      "{'id': 0, 'season': 'PRESEASON 3'}\n{'id': 1, 'season': 'SEASON 3'}\n{'id': 2, 'season': 'PRESEASON 2014'}\n{'id': 3, 'season': 'SEASON 2014'}\n{'id': 4, 'season': 'PRESEASON 2015'}\n{'id': 5, 'season': 'SEASON 2015'}\n{'id': 6, 'season': 'PRESEASON 2016'}\n{'id': 7, 'season': 'SEASON 2016'}\n{'id': 8, 'season': 'PRESEASON 2017'}\n{'id': 9, 'season': 'SEASON 2017'}\n{'id': 10, 'season': 'PRESEASON 2018'}\n{'id': 11, 'season': 'SEASON 2018'}\n{'id': 12, 'season': 'PRESEASON 2019'}\n{'id': 13, 'season': 'SEASON 2019'}\n"
     ]
    }
   ],
   "source": [
    "season_overview = data_folder / \"seasons.json\"\n",
    "with open(season_overview) as json_data:\n",
    "    season_list = json.load(json_data)\n",
    "    for season_dict in season_list:\n",
    "        print(season_dict)"
   ]
  },
  {
   "cell_type": "code",
   "execution_count": 5,
   "metadata": {},
   "outputs": [
    {
     "output_type": "stream",
     "name": "stdout",
     "text": [
      "1607515200\n",
      "2020-12-09T04:00:00-08:00\n"
     ]
    }
   ],
   "source": [
    "# example of how to Read time\n",
    "with open(data_folder / \"patches.json\") as f:\n",
    "    data = json.load(f)\n",
    "\n",
    "patch = data['patches'][-1]  # most recent\n",
    "utc_timestamp = patch['start']\n",
    "north_america_timestamp = utc_timestamp + data['shifts']['NA1']\n",
    "print(north_america_timestamp)\n",
    "dt = arrow.get(north_america_timestamp)\n",
    "print(dt.to('US/Pacific'))"
   ]
  },
  {
   "source": [
    "### Regions"
   ],
   "cell_type": "markdown",
   "metadata": {}
  },
  {
   "cell_type": "code",
   "execution_count": 6,
   "metadata": {},
   "outputs": [
    {
     "output_type": "stream",
     "name": "stdout",
     "text": [
      "{'region_id': 'br1', 'region_name': 'Brazil'}\n{'region_id': 'eun1', 'region_name': 'Europe Nordic & East'}\n{'region_id': 'euw1', 'region_name': 'Europe West'}\n{'region_id': 'jp1', 'region_name': 'Japan'}\n{'region_id': 'kr', 'region_name': 'Korea'}\n{'region_id': 'la1', 'region_name': 'Latin America North'}\n{'region_id': 'la2', 'region_name': 'Latin America South'}\n{'region_id': 'na1', 'region_name': 'North America'}\n{'region_id': 'oc1', 'region_name': 'Oceania'}\n{'region_id': 'tr1', 'region_name': 'Turkey'}\n{'region_id': 'ru', 'region_name': 'Russia'}\n"
     ]
    }
   ],
   "source": [
    "# Overview of all region id's and their full name\n",
    "region_overview = data_folder / \"regions.json\"\n",
    "with open(region_overview) as json_data:\n",
    "    region_list = json.load(json_data)\n",
    "    for region_dict in region_list:\n",
    "        print(region_dict)"
   ]
  },
  {
   "source": [
    "### Queues"
   ],
   "cell_type": "markdown",
   "metadata": {}
  },
  {
   "cell_type": "code",
   "execution_count": 7,
   "metadata": {},
   "outputs": [
    {
     "output_type": "stream",
     "name": "stdout",
     "text": [
      "{'queueId': 0, 'map': 'Custom games', 'description': None, 'notes': None}\n{'queueId': 2, 'map': \"Summoner's Rift\", 'description': '5v5 Blind Pick games', 'notes': 'Deprecated in patch 7.19 in favor of queueId 430'}\n{'queueId': 4, 'map': \"Summoner's Rift\", 'description': '5v5 Ranked Solo games', 'notes': 'Deprecated in favor of queueId 420'}\n{'queueId': 6, 'map': \"Summoner's Rift\", 'description': '5v5 Ranked Premade games', 'notes': 'Game mode deprecated'}\n{'queueId': 7, 'map': \"Summoner's Rift\", 'description': 'Co-op vs AI games', 'notes': 'Deprecated in favor of queueId 32 and 33'}\n{'queueId': 8, 'map': 'Twisted Treeline', 'description': '3v3 Normal games', 'notes': 'Deprecated in patch 7.19 in favor of queueId 460'}\n{'queueId': 9, 'map': 'Twisted Treeline', 'description': '3v3 Ranked Flex games', 'notes': 'Deprecated in patch 7.19 in favor of queueId 470'}\n{'queueId': 14, 'map': \"Summoner's Rift\", 'description': '5v5 Draft Pick games', 'notes': 'Deprecated in favor of queueId 400'}\n{'queueId': 16, 'map': 'Crystal Scar', 'description': '5v5 Dominion Blind Pick games', 'notes': 'Game mode deprecated'}\n{'queueId': 17, 'map': 'Crystal Scar', 'description': '5v5 Dominion Draft Pick games', 'notes': 'Game mode deprecated'}\n{'queueId': 25, 'map': 'Crystal Scar', 'description': 'Dominion Co-op vs AI games', 'notes': 'Game mode deprecated'}\n{'queueId': 31, 'map': \"Summoner's Rift\", 'description': 'Co-op vs AI Intro Bot games', 'notes': 'Deprecated in patch 7.19 in favor of queueId 830'}\n{'queueId': 32, 'map': \"Summoner's Rift\", 'description': 'Co-op vs AI Beginner Bot games', 'notes': 'Deprecated in patch 7.19 in favor of queueId 840'}\n{'queueId': 33, 'map': \"Summoner's Rift\", 'description': 'Co-op vs AI Intermediate Bot games', 'notes': 'Deprecated in patch 7.19 in favor of queueId 850'}\n{'queueId': 41, 'map': 'Twisted Treeline', 'description': '3v3 Ranked Team games', 'notes': 'Game mode deprecated'}\n{'queueId': 42, 'map': \"Summoner's Rift\", 'description': '5v5 Ranked Team games', 'notes': 'Game mode deprecated'}\n{'queueId': 52, 'map': 'Twisted Treeline', 'description': 'Co-op vs AI games', 'notes': 'Deprecated in patch 7.19 in favor of queueId 800'}\n{'queueId': 61, 'map': \"Summoner's Rift\", 'description': '5v5 Team Builder games', 'notes': 'Game mode deprecated'}\n{'queueId': 65, 'map': 'Howling Abyss', 'description': '5v5 ARAM games', 'notes': 'Deprecated in patch 7.19 in favor of queueId 450'}\n{'queueId': 67, 'map': 'Howling Abyss', 'description': 'ARAM Co-op vs AI games', 'notes': 'Game mode deprecated'}\n{'queueId': 70, 'map': \"Summoner's Rift\", 'description': 'One for All games', 'notes': 'Deprecated in patch 8.6 in favor of queueId 1020'}\n{'queueId': 72, 'map': 'Howling Abyss', 'description': '1v1 Snowdown Showdown games', 'notes': None}\n{'queueId': 73, 'map': 'Howling Abyss', 'description': '2v2 Snowdown Showdown games', 'notes': None}\n{'queueId': 75, 'map': \"Summoner's Rift\", 'description': '6v6 Hexakill games', 'notes': None}\n{'queueId': 76, 'map': \"Summoner's Rift\", 'description': 'Ultra Rapid Fire games', 'notes': None}\n{'queueId': 78, 'map': 'Howling Abyss', 'description': 'One For All: Mirror Mode games', 'notes': None}\n{'queueId': 83, 'map': \"Summoner's Rift\", 'description': 'Co-op vs AI Ultra Rapid Fire games', 'notes': None}\n{'queueId': 91, 'map': \"Summoner's Rift\", 'description': 'Doom Bots Rank 1 games', 'notes': 'Deprecated in patch 7.19 in favor of queueId 950'}\n{'queueId': 92, 'map': \"Summoner's Rift\", 'description': 'Doom Bots Rank 2 games', 'notes': 'Deprecated in patch 7.19 in favor of queueId 950'}\n{'queueId': 93, 'map': \"Summoner's Rift\", 'description': 'Doom Bots Rank 5 games', 'notes': 'Deprecated in patch 7.19 in favor of queueId 950'}\n{'queueId': 96, 'map': 'Crystal Scar', 'description': 'Ascension games', 'notes': 'Deprecated in patch 7.19 in favor of queueId 910'}\n{'queueId': 98, 'map': 'Twisted Treeline', 'description': '6v6 Hexakill games', 'notes': None}\n{'queueId': 100, 'map': \"Butcher's Bridge\", 'description': '5v5 ARAM games', 'notes': None}\n{'queueId': 300, 'map': 'Howling Abyss', 'description': 'Legend of the Poro King games', 'notes': 'Deprecated in patch 7.19 in favor of queueId 920'}\n{'queueId': 310, 'map': \"Summoner's Rift\", 'description': 'Nemesis games', 'notes': None}\n{'queueId': 313, 'map': \"Summoner's Rift\", 'description': 'Black Market Brawlers games', 'notes': None}\n{'queueId': 315, 'map': \"Summoner's Rift\", 'description': 'Nexus Siege games', 'notes': 'Deprecated in patch 7.19 in favor of queueId 940'}\n{'queueId': 317, 'map': 'Crystal Scar', 'description': 'Definitely Not Dominion games', 'notes': None}\n{'queueId': 318, 'map': \"Summoner's Rift\", 'description': 'ARURF games', 'notes': 'Deprecated in patch 7.19 in favor of queueId 900'}\n{'queueId': 325, 'map': \"Summoner's Rift\", 'description': 'All Random games', 'notes': None}\n{'queueId': 400, 'map': \"Summoner's Rift\", 'description': '5v5 Draft Pick games', 'notes': None}\n{'queueId': 410, 'map': \"Summoner's Rift\", 'description': '5v5 Ranked Dynamic games', 'notes': 'Game mode deprecated in patch 6.22'}\n{'queueId': 420, 'map': \"Summoner's Rift\", 'description': '5v5 Ranked Solo games', 'notes': None}\n{'queueId': 430, 'map': \"Summoner's Rift\", 'description': '5v5 Blind Pick games', 'notes': None}\n{'queueId': 440, 'map': \"Summoner's Rift\", 'description': '5v5 Ranked Flex games', 'notes': None}\n{'queueId': 450, 'map': 'Howling Abyss', 'description': '5v5 ARAM games', 'notes': None}\n{'queueId': 460, 'map': 'Twisted Treeline', 'description': '3v3 Blind Pick games', 'notes': 'Deprecated in patch 9.23'}\n{'queueId': 470, 'map': 'Twisted Treeline', 'description': '3v3 Ranked Flex games', 'notes': 'Deprecated in patch 9.23'}\n{'queueId': 600, 'map': \"Summoner's Rift\", 'description': 'Blood Hunt Assassin games', 'notes': None}\n{'queueId': 610, 'map': 'Cosmic Ruins', 'description': 'Dark Star: Singularity games', 'notes': None}\n{'queueId': 700, 'map': \"Summoner's Rift\", 'description': 'Clash games', 'notes': None}\n{'queueId': 800, 'map': 'Twisted Treeline', 'description': 'Co-op vs. AI Intermediate Bot games', 'notes': 'Deprecated in patch 9.23'}\n{'queueId': 810, 'map': 'Twisted Treeline', 'description': 'Co-op vs. AI Intro Bot games', 'notes': 'Deprecated in patch 9.23'}\n{'queueId': 820, 'map': 'Twisted Treeline', 'description': 'Co-op vs. AI Beginner Bot games', 'notes': None}\n{'queueId': 830, 'map': \"Summoner's Rift\", 'description': 'Co-op vs. AI Intro Bot games', 'notes': None}\n{'queueId': 840, 'map': \"Summoner's Rift\", 'description': 'Co-op vs. AI Beginner Bot games', 'notes': None}\n{'queueId': 850, 'map': \"Summoner's Rift\", 'description': 'Co-op vs. AI Intermediate Bot games', 'notes': None}\n{'queueId': 900, 'map': \"Summoner's Rift\", 'description': 'URF games', 'notes': None}\n{'queueId': 910, 'map': 'Crystal Scar', 'description': 'Ascension games', 'notes': None}\n{'queueId': 920, 'map': 'Howling Abyss', 'description': 'Legend of the Poro King games', 'notes': None}\n{'queueId': 940, 'map': \"Summoner's Rift\", 'description': 'Nexus Siege games', 'notes': None}\n{'queueId': 950, 'map': \"Summoner's Rift\", 'description': 'Doom Bots Voting games', 'notes': None}\n{'queueId': 960, 'map': \"Summoner's Rift\", 'description': 'Doom Bots Standard games', 'notes': None}\n{'queueId': 980, 'map': 'Valoran City Park', 'description': 'Star Guardian Invasion: Normal games', 'notes': None}\n{'queueId': 990, 'map': 'Valoran City Park', 'description': 'Star Guardian Invasion: Onslaught games', 'notes': None}\n{'queueId': 1000, 'map': 'Overcharge', 'description': 'PROJECT: Hunters games', 'notes': None}\n{'queueId': 1010, 'map': \"Summoner's Rift\", 'description': 'Snow ARURF games', 'notes': None}\n{'queueId': 1020, 'map': \"Summoner's Rift\", 'description': 'One for All games', 'notes': None}\n{'queueId': 1030, 'map': 'Crash Site', 'description': 'Odyssey Extraction: Intro games', 'notes': None}\n{'queueId': 1040, 'map': 'Crash Site', 'description': 'Odyssey Extraction: Cadet games', 'notes': None}\n{'queueId': 1050, 'map': 'Crash Site', 'description': 'Odyssey Extraction: Crewmember games', 'notes': None}\n{'queueId': 1060, 'map': 'Crash Site', 'description': 'Odyssey Extraction: Captain games', 'notes': None}\n{'queueId': 1070, 'map': 'Crash Site', 'description': 'Odyssey Extraction: Onslaught games', 'notes': None}\n{'queueId': 1090, 'map': 'Convergence', 'description': 'Teamfight Tactics games', 'notes': None}\n{'queueId': 1100, 'map': 'Convergence', 'description': 'Ranked Teamfight Tactics games', 'notes': None}\n{'queueId': 1110, 'map': 'Convergence', 'description': 'Teamfight Tactics Tutorial games', 'notes': None}\n{'queueId': 1111, 'map': 'Convergence', 'description': 'Teamfight Tactics test games', 'notes': None}\n{'queueId': 1200, 'map': 'Nexus Blitz', 'description': 'Nexus Blitz games', 'notes': 'Deprecated in patch 9.2'}\n{'queueId': 1300, 'map': 'Nexus Blitz', 'description': 'Nexus Blitz games', 'notes': None}\n{'queueId': 2000, 'map': \"Summoner's Rift\", 'description': 'Tutorial 1', 'notes': None}\n{'queueId': 2010, 'map': \"Summoner's Rift\", 'description': 'Tutorial 2', 'notes': None}\n{'queueId': 2020, 'map': \"Summoner's Rift\", 'description': 'Tutorial 3', 'notes': None}\n"
     ]
    }
   ],
   "source": [
    "# Overview of all queue id's and their definition\n",
    "queue_overview = data_folder / \"queues.json\"\n",
    "with open(queue_overview) as json_data:\n",
    "    queue_list = json.load(json_data)\n",
    "    for queue_dict in queue_list:\n",
    "        print(queue_dict)"
   ]
  }
 ],
 "metadata": {
  "kernelspec": {
   "display_name": "Python 3",
   "name": "python3",
   "language": "python"
  },
  "language_info": {
   "codemirror_mode": {
    "name": "ipython",
    "version": 3
   },
   "file_extension": ".py",
   "mimetype": "text/x-python",
   "name": "python",
   "nbconvert_exporter": "python",
   "pygments_lexer": "ipython3",
   "version": "3.9.1-final"
  },
  "orig_nbformat": 2
 },
 "nbformat": 4,
 "nbformat_minor": 2
}