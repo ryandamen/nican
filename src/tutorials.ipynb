{
 "metadata": {
  "language_info": {
   "codemirror_mode": {
    "name": "ipython",
    "version": 3
   },
   "file_extension": ".py",
   "mimetype": "text/x-python",
   "name": "python",
   "nbconvert_exporter": "python",
   "pygments_lexer": "ipython3",
   "version": 3
  },
  "orig_nbformat": 2
 },
 "nbformat": 4,
 "nbformat_minor": 2,
 "cells": [
  {
   "cell_type": "code",
   "execution_count": null,
   "metadata": {},
   "outputs": [],
   "source": [
    "# tutorial source: https://www.dataquest.io/blog/python-api-tutorial/ \n",
    "\n",
    "# import requests\n",
    "# import json\n",
    "\n",
    "def jprint(obj):\n",
    "    # create a formatted string of the Python JSON object\n",
    "    text = json.dumps(obj, sort_keys=True, indent=4)\n",
    "    print(text)\n",
    "\n",
    "parameters = {\n",
    "    \"lat\": 40.71,\n",
    "    \"lon\": -74}\n",
    "\n",
    "response = requests.get(\"http://api.open-notify.org/iss-pass.json\", params=parameters)\n",
    "jprint(response.json()) #prints the whole response\n",
    "# jprint(response.json()['message']) #prints only the [] part of the response\n",
    "\n",
    "pass_times = response.json()['response']\n",
    "jprint(pass_times)\n",
    "\n",
    "risetimes = []\n",
    "for d in pass_times:\n",
    "    time = d['risetime']\n",
    "    risetimes.append(time)\n",
    "    print (risetimes)\n",
    "\n",
    "duradura = []\n",
    "for b in pass_times:\n",
    "    dur = b['duration']\n",
    "    duradura.append(dur)\n",
    "    print (duradura)\n",
    "\n",
    "print (risetimes)\n",
    "print (duradura)"
   ]
  },
  {
   "cell_type": "code",
   "execution_count": null,
   "metadata": {},
   "outputs": [],
   "source": [
    "# tutorial source: https://towardsdatascience.com/json-and-apis-with-python-fba329ef6ef0\n",
    "\n",
    "import requests\n",
    "import pandas as pd\n",
    "\n",
    "#response = requests.get('https://api.covid19api.com/summary').text\n",
    "#response_info = json.loads(response)\n",
    "#print ('responseinfo:', response_info)\n",
    "\n",
    "response2 = requests.get('https://api.covid19api.com/summary').json()\n",
    "#jprint(response2)\n",
    "\n",
    "country_list = []\n",
    "for country_info in response2['Countries']:\n",
    "    country_list.append([country_info['Country'], country_info['TotalConfirmed']])\n",
    "#jprint (country_list)\n",
    "\n",
    "country_df = pd.DataFrame(data=country_list, columns=['Country', 'TotalConfirmed'])\n",
    "# country_df.head(10)"
   ]
  }
 ]
}