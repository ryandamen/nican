{
 "metadata": {
  "language_info": {
   "codemirror_mode": {
    "name": "ipython",
    "version": 3
   },
   "file_extension": ".py",
   "mimetype": "text/x-python",
   "name": "python",
   "nbconvert_exporter": "python",
   "pygments_lexer": "ipython3",
   "version": "3.9.1-final"
  },
  "orig_nbformat": 2,
  "kernelspec": {
   "name": "python3",
   "display_name": "Python 3",
   "language": "python"
  }
 },
 "nbformat": 4,
 "nbformat_minor": 2,
 "cells": [
  {
   "cell_type": "code",
   "execution_count": null,
   "metadata": {
    "tags": []
   },
   "outputs": [],
   "source": [
    "# generating a dataset with cointoss/ random chance of W or L\n",
    "\n",
    "\n",
    "from random import randint\n",
    "\n",
    "\n",
    "# x = [randint(0, 1) for p in range(0, 1000)]\n",
    "# print (x)\n",
    "\n",
    "randomdataset = \"\".join (['L' if randint(0,1) else 'W' for p in range(0, 1000000)]) \n",
    "#print (y)\n",
    "\n",
    "\n",
    "n = 3\n",
    "chunks = [randomdataset [i:i + n] for i in range(0, len(randomdataset), n)]\n",
    "# print (chunks)\n",
    "\n"
   ]
  },
  {
   "cell_type": "code",
   "execution_count": null,
   "metadata": {},
   "outputs": [],
   "source": [
    "string3 = [\"WWL\", \n",
    "\"WLW\", \n",
    "\"WLL\", \n",
    "\"WWW\", \n",
    "\"LWW\",\n",
    "\"LWL\",\n",
    "\"LLW\",\n",
    "\"LLL\"]\n"
   ]
  },
  {
   "cell_type": "code",
   "execution_count": null,
   "metadata": {},
   "outputs": [],
   "source": [
    "\n",
    "string2 = [\"WW\", \"WL\", \"LW\", \"LL\"]\n",
    "\n",
    "string2count = [randomdataset.count(s2) for s2 in string2]\n",
    "\n",
    "list(zip(string2, string2count))"
   ]
  },
  {
   "cell_type": "code",
   "execution_count": null,
   "metadata": {},
   "outputs": [],
   "source": [
    "# checking the frequency of how often each 3string occurs in the dataset\n",
    "string3count = [randomdataset.count(s3)/len(randomdataset) for s3 in string3] \n",
    "\n",
    "sorted(zip(string3, string3count), key=lambda l:-l[1])\n"
   ]
  },
  {
   "cell_type": "code",
   "execution_count": null,
   "metadata": {},
   "outputs": [],
   "source": [
    "# checking the frequency of how often each 3string occurs in the CHUNKED dataset\n",
    "# because the chunking is random here, it makes more sense to take the actual dataset\n",
    "\n",
    "string3count = [chunks.count(s3)/len(randomdataset) for s3 in string3] \n",
    "\n",
    "sorted(zip(string3, string3count), key=lambda l:-l[1])\n",
    "# list is a function name. no touchies\n",
    "# key=lambda l:-l[1])  makes it sort by whatever the key returns. because of -l it is big to small"
   ]
  },
  {
   "source": [
    "# notes\n",
    "\n",
    "B LL E \n",
    "\n",
    "B = session begin\n",
    "E = session end \n",
    "\n",
    "Session start - LLLL - session end \n",
    "\n",
    "> Every streak starts with either != streak value OR the session start. And it ends with != streak value OR session end \n",
    "\n",
    "IF it is random, then any 4 letter string is as likely to happen as any other 4 letter strings\n",
    "\n",
    "y.count (\"WWW\") / y.count (\"LLL\")\n"
   ],
   "cell_type": "code",
   "metadata": {},
   "execution_count": null,
   "outputs": []
  },
  {
   "cell_type": "code",
   "execution_count": 25,
   "metadata": {},
   "outputs": [
    {
     "output_type": "stream",
     "name": "stdout",
     "text": [
      "defaultdict(<class 'int'>, {'W': 62415, 'L': 62342})\n"
     ]
    }
   ],
   "source": [
    "dataset = randomdataset \n",
    "from collections import defaultdict\n",
    "transitions = defaultdict(int)\n",
    "\n",
    "while dataset:\n",
    "    lossstreakstart = dataset.find(\"WLL\")\n",
    "    if lossstreakstart == -1: #so it runs until you run out of data\n",
    "        break\n",
    "    nextgame = dataset[lossstreakstart+3] #finds the first character after WLL. 0 is the W\n",
    "    transitions[nextgame] += 1\n",
    "    dataset = dataset[lossstreakstart+3:] #will trunkate the dataset to only include \n",
    "\n",
    "print (transitions)\n",
    "\n",
    "transitions[\"W\"] / (transitions[\"W\"] + transitions[\"L\"])\n"
   ]
  },
  {
   "cell_type": "code",
   "execution_count": 26,
   "metadata": {},
   "outputs": [
    {
     "output_type": "execute_result",
     "data": {
      "text/plain": [
       "0.5002925687536571"
      ]
     },
     "metadata": {},
     "execution_count": 26
    }
   ],
   "source": [
    "transitions[\"W\"] / (transitions[\"W\"] + transitions[\"L\"])"
   ]
  },
  {
   "cell_type": "code",
   "execution_count": null,
   "metadata": {},
   "outputs": [],
   "source": []
  }
 ]
}