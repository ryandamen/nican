{
 "metadata": {
  "language_info": {
   "codemirror_mode": {
    "name": "ipython",
    "version": 3
   },
   "file_extension": ".py",
   "mimetype": "text/x-python",
   "name": "python",
   "nbconvert_exporter": "python",
   "pygments_lexer": "ipython3",
   "version": "3.9.1-final"
  },
  "orig_nbformat": 2,
  "kernelspec": {
   "name": "python3",
   "display_name": "Python 3",
   "language": "python"
  }
 },
 "nbformat": 4,
 "nbformat_minor": 2,
 "cells": [
  {
   "cell_type": "code",
   "execution_count": 4,
   "metadata": {
    "tags": []
   },
   "outputs": [],
   "source": [
    "# generating a dataset with cointoss/ random chance of W or L\n",
    "\n",
    "from random import randint\n",
    "\n",
    "# x = [randint(0, 1) for p in range(0, 1000)]\n",
    "# print (x)\n",
    "\n",
    "randomdataset = \"\".join (['L' if randint(0,1) else 'W' for p in range(0, 1000000)]) \n",
    "#print (y)\n",
    "\n",
    "n = 3\n",
    "chunks = [randomdataset [i:i + n] for i in range(0, len(randomdataset), n)]\n",
    "# print (chunks)"
   ]
  },
  {
   "cell_type": "code",
   "execution_count": 6,
   "metadata": {},
   "outputs": [
    {
     "output_type": "execute_result",
     "data": {
      "text/plain": [
       "[('WW', 167011), ('WL', 249643), ('LW', 249644), ('LL', 166694)]"
      ]
     },
     "metadata": {},
     "execution_count": 6
    }
   ],
   "source": [
    "# checking the frequency of how often each 2string occurs in the dataset\n",
    "string2 = [\"WW\", \"WL\", \"LW\", \"LL\"]\n",
    "\n",
    "string2count = [randomdataset.count(s2) for s2 in string2] #placeholder for each consecutive element of the list, defined by \"for s2 in\" and used by .count\n",
    "\n",
    "# zip puts the two together\n",
    "list(zip(string2, string2count))"
   ]
  },
  {
   "cell_type": "code",
   "execution_count": 9,
   "metadata": {},
   "outputs": [
    {
     "output_type": "execute_result",
     "data": {
      "text/plain": [
       "[('WWL', 0.124995),\n",
       " ('LWW', 0.124995),\n",
       " ('LLW', 0.124988),\n",
       " ('WLL', 0.124987),\n",
       " ('LWL', 0.099812),\n",
       " ('WLW', 0.099773),\n",
       " ('WWW', 0.071699),\n",
       " ('LLL', 0.071496)]"
      ]
     },
     "metadata": {},
     "execution_count": 9
    }
   ],
   "source": [
    "# checking the frequency of how often each 3string occurs in the dataset. \n",
    "# Duplicates can occur, so [WLLWL] contains the secquences WLL, LLW, LWL\n",
    "\n",
    "string3 = [\"WWL\", \n",
    "\"WLW\", \n",
    "\"WLL\", \n",
    "\"WWW\", \n",
    "\"LWW\",\n",
    "\"LWL\",\n",
    "\"LLW\",\n",
    "\"LLL\"]\n",
    "\n",
    "string3count = [randomdataset.count(s3)/len(randomdataset) for s3 in string3] # placeholder for each consecutive element of the list, defined by \"for s3 in\" and used by .count\n",
    "\n",
    "# sorting it by a key, in this case ascending (big to small)\n",
    "# key=lambda l:-l[1])  makes it sort by whatever the key returns. because of -l it is big to small\n",
    "sorted(zip(string3, string3count), key=lambda l:-l[1]) \n"
   ]
  },
  {
   "cell_type": "code",
   "execution_count": 10,
   "metadata": {},
   "outputs": [
    {
     "output_type": "execute_result",
     "data": {
      "text/plain": [
       "[('WLL', 0.042104),\n",
       " ('WWW', 0.04183),\n",
       " ('WWL', 0.04177),\n",
       " ('LWW', 0.041617),\n",
       " ('LLW', 0.041617),\n",
       " ('LLL', 0.041549),\n",
       " ('WLW', 0.041444),\n",
       " ('LWL', 0.041402)]"
      ]
     },
     "metadata": {},
     "execution_count": 10
    }
   ],
   "source": [
    "# checking the frequency of how often each 3string occurs in the CHUNKED dataset\n",
    "# because the chunking is random here, it makes more sense to take the actual dataset to compare the real dataset to (to compare if the findings are random or not)\n",
    "\n",
    "string3count = [chunks.count(s3)/len(randomdataset) for s3 in string3] \n",
    "\n",
    "sorted(zip(string3, string3count), key=lambda l:-l[1])\n"
   ]
  },
  {
   "cell_type": "code",
   "execution_count": 15,
   "metadata": {},
   "outputs": [
    {
     "output_type": "stream",
     "name": "stdout",
     "text": [
      "defaultdict(<class 'int'>, {'W': 62571, 'L': 62416})\n"
     ]
    },
    {
     "output_type": "execute_result",
     "data": {
      "text/plain": [
       "0.5006200644867066"
      ]
     },
     "metadata": {},
     "execution_count": 15
    }
   ],
   "source": [
    "#calculate the frequency of a certain situation occurring (in this case, the 4th value after a certain 3string sequence).\n",
    "# everytime you add 1 to the string, you need to double the dataset size > to account for size\n",
    "\n",
    "dataset = randomdataset \n",
    "from collections import defaultdict\n",
    "transitions = defaultdict(int)\n",
    "\n",
    "\n",
    "#4th game result\n",
    "while dataset:\n",
    "    lossstreakstart = dataset.find(\"WLL\")\n",
    "    if lossstreakstart == -1: #so it runs until you run out of data\n",
    "        break\n",
    "    nextgame = dataset[lossstreakstart+3] #finds the first character after WLL. 0 is the W\n",
    "    transitions[nextgame] += 1\n",
    "    dataset = dataset[lossstreakstart+3:] #will trunkate the dataset to only include \n",
    "\n",
    "#5th game result\n",
    "while dataset:\n",
    "    lossstreakstart = dataset.find(\"WLLL\")\n",
    "    if lossstreakstart == -1: #so it runs until you run out of data\n",
    "        break\n",
    "    nextgame = dataset[lossstreakstart+4] #finds the first character after WLL. 0 is the W\n",
    "    transitions[nextgame] += 1\n",
    "    dataset = dataset[lossstreakstart+4:] #remove everything from the dataset up until the WLL, and make a new dataset starting from WLL\n",
    "\n",
    "print (transitions)\n",
    "\n",
    "transitions[\"W\"] / (transitions[\"W\"] + transitions[\"L\"])\n",
    "\n"
   ]
  },
  {
   "source": [
    "# notes\n",
    "\n",
    "B LL E \n",
    "B LL W\n",
    "W LL E\n",
    "W LL W\n",
    "\n",
    "B = session begin\n",
    "E = session end \n",
    "\n",
    "Session start - LLLL - session end \n",
    "\n",
    "> Every streak starts with either != streak value OR the session start. And it ends with != streak value OR session end \n",
    "\n",
    "\n"
   ],
   "cell_type": "code",
   "metadata": {},
   "execution_count": null,
   "outputs": []
  }
 ]
}