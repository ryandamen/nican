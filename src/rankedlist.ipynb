{
 "metadata": {
  "language_info": {
   "codemirror_mode": {
    "name": "ipython",
    "version": 3
   },
   "file_extension": ".py",
   "mimetype": "text/x-python",
   "name": "python",
   "nbconvert_exporter": "python",
   "pygments_lexer": "ipython3",
   "version": "3.9.1-final"
  },
  "orig_nbformat": 2,
  "kernelspec": {
   "name": "python3",
   "display_name": "Python 3",
   "language": "python"
  }
 },
 "nbformat": 4,
 "nbformat_minor": 2,
 "cells": [
  {
   "source": [
    "# Collecting summoner IDs per Region, Division & Tier"
   ],
   "cell_type": "markdown",
   "metadata": {}
  },
  {
   "cell_type": "code",
   "execution_count": null,
   "metadata": {},
   "outputs": [],
   "source": [
    "## Notes\n",
    "\n",
    "Source: https://riot-api-libraries.readthedocs.io/en/latest/collectingdata.html\n",
    "\n",
    "You can also use the League endpoints to get lists of ranked summoners. The positional league endpoints provide a paginated list of all summoners in a Tier + Division + Position (e.g. all ranked Diamond II Top laners). Alternatively, Canisback on the Discord currently hosts a list of league IDs that you can use to pull summoners from the leagues/{leagueId} endpoints. These lists are provided for free to the community for use, and may go down or stop being updated at any time.\n",
    "\n",
    "https://developer.riotgames.com/apis#league-exp-v4/GET_getLeagueEntries\n",
    "\n",
    "\n",
    "Helpful tutorial for this\n",
    "- pulling specific data from API https://www.dataquest.io/blog/python-api-tutorial/ \n",
    "\n",
    "\n",
    "List of public API's for playing around another time\n",
    "- https://github.com/public-apis/public-apis\n",
    "\n",
    "\n",
    "\n",
    "Other (unused so far) tutorials:\n",
    "- Writing & reading Json files https://stackabuse.com/reading-and-writing-json-to-a-file-in-python/ \n",
    "\n"
   ]
  },
  {
   "cell_type": "code",
   "execution_count": null,
   "metadata": {},
   "outputs": [],
   "source": [
    "# to do\n",
    "\n",
    "#WIP\n",
    "1. Get summoner IDs & names by region, tier & division https://developer.riotgames.com/apis#league-exp-v4/GET_getLeagueEntries\n",
    "\n",
    "\n",
    "# To do\n",
    "2. Get account ID by summoner ID or name https://developer.riotgames.com/apis#summoner-v4/GET_getBySummonerName\n",
    "3. Get matchlist by account ID https://developer.riotgames.com/apis#match-v4/GET_getMatchlist\n",
    "    Can filter by the endTime and beginTime --> \tThe end time to use for filtering matchlist specified as epoch milliseconds. If beginTime is specified, but not endTime, then endTime defaults to the the current unix timestamp in milliseconds (the maximum time range limitation is not observed in this specific case). If endTime is specified, but not beginTime, then beginTime defaults to the start of the account's match history returning a 400 due to the maximum time range limitation. If both are specified, then endTime should be greater than beginTime. The maximum time range allowed is one week, otherwise a 400 error code is returned.\n"
   ]
  },
  {
   "cell_type": "code",
   "execution_count": null,
   "metadata": {},
   "outputs": [],
   "source": [
    "# Notes\n",
    "\n",
    "json.dumps() — Takes in a Python object, and converts (dumps) it to a string.\n",
    "json.loads() — Takes a JSON string, and converts (loads) it to a Python object.\n",
    "\n",
    "jprint makes the output vertical instead of horizontal (better readable for dictionaries), but you need to make it first:\n",
    "    # create a formatted string of the Python JSON object\n",
    "    def jprint(obj):\n",
    "    text = json.dumps(obj, sort_keys=True, indent=4)\n",
    "    print(text)\n"
   ]
  },
  {
   "cell_type": "code",
   "execution_count": null,
   "metadata": {
    "tags": []
   },
   "outputs": [],
   "source": [
    "# tutorial source: https://www.dataquest.io/blog/python-api-tutorial/ \n",
    "\n",
    "# import requests\n",
    "# import json\n",
    "\n",
    "def jprint(obj):\n",
    "    # create a formatted string of the Python JSON object\n",
    "    text = json.dumps(obj, sort_keys=True, indent=4)\n",
    "    print(text)\n",
    "\n",
    "parameters = {\n",
    "    \"lat\": 40.71,\n",
    "    \"lon\": -74}\n",
    "\n",
    "response = requests.get(\"http://api.open-notify.org/iss-pass.json\", params=parameters)\n",
    "jprint(response.json()) #prints the whole response\n",
    "# jprint(response.json()['message']) #prints only the [] part of the response\n",
    "\n",
    "pass_times = response.json()['response']\n",
    "jprint(pass_times)\n",
    "\n",
    "risetimes = []\n",
    "for d in pass_times:\n",
    "    time = d['risetime']\n",
    "    risetimes.append(time)\n",
    "    print (risetimes)\n",
    "\n",
    "duradura = []\n",
    "for b in pass_times:\n",
    "    dur = b['duration']\n",
    "    duradura.append(dur)\n",
    "    print (duradura)\n",
    "\n",
    "print (risetimes)\n",
    "print (duradura)"
   ]
  },
  {
   "cell_type": "code",
   "execution_count": null,
   "metadata": {
    "tags": []
   },
   "outputs": [],
   "source": [
    "# tutorial source: https://towardsdatascience.com/json-and-apis-with-python-fba329ef6ef0\n",
    "\n",
    "import requests\n",
    "import pandas as pd\n",
    "\n",
    "#response = requests.get('https://api.covid19api.com/summary').text\n",
    "#response_info = json.loads(response)\n",
    "#print ('responseinfo:', response_info)\n",
    "\n",
    "response2 = requests.get('https://api.covid19api.com/summary').json()\n",
    "#jprint(response2)\n",
    "\n",
    "country_list = []\n",
    "for country_info in response2['Countries']:\n",
    "    country_list.append([country_info['Country'], country_info['TotalConfirmed']])\n",
    "#jprint (country_list)\n",
    "\n",
    "country_df = pd.DataFrame(data=country_list, columns=['Country', 'TotalConfirmed'])\n",
    "# country_df.head(10)"
   ]
  },
  {
   "cell_type": "code",
   "execution_count": null,
   "metadata": {},
   "outputs": [],
   "source": [
    "# this works\n",
    "# importing challenger I \n",
    "\n",
    "import requests\n",
    "import pandas as pd\n",
    "import json\n",
    "\n",
    "# create a formatted string of the Python JSON object\n",
    "def jprint(obj):\n",
    "    text = json.dumps(obj, sort_keys=True, indent=4)\n",
    "    print(text)\n",
    "\n",
    "\n",
    "## something here to modify the URL \n",
    "url_id = 'https://euw1.api.riotgames.com/lol/league-exp/v4/entries/RANKED_SOLO_5x5/CHALLENGER/I?page=1&api_key=' + apikey\n",
    "\n",
    "response = requests.get(url_id).json()\n",
    "# jprint (response)\n",
    "\n",
    "#grabbing summonerId, summonerName, wins, & losses and appending them to a new list summoner_list\n",
    "summoner_list = []\n",
    "for summoner_info in response:\n",
    "    summoner_list.append([summoner_info['summonerId'], summoner_info['summonerName'], summoner_info['wins'], summoner_info['losses']])\n",
    "    #jprint(summoner_list)\n",
    "\n",
    "#creating a dataframe with the results\n",
    "summoner_df = pd.DataFrame(data=summoner_list, columns=['summonerId', 'summonerName', 'wins', 'losses'])\n",
    "#displaying the first 10 results of the dataframe\n",
    "summoner_df.head(1000)\n"
   ]
  },
  {
   "cell_type": "code",
   "execution_count": null,
   "metadata": {
    "tags": [
     "outputPrepend"
    ]
   },
   "outputs": [],
   "source": [
    "# working in here\n",
    "#  importing grandmaster I \n",
    "\n",
    "import requests\n",
    "import pandas as pd\n",
    "import json\n",
    "\n",
    "# create a formatted string of the Python JSON object\n",
    "def jprint(obj):\n",
    "    text = json.dumps(obj, sort_keys=True, indent=4)\n",
    "    print(text)\n",
    "\n",
    "## creating the URL to pull the data from - WIP\n",
    "URL_ids = ('https://' + y + '.api.riotgames.com/lol/league-exp/v4/entries/RANKED_SOLO_5x5/' +\n",
    "                           tierList[z][0] + '/' + tierList[z][1] + '/?page=' + str(page) + '&api_key=' + apikey)\n",
    "\n",
    "url_ids = ('https://' + region + '.api.riotgames.com/lol/league-exp/v4/entries/' + queue_type + \n",
    "\n",
    "final form: 'https://euw1.api.riotgames.com/lol/league-exp/v4/entries/RANKED_SOLO_5x5/CHALLENGER/I?page=1&api_key=' + apikey\n",
    "\n",
    "# set region\n",
    "region = 'euw1'\n",
    "\n",
    "# set queue type\n",
    "queue_type = 'RANKED_SOLO_5x5'\n",
    "\n",
    "# iterate through the tiers\n",
    "tier_list = {'IRON', 'BRONZE', 'SILVER', 'GOLD', 'PLATINUM', 'DIAMOND', 'MASTER', 'GRANDMASTER', 'CHALLENGER'}\n",
    "\n",
    "division_counter = 1\n",
    "for tier_counter in tier_list:      # iterate through the tiers\n",
    "        print (tier_counter)\n",
    "        division_counter = 1\n",
    "        while division_counter < 5: # iterate through the divisions. There are 4 divisions so until but excluding 5. \n",
    "            print (division_counter)\n",
    "            division_counter = division_counter + 1\n",
    "\n",
    "\n",
    "\n",
    "## iterate through the pages\n",
    "####\n",
    "pages = \n",
    "\n",
    "# pseudo code\n",
    "for tier_list ...\n",
    "    for division_list ... \n",
    "        for pages ... \n",
    "        if there is stuff in here, write it, \n",
    "        else if no data, stahp\n",
    "\n",
    "\n",
    "\n",
    "\n",
    "\n",
    "\n",
    "\n",
    "\n",
    "\n",
    "\n",
    "# ///// from under here it works (direct copy from challenger I code)\n",
    "\n",
    "response = requests.get(url_ids).json()\n",
    "# jprint (response)\n",
    "\n",
    "#grabbing summonerId, summonerName, wins, & losses and appending them to a new list summoner_list\n",
    "summoner_list = []\n",
    "for summoner_info in response:\n",
    "    summoner_list.append([summoner_info['summonerId'], summoner_info['summonerName'], summoner_info['wins'], summoner_info['losses']])\n",
    "    #jprint(summoner_list)\n",
    "\n",
    "#creating a dataframe with the results\n",
    "summoner_df = pd.DataFrame(data=summoner_list, columns=['summonerId', 'summonerName', 'wins', 'losses'])\n",
    "#displaying the first 10 results of the dataframe\n",
    "summoner_df.head(1000)\n"
   ]
  },
  {
   "cell_type": "code",
   "execution_count": 70,
   "metadata": {
    "tags": []
   },
   "outputs": [
    {
     "output_type": "stream",
     "name": "stdout",
     "text": [
      "SILVER\n1\n2\n3\n4\nDIAMOND\n1\n2\n3\n4\nGRANDMASTER\n1\n2\n3\n4\nIRON\n1\n2\n3\n4\nMASTER\n1\n2\n3\n4\nCHALLENGER\n1\n2\n3\n4\nGOLD\n1\n2\n3\n4\nBRONZE\n1\n2\n3\n4\nPLATINUM\n1\n2\n3\n4\n"
     ]
    }
   ],
   "source": [
    "url_ids = ('https://euw1.api.riotgames.com/lol/league-exp/v4/entries/RANKED_SOLO_5x5/CHALLENGER/I?page=1&api_key=' + apikey)\n",
    "\n",
    "\n",
    "# ///// working under here \n",
    "\n",
    "response = requests.get(url_ids).json()\n",
    "jprint (response)"
   ]
  },
  {
   "cell_type": "code",
   "execution_count": null,
   "metadata": {},
   "outputs": [],
   "source": [
    "# iterate through the tiers\n",
    "tier_list = {'IRON', 'BRONZE', 'SILVER', 'GOLD', 'PLATINUM', 'DIAMOND', 'MASTER', 'GRANDMASTER', 'CHALLENGER'}\n",
    "\n",
    "division_counter = 1\n",
    "for tier_counter in tier_list:      # iterate through the tiers\n",
    "        print (tier_counter)\n",
    "        division_counter = 1\n",
    "        while division_counter < 5: # iterate through the divisions. There are 4 divisions so until but excluding 5. \n",
    "            print (division_counter)\n",
    "            division_counter = division_counter + 1\n"
   ]
  }
 ]
}