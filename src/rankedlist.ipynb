{
 "metadata": {
  "language_info": {
   "codemirror_mode": {
    "name": "ipython",
    "version": 3
   },
   "file_extension": ".py",
   "mimetype": "text/x-python",
   "name": "python",
   "nbconvert_exporter": "python",
   "pygments_lexer": "ipython3",
   "version": "3.9.1-final"
  },
  "orig_nbformat": 2,
  "kernelspec": {
   "name": "python3",
   "display_name": "Python 3",
   "language": "python"
  }
 },
 "nbformat": 4,
 "nbformat_minor": 2,
 "cells": [
  {
   "source": [
    "# Collecting summoner IDs per Region, Division & Tier"
   ],
   "cell_type": "markdown",
   "metadata": {}
  },
  {
   "cell_type": "code",
   "execution_count": null,
   "metadata": {},
   "outputs": [],
   "source": [
    "## Notes\n",
    "\n",
    "! Display line numbers by clicking left of the green bar of the cell and pressing L. Has to be done on a per cell basis. \n",
    "\n",
    "\n",
    "Source: https://riot-api-libraries.readthedocs.io/en/latest/collectingdata.html\n",
    "\n",
    "You can also use the League endpoints to get lists of ranked summoners. The positional league endpoints provide a paginated list of all summoners in a Tier + Division + Position (e.g. all ranked Diamond II Top laners). Alternatively, Canisback on the Discord currently hosts a list of league IDs that you can use to pull summoners from the leagues/{leagueId} endpoints. These lists are provided for free to the community for use, and may go down or stop being updated at any time.\n",
    "\n",
    "https://developer.riotgames.com/apis#league-exp-v4/GET_getLeagueEntries\n",
    "\n",
    "\n",
    "Helpful tutorial for this\n",
    "- pulling specific data from API https://www.dataquest.io/blog/python-api-tutorial/ \n",
    "\n",
    "\n",
    "List of public API's for playing around another time\n",
    "- https://github.com/public-apis/public-apis\n",
    "\n",
    "\n",
    "\n",
    "Other (unused so far) tutorials:\n",
    "- Writing & reading Json files https://stackabuse.com/reading-and-writing-json-to-a-file-in-python/ \n",
    "\n"
   ]
  },
  {
   "cell_type": "code",
   "execution_count": null,
   "metadata": {},
   "outputs": [],
   "source": [
    "# to do\n",
    "\n",
    "#WIP\n",
    "1. Get summoner IDs & names by region, tier & division https://developer.riotgames.com/apis#league-exp-v4/GET_getLeagueEntries\n",
    "\n",
    "\n",
    "# To do\n",
    "2. Get account ID by summoner ID or name https://developer.riotgames.com/apis#summoner-v4/GET_getBySummonerName\n",
    "3. Get matchlist by account ID https://developer.riotgames.com/apis#match-v4/GET_getMatchlist\n",
    "    Can filter by the endTime and beginTime --> \tThe end time to use for filtering matchlist specified as epoch milliseconds. If beginTime is specified, but not endTime, then endTime defaults to the the current unix timestamp in milliseconds (the maximum time range limitation is not observed in this specific case). If endTime is specified, but not beginTime, then beginTime defaults to the start of the account's match history returning a 400 due to the maximum time range limitation. If both are specified, then endTime should be greater than beginTime. The maximum time range allowed is one week, otherwise a 400 error code is returned.\n"
   ]
  },
  {
   "cell_type": "code",
   "execution_count": null,
   "metadata": {},
   "outputs": [],
   "source": [
    "# Notes\n",
    "\n",
    "json.dumps() — Takes in a Python object, and converts (dumps) it to a string.\n",
    "json.loads() — Takes a JSON string, and converts (loads) it to a Python object.\n",
    "\n",
    "jprint makes the output vertical instead of horizontal (better readable for dictionaries), but you need to make it first:\n",
    "    # create a formatted string of the Python JSON object\n",
    "    def jprint(obj):\n",
    "    text = json.dumps(obj, sort_keys=True, indent=4)\n",
    "    print(text)\n"
   ]
  },
  {
   "cell_type": "code",
   "execution_count": 39,
   "metadata": {},
   "outputs": [
    {
     "output_type": "error",
     "ename": "IndentationError",
     "evalue": "unexpected indent (<ipython-input-39-dbed4417a3c4>, line 37)",
     "traceback": [
      "\u001b[0;36m  File \u001b[0;32m\"<ipython-input-39-dbed4417a3c4>\"\u001b[0;36m, line \u001b[0;32m37\u001b[0m\n\u001b[0;31m    url_ids = ('https://' + region + '.api.riotgames.com/lol/league-exp/v4/entries/' + queue_type + '/' + tier_counter + '/' + str(division_counter) + '?page=' + page_counter + '&api_key=' + apikey)\u001b[0m\n\u001b[0m    ^\u001b[0m\n\u001b[0;31mIndentationError\u001b[0m\u001b[0;31m:\u001b[0m unexpected indent\n"
     ]
    }
   ],
   "source": [
    "# ! IMPORTANT ! \n",
    "# main cell where everything should come together\n",
    "\n",
    "import requests\n",
    "import pandas as pd\n",
    "import json\n",
    "import numpy as np\n",
    "import itertools\n",
    "\n",
    "# create a formatted string of the Python JSON object\n",
    "def jprint(obj):\n",
    "    text = json.dumps(obj, sort_keys=True, indent=4)\n",
    "    print(text)\n",
    "\n",
    "# set region\n",
    "region = 'euw1'\n",
    "\n",
    "# set queue type\n",
    "queue_type = 'RANKED_SOLO_5x5'\n",
    "\n",
    "tier_list = ['IRON', 'BRONZE', 'SILVER', 'GOLD', 'PLATINUM', 'DIAMOND', 'MASTER', 'GRANDMASTER', 'CHALLENGER']\n",
    "division_list = ['I', 'II', 'III', 'IV']\n",
    "\n",
    "# iterate through the tiers & divisions - depricated in favor of itertools, maar deze snap ik nog\n",
    "# for tier_counter in tier_list:      # iterate through the tiers\n",
    "#        for devision_counter in division_list: # iterate through the 4 divisions\n",
    "#            print(tier_counter, devision_counter)\n",
    "\n",
    "# iterate through the tiers & divisions - using itertools\n",
    "c = list(itertools.product(tier_list, division_list))\n",
    "for tierdivision_counter in c:\n",
    "    print (tierdivision_counter)\n",
    "    ## hier de page counter\n",
    "\n",
    "        ## creating the URL to pull the data from - WIP\n",
    "        url_ids = ('https://' + region + '.api.riotgames.com/lol/league-exp/v4/entries/' + queue_type + '/' + tier_counter + '/' + str(division_counter) + '?page=' + page_counter + '&api_key=' + apikey)\n",
    "        # save the urls in one doc that you can call to then run the rest of the data from so you can split\n",
    "\n",
    "        json = return_json(URL_ids)\n",
    "\n",
    "\n",
    "# calling the API with the created URL\n",
    "response = requests.get(url_id,[])\n",
    "json_response = response.json()\n",
    "#jprint (response)\n",
    "\n",
    "# check if response body is empty\n",
    "# found at: https://www.w3resource.com/python-exercises/dictionary/python-data-type-dictionary-exercise-18.php\n",
    "if not bool(json_response):\n",
    "    print(\"Awh, it's is empty.\")\n",
    "    ## stop the page counting there and go to the next division (continue?)\n",
    "else:\n",
    "    print(\"Yay! There is data.\")\n",
    "    \n",
    "    #grab summonerId, summonerName, wins, & losses and appending them to a new list summoner_list\n",
    "    summoner_list = []\n",
    "    for summoner_info in json_response:\n",
    "        summoner_list.append([summoner_info['summonerId'], summoner_info['summonerName'], summoner_info['wins'], summoner_info['losses']])\n",
    "        #jprint(summoner_list)\n",
    "        # end of this code\n",
    "\n",
    "\n",
    "# creating a dataframe with the results\n",
    "summoner_df = pd.DataFrame(data=summoner_list, columns=['summonerId', 'summonerName', 'wins', 'losses'])\n",
    "#displaying the first 10 results of the dataframe\n",
    "summoner_df.head(10)\n",
    "\n",
    "\n",
    "\n",
    "\n",
    "\n"
   ]
  },
  {
   "cell_type": "code",
   "execution_count": null,
   "metadata": {},
   "outputs": [],
   "source": [
    "## to do's\n",
    "\n",
    "## iterate through the pages\n",
    "    # pseudo code\n",
    "    for tier_list ...\n",
    "        for division_list ... \n",
    "            for pages ... \n",
    "            if there is stuff in here, write it, \n",
    "            else if no data, stahp\n",
    "\n",
    "## put everything in the right order (tier > division > page)\n",
    "## when done put the dataframe in a dict where the key is the tier+division\n",
    "## fully collect dataset for Challenger (1 division, 1 pages)\n",
    "## fully collect dataset for Grandmaster (1 division, 4 pages)\n"
   ]
  }
 ]
}