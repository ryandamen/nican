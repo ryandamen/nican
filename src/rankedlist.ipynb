{
 "metadata": {
  "language_info": {
   "codemirror_mode": {
    "name": "ipython",
    "version": 3
   },
   "file_extension": ".py",
   "mimetype": "text/x-python",
   "name": "python",
   "nbconvert_exporter": "python",
   "pygments_lexer": "ipython3",
   "version": "3.9.1-final"
  },
  "orig_nbformat": 2,
  "kernelspec": {
   "name": "python3",
   "display_name": "Python 3",
   "language": "python"
  }
 },
 "nbformat": 4,
 "nbformat_minor": 2,
 "cells": [
  {
   "source": [
    "# Collecting summoner IDs per Region, Division & Tier"
   ],
   "cell_type": "markdown",
   "metadata": {}
  },
  {
   "cell_type": "code",
   "execution_count": null,
   "metadata": {},
   "outputs": [],
   "source": [
    "## Notes\n",
    "\n",
    "! Display line numbers by clicking left of the green bar of the cell and pressing L. Has to be done on a per cell basis. \n",
    "\n",
    "Source: https://riot-api-libraries.readthedocs.io/en/latest/collectingdata.html\n",
    "\n",
    "You can also use the League endpoints to get lists of ranked summoners. The positional league endpoints provide a paginated list of all summoners in a Tier + Division + Position (e.g. all ranked Diamond II Top laners). Alternatively, Canisback on the Discord currently hosts a list of league IDs that you can use to pull summoners from the leagues/{leagueId} endpoints. These lists are provided for free to the community for use, and may go down or stop being updated at any time.\n",
    "    https://developer.riotgames.com/apis#league-exp-v4/GET_getLeagueEntries\n",
    "\n",
    "Helpful tutorial for this\n",
    "- pulling specific data from API https://www.dataquest.io/blog/python-api-tutorial/ \n",
    "\n",
    "List of public API's for playing around another time\n",
    "- https://github.com/public-apis/public-apis\n",
    "\n",
    "Other (unused so far) tutorials:\n",
    "- Writing & reading Json files https://stackabuse.com/reading-and-writing-json-to-a-file-in-python/ \n",
    "\n"
   ]
  },
  {
   "source": [
    "## Get summoner IDs & names by region, tier & division https://developer.riotgames.com/apis#league-exp-v4/GET_getLeagueEntries"
   ],
   "cell_type": "markdown",
   "metadata": {}
  },
  {
   "cell_type": "code",
   "execution_count": 472,
   "metadata": {
    "tags": []
   },
   "outputs": [
    {
     "output_type": "stream",
     "name": "stdout",
     "text": [
      "CHALLENGER I\n",
      "https://euw1.api.riotgames.com/lol/league-exp/v4/entries/RANKED_SOLO_5x5/CHALLENGER/I?page=1&api_key=RGAPI-853eea41-c5c5-4ef7-83a6-9855143e7b98\n",
      "200\n",
      "if response code\n",
      "if bool\n",
      "page  1 done\n",
      "https://euw1.api.riotgames.com/lol/league-exp/v4/entries/RANKED_SOLO_5x5/CHALLENGER/I?page=2&api_key=RGAPI-853eea41-c5c5-4ef7-83a6-9855143e7b98\n",
      "200\n",
      "if response code\n",
      "if bool\n",
      "page  2 done\n",
      "https://euw1.api.riotgames.com/lol/league-exp/v4/entries/RANKED_SOLO_5x5/CHALLENGER/I?page=3&api_key=RGAPI-853eea41-c5c5-4ef7-83a6-9855143e7b98\n",
      "200\n",
      "if response code\n",
      "else bool\n",
      "page_counter:  3\n",
      "CHALLENGER II\n",
      "https://euw1.api.riotgames.com/lol/league-exp/v4/entries/RANKED_SOLO_5x5/CHALLENGER/II?page=1&api_key=RGAPI-853eea41-c5c5-4ef7-83a6-9855143e7b98\n",
      "400\n",
      "else response code\n",
      "page_counter:  1\n"
     ]
    },
    {
     "output_type": "execute_result",
     "data": {
      "text/plain": [
       "                                           summonerId    summonerName  wins  \\\n",
       "248   M4SXp1xpyOPloPZ_uuRElVZDJffY8uHaGUW8cl9ImNU3lP4        LLS Emil   117   \n",
       "249  sFDPZOQYKEYRZ-_JgMNcOPy7VWuN2z76VdOLFwChDGs6fyE7          Joïnze   107   \n",
       "250  ERfKaYhH914vk52KK_uAdkVWxSJDIBOc0lJLUK5c6TNfGHuG         Sinerio    92   \n",
       "251   20xSqo16q2FMpkvupb7IJOPgTS34SNzdKqxqLk5FtjSldc0     Jug  Kίng      70   \n",
       "252   Hb2H8ibHMzzrlyHFgr7bXbz8bJ3qp4NQgugp1z-r8gSLPlg   Mike Wazοwski    50   \n",
       "253   kS5Uy7YaZXpxuh6zgvv-KDdb73KRHtUNo0TxoemJg8D5HTE          Sebekx   127   \n",
       "254  VkNwjcdl5yLRaAIpFwQ_r7atCPaHDDTGY8j81kP10ChF7QMu         ψτροφήψ   119   \n",
       "255   Ge0DEzqDfa3dYbcGJWN3DPGn0y7I0kYPljHG6S3R1PrClf8     LDLC Manaty    72   \n",
       "256  nfDdxGmMEYJvwQ0Iup7Wa_0OOAcTTdxPgpmJhsJK3_wLfJ9h    FΙGHT FΙGHT    106   \n",
       "257   kW23wtKQGDMdiM1I9tDh0kqTWXEPZS8N1nkNw3QKns_8OAY     it me sharp   102   \n",
       "\n",
       "     losses  \n",
       "248      88  \n",
       "249      73  \n",
       "250      83  \n",
       "251      48  \n",
       "252      34  \n",
       "253     112  \n",
       "254     103  \n",
       "255      66  \n",
       "256      91  \n",
       "257      91  "
      ],
      "text/html": "<div>\n<style scoped>\n    .dataframe tbody tr th:only-of-type {\n        vertical-align: middle;\n    }\n\n    .dataframe tbody tr th {\n        vertical-align: top;\n    }\n\n    .dataframe thead th {\n        text-align: right;\n    }\n</style>\n<table border=\"1\" class=\"dataframe\">\n  <thead>\n    <tr style=\"text-align: right;\">\n      <th></th>\n      <th>summonerId</th>\n      <th>summonerName</th>\n      <th>wins</th>\n      <th>losses</th>\n    </tr>\n  </thead>\n  <tbody>\n    <tr>\n      <th>248</th>\n      <td>M4SXp1xpyOPloPZ_uuRElVZDJffY8uHaGUW8cl9ImNU3lP4</td>\n      <td>LLS Emil</td>\n      <td>117</td>\n      <td>88</td>\n    </tr>\n    <tr>\n      <th>249</th>\n      <td>sFDPZOQYKEYRZ-_JgMNcOPy7VWuN2z76VdOLFwChDGs6fyE7</td>\n      <td>Joïnze</td>\n      <td>107</td>\n      <td>73</td>\n    </tr>\n    <tr>\n      <th>250</th>\n      <td>ERfKaYhH914vk52KK_uAdkVWxSJDIBOc0lJLUK5c6TNfGHuG</td>\n      <td>Sinerio</td>\n      <td>92</td>\n      <td>83</td>\n    </tr>\n    <tr>\n      <th>251</th>\n      <td>20xSqo16q2FMpkvupb7IJOPgTS34SNzdKqxqLk5FtjSldc0</td>\n      <td>Jug  Kίng</td>\n      <td>70</td>\n      <td>48</td>\n    </tr>\n    <tr>\n      <th>252</th>\n      <td>Hb2H8ibHMzzrlyHFgr7bXbz8bJ3qp4NQgugp1z-r8gSLPlg</td>\n      <td>Mike Wazοwski</td>\n      <td>50</td>\n      <td>34</td>\n    </tr>\n    <tr>\n      <th>253</th>\n      <td>kS5Uy7YaZXpxuh6zgvv-KDdb73KRHtUNo0TxoemJg8D5HTE</td>\n      <td>Sebekx</td>\n      <td>127</td>\n      <td>112</td>\n    </tr>\n    <tr>\n      <th>254</th>\n      <td>VkNwjcdl5yLRaAIpFwQ_r7atCPaHDDTGY8j81kP10ChF7QMu</td>\n      <td>ψτροφήψ</td>\n      <td>119</td>\n      <td>103</td>\n    </tr>\n    <tr>\n      <th>255</th>\n      <td>Ge0DEzqDfa3dYbcGJWN3DPGn0y7I0kYPljHG6S3R1PrClf8</td>\n      <td>LDLC Manaty</td>\n      <td>72</td>\n      <td>66</td>\n    </tr>\n    <tr>\n      <th>256</th>\n      <td>nfDdxGmMEYJvwQ0Iup7Wa_0OOAcTTdxPgpmJhsJK3_wLfJ9h</td>\n      <td>FΙGHT FΙGHT</td>\n      <td>106</td>\n      <td>91</td>\n    </tr>\n    <tr>\n      <th>257</th>\n      <td>kW23wtKQGDMdiM1I9tDh0kqTWXEPZS8N1nkNw3QKns_8OAY</td>\n      <td>it me sharp</td>\n      <td>102</td>\n      <td>91</td>\n    </tr>\n  </tbody>\n</table>\n</div>"
     },
     "metadata": {},
     "execution_count": 472
    }
   ],
   "source": [
    "# Block: [get summoner ID]\n",
    "# gets all the summonerName, summonerID, wins & losses for all tiers & divisions in a region and puts them in a summonerID dataframe (todo:) that is connected to a dictionary of tiers and divisions.\n",
    "# currently uses test dataset tier_list2 & division_list2\n",
    "\n",
    "\n",
    "# importing tools\n",
    "import requests\n",
    "import pandas as pd\n",
    "import json\n",
    "import numpy as np\n",
    "import itertools\n",
    "\n",
    "def jprint(obj):\n",
    "    text = json.dumps(obj, sort_keys=True, indent=4)\n",
    "    print(text)\n",
    "\n",
    "# temp api key location\n",
    "apikey = 'RGAPI-853eea41-c5c5-4ef7-83a6-9855143e7b98'\n",
    "\n",
    "# set variables set\n",
    "region = 'euw1'\n",
    "queue_type = 'RANKED_SOLO_5x5' \n",
    "\n",
    "# create variables that will be looped\n",
    "tier_list = ['IRON', 'BRONZE', 'SILVER', 'GOLD', 'PLATINUM', 'DIAMOND', 'MASTER', 'GRANDMASTER', 'CHALLENGER']\n",
    "division_list = ['I', 'II', 'III', 'IV']\n",
    "\n",
    "tier_list2 = ['CHALLENGER'] # testing with these\n",
    "division_list2 = ['I', 'II'] # testing with these\n",
    "\n",
    "# iterate through the variables to create the dataset\n",
    "for tier_counter in tier_list2:      # iterate through the tiers\n",
    "    for division_counter in division_list2: # iterate through the divisions\n",
    "        summoner_list = [] # create an empty summoner_list for each tier & division combination. data from more pages will go into the existing list\n",
    "        print(tier_counter, division_counter)\n",
    "        page_counter = 1\n",
    "        keep_going = True\n",
    "        while keep_going == True:\n",
    "            url_id = ('https://' + region + '.api.riotgames.com/lol/league-exp/v4/entries/' + queue_type + '/' + str(tier_counter) + '/' + str(division_counter) + '?page=' + str(page_counter) + '&api_key=' + apikey) # create the URL  \n",
    "            print (url_id)\n",
    "            response_code = requests.get(url_id) # access the url\n",
    "            print(str(response_code.status_code)) # response_code is an object, so have to change the type of reponse_code to a string with str(response_code)\n",
    "            if response_code.status_code == 200: \n",
    "                print('if response code')\n",
    "                response_json = response_code.json() # put the response in a json format\n",
    "                if bool(response_json):    ##? I think it makes more sense to pull just a little bit of text, no need to put everything in and then run the check, just put in a little bit and if that works keep going. > looking for code efficiency\n",
    "                    print('if bool')\n",
    "                    # grab summonerId, summonerName, wins, & losses and append them to a new list summoner_list\n",
    "                    ## !!! need to append each dataframe to the right division_tier combination dictionary?\n",
    "                    for summoner_counter in response_json:\n",
    "                        summoner_list.append([summoner_counter['summonerId'], summoner_counter['summonerName'], summoner_counter['wins'], summoner_counter['losses']])\n",
    "                        # jprint (summoner_list)\n",
    "                        summoner_df = pd.DataFrame(data=summoner_list, columns=['summonerId', 'summonerName', 'wins', 'losses']) # create and fill a dataframe from the list summoner_list\n",
    "                        # summoner_df.head(10)    #displaying the first 10 results of the dataframe\n",
    "                        # summoner_df.tail(10)    #displaying the last 10 results of the dataframe\n",
    "                        summoner_dict = summoner_df.to_dict() # converting the dataframe into a dictionary\n",
    "                        # summoner_dict.keys() # returns a list of all the available keys in the dictionary\n",
    "                        # summoner_dict.values() # returns a list of all the available values in the dictionary\n",
    "                    print ('page ', page_counter, 'done')\n",
    "                    page_counter = page_counter+1\n",
    "                else:\n",
    "                    print('else bool')\n",
    "                    keep_going = False\n",
    "                    print('page_counter: ', page_counter)\n",
    "                    break\n",
    "            else:  # else if there is no data, exit this loop\n",
    "                print('else response code')\n",
    "                print('page_counter: ', page_counter)\n",
    "                break\n",
    "        \n",
    "# challenger has 1 page of data\n",
    "# grandmaster has 4 pages of data\n",
    "\n",
    "# summoner_df.head(10)    #displaying the first 10 results of the dataframe\n",
    "summoner_df.tail(10)    #displaying the last 10 results of the dataframe\n",
    "# will print the challenger I list cuz that one is filled last"
   ]
  },
  {
   "cell_type": "code",
   "execution_count": null,
   "metadata": {},
   "outputs": [],
   "source": [
    "# remaining to do for above block\n",
    "\n",
    "    * [ ] create a dataframe that tracks the last page with data for each tier/division\n",
    "    * [ ] when done put the dataframe in a dict where the key is the tier+division\n"
   ]
  },
  {
   "source": [
    "## Get account ID by summoner ID or name https://developer.riotgames.com/apis#summoner-v4/GET_getBySummonerName"
   ],
   "cell_type": "markdown",
   "metadata": {}
  },
  {
   "cell_type": "code",
   "execution_count": 475,
   "metadata": {
    "tags": [
     "outputPrepend"
    ]
   },
   "outputs": [
    {
     "output_type": "stream",
     "name": "stdout",
     "text": [
      " code 429\n",
      "else response code 429\n",
      "else response code 429\n",
      "else response code 429\n",
      "else response code 429\n",
      "else response code 429\n",
      "else response code 429\n",
      "else response code 429\n",
      "else response code 429\n",
      "else response code 429\n",
      "else response code 429\n",
      "else response code 429\n",
      "else response code 429\n",
      "else response code 429\n",
      "else response code 429\n",
      "done\n",
      "[['g2YD33k6-PJP1GXbOomLnunrGgnh43arV_knNEoKSUJk_zM', 'Bg4Ejd_O72GTvMx8IBMyOignD-1eMifVxacJDcXYjvUUZQ'], ['p5yXs9T4RbRCLVMbKQYEIPYvf6SpLnuV06W4lLk4uplyDVs', 'nnRoPXZ-f4rxwFUtOfElmwnmczB8kjPjPZLcn2H9AEy3nw'], ['PKWTXuIqlW-sVxu9giyen6sKtQEGhqMthdOwb2KXKhAMyc4', 'bLa61l1IQywQN8bZ_kD_3cgJyzTqJS4xxByoxaQ8vlnUHg'], ['RQwkFLRLJAA39aI6qru1PE6NIZgztRPU7hR0PLp1Vq09ApQ', 'ccak3NKbEk8r8sVVRNl2y8kRFRpQSgJVXUIL2iGDtcCDOqg'], ['1PnvjdQ8fp9RrXg9pdJMGb00Del3rqwjFqZwHDr6lnzCR18', 'K71CJD8vIGKUzfPA3bUrMb8Y3FueCSNr7oSzAUBKSiUMGcE'], ['MGV5ICWr6QKalToGZ5p-fykdB6I5hXPwi5oig89iuMy6vfgD', 'nNjqpA0y0EiqLA2L0_rfHRoFC7RV4zRHNayHTIDi2gLH_4vTRairGA8u'], ['Ni0KtYINGti4Xvna202thV4UJgq98ABoD-2p6GX2FkB76LQ', 'jcNK6MXCs6Met12ozVU4T59IpCrgwH-S2nDdySbp12WVHg'], ['1BcwUfjWBdBrJcP2Xn3w9GRzVFcERudGzUOW3N0ZZ1AIe_A', 'FhrN1TwOcxc3Jcu7DFNrwnich-e4QxU5FFn3bgdyjLPGxg'], ['_G1CJBv0bslZ-9-anVIyYIXeZXtppcpf5Ci8qEDrDG1Trac', 'yaaOTEigH9oSRlYzKjbAw9XhzMAH7oIlWFsl24vfFDpNxg'], ['XC0i5PmsvYaDEO2yyDfBdlCobFKG1RXJaDe-CHd8CJKukwsI', 'ASNqg5OSyFLO14SCn5g448rmC18mL42gEgRdvE1YT_Y1FzOvPV4pCD-C'], ['6_umUZuI_TMoOdsoW_t_511MvPHqrQMM0zMm8F1noDbhlU4', '6kVn9UjdU-l0mtgBLqETMo6iaD8MWWxZG9ELYhrP9Ea6_b8'], ['JS8aoLcZNbB-8b-De76Cj3JJzrrZpqG_uYjCI-3BX57LRjvMa0Li0Qkg_g', 'pXDDDCk3daGATEeJj5g0ojqkR64gMROQnuNXPX-K8wyxEbHCFvWrGzz6'], ['6MEh4RBdg6bE5jiOXMxH-svQtxXKH9qrqY9AFBgNGZu9iDIH', 'P41DogeiuGcqCr4qOaMaxj6CL5JAYSiUQa5zQ2hftlmwoOw'], ['NPDXHEgKn5bz7_Lgu4e7p15MUSPux1s-9vrzRvV3eSClHb0', 'XWX1eQoKjRDe6kkT1N_0qYuJMhMzHC_UCPB-i6y6MasejA'], ['tyyetAUjlsaHO2LC4Vao0DEQ1SOAK5q5kGfldZLOHRh4ScM', 'pHJemA5RhNPJeXoYp8IIfySqoB5fh-7aJqB5uiIwYMWOyQ'], ['10PtLbQcAYXiYvOpRXSw6twkm5txYXKE2Ob8mebejknkO0Qrqpcs8tn1Yw', 'VcyxngZB4Dba11g3PmruLSuZ_eNV3pWelkIP_RQZXxJDpWRUFZsTHCdr'], ['icQuzrvC6IViMhzPRKW9FxdwTDzJpI6TlgGxSXWnCdUzWLdr', '2HWv5uNdE4g8H7q5sn-WJm_WfqnCy1IcFqiWqJHw26k9R7a4z4AHqXGb'], ['eNbZ9GFebYlMtq0lBMGi91TYQRVk88Hfa2jse9jPv1FIFho', 'YpuFPuoUCRaS6CKEodS7lJ5CxoFSRLIRaxDGl7ttn0C-8_c'], ['sZsK16kBavyZa-g2MW9ohThhLL3aKMXr6eh1hzFKP-d1xzMI', 'kemm2MzV6ud_KOOu6lrALiARRp2QxzQMpxDFBi49EB6DHyi2KqtYW6vE'], ['1Dfh6waYOPr0MPzZwVFkGgftVX30l8ulZMJvkFuUzuRXsV4', 'yFweKMRo0WiPbTWphuaoT146csz6w9UsY8EGCiCFtloJUw'], ['WxvtWxuorzvjPTUSEOpx1jwXjFcZUEYF0kh0epqPE_UWtB4', '7hogWc403Un2qzdHBK9mbu3X3aBbGYEpC4WoxEgblBmaHl0'], ['uDljNbi6-k1bGiXK1p0KwtRSiiNl76KdnmPI5Ze-GwVnwRI', 'KT9JI1LlBVhv0eVns1CRJNViWLq_YgGNZxDkGnwcbloDPNo'], ['cR12RM-JuI3UWQQMdg6wdaYN-bAIQ82KaJs5_KdqZ2UipCrS2J_Kx6BJxg', 'OUccMZGAI1GcntygPuczUfd6tgsyUkhx_w1gwOjI2GkCEHLMDxSch7qb'], ['sgSHDic0THyn9tjZmNhTgj-KMeYehynHkcMfpb-KBs0dcaU', '-3C2TByS_To3dFg_CMTc2yVwaq2zgTlSGSIF1UMbbMknpA'], ['FvfTmXHdqab9abmHe60Jkgzue3ZguJFQX3FkaED9AJyaBRc', 'CZQFsoEKulHpSLoyphSa0vFvWaL6T6gMcnSqLpvP1lncqQ'], ['TDAY4qr0etLrE1hRI2qP65wRH8ouUYbn5x1M-lDeSQ94reqg', 'tOldl7KR60k3Lx3WD3JaofiVzWGnXSSgbPcXNQhPmvsMkMJ91yd1LHex'], ['c_TqvAb6ADjCRFflSpw1x4LWHrLeDJmo-rILZPVfc5YA_VY', 'sdsc6sYkOLP2CdxDt0d5Spb0rUzfLb2SrUCM7AJYZ13E2Q'], ['DkhqOyRIco_t_eCRV9dZIGrEUREFTa6VdUXXHYaEgYhcMGo', '9Dsl-NC1VqCgx0F5QxbGcM3iYB_BVzQ9tTbekRBlmgqNlQ'], ['4-xKNNYpVDbEoQdXnDetPlvyFcijNfPVmbiveHuzRigJDiA', 'j96zr8EHFMFIaSlcR1PHkGvqnXvq5HH-BMUqgoCyx0yvaXo'], ['nMbcW1pJh4idaJWngBLlxEJjjXYZVmvFssDUis5xn8O54LA', 'V8hOik92BYcpNqHgyqnnfaFDgKpEmXcTcRE4RxsNtEufJQ'], ['z4WdKJfnLB00oEl_126sT6D0WecWTut7otMMLwh_EexAPLk', 'BaaAtRfCvMVmMhdyCgwVXQssber5C7IsgcWeNkL9syX42_k'], ['3JnQ_e9qJNTwrTvccEWRVtSbQnqSd1nAUoUYOJh8aYseR2Uu_syaMMPJUg', 'RsKDknzpkbeYQ10AmkiBRRcXdMmgjebtX2WZoFjYth-JLlgvnIgTfDmN'], ['87ftjIWlg_iQwhpQRJw7WxA8-zW1SovVl3IyignPMjvIavkf', '0iL6AmSTJdAGLdwo4hKZ60rHqsd4ff7C9ovTfgfKbm2ziJKM-GN3stks'], ['DLYZo3pXXp2FpcXmwL7mob0fgXYqxL-g4V90BB_7xs2g99s', 'J7pDQRyhuxX-Z-FvJNa-APm3JCtXT_JXEQHlrR3DknBC1g'], ['UG81q0thsy2c_m7rFlEdkSuIhgYiUb7BqYx0j-C22r0FtySM', '-w3KFbqnRBe9LhXyRGqOCvhOb2Z9VyGzvaB9TAp5DO1InljdQ-PwLWts'], ['VY402pHt2ch6k0iZvYpc41O9QEq_EHE-eBSBR4UJULfE_1o', 'kTCZv_Z8x11qnwEYsjC53yI_I3A-9ra8PyCyAI661c7RWw'], ['SHBl8q6miq3UZD6scIWEDHsi0R807uuqx2xOZkD_IS0gkKQ', 'hY0X7ykIvfF2_qsPBudYqpp7bJgT_OS8PKeOBkWUU7kosK0'], ['rY4xWpNGoH98RfALKMKSjdKlxyBDEtRbaC_HhqK8L-IJs-o', 'HLsaO1fc5R7Y3UcwSQDBOfb6ngVzX2k-L1VafoZf5i5QIA'], ['KK9d3oVBHiLl37VtMxsiml3Lixxdkhh1upA3RgUdd2ycz8In', 'qXuH8GHT5sNo7n0_rCN_r0fGhfPFi3VeomPLfK0MqHN9ufwHyqLtfYGI'], ['uWTDKiyYWHVm8u6wwoKbs6vIRWTbhi8X5Qp0SsP5ajp1YWcV', 'lTbnIwtU3osOdMwEkiIAWRV4WAi988UJERu3k-a495MGs1HiFkzslHAY'], ['fLyCobwDu71MhI07Vf4HuHcBZ0dIk37N4PjuTXFPu4E-Df4', 'FS_W3WiADgframzF7BMV0gryf9bWaK_GfZsPFP0L2OZIAg'], ['GlLN2w_LbO2lKhguCLTWY6yjhhheisqAz_ypBHCiohr-xhE', '6vcpY6knMxBKbPsJiCBNUzHB0FVClRkY_FSEXC2BAi_vLcY'], ['G-8FwxuGTjcb3f4Oe_Ij4R09OuMGSwwgviJSgrcm95gp9eiuCNE5UJgxMg', 'ac59FNM65YyfMKbv5i_XPC2zZlcnt5hSg5-bYrD-TIG5XmvvtUsLD8bS'], ['qhkbx1vMsX_xrHn_OoCd3iRKsapL63jOlwWhshyYo_4u7C0', 'Dwlyx1o6O0CtZDX_RLvCwEzBtKzNNZBG8BTpjp8LNK0ZqxA'], ['IbXKyfA076tR_phIT507elC-LUA2AR9O679sn8eo1D-uUpc-RUZ2YaGF9Q', 'm0jcdwgYLjoAz_w1VKQ8ghOcrzZDMukFrN81_NBx9x7mYPPM8XXfv_k5'], ['rsP87_RZpqVuBayn8pAUJVU7tbMv1sOa5l2anMRdTMpm7DI', 'sR9tiYrlc3Zr1bJinvaR2DoveHQ1RSsSTT_aXLiODf6XSC4'], ['mOjZvSSQNZWa1ocFnvn3XM-382dVfph3qQLf4FWqfV0kjqjGzj0x2y2qSQ', 'P3zqvqY_SrWgyb0Sl39TDCnx-Ua8ee5fsOiRNCXL3SUxRgZYlqFjMywP'], ['MICs7l9I3m14bOXKrxUIXJRAjY3bIaPB-dy8i9X-gcDelzwU', 'mKAsnvEfhcQjrjT1g3QrwkgMFXLFQtHbIPMlLl-CoGR0oDdQ9z4xsupP'], ['gqmNCDxNcSoiotAIxdrYgj05ADOJpzKy8BNI7YiBAVh6JqA', 'T8OpvVpOGEp9dJoxRfckMQ9-mE5qXkBSgYQa55v5ekLJwA'], ['ZpUQMxTBeSjEDaYY2MdoZviLXy_ri8odP8WDdwRdEucgkQY', 'Z3yQoeFyiopiAeUUKf42QVRPL92jnfex3dzp7bplxwoOsg'], ['W7v5oA0ZrZqsGQflnflrF1tGFYu0tFTLFQsID4Xm0tkp608', 'LewMa3Unam9R6ffS_RIZgDU7pCvw7gmzKOYCNOU1af53gQ'], ['TJG5BZM4cjA87TcwTJBF_synLS81qQOri160f6hBLS-5WzQ', 't_lO_1Z4RfNIHCkXtIzhiEvCalaFgSmqdy8T28ItRHIOZw'], ['VxFmKgcT54aIVydvodgWVEIOhm4YUzBvWmXjSAaagh4neXCw', 'hn8EeaQZ2yBn2iHZgJJPHphjQuIH5v2Kcv8lZVY8VKWZwVo6PDYiFK2T'], ['00bl6khgOfgx8Pp0Gmao6pL8nYJxt9gWRU2tLn4J5eziWog9', '-ux8ArWCbAbek7ll1Bs3bGSduJglu9yAHt1WcTiPeAVDoER-6k2EDL99'], ['dJssLcrIVs5_kdw7gU8CZIn6OdzzRfnUzQ9KdaMTTACt_wg', 'mFHhDU-2uqzsAcYHKBKZ_5WmhFajUZnQKe_jB9bf4RpjHw'], ['OLoZTuMhsnPfs_Fgfm96RJyfd_RfkzBiwxOvg3BUHmBmz2M', 'd246JulgCQqinNkSau-sA2pEnfYN-LGHaIG7Os1CsfrYtgo'], ['5x_P-vkrVgciYGOAUpqfbXWyiDs4YWFQexp-2X2sxzZvh6ErR-EMjFzkfw', '1NNBBfcJlSw7y7VjZOURTvRL8u5ocSDMjOrvNfQgsijGwFpw5L7Fjgy0'], ['bmu6jAmQiMiwp_za81q1YuRu0XgEOOmhzGmk2RmKJAd0AUk', 'PhiHNhNyoydlYui-EJ3F9qdxiyUOAPOlnBNTyQiYzQKG6zk'], ['jY2m_XhJlQG9-sZ54VfPpZdXt7WwV4V4kEbNNMZ4j6V6SEI7', '30TwTaK-Iw2DlJ3a-QkDyS6AI275ytc6hZYefjiWx5ankWk'], ['aWoG1SE2baZEpw2oj-6xQS3Ha6uJxHlAZMiEimnmYX5y-aM', '-rBKFvzIFM976gYTaeEXNIP7sOdcnf_Lbyrjf6xpfpSWjs4'], ['MaCpRBe5qmJPqWGTqE9KLQwzp51Q9g406EfxjIDYn0RnmAY', 'qgL-EqMyFzqcbE1CkZe3MNJqYbD8IcIDafaCSyVlGcZAeQ'], ['bw5nHcfJPqMrViXE1YIyTIz7H1m6sQeNxzTXap1L7hwYvcc', 'BIUn_nW6vkaP6m1JnjltnFmgROkPEkVSgMuHo6TPrKyQ9Q'], ['LgMee4kHiaCrJ77PeXtyr6rjsMgRjgRrgz-Km7bBvBFSCaY', 'i14zBmzGMtP-pHyuqS1vxbnuR0YUvuc2PS66I_R7LRCwJg'], ['VSU-X6Pgk8HSeDcKjhuurf0rAOA3y1vvp-okUriQc721IhY', 'iFZm0oZoINYNy3r5RwgC6pQR1oTJ4xQd1VfBPPf9tSG6fxY'], ['XEpkGyBKfwDDKS4Z6ABUiqvtK-1BfAEBZbJREZhC3jgDyLR4', 'l1kdH3LUzA_qlmtZ__XB9gyKntzzQnrrwS0_-R_iqWamZznVPDxs7A3s'], ['31riOTeSeXtzREOEX09KH61Iw8jNKApNltKCAHDweQRaCbY', 'Aj4phEXiBsgRqDjONzzlPNAb_YkjJV8UBnG_VptJa1Q0pw'], ['YZxxsgCcBPWsm71qLQXEB1vCtrsN4j7fL1Vdez1KHaD2g7by', 'StBRKM7vmNPWr2m3dICk0rb0iPZMUzvx7W3LdhF9moHlDhWBiHdn9eh3'], ['DBc55qPUhmbWeWmLJranZtva_cROPEbyMjKbmjFa3zVZ1V7nzWeEwCwMWQ', 'xQ9SYFgV7rSbsmAvv6yHmKIF66h6mYCAKXNLUDCBhk9ZngFX5AwhEetZ'], ['hig8TDnsBt_4-XzUCDXMhN53lvhzhZmvZcWGLfmAAEa3szOP', 'neAaMsvnCnqBN9o2qCeZHh6rbde39zRnj0mujh8vE_ehW7HY5q1vLLZa'], ['5iELtXU5-jI_h7mE2OOCPnTOqpyCXySlgeMTyZ4wuzHJ_fGnjfJqquNU5Q', '8qsuUN5YqkDr1tsoVS-7zVbeXQhEIcMrsEB45jwkj6OyVVyYlM60gT6H'], ['5H3DJE3_Ylgo-cuHCQFPRiPJjnypJ3ICSsBvzSigUmG7hpU', 'wfPWNWQG1w9uFR10xMPPgI17gmkC589k7TwfJhzldKJOQ1M'], ['vXlbDTiWTtaoBFwNk2LZwMoWAzc8J_4Birh_lplf45dtOps', 'ebrcIB6ym8ab5jtkiadG_slVyQ7YgjqX6fEA3AWYdp4981M'], ['2bqexLPiP2-hZBXgDHa0_TVANFPQBPYKu-imqgbfMieEtoY', '2M6ODha4tegWbZshlfwaxVq9GHtLv4YtG8LbU-X-_slfIA'], ['ZQGq3G_g9GF8H31Fm6bEk7ImeYENdOTtpGJJDL9iiMAP7K1E', 'e0sG3iJUDm1-rj6XFjT19WvIuFIJ9gwtEye3Kt0xfj0vRETeAsAiFewE'], ['w6Oj_r3pLRtptGVHBfeyUSRw3YyOF1GN_5poCB825UdmELpX', '-TojtMfZDi3Wg80vkzFoWBow6KyxKz0aDa7N1MBdXNDil8I'], ['36_5rg7AWMLWHMa8s3DTFhyfJ9SicMqM3FswLJ8_8BOtrwDb', 'Nz5i_2VE_l0cqbmONWiR_vUZ7tI3Y9tnkG9iac9fNJygZPo'], ['UUCYSgDpWi9MvKdeREWpqwJiK8dDdHw05kZsDPsNKhhmar-x', 'EOoU3CTwKAgTyNwOcb_2EJcyItWu9rzcy-ZoMVHA8CfcfvYA_AIChooQ'], ['4m8hB93wy0R61SVv6i5LdeyLaO_eWz7CLs_X8fO0e10KTmY', 'uud_KcJDocrvocxbMEXOQ8QjcBR7_iOMI8QkgyKn00qV6Q'], ['Yo2g-OPIf9jU-V3MN92VuC73b-BCvZ33kGfDBkaGY0nS_WQ', 'ROGHB32GNmogC5fFle9f1_R05TcIpRYa7EMRLgEVfk9azug'], ['qyLBj6L2bKT4LdfRBa6AqnRcVJCDbb7CmQivSf9FF2CRUsDy', '4SF59cezW5necOvok1OZwnquYybGHyLywQSMmCjKUvwjJ82zacYFiMyF'], ['DRMZFxwI_xESPVEKt9xqVSa6zbAbAfnGnzkpkaTXf8h_W08', 'BmrW_jU7LCFJ202J_QlVqJMiloQxDVTtPzF1WEkbZeUbsKk'], ['9-zSLKeEWmYmKnqlUmcMwR0m0T06q7AbQNriKz71CxMoX8_CADXej8VfyQ', 'nbwpUWsnIaPytKsoKJjaeX2_RyisACeD1GfjEgOeK3ZUDmzWGsS537-R'], ['ceeLaP3k6wVmi5Tgeesd6ELJTRKmHZZLkhbjOuq0OC95-zg', 'ihV9TNsx5W-CQgUIlxT9YlUKe7MkBEk1rnYmHjwO8l_gxg'], ['B0lt9g6tRyT4llIVvEuDITf8PeZXJyNKa4p1nXlL9jxT0G6i', 'ZqEMjQii_WvTiU-10tq3cE9XDYSWkPVeJrx4iFi1dw31PrXA8Gt_xFYJ'], ['oYqE42mzkUi5DamgfhFI17CuV177VTP-TJVB_yfIz4QwURw', 'pfM2-Qm2MbRkF0DgWDDXczcUzWIKthMV-lTGd5XyIl_ApA'], ['juUfacOoa6cczAkByKsBJ8E06ta21v04pHzZeD_HZr0eSRw', 'wL14Uns8wWTH4lPsTx2051NR1F9H7tT3T-pfNulWcQHUXQ'], ['ANjS93WF6BOE1qddUBlyWw9BzxGWt_x6gkZC9xKI8gd2OYPo', '3_0ls8m5deJwY31Ih4CGH-kPDCScx8MFRAPWo6vFMi5QHW0d4aFAPwxT'], ['1jjki5dfO9YWyClfTYOdQLvh75rfkLQeefhbpgjiIM_n6wM', 'gKtyR98A0UzmD0xZNQjGYWmZRcO7nBAAm4creRU6_xWg1rw'], ['xuaowu9D5ClMMyagUn1fb488kbev1wOPbUiNprgWoK-Ap6c', 'Nm0S-X71RGvph1CSr2bn66wOoPf8CKoS3JAMoee8jYnPO18'], ['uvqFsA0LhXIoC-QZ7lGFp4yPFZuy9-1NF4K0JFErQFN7WQQ', '7loAcWAnZ3d3uUDwj7Z779jAMgAFYdsCnumCoSzvtd74qmA'], ['10LAggSXCYMDtfil9PyxqdnzNY07iDSK02dDrZU1LgDPn38', 'IjdjsIp_yLCcvrZhED3mN-vcwvaV6LjqbD9qxH9yYhOCvg'], ['tIfN51-U6xjlfarIyDkIX3Gmzf16f1razolTc5BCdBbULSkj', 'TmL8I2qdnQFu-uZrI7po6dT-JoXYjL40ZwDnsP4hxmTs2io'], ['bDDiTpfZbBJjRUZRfgwB8OVUGSbHAsR1GceLeD1Ekvs5hvk', '5NUN0G9WlONigBVdgHya1ef2ywIrMeEnIuk--COVIHA5gA'], ['5ogMea6HsMM1Qp5mNQfJVh71K4rl2-1s8T-dMT2uk7DzI6I', 'Woka3kSj4TVjt2LRY7WG2ZERVP0eaX8eul-io4E-e51fvsg'], ['UiPFTcpn4YldHShrCfy0DxslLT0TebOACUke8926oBW-bTY', 'yAqyNxzK6yU6IGocEUCdraXggVSjC31hqjG3LLlgHbyLFg'], ['MgHgcrLfSxhxzibj2kbsoVwXFLS3k5hdNX-B6vvFETihyvs', 'c1C4FpNmYNDhZk8egDqRD6-CtGfJPUqWZ-xdEKAXVsgPZOg'], ['UmeIitFOgObP3SHwfnotEatpnSyHGB0sLOUGs0z4gAInaiA', 'fZlLOfYTBSc6GANJBqsAc_wMSaZqWwW-xBtxWzkvX_livg'], ['QAQQuCITf7w2dFHvzmko18sPYnws3k3zoupCxczhwtF_lsg', 'JxkOJIjPVIyWY27iWrsfpOQneISdSZBBMT1YfZfdxoK6kvc'], ['oLAik_JJlG1DadwVRpzWWR8E9EUADogOTEfwnQxdVIf_O14', 'aNpil8dNXH7_BasMHPbcSJ-IY9uXhqENjEdxD1GeFlkSlg'], ['JQGgFyO21mAYbBR1qQeyok4-HAFhsnzcVLp4jCixkPIiac4', 'PoOOtSuG6LjBQRjcIJwFZpsRax8ZhO_gDD2Ekyk5BtVXbFs'], ['TxKMWQSQVrtH58Efz641AsN0_bWyRAhUoeVAmWh0KW8YBv23', 'eJRxoH6WhxTmqNBj00MIENnmBTKyw4A15NRuimToRTHU67kPqVGP8VVN'], ['r31sURaWZ2ZN9Q1VdhLg7JeWCKVdfHxcjmHekwxsS-VBRQE', 'd1UfjRjRl0MunD0uE0x11aIMKSvvrHPlabL-yYRKCmiXkfw'], ['LfBuc5f_gg__gKsmcikxArE2SC2qyGzooRqATnl5Nj1kl9Q', 'pNJuh698FAWB263hG4p5ssusiHhXdDxdn9w5NQQ_eYWDhMA'], ['JANivBDJV85rY2A1WbhuXEhkpPxeCKEjcLfXgRSTJyxo6Krv', '7soeWb5BjQhT5OWw_bdQL7nDMybQolGv2WtQ4PH_TO2myjfmr8xQpd-n'], ['clmNCMtklhgiDnBhLgP5XyqbSyXnmICe0fx7hQpON1Wd9mM', 'jXMrM5Kw3mfLSYq_17aegJt4epaG4CAmgv5crXwdy8SN5Q'], ['-StKP4Bw06PhytWxpX6GT4uUSqA8xlqQIM5Xcy_f1ma3BnNw', 'e1hh07LfB-C-Ihj6BLtfzs4LzmXrY_RfO-2dAYjHY7AxppUqvaZKfQ7Q'], ['xLQvMZLCk8uyn3EFuP88rSBwpFDiRCju23-77QofHxhbcvkJ', 'AlBBI1U1SsV6U8en6KE6yMF0_Qy2-7-7pAoDu1Gp6KrmdUY'], ['bFT5bztpfwOd37HvL3t3Mh87Lt7otdQys8l3vEB3ACj0gHE', 'wSkCOOnzLHme_l4EFKjWR9tis8lR9cWhYqr_jpdGbrUk_w'], ['pmsG88xpJQi1w-zs3DcEPVw5AYhImsTaWv-droF0OzKlFuMA', '7W8ZMevN_6T41ueHd2KlPpIHQhaZlgEusXvKe_gmxLZUgw8HWVFkgK9o'], ['e_7ovyMGDEBAhDTAw297bm3ilmqFHQhnYqUtFKx9pI5N-zEb', 'HGM8AaDCpuckwwds2kUstHlLNGXRmo4BwzyUcTQDbstFbv8_7fft_1Hz'], ['yIejfdLWttTQL0GqEuHUieRKrfn25-XiRdcW8yMdpb_zNb4', 'c4AVGy5wt-W5cANyiVRZXytRtnL6T6cxWZFd_BUnAmv---g'], ['kIpvexMY-zi2QwTr5F-ZHbd4RC1RqIB55Xb4sed2B9X9w0s', 'mRF5N0pdR9vuHmkqYNOEjHZqjkXh5rK31zz2_bVXrYfZHg'], ['GtWgID6aW6boEXwrB-gYtM-aev1n_kw-1IxPeA3BebIdm_4', 'd3hj6K5LZ0TN6WaYzi4kExilaE-HXQMIjoHEEOtOzrA6AA'], ['TWmbP9qwc1k9iS8hl3YP_301hye33uJyHTOFrLImdKjTICA', 'rvH8UoOk9aYU1jUruNUe_9XhO8usV2m2jltp5lre8kZQaQ'], ['xI1ySVCusGWOLlfbS2d4SdrIBj8kaREIW6YLQdAi-LqXTHQ', 'C2QmGmfm0E3ZrWhlgOs3Bke9WnF3odwTKMk-eWZAwHv15w'], ['9pMnO1N42BZqFnvsSULDRshda-QFtYqt2KFm45TAK6yBz2hg', 'qAVCtmTr61y-yNepXPI9_Bkmn19xmQjZyghGK0KuammritE'], ['ghB08fBpVTa3VxnIs1DjwS3txfgp9Ib8EFy5fMPPN2EEUhs', 'uMyOAkhLKWA7FUFX9RE1WWTWQy9aQLoK6z2hPdf8kf3CNw'], ['QrlEWugL0H52NbO6HCLSJU0It5LPYSmmUzvTMfl0W8X4W9A', 'VQXjsUldRLvIFXQdouoJMzVxPQfTpwVgtYJNn87kZF9HSA'], ['NYo5tOSM-TLQAt1EkLD7RoOq0baGtSkCJaPiFbjfX2YBFz0', 'DnHki6RxapJeX_AwSLrUExZ-q1fz2rmbTdOy7uwFUnXiE4U'], ['0oHxgR7A_T9SlhjQP-ypvb7F6V2kH07PB3RUaPVorTMh-avb', 'nH6SfFoZ9BL1xYuFj5YtkcOUf72WZN-d8fbbVjaLI3reF9oULNjU4nI5'], ['R2R5IFHfORxW4MrGCzD6siPp1xfrHQH7uhAZ_BhkRL6tpkQ', 'uWc4Phct2ruELOPVeILTv-2d0uMaF_AWK3ylciXxIAUY71Y'], ['xJ7pLCyPl0VYiycqBP-v2hCNjigRHIHMxyKKSXNh2HYxC1CE', '0CQe9jLhp9H4cS5KgQI1hc25tyR_8fjtgHJy68LkgJBRdaO6QZ6j8AyB'], ['ArFoVG95uhpvW6nGY_v4ryVmkMr27QSX1yCChoSum9LE1LF1_N1PPLqYxg', 'xKCsGle1EcO85NVX2CYTPNY_NY86DgGZy62lMKEdQjpqjaoa0540wnZu'], ['qG4uV9b3JEhEGaTZZKMOXV5Bw_CeeBJn10BdQufjY5fK39LM', 'G3JqFRs-tzI2gbLm5YpQq8nAPRQjEyuUle888h76kQYbnhGORXaiCBKd'], ['i3PA2hwpd0Tro7xLlAL4hMwqtUbwVZz1-rakATxeGQh_2l-A', 'htyKdF3R4Jm1XGD_6BEbOmF3BsrYnhlCOTWzzOXpE7X8o4jcuiBHGcLf'], ['HvFenbgJucUtWnBqZls0_S-xo3Z6U6QdW-TOizjT0xpQ-x0', '1vFN5yS0vaK8v1cQ1oKhajVOA82MAgFD-USVNAX66hOOjQ'], ['hVxbyPdkC4Hw6wiAUMbm8chUSYvC4BAMJnai9DMu0mQsWPo', 'Nc3zwl5RfkwvH2JDj3a6jLl1VS1o2p2atVcCzuTKFLqre8Y'], ['SNHdZnrqSf1zMC77C5kvPEZpt64jUPQf-8yJ2Hi6I0G55LG5UsCCUE59gg', '8_jupt7n7ft7sC574GwKqn5vYhpmAYu97Hw9ThkaDJxznWV3IPMdpDhs'], ['C7WA-gmU1wpaTe9TYssLoF7vLDAJPkiywkTFxGWhyG5KKUE', 'Y7nkEBkhDw6k3KbyX1z7Gb5r88A8Faqvcu5dV7dDkZ0DfNA'], ['0IIa6lC_1tbFMVKnFWc_af5eBTgLdqj0Wsban7JgzKAB61xkAKZaEeufgw', 'IyDHxqer7vnciZAloeZbzdBbA43Fvk-h2vBAxmlN-Zwsn_ZGtbVgK-qV'], ['eQJirSs-scfUoAbGWIVQflKrLXyG3kB9C8di9UL0IGV3nVM', 'o75xG5eKyUjqLYPpemf0_gdrYHLbDFDsOP_9Hfq3Kn31dw'], ['hUF-3ILKv69oYIVYaWErL-q8FoHK8OMPzRHRGqolVL8aBDFU', 'rQgvwrXdqnQUbyr84HklgME8C2q59aTKpXF4wGAfeVMzeRBjOi9HIt7U'], ['PNVZtjk0Di87DPDyTdypIeODsZqtnmt22JB_Xh2dGy45ovpz', '3MaXDvr7gqT1NA4m2_9Jy24tfCSF1xLijfXNWt4N0fF9pLxhHQyaOlO2'], ['YRT80INRDtjP0RYbSLL0Wku_2tQTQ_5QlLMGJWKMPd3cufE', 'V2e7Z8n6PjDY2muJD5DKKT7zLFec0PFCNTikvEQmVWh3m_Q'], ['GUS-fcstw_oD7kL_AXyq97yms4Fi48q5eEHfUHwOLOa2810', 'NBGD_RpoFJxXDMYfNdFykDpKuYrHwthNWRmZ2VWZ9uXwAGg'], ['It-aZCqpVFbyNmC17UpKrvPt5Ho8Ej2eg5BieC-UuJhU4ujj', 'sEuzpasB8g2uEjb2aA60j8d5PBk2A1RXP1tuJpj757vPtY7KH0mlA0pd'], ['2oB3jZ0dwB6LT3XElSUASFa0rflx4WFDRH5Wi_cuuFmiYII', '2ERqgeo3S1Sae7hR_iEao8mhygTJALO7bBtfIv2qRWzeJA'], ['_ETla5Ljs6HO9P6hzu7rZR4uj7nI64E6_Hp08MP1y9-G9ADi', 'xtrj27v3JT591YLyBucbcUEQ-suMzud4yJSuYBjIIQXtKvg'], ['yraQKtWC1XwO9V_uCZazolRKfP4_B7P8LV1GoN9U0VP09_IL', 'ky0e2q0v1gwtNi754rQh9-YByPPNG_SKR1MDsPnQ6BNXJuC3kkgg303M'], ['7MetXUv1erWPLAtFCUvjHTju8s-73CxXWtAChktIwmQrGVs', '2KCxYg8srXnlx3Fp-h5RUQurpFPKDOwx6GRNdOelvURKVA'], ['t_a3tZhNM0LmHIivTHjNLDpX4KpxxKk0eYzaEb7RfHxYlS16PDi2yuQkbQ', 'Ro4AKvVmToJErb7RO0kbd_YZkXOyVQ8Lt8NV_jOClxz0f-LR7NMqDR66'], ['_e8wfc1kpUiQteA3B7Nsk9rqPugbDHNkRz7Y5jdxjxm5kvlD', '8ayPIjdtXSd4b-9nUJtP_vWjC9xyLW5B0HqO7OKnQRsozyI'], ['dC_v2Hiv4GxVC7UCnb1n9K_xBone_JVZ7ovfTDJtVr0MY8Y', 'rTqynaRWA6zNWffOio5iMryr0gPEE7gY4YyeGRZ49HXcag8'], ['MCQQdL6xWEWFxut2VNYm46OgmOarMH8OhrSYluLA0Gd2H4gW', 'J4ypjXNEKMXjkqbT-24szmmkfVyS-CyLVRo6tS8rH7H2cvw'], ['JSStFs5-h0lrQ4aYvdNoZp0q5lKFOjaLFU2Mds4g6-EWgqA', '_DWL91lxf-c835LlMKQlnuKfswJgqqp7FHaJkSymgAlH6g'], ['RvGaGQRRhPi5lwyW5UE9Jhmc-W3ZHFRzzuoH9DZAb1x1T2Q', 'Es4YR7IJ6-QObt1owi0-NHNn33sWXFrdGjKCZhi23Sesxek'], ['dJVpy0Ehy1bhLq3iKQ10LUuLvzCjOzu70QSEbOFchsHJwGBc', 'q7wAR78DXAGy4ITdqHf_3hBh_l2qO2oJ_NFxmNiwgW4fPZsItIkC1ujw'], ['8JYly0Uh74EQAUPJLU6cnOpOugFdIZ1IPUbEBooGS5zxyM0', 'wQrb1VzGtZHAhq9oTJUdrUgdDEelNzMSqKqSiqu2UXLrPN4'], ['R-h-XJ-FpEv0FeqrOoY1d215f3vqQ5qf16wysuKIEppANEE', 'ybjYduKuQTKDl-ja6L2Eu6kw5QmNd7ekvf_syG2i13X7jg'], ['qdkw6JyELVK0Zq_yN2YBwYMhMzfsdTjfc_KQws5M6T_agRQ', '5svaZHlmHVzt0edY4b4NSQfb1Q0_8oyNnbVCErC4Ocv74Q'], ['QlrkoxB_dM0ezhW1ynK2INot-qDyHLeQ1eyIjYtswHNKWDo', 'hEac6PaGvjrWyL2ELZGvJkYWYohx8LvlXecwlGRvK1JboRQ'], ['ahS60Ohd7TsituN2mDKuKFn-PUXQHyaPjBDlKkV7tUrTm5Kx', 'LE-Mwxv09XPyxZJBFdAehxDbUUjW34MIa38yJQghKEboz2I'], ['IV9T0fLJ95oS2tMHvjE0PXop7tXv9NACbM9mmL54sCRJsUhfkQWYb8Rxxw', 'yJoSHiDScGMsCEaJMAinbIPFw1bRgovMxf-TG3LpxqWMsHMIPyzmrfnO'], ['uTlf5of3yz847K_wugU9T5Rftvx_drPjxdDWloKF_mTN26w', '9Kb3_ub96KQrXScPYGy3nViPc4QS0klxSex5Tg4ef8VqRA'], ['nB7JEYlCUqtIdQo9LAa-Xijn1rTJikB0BMUEPL7TbY007Wk', 'GQFjfTcQMjGSxpHBvqAUcQspOREJZ2BOjhx-2RMsKPVU5Q'], ['wgqNkMgJYdBr2gHf7v03tCa8VUfdeqPLgmxHI7rILNe_xOE', 'EC7FOcCGLZYp0embynw8Fnavwnr76yjVxIYl3F0ltsyRWw'], ['s-FQAoB8tfxNO1RRGFmAuWQxk0Rm_HOnG6Arx80Q0g_8BOIE', '9qsBFzbDT-9Vj0CnoAoBxb4n6CuLS9-SFBN7Lwi6Xpa9bQObZYM_3bXK'], ['t1PBIITed9AOTZPiRMXvsHtinifVaT1IUlliuEhdqhY-3iyz', 'mxRTg3hHvh4nJQ6pwj8uOiVCPrXMIXyCYicGXxFyxOSHbiw3j0rAuYbH'], ['ZqQTfMZEYhu7sHaIL0KU1XDT7MqgMCsahF-Il_ATBH9ROfFs', 'Az1Uv0SNtqBKQ0cwbVIDefOPl9Ndf66zBsSK0q0Nprr-gODSyP4wzbT0'], ['oM58xFw4ljuuudtqlvulrni58v16XMInAHpSH3rCSbI4oLND', 'a9rbh_rhKDKSWXtBTvtFkUCVJiW5Ivc3Fy9j7jo0HXoHxHsXTGvQt3D1'], ['qA5Q6ICjAVwMXHmkUpsdH_RLC0ZdApPRT6Tg3j1kEtlollU', 'Vc3t8GTHf6YgCrWDKu255GmLkkoNDuFnApvbul7FVay6aIs'], ['wc5aAZyfkFXf41weA8tAFDrlsOzg-ltGSORCxGhbcrGwaXQ', 'f5wuYR6ldxV9x9LKYVljj6v875nU1DWQ4LHtaIpp0yXI3NA'], ['B9-gKqCqHuaChRtYQKJae6J5wZaIXbXtYqZzunl9i3xeoZ6LjylvbuHOyg', 'XBsycutyv35_8mrem9xsclB_dtHxDc27nrq_oYjzzTeXU1FxeIHn9E_8'], ['xEZGSqK5qO-YRuoynItxaA7MnK8EYzzWxSegU7X3BPipmw9V', 'FjFpJWWz9Q962RWoHmzS_ViQyxCTPiF711vAOU2NCABy0_F3b1WoZxPj'], ['cdvzhfrRKieR5Ok5y80GbdoQmnS8jmyQMrBFUpML7hdaolp4', '9BOTaVcrbkDUQz1wETBz1nKYf9MhG-ujKEwZMZ9fz9nXrLt8TDV3qwk8'], ['fbnyMHJuK72e9sAyDrgIrKHxuSw6Si9jvO95MGV0c7qHaDk', 'fNZ8GfyrAnLvopGZO99yeMPdeOwO9Prp9m8FzgfBws9VYw'], ['CCP1TkHz6cHBbJo-dUhuzKunncuCWIyPKgZXZMa3pt2DH-w', '3J-kWOeAYiwjfqH0ZRyrpnawrHjHj93jVbYeS8YDDUs1Rmw'], ['lewHPgKlr2iwG5ruhaNOmJMkSKu4oJIrPExfLvajYNT8P-cx', 's6GNlrpJ_8sI79odf4IOdeN9dmOx-H6MtC4EXfJwsscJpyYt09ndqbel'], ['vdwntetXEs1vF8UfKq1jpXqwCmBDw6bGSKBfWJW0qVKboWVl', 'xhYL2DP2bfP58-EYZE9AZKVSsVxDjc-Okk8pq9OS7-GQ6391K0-eS_Vz'], ['B3FEe1m9uXmGEygEGQUw0-v-T_kEpaegIKIdmdoUa5JaDgQ', 'fwlJYh3xwNRoZJ7PueMASYcp4ABu0PNoueGIkglTSmc3aA'], ['-krjtRRWfBEYEP2d1UtQXFlvtGVlvE334J5KTJt1Ybj_QA0', 'i3wUm6sjCy_PzpmrVwdeEjRReoxRJHNSRoBT15NkM7qij-g'], ['_nnxSOU6LBBGGpZE-kT5uLmdSOMTZ5IvRiDV-fVqiZbiP88', 'y8Ft71a2dixrlymLsnShu5gtEmeXDu420_JrVscc-P28ERc'], ['M4SXp1xpyOPloPZ_uuRElVZDJffY8uHaGUW8cl9ImNU3lP4', 'c9T7SQdVTuFl4Nsf5hk3XrshFlKnIjNZG76NAvdo43wi5FI'], ['sFDPZOQYKEYRZ-_JgMNcOPy7VWuN2z76VdOLFwChDGs6fyE7', '45I_nK48unK9qCBR-DOVd6Nkdrl9PzcRsdgwrdnmCQLzHmD2juOZieR8'], ['ERfKaYhH914vk52KK_uAdkVWxSJDIBOc0lJLUK5c6TNfGHuG', 'Pr3ctAcQGJeVc3E-zwqLTXw_dzInT2-zDA9gkk7h6eVMOG8'], ['20xSqo16q2FMpkvupb7IJOPgTS34SNzdKqxqLk5FtjSldc0', '3KqHXj5UIOXj-w_5O7r79mSZjgYHSoDX6L4BsHIxwAxol5c'], ['Hb2H8ibHMzzrlyHFgr7bXbz8bJ3qp4NQgugp1z-r8gSLPlg', 'op9YGLYOUHXyldXvI0AaBoLwSSHIgRlK4jQ4Yf8ZMgLfZO0'], ['kS5Uy7YaZXpxuh6zgvv-KDdb73KRHtUNo0TxoemJg8D5HTE', 'Ynsyz0tv-QxFxQwMY4eLv1oosM5NbiVe_xz7BeuS4TLYNr4'], ['VkNwjcdl5yLRaAIpFwQ_r7atCPaHDDTGY8j81kP10ChF7QMu', 'JfnSGxWO-Aicygncl7ME36qfsEZfaaa-3izyfP2214ziAiERQALSLF3g'], ['Ge0DEzqDfa3dYbcGJWN3DPGn0y7I0kYPljHG6S3R1PrClf8', 'Pn24Ta5qvguJdqNBCFsSHm0qBKkSMautmD5pvGz3yy72sg'], ['nfDdxGmMEYJvwQ0Iup7Wa_0OOAcTTdxPgpmJhsJK3_wLfJ9h', '5egf0sV-JFu3Wn1ylPxUaOzYwPgpS5DTe5_gFQCOvSoT7Co'], ['kW23wtKQGDMdiM1I9tDh0kqTWXEPZS8N1nkNw3QKns_8OAY', 'vjqvqZkaDn9OndI1HwNtA03X9Lmqbp5ovChQuA76YPKCWw']]\n"
     ]
    },
    {
     "output_type": "error",
     "ename": "ValueError",
     "evalue": "Length of values (182) does not match length of index (258)",
     "traceback": [
      "\u001b[0;31m---------------------------------------------------------------------------\u001b[0m",
      "\u001b[0;31mValueError\u001b[0m                                Traceback (most recent call last)",
      "\u001b[0;32m<ipython-input-475-dd68b9d034b0>\u001b[0m in \u001b[0;36m<module>\u001b[0;34m\u001b[0m\n\u001b[1;32m     44\u001b[0m \u001b[0;34m\u001b[0m\u001b[0m\n\u001b[1;32m     45\u001b[0m \u001b[0;31m# append to the existing summoner_df dataframe as a new column at position 0, named \"accountId\", with the list account_list, do not allow columns with the same name.\u001b[0m\u001b[0;34m\u001b[0m\u001b[0;34m\u001b[0m\u001b[0;34m\u001b[0m\u001b[0m\n\u001b[0;32m---> 46\u001b[0;31m \u001b[0msummoner_df\u001b[0m\u001b[0;34m.\u001b[0m\u001b[0minsert\u001b[0m \u001b[0;34m(\u001b[0m\u001b[0;36m0\u001b[0m\u001b[0;34m,\u001b[0m \u001b[0;34m\"accountId\"\u001b[0m\u001b[0;34m,\u001b[0m \u001b[0maccount_list\u001b[0m\u001b[0;34m,\u001b[0m \u001b[0mallow_duplicates\u001b[0m \u001b[0;34m=\u001b[0m \u001b[0;32mFalse\u001b[0m\u001b[0;34m)\u001b[0m\u001b[0;34m\u001b[0m\u001b[0;34m\u001b[0m\u001b[0m\n\u001b[0m\u001b[1;32m     47\u001b[0m \u001b[0mprint\u001b[0m \u001b[0;34m(\u001b[0m\u001b[0msummoner_df\u001b[0m\u001b[0;34m)\u001b[0m\u001b[0;34m\u001b[0m\u001b[0;34m\u001b[0m\u001b[0m\n",
      "\u001b[0;32m~/miniconda3/envs/rito/lib/python3.9/site-packages/pandas/core/frame.py\u001b[0m in \u001b[0;36minsert\u001b[0;34m(self, loc, column, value, allow_duplicates)\u001b[0m\n\u001b[1;32m   3757\u001b[0m             )\n\u001b[1;32m   3758\u001b[0m         \u001b[0mself\u001b[0m\u001b[0;34m.\u001b[0m\u001b[0m_ensure_valid_index\u001b[0m\u001b[0;34m(\u001b[0m\u001b[0mvalue\u001b[0m\u001b[0;34m)\u001b[0m\u001b[0;34m\u001b[0m\u001b[0;34m\u001b[0m\u001b[0m\n\u001b[0;32m-> 3759\u001b[0;31m         \u001b[0mvalue\u001b[0m \u001b[0;34m=\u001b[0m \u001b[0mself\u001b[0m\u001b[0;34m.\u001b[0m\u001b[0m_sanitize_column\u001b[0m\u001b[0;34m(\u001b[0m\u001b[0mcolumn\u001b[0m\u001b[0;34m,\u001b[0m \u001b[0mvalue\u001b[0m\u001b[0;34m,\u001b[0m \u001b[0mbroadcast\u001b[0m\u001b[0;34m=\u001b[0m\u001b[0;32mFalse\u001b[0m\u001b[0;34m)\u001b[0m\u001b[0;34m\u001b[0m\u001b[0;34m\u001b[0m\u001b[0m\n\u001b[0m\u001b[1;32m   3760\u001b[0m         \u001b[0mself\u001b[0m\u001b[0;34m.\u001b[0m\u001b[0m_mgr\u001b[0m\u001b[0;34m.\u001b[0m\u001b[0minsert\u001b[0m\u001b[0;34m(\u001b[0m\u001b[0mloc\u001b[0m\u001b[0;34m,\u001b[0m \u001b[0mcolumn\u001b[0m\u001b[0;34m,\u001b[0m \u001b[0mvalue\u001b[0m\u001b[0;34m,\u001b[0m \u001b[0mallow_duplicates\u001b[0m\u001b[0;34m=\u001b[0m\u001b[0mallow_duplicates\u001b[0m\u001b[0;34m)\u001b[0m\u001b[0;34m\u001b[0m\u001b[0;34m\u001b[0m\u001b[0m\n\u001b[1;32m   3761\u001b[0m \u001b[0;34m\u001b[0m\u001b[0m\n",
      "\u001b[0;32m~/miniconda3/envs/rito/lib/python3.9/site-packages/pandas/core/frame.py\u001b[0m in \u001b[0;36m_sanitize_column\u001b[0;34m(self, key, value, broadcast)\u001b[0m\n\u001b[1;32m   3894\u001b[0m \u001b[0;34m\u001b[0m\u001b[0m\n\u001b[1;32m   3895\u001b[0m             \u001b[0;31m# turn me into an ndarray\u001b[0m\u001b[0;34m\u001b[0m\u001b[0;34m\u001b[0m\u001b[0;34m\u001b[0m\u001b[0m\n\u001b[0;32m-> 3896\u001b[0;31m             \u001b[0mvalue\u001b[0m \u001b[0;34m=\u001b[0m \u001b[0msanitize_index\u001b[0m\u001b[0;34m(\u001b[0m\u001b[0mvalue\u001b[0m\u001b[0;34m,\u001b[0m \u001b[0mself\u001b[0m\u001b[0;34m.\u001b[0m\u001b[0mindex\u001b[0m\u001b[0;34m)\u001b[0m\u001b[0;34m\u001b[0m\u001b[0;34m\u001b[0m\u001b[0m\n\u001b[0m\u001b[1;32m   3897\u001b[0m             \u001b[0;32mif\u001b[0m \u001b[0;32mnot\u001b[0m \u001b[0misinstance\u001b[0m\u001b[0;34m(\u001b[0m\u001b[0mvalue\u001b[0m\u001b[0;34m,\u001b[0m \u001b[0;34m(\u001b[0m\u001b[0mnp\u001b[0m\u001b[0;34m.\u001b[0m\u001b[0mndarray\u001b[0m\u001b[0;34m,\u001b[0m \u001b[0mIndex\u001b[0m\u001b[0;34m)\u001b[0m\u001b[0;34m)\u001b[0m\u001b[0;34m:\u001b[0m\u001b[0;34m\u001b[0m\u001b[0;34m\u001b[0m\u001b[0m\n\u001b[1;32m   3898\u001b[0m                 \u001b[0;32mif\u001b[0m \u001b[0misinstance\u001b[0m\u001b[0;34m(\u001b[0m\u001b[0mvalue\u001b[0m\u001b[0;34m,\u001b[0m \u001b[0mlist\u001b[0m\u001b[0;34m)\u001b[0m \u001b[0;32mand\u001b[0m \u001b[0mlen\u001b[0m\u001b[0;34m(\u001b[0m\u001b[0mvalue\u001b[0m\u001b[0;34m)\u001b[0m \u001b[0;34m>\u001b[0m \u001b[0;36m0\u001b[0m\u001b[0;34m:\u001b[0m\u001b[0;34m\u001b[0m\u001b[0;34m\u001b[0m\u001b[0m\n",
      "\u001b[0;32m~/miniconda3/envs/rito/lib/python3.9/site-packages/pandas/core/internals/construction.py\u001b[0m in \u001b[0;36msanitize_index\u001b[0;34m(data, index)\u001b[0m\n\u001b[1;32m    749\u001b[0m     \"\"\"\n\u001b[1;32m    750\u001b[0m     \u001b[0;32mif\u001b[0m \u001b[0mlen\u001b[0m\u001b[0;34m(\u001b[0m\u001b[0mdata\u001b[0m\u001b[0;34m)\u001b[0m \u001b[0;34m!=\u001b[0m \u001b[0mlen\u001b[0m\u001b[0;34m(\u001b[0m\u001b[0mindex\u001b[0m\u001b[0;34m)\u001b[0m\u001b[0;34m:\u001b[0m\u001b[0;34m\u001b[0m\u001b[0;34m\u001b[0m\u001b[0m\n\u001b[0;32m--> 751\u001b[0;31m         raise ValueError(\n\u001b[0m\u001b[1;32m    752\u001b[0m             \u001b[0;34m\"Length of values \"\u001b[0m\u001b[0;34m\u001b[0m\u001b[0;34m\u001b[0m\u001b[0m\n\u001b[1;32m    753\u001b[0m             \u001b[0;34mf\"({len(data)}) \"\u001b[0m\u001b[0;34m\u001b[0m\u001b[0;34m\u001b[0m\u001b[0m\n",
      "\u001b[0;31mValueError\u001b[0m: Length of values (182) does not match length of index (258)"
     ]
    }
   ],
   "source": [
    "# Block: [get account ID]\n",
    "# gets the account ID using the summoner ID and adds them to the existing summonerID dataframe\n",
    "\n",
    "# importing tools\n",
    "import requests\n",
    "import pandas as pd\n",
    "import json\n",
    "import numpy as np\n",
    "import itertools\n",
    "\n",
    "def jprint(obj):\n",
    "    text = json.dumps(obj, sort_keys=True, indent=4)\n",
    "    print(text)\n",
    "\n",
    "# temp api key location\n",
    "apikey = 'RGAPI-853eea41-c5c5-4ef7-83a6-9855143e7b98'\n",
    "\n",
    "# create an empty account list\n",
    "account_list = []\n",
    "\n",
    "for accountId_counter in summoner_df['summonerId']:\n",
    "    #print(summoner_df['summonerId'].head(2)) # print the top 2 values of the column summonerId\n",
    "    url_id = 'https://' + region + '.api.riotgames.com/lol/summoner/v4/summoners/' + accountId_counter + '?api_key=' + apikey # create the URL \n",
    "    # print ('url_id', url_id)\n",
    "    response_code_account = requests.get(url_id) # access the url\n",
    "    # print(str(response_code_account.status_code)) # response_code is an object, so have to change the type of reponse_code to a string with str(response_code)\n",
    "    if response_code_account.status_code == 200: \n",
    "        # print('if response code')\n",
    "        response_json_account = response_code_account.json() # put the response in a json format\n",
    "        if bool(response_json_account):    ##? I think it makes more sense to pull just a little bit of text, no need to put everything in and then run the check, just put in a little bit and if that works keep going. > looking for code efficiency\n",
    "            # print('if bool')\n",
    "            response_json_account = response_code_account.json() # put the response in a json format\n",
    "            # print('response_json_account', response_json_account) # print the response body\n",
    "            # print('id=', response_json_account['id']) # print the summonerId ('id' in the response body) from the json response\n",
    "            account_list.append([response_json_account['id'], response_json_account['accountId']]) # append the summonerId and accountId to the account_list list\n",
    "            # print('counter=', accountId_counter, 'account_list=', account_list)\n",
    "        else:\n",
    "            print('else bool')\n",
    "    else:\n",
    "        print('else response code', str(response_code_account.status_code)) # response_code is an object, so have to change the type of reponse_code to a string with str(response_code)\n",
    "\n",
    "print ('done')\n",
    "print (account_list)\n",
    "\n",
    "# append to the existing summoner_df dataframe as a new column at position 0, named \"accountId\", with the list account_list, do not allow columns with the same name.\n",
    "summoner_df.insert (0, \"accountId\", account_list, allow_duplicates = False)\n",
    "print (summoner_df)"
   ]
  },
  {
   "cell_type": "code",
   "execution_count": null,
   "metadata": {},
   "outputs": [],
   "source": []
  }
 ]
}