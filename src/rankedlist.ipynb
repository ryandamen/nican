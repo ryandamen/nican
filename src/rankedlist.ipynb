{
 "metadata": {
  "language_info": {
   "codemirror_mode": {
    "name": "ipython",
    "version": 3
   },
   "file_extension": ".py",
   "mimetype": "text/x-python",
   "name": "python",
   "nbconvert_exporter": "python",
   "pygments_lexer": "ipython3",
   "version": "3.9.1-final"
  },
  "orig_nbformat": 2,
  "kernelspec": {
   "name": "python3",
   "display_name": "Python 3",
   "language": "python"
  }
 },
 "nbformat": 4,
 "nbformat_minor": 2,
 "cells": [
  {
   "source": [
    "# Collecting summoner IDs per rank"
   ],
   "cell_type": "markdown",
   "metadata": {}
  },
  {
   "cell_type": "code",
   "execution_count": null,
   "metadata": {},
   "outputs": [],
   "source": [
    "## Notes\n",
    "\n",
    "Source: https://riot-api-libraries.readthedocs.io/en/latest/collectingdata.html\n",
    "\n",
    "You can also use the League endpoints to get lists of ranked summoners. The positional league endpoints provide a paginated list of all summoners in a Tier + Division + Position (e.g. all ranked Diamond II Top laners). Alternatively, Canisback on the Discord currently hosts a list of league IDs that you can use to pull summoners from the leagues/{leagueId} endpoints. These lists are provided for free to the community for use, and may go down or stop being updated at any time.\n",
    "\n",
    "https://developer.riotgames.com/apis#league-exp-v4/GET_getLeagueEntries\n",
    "\n",
    "\n",
    "Helpful tutorial for this\n",
    "- pulling specific data from API https://www.dataquest.io/blog/python-api-tutorial/ \n",
    "\n",
    "\n",
    "List of public API's for playing around another time\n",
    "- https://github.com/public-apis/public-apis\n",
    "\n",
    "\n",
    "\n",
    "Other (unused so far) tutorials:\n",
    "- Writing & reading Json files https://stackabuse.com/reading-and-writing-json-to-a-file-in-python/ \n",
    "\n"
   ]
  },
  {
   "cell_type": "code",
   "execution_count": null,
   "metadata": {},
   "outputs": [],
   "source": [
    "# to do\n",
    "\n",
    "1. Get summoner IDs & names by region, tier & division https://developer.riotgames.com/apis#league-exp-v4/GET_getLeagueEntries\n",
    "2. Get account ID by summoner ID or name https://developer.riotgames.com/apis#summoner-v4/GET_getBySummonerName\n",
    "3. Get matchlist by account ID https://developer.riotgames.com/apis#match-v4/GET_getMatchlist\n",
    "    Can filter by the endTime and beginTime --> \tThe end time to use for filtering matchlist specified as epoch milliseconds. If beginTime is specified, but not endTime, then endTime defaults to the the current unix timestamp in milliseconds (the maximum time range limitation is not observed in this specific case). If endTime is specified, but not beginTime, then beginTime defaults to the start of the account's match history returning a 400 due to the maximum time range limitation. If both are specified, then endTime should be greater than beginTime. The maximum time range allowed is one week, otherwise a 400 error code is returned.\n"
   ]
  },
  {
   "cell_type": "code",
   "execution_count": null,
   "metadata": {},
   "outputs": [],
   "source": [
    "# Notes\n",
    "\n",
    "json.dumps() — Takes in a Python object, and converts (dumps) it to a string.\n",
    "json.loads() — Takes a JSON string, and converts (loads) it to a Python object.\n",
    "\n",
    "jprint makes the output vertical instead of horizontal (better readable for dictionaries), but you need to make it first:\n",
    "    # create a formatted string of the Python JSON object\n",
    "    def jprint(obj):\n",
    "    text = json.dumps(obj, sort_keys=True, indent=4)\n",
    "    print(text)\n"
   ]
  },
  {
   "cell_type": "code",
   "execution_count": 15,
   "metadata": {},
   "outputs": [
    {
     "output_type": "stream",
     "name": "stdout",
     "text": [
      "{\n    \"message\": \"success\",\n    \"request\": {\n        \"altitude\": 100,\n        \"datetime\": 1612895531,\n        \"latitude\": 40.71,\n        \"longitude\": -74.0,\n        \"passes\": 5\n    },\n    \"response\": [\n        {\n            \"duration\": 584,\n            \"risetime\": 1612898639\n        },\n        {\n            \"duration\": 651,\n            \"risetime\": 1612904450\n        },\n        {\n            \"duration\": 591,\n            \"risetime\": 1612910274\n        },\n        {\n            \"duration\": 590,\n            \"risetime\": 1612964667\n        },\n        {\n            \"duration\": 650,\n            \"risetime\": 1612970431\n        }\n    ]\n}\n[\n    {\n        \"duration\": 584,\n        \"risetime\": 1612898639\n    },\n    {\n        \"duration\": 651,\n        \"risetime\": 1612904450\n    },\n    {\n        \"duration\": 591,\n        \"risetime\": 1612910274\n    },\n    {\n        \"duration\": 590,\n        \"risetime\": 1612964667\n    },\n    {\n        \"duration\": 650,\n        \"risetime\": 1612970431\n    }\n]\n[1612898639]\n[1612898639, 1612904450]\n[1612898639, 1612904450, 1612910274]\n[1612898639, 1612904450, 1612910274, 1612964667]\n[1612898639, 1612904450, 1612910274, 1612964667, 1612970431]\n[584]\n[584, 651]\n[584, 651, 591]\n[584, 651, 591, 590]\n[584, 651, 591, 590, 650]\n[1612898639, 1612904450, 1612910274, 1612964667, 1612970431]\n[584, 651, 591, 590, 650]\n"
     ]
    }
   ],
   "source": [
    "from collections import defaultdict\n",
    "\n",
    "dictionary = {'key' : 'value',\n",
    "'key_2': 'value_2'}\n",
    "\n",
    "print(dictionary)\n",
    "\n",
    "nested_dict = { 'dictA': {'key_1': 'value_1'},\n",
    "                'dictB': {'key_2': 'value_2'}}\n",
    "\n",
    "print (nested_dict)\n",
    "\n",
    "\n",
    "s = [('yellow', 1), ('blue', 2), ('yellow', 3), ('blue', 4), ('red', 1)]\n",
    "d = defaultdict(list)\n",
    "for k, v in s:\n",
    "    d[k].append(v)\n",
    "\n",
    "sorted(d.items())\n",
    "[('blue', [2, 4]), ('red', [1]), ('yellow', [1, 3])]\n",
    "\n",
    "# summonerID_dict = {'tier':{'division:'}}\n",
    "\n",
    "\n",
    "\n",
    "# imaginaryNames = 'Elite500', 'Rookie12'\n",
    "# imaginaryIds = 'ubj5P-BuofXMUlDhNgqFhHWc57kEjg0IVYC2pOynW7ilOhY', 'DBc55qPUhmbWeWmLJranZtva_cROPEbyMjKbmjFa3zVZ1V7nzWeEwCwMWQ'\n",
    "\n"
   ]
  },
  {
   "cell_type": "code",
   "execution_count": null,
   "metadata": {
    "tags": []
   },
   "outputs": [],
   "source": [
    "# tutorial source: https://www.dataquest.io/blog/python-api-tutorial/ \n",
    "\n",
    "# import requests\n",
    "# import json\n",
    "\n",
    "def jprint(obj):\n",
    "    # create a formatted string of the Python JSON object\n",
    "    text = json.dumps(obj, sort_keys=True, indent=4)\n",
    "    print(text)\n",
    "\n",
    "\n",
    "parameters = {\n",
    "    \"lat\": 40.71,\n",
    "    \"lon\": -74\n",
    "}\n",
    "\n",
    "response = requests.get(\"http://api.open-notify.org/iss-pass.json\", params=parameters)\n",
    "jprint(response.json()) #prints the whole response\n",
    "# jprint(response.json()['message']) #prints only the [] part of the response\n",
    "\n",
    "pass_times = response.json()['response']\n",
    "jprint(pass_times)\n",
    "\n",
    "risetimes = []\n",
    "for d in pass_times:\n",
    "    time = d['risetime']\n",
    "    risetimes.append(time)\n",
    "    print (risetimes)\n",
    "\n",
    "duradura = []\n",
    "for b in pass_times:\n",
    "    dur = b['duration']\n",
    "    duradura.append(dur)\n",
    "    print (duradura)\n",
    "\n",
    "print (risetimes)\n",
    "print (duradura)"
   ]
  },
  {
   "cell_type": "code",
   "execution_count": 27,
   "metadata": {
    "tags": []
   },
   "outputs": [
    {
     "output_type": "execute_result",
     "data": {
      "text/plain": [
       "                                            summonerId   summonerName  wins  \\\n",
       "0      RQwkFLRLJAA39aI6qru1PE6NIZgztRPU7hR0PLp1Vq09ApQ   Kite Machine   170   \n",
       "1      PKWTXuIqlW-sVxu9giyen6sKtQEGhqMthdOwb2KXKhAMyc4         Agurin   116   \n",
       "2      g2YD33k6-PJP1GXbOomLnunrGgnh43arV_knNEoKSUJk_zM       Lathyrus   164   \n",
       "3     MGV5ICWr6QKalToGZ5p-fykdB6I5hXPwi5oig89iuMy6vfgD      HANSSAMAA    89   \n",
       "4      _G1CJBv0bslZ-9-anVIyYIXeZXtppcpf5Ci8qEDrDG1Trac         Sawyor   225   \n",
       "..                                                 ...            ...   ...   \n",
       "163    _qlnSFrD_YVY7W-aXnAXHQ_jww_SDsEgplr8S1ApSn2Vs0w  K1CK Matislaw   143   \n",
       "164  h1GIpNdpsu6v7EBMTwoVehDQqZdjxqVJDYHRq56Pteo5O3...          Mim1c   147   \n",
       "165    MpQtG2d99ddltaE6AcF4Tt3lgu9EF0K2QsOe-DyuoM0_TSw        ŁaFleur   141   \n",
       "166    jXkES4M-ydMB_R5T4DT1PegXJ11oK5vzOMUcWeNUiexy1jk      NVD Flufo   158   \n",
       "167   v5vr3zkMgk1TTc31xYTrE9YKO_iKYpmA5XVu43Pjt1KVZ4D2       JOKERRRR   133   \n",
       "\n",
       "     losses  \n",
       "0       127  \n",
       "1        74  \n",
       "2       128  \n",
       "3        58  \n",
       "4       191  \n",
       "..      ...  \n",
       "163     131  \n",
       "164     130  \n",
       "165     134  \n",
       "166     150  \n",
       "167     115  \n",
       "\n",
       "[168 rows x 4 columns]"
      ],
      "text/html": "<div>\n<style scoped>\n    .dataframe tbody tr th:only-of-type {\n        vertical-align: middle;\n    }\n\n    .dataframe tbody tr th {\n        vertical-align: top;\n    }\n\n    .dataframe thead th {\n        text-align: right;\n    }\n</style>\n<table border=\"1\" class=\"dataframe\">\n  <thead>\n    <tr style=\"text-align: right;\">\n      <th></th>\n      <th>summonerId</th>\n      <th>summonerName</th>\n      <th>wins</th>\n      <th>losses</th>\n    </tr>\n  </thead>\n  <tbody>\n    <tr>\n      <th>0</th>\n      <td>RQwkFLRLJAA39aI6qru1PE6NIZgztRPU7hR0PLp1Vq09ApQ</td>\n      <td>Kite Machine</td>\n      <td>170</td>\n      <td>127</td>\n    </tr>\n    <tr>\n      <th>1</th>\n      <td>PKWTXuIqlW-sVxu9giyen6sKtQEGhqMthdOwb2KXKhAMyc4</td>\n      <td>Agurin</td>\n      <td>116</td>\n      <td>74</td>\n    </tr>\n    <tr>\n      <th>2</th>\n      <td>g2YD33k6-PJP1GXbOomLnunrGgnh43arV_knNEoKSUJk_zM</td>\n      <td>Lathyrus</td>\n      <td>164</td>\n      <td>128</td>\n    </tr>\n    <tr>\n      <th>3</th>\n      <td>MGV5ICWr6QKalToGZ5p-fykdB6I5hXPwi5oig89iuMy6vfgD</td>\n      <td>HANSSAMAA</td>\n      <td>89</td>\n      <td>58</td>\n    </tr>\n    <tr>\n      <th>4</th>\n      <td>_G1CJBv0bslZ-9-anVIyYIXeZXtppcpf5Ci8qEDrDG1Trac</td>\n      <td>Sawyor</td>\n      <td>225</td>\n      <td>191</td>\n    </tr>\n    <tr>\n      <th>...</th>\n      <td>...</td>\n      <td>...</td>\n      <td>...</td>\n      <td>...</td>\n    </tr>\n    <tr>\n      <th>163</th>\n      <td>_qlnSFrD_YVY7W-aXnAXHQ_jww_SDsEgplr8S1ApSn2Vs0w</td>\n      <td>K1CK Matislaw</td>\n      <td>143</td>\n      <td>131</td>\n    </tr>\n    <tr>\n      <th>164</th>\n      <td>h1GIpNdpsu6v7EBMTwoVehDQqZdjxqVJDYHRq56Pteo5O3...</td>\n      <td>Mim1c</td>\n      <td>147</td>\n      <td>130</td>\n    </tr>\n    <tr>\n      <th>165</th>\n      <td>MpQtG2d99ddltaE6AcF4Tt3lgu9EF0K2QsOe-DyuoM0_TSw</td>\n      <td>ŁaFleur</td>\n      <td>141</td>\n      <td>134</td>\n    </tr>\n    <tr>\n      <th>166</th>\n      <td>jXkES4M-ydMB_R5T4DT1PegXJ11oK5vzOMUcWeNUiexy1jk</td>\n      <td>NVD Flufo</td>\n      <td>158</td>\n      <td>150</td>\n    </tr>\n    <tr>\n      <th>167</th>\n      <td>v5vr3zkMgk1TTc31xYTrE9YKO_iKYpmA5XVu43Pjt1KVZ4D2</td>\n      <td>JOKERRRR</td>\n      <td>133</td>\n      <td>115</td>\n    </tr>\n  </tbody>\n</table>\n<p>168 rows × 4 columns</p>\n</div>"
     },
     "metadata": {},
     "execution_count": 27
    }
   ],
   "source": [
    "# tutorial source: https://towardsdatascience.com/json-and-apis-with-python-fba329ef6ef0\n",
    "\n",
    "import requests\n",
    "import pandas as pd\n",
    "\n",
    "#response = requests.get('https://api.covid19api.com/summary').text\n",
    "#response_info = json.loads(response)\n",
    "#print ('responseinfo:', response_info)\n",
    "\n",
    "response2 = requests.get('https://api.covid19api.com/summary').json()\n",
    "#jprint(response2)\n",
    "\n",
    "country_list = []\n",
    "for country_info in response2['Countries']:\n",
    "    country_list.append([country_info['Country'], country_info['TotalConfirmed']])\n",
    "#jprint (country_list)\n",
    "\n",
    "country_df = pd.DataFrame(data=country_list, columns=['Country', 'TotalConfirmed'])\n",
    "# country_df.head(10)"
   ]
  },
  {
   "cell_type": "code",
   "execution_count": null,
   "metadata": {},
   "outputs": [],
   "source": [
    "# importing challenger I \n",
    "\n",
    "import requests\n",
    "import pandas as pd\n",
    "import json\n",
    "\n",
    "# create a formatted string of the Python JSON object\n",
    "def jprint(obj):\n",
    "    text = json.dumps(obj, sort_keys=True, indent=4)\n",
    "    print(text)\n",
    "\n",
    "\n",
    "## something here to modify the URL \n",
    "url_id = 'https://euw1.api.riotgames.com/lol/league-exp/v4/entries/RANKED_SOLO_5x5/CHALLENGER/I?page=1&api_key=RGAPI-e28d8c22-8799-441c-b1fe-a8335c3fbdc8'\n",
    "\n",
    "response = requests.get(url_id).json()\n",
    "# jprint (response)\n",
    "\n",
    "#grabbing summonerId, summonerName, wins, & losses and appending them to a new list summoner_list\n",
    "summoner_list = []\n",
    "for summoner_info in response:\n",
    "    summoner_list.append([summoner_info['summonerId'], summoner_info['summonerName'], summoner_info['wins'], summoner_info['losses']])\n",
    "    #jprint(summoner_list)\n",
    "\n",
    "#creating a dataframe with the results\n",
    "summoner_df = pd.DataFrame(data=summoner_list, columns=['summonerId', 'summonerName', 'wins', 'losses'])\n",
    "#displaying the first 10 results of the dataframe\n",
    "summoner_df.head(1000)\n"
   ]
  },
  {
   "cell_type": "code",
   "execution_count": 29,
   "metadata": {
    "tags": [
     "outputPrepend"
    ]
   },
   "outputs": [
    {
     "output_type": "stream",
     "name": "stdout",
     "text": [
      "   \"leagueId\": \"9a5f071c-c899-3750-b338-7b4eee40f8c0\",\n        \"leaguePoints\": 523,\n        \"losses\": 70,\n        \"queueType\": \"RANKED_SOLO_5x5\",\n        \"rank\": \"I\",\n        \"summonerId\": \"rY4xWpNGoH98RfALKMKSjdKlxyBDEtRbaC_HhqK8L-IJs-o\",\n        \"summonerName\": \"Pai Mei\",\n        \"tier\": \"CHALLENGER\",\n        \"veteran\": false,\n        \"wins\": 78\n    },\n    {\n        \"freshBlood\": true,\n        \"hotStreak\": false,\n        \"inactive\": false,\n        \"leagueId\": \"9a5f071c-c899-3750-b338-7b4eee40f8c0\",\n        \"leaguePoints\": 522,\n        \"losses\": 64,\n        \"queueType\": \"RANKED_SOLO_5x5\",\n        \"rank\": \"I\",\n        \"summonerId\": \"DegF8_OMoGeIwh7VNYCT5u96vwO9ZLYo7VN4oSnXpRWM7014\",\n        \"summonerName\": \"selfish jungler\",\n        \"tier\": \"CHALLENGER\",\n        \"veteran\": false,\n        \"wins\": 90\n    },\n    {\n        \"freshBlood\": true,\n        \"hotStreak\": false,\n        \"inactive\": false,\n        \"leagueId\": \"9a5f071c-c899-3750-b338-7b4eee40f8c0\",\n        \"leaguePoints\": 519,\n        \"losses\": 108,\n        \"queueType\": \"RANKED_SOLO_5x5\",\n        \"rank\": \"I\",\n        \"summonerId\": \"GBpSj7hyzgT-6AK2ZfLIyHJM5KtVzsrsrY96tSN6bktq6cbO\",\n        \"summonerName\": \"Spear Shot\",\n        \"tier\": \"CHALLENGER\",\n        \"veteran\": false,\n        \"wins\": 135\n    },\n    {\n        \"freshBlood\": true,\n        \"hotStreak\": true,\n        \"inactive\": false,\n        \"leagueId\": \"9a5f071c-c899-3750-b338-7b4eee40f8c0\",\n        \"leaguePoints\": 519,\n        \"losses\": 52,\n        \"queueType\": \"RANKED_SOLO_5x5\",\n        \"rank\": \"I\",\n        \"summonerId\": \"clmNCMtklhgiDnBhLgP5XyqbSyXnmICe0fx7hQpON1Wd9mM\",\n        \"summonerName\": \"Veignorem\",\n        \"tier\": \"CHALLENGER\",\n        \"veteran\": false,\n        \"wins\": 66\n    },\n    {\n        \"freshBlood\": false,\n        \"hotStreak\": false,\n        \"inactive\": false,\n        \"leagueId\": \"9a5f071c-c899-3750-b338-7b4eee40f8c0\",\n        \"leaguePoints\": 516,\n        \"losses\": 172,\n        \"queueType\": \"RANKED_SOLO_5x5\",\n        \"rank\": \"I\",\n        \"summonerId\": \"8JYly0Uh74EQAUPJLU6cnOpOugFdIZ1IPUbEBooGS5zxyM0\",\n        \"summonerName\": \"Taliyah\",\n        \"tier\": \"CHALLENGER\",\n        \"veteran\": false,\n        \"wins\": 184\n    },\n    {\n        \"freshBlood\": true,\n        \"hotStreak\": false,\n        \"inactive\": false,\n        \"leagueId\": \"9a5f071c-c899-3750-b338-7b4eee40f8c0\",\n        \"leaguePoints\": 516,\n        \"losses\": 61,\n        \"queueType\": \"RANKED_SOLO_5x5\",\n        \"rank\": \"I\",\n        \"summonerId\": \"kIpvexMY-zi2QwTr5F-ZHbd4RC1RqIB55Xb4sed2B9X9w0s\",\n        \"summonerName\": \"FNC NlSQY\",\n        \"tier\": \"CHALLENGER\",\n        \"veteran\": false,\n        \"wins\": 73\n    },\n    {\n        \"freshBlood\": true,\n        \"hotStreak\": false,\n        \"inactive\": false,\n        \"leagueId\": \"9a5f071c-c899-3750-b338-7b4eee40f8c0\",\n        \"leaguePoints\": 515,\n        \"losses\": 135,\n        \"queueType\": \"RANKED_SOLO_5x5\",\n        \"rank\": \"I\",\n        \"summonerId\": \"IV9T0fLJ95oS2tMHvjE0PXop7tXv9NACbM9mmL54sCRJsUhfkQWYb8Rxxw\",\n        \"summonerName\": \"SurtRisinG\",\n        \"tier\": \"CHALLENGER\",\n        \"veteran\": false,\n        \"wins\": 171\n    },\n    {\n        \"freshBlood\": true,\n        \"hotStreak\": false,\n        \"inactive\": false,\n        \"leagueId\": \"9a5f071c-c899-3750-b338-7b4eee40f8c0\",\n        \"leaguePoints\": 515,\n        \"losses\": 65,\n        \"queueType\": \"RANKED_SOLO_5x5\",\n        \"rank\": \"I\",\n        \"summonerId\": \"ra_VpmoqW52Z-dcSwf0_gqcP8WcTXfWYglseg5zMLcr9ZUdu\",\n        \"summonerName\": \"Post Light\",\n        \"tier\": \"CHALLENGER\",\n        \"veteran\": false,\n        \"wins\": 89\n    },\n    {\n        \"freshBlood\": true,\n        \"hotStreak\": false,\n        \"inactive\": false,\n        \"leagueId\": \"9a5f071c-c899-3750-b338-7b4eee40f8c0\",\n        \"leaguePoints\": 515,\n        \"losses\": 57,\n        \"queueType\": \"RANKED_SOLO_5x5\",\n        \"rank\": \"I\",\n        \"summonerId\": \"uWTDKiyYWHVm8u6wwoKbs6vIRWTbhi8X5Qp0SsP5ajp1YWcV\",\n        \"summonerName\": \"yesterdays gone1\",\n        \"tier\": \"CHALLENGER\",\n        \"veteran\": false,\n        \"wins\": 79\n    },\n    {\n        \"freshBlood\": true,\n        \"hotStreak\": false,\n        \"inactive\": false,\n        \"leagueId\": \"9a5f071c-c899-3750-b338-7b4eee40f8c0\",\n        \"leaguePoints\": 515,\n        \"losses\": 26,\n        \"queueType\": \"RANKED_SOLO_5x5\",\n        \"rank\": \"I\",\n        \"summonerId\": \"t_a3tZhNM0LmHIivTHjNLDpX4KpxxKk0eYzaEb7RfHxYlS16PDi2yuQkbQ\",\n        \"summonerName\": \"NoLucianMidPls\",\n        \"tier\": \"CHALLENGER\",\n        \"veteran\": false,\n        \"wins\": 45\n    },\n    {\n        \"freshBlood\": true,\n        \"hotStreak\": false,\n        \"inactive\": false,\n        \"leagueId\": \"9a5f071c-c899-3750-b338-7b4eee40f8c0\",\n        \"leaguePoints\": 514,\n        \"losses\": 84,\n        \"queueType\": \"RANKED_SOLO_5x5\",\n        \"rank\": \"I\",\n        \"summonerId\": \"QAQQuCITf7w2dFHvzmko18sPYnws3k3zoupCxczhwtF_lsg\",\n        \"summonerName\": \"techoteco\",\n        \"tier\": \"CHALLENGER\",\n        \"veteran\": false,\n        \"wins\": 106\n    },\n    {\n        \"freshBlood\": true,\n        \"hotStreak\": false,\n        \"inactive\": false,\n        \"leagueId\": \"9a5f071c-c899-3750-b338-7b4eee40f8c0\",\n        \"leaguePoints\": 513,\n        \"losses\": 97,\n        \"queueType\": \"RANKED_SOLO_5x5\",\n        \"rank\": \"I\",\n        \"summonerId\": \"XMmgExTVnK99xIHLeEZ7YAsjiCISHTZzw-9y1UQvSG2aPUU\",\n        \"summonerName\": \"Dugar Saddy\",\n        \"tier\": \"CHALLENGER\",\n        \"veteran\": false,\n        \"wins\": 114\n    },\n    {\n        \"freshBlood\": true,\n        \"hotStreak\": true,\n        \"inactive\": false,\n        \"leagueId\": \"9a5f071c-c899-3750-b338-7b4eee40f8c0\",\n        \"leaguePoints\": 513,\n        \"losses\": 68,\n        \"queueType\": \"RANKED_SOLO_5x5\",\n        \"rank\": \"I\",\n        \"summonerId\": \"7XFXaBH8l1Iaa3Ob-rQXtXOi52rOupDqv2XHPhkPeUS6gPs\",\n        \"summonerName\": \"markyyy\",\n        \"tier\": \"CHALLENGER\",\n        \"veteran\": false,\n        \"wins\": 92\n    },\n    {\n        \"freshBlood\": true,\n        \"hotStreak\": false,\n        \"inactive\": false,\n        \"leagueId\": \"9a5f071c-c899-3750-b338-7b4eee40f8c0\",\n        \"leaguePoints\": 511,\n        \"losses\": 82,\n        \"queueType\": \"RANKED_SOLO_5x5\",\n        \"rank\": \"I\",\n        \"summonerId\": \"CCP1TkHz6cHBbJo-dUhuzKunncuCWIyPKgZXZMa3pt2DH-w\",\n        \"summonerName\": \"Aglaro\",\n        \"tier\": \"CHALLENGER\",\n        \"veteran\": false,\n        \"wins\": 105\n    },\n    {\n        \"freshBlood\": true,\n        \"hotStreak\": true,\n        \"inactive\": false,\n        \"leagueId\": \"9a5f071c-c899-3750-b338-7b4eee40f8c0\",\n        \"leaguePoints\": 511,\n        \"losses\": 16,\n        \"queueType\": \"RANKED_SOLO_5x5\",\n        \"rank\": \"I\",\n        \"summonerId\": \"B0lt9g6tRyT4llIVvEuDITf8PeZXJyNKa4p1nXlL9jxT0G6i\",\n        \"summonerName\": \"LS Malzahar\",\n        \"tier\": \"CHALLENGER\",\n        \"veteran\": false,\n        \"wins\": 44\n    },\n    {\n        \"freshBlood\": true,\n        \"hotStreak\": false,\n        \"inactive\": false,\n        \"leagueId\": \"9a5f071c-c899-3750-b338-7b4eee40f8c0\",\n        \"leaguePoints\": 510,\n        \"losses\": 78,\n        \"queueType\": \"RANKED_SOLO_5x5\",\n        \"rank\": \"I\",\n        \"summonerId\": \"hig8TDnsBt_4-XzUCDXMhN53lvhzhZmvZcWGLfmAAEa3szOP\",\n        \"summonerName\": \"Yikeru\",\n        \"tier\": \"CHALLENGER\",\n        \"veteran\": false,\n        \"wins\": 85\n    },\n    {\n        \"freshBlood\": true,\n        \"hotStreak\": false,\n        \"inactive\": false,\n        \"leagueId\": \"9a5f071c-c899-3750-b338-7b4eee40f8c0\",\n        \"leaguePoints\": 508,\n        \"losses\": 85,\n        \"queueType\": \"RANKED_SOLO_5x5\",\n        \"rank\": \"I\",\n        \"summonerId\": \"X-smibKMs52qAO2lwsgpFCQyTzEzxg1P6pW49HTnLKehl0E\",\n        \"summonerName\": \"Molto\",\n        \"tier\": \"CHALLENGER\",\n        \"veteran\": false,\n        \"wins\": 112\n    },\n    {\n        \"freshBlood\": true,\n        \"hotStreak\": false,\n        \"inactive\": false,\n        \"leagueId\": \"9a5f071c-c899-3750-b338-7b4eee40f8c0\",\n        \"leaguePoints\": 507,\n        \"losses\": 80,\n        \"queueType\": \"RANKED_SOLO_5x5\",\n        \"rank\": \"I\",\n        \"summonerId\": \"cT17lVUGBKlcIeh589R8v3Gp_cy1PXIClx8zCU0nByXc5cg\",\n        \"summonerName\": \"Phaxi\",\n        \"tier\": \"CHALLENGER\",\n        \"veteran\": false,\n        \"wins\": 105\n    },\n    {\n        \"freshBlood\": true,\n        \"hotStreak\": false,\n        \"inactive\": false,\n        \"leagueId\": \"9a5f071c-c899-3750-b338-7b4eee40f8c0\",\n        \"leaguePoints\": 506,\n        \"losses\": 125,\n        \"queueType\": \"RANKED_SOLO_5x5\",\n        \"rank\": \"I\",\n        \"summonerId\": \"xEZGSqK5qO-YRuoynItxaA7MnK8EYzzWxSegU7X3BPipmw9V\",\n        \"summonerName\": \"sorrrrrrry\",\n        \"tier\": \"CHALLENGER\",\n        \"veteran\": false,\n        \"wins\": 154\n    },\n    {\n        \"freshBlood\": true,\n        \"hotStreak\": true,\n        \"inactive\": false,\n        \"leagueId\": \"9a5f071c-c899-3750-b338-7b4eee40f8c0\",\n        \"leaguePoints\": 505,\n        \"losses\": 153,\n        \"queueType\": \"RANKED_SOLO_5x5\",\n        \"rank\": \"I\",\n        \"summonerId\": \"PmN7LqV9HhoHshgqsaFUzm7rA_MR_462J3oUiypjqdu0EAM\",\n        \"summonerName\": \"Don Noway\",\n        \"tier\": \"CHALLENGER\",\n        \"veteran\": false,\n        \"wins\": 170\n    },\n    {\n        \"freshBlood\": true,\n        \"hotStreak\": true,\n        \"inactive\": false,\n        \"leagueId\": \"9a5f071c-c899-3750-b338-7b4eee40f8c0\",\n        \"leaguePoints\": 505,\n        \"losses\": 93,\n        \"queueType\": \"RANKED_SOLO_5x5\",\n        \"rank\": \"I\",\n        \"summonerId\": \"ubj5P-BuofXMUlDhNgqFhHWc57kEjg0IVYC2pOynW7ilOhY\",\n        \"summonerName\": \"Elite500\",\n        \"tier\": \"CHALLENGER\",\n        \"veteran\": false,\n        \"wins\": 105\n    },\n    {\n        \"freshBlood\": false,\n        \"hotStreak\": true,\n        \"inactive\": false,\n        \"leagueId\": \"9a5f071c-c899-3750-b338-7b4eee40f8c0\",\n        \"leaguePoints\": 505,\n        \"losses\": 65,\n        \"queueType\": \"RANKED_SOLO_5x5\",\n        \"rank\": \"I\",\n        \"summonerId\": \"tIfN51-U6xjlfarIyDkIX3Gmzf16f1razolTc5BCdBbULSkj\",\n        \"summonerName\": \"TwTv SporakosTv\",\n        \"tier\": \"CHALLENGER\",\n        \"veteran\": false,\n        \"wins\": 92\n    },\n    {\n        \"freshBlood\": true,\n        \"hotStreak\": false,\n        \"inactive\": false,\n        \"leagueId\": \"9a5f071c-c899-3750-b338-7b4eee40f8c0\",\n        \"leaguePoints\": 505,\n        \"losses\": 43,\n        \"queueType\": \"RANKED_SOLO_5x5\",\n        \"rank\": \"I\",\n        \"summonerId\": \"eQJirSs-scfUoAbGWIVQflKrLXyG3kB9C8di9UL0IGV3nVM\",\n        \"summonerName\": \"S04 Broken Blade\",\n        \"tier\": \"CHALLENGER\",\n        \"veteran\": false,\n        \"wins\": 74\n    },\n    {\n        \"freshBlood\": true,\n        \"hotStreak\": true,\n        \"inactive\": false,\n        \"leagueId\": \"9a5f071c-c899-3750-b338-7b4eee40f8c0\",\n        \"leaguePoints\": 504,\n        \"losses\": 139,\n        \"queueType\": \"RANKED_SOLO_5x5\",\n        \"rank\": \"I\",\n        \"summonerId\": \"SA7WFwVx8yjLGQz9RGJ1GAoQbivb-XwXXqXotQSB7Zp0VIp_\",\n        \"summonerName\": \"DMSA Sin\",\n        \"tier\": \"CHALLENGER\",\n        \"veteran\": false,\n        \"wins\": 160\n    },\n    {\n        \"freshBlood\": true,\n        \"hotStreak\": true,\n        \"inactive\": false,\n        \"leagueId\": \"9a5f071c-c899-3750-b338-7b4eee40f8c0\",\n        \"leaguePoints\": 504,\n        \"losses\": 116,\n        \"queueType\": \"RANKED_SOLO_5x5\",\n        \"rank\": \"I\",\n        \"summonerId\": \"zulMav5ooyhzuqHBQ2V-fU5E57BNkcsru1W8u57MXx7F_x6v\",\n        \"summonerName\": \"V for VayNeDeTa\",\n        \"tier\": \"CHALLENGER\",\n        \"veteran\": false,\n        \"wins\": 141\n    },\n    {\n        \"freshBlood\": true,\n        \"hotStreak\": false,\n        \"inactive\": false,\n        \"leagueId\": \"9a5f071c-c899-3750-b338-7b4eee40f8c0\",\n        \"leaguePoints\": 504,\n        \"losses\": 109,\n        \"queueType\": \"RANKED_SOLO_5x5\",\n        \"rank\": \"I\",\n        \"summonerId\": \"1ZsJ_eQ5wtK7vn4lAX3P2phYfHo3-PnT3jBl5V1Y9fNoDeg\",\n        \"summonerName\": \"GXR Monk\",\n        \"tier\": \"CHALLENGER\",\n        \"veteran\": false,\n        \"wins\": 122\n    },\n    {\n        \"freshBlood\": true,\n        \"hotStreak\": false,\n        \"inactive\": false,\n        \"leagueId\": \"9a5f071c-c899-3750-b338-7b4eee40f8c0\",\n        \"leaguePoints\": 504,\n        \"losses\": 77,\n        \"queueType\": \"RANKED_SOLO_5x5\",\n        \"rank\": \"I\",\n        \"summonerId\": \"1jjki5dfO9YWyClfTYOdQLvh75rfkLQeefhbpgjiIM_n6wM\",\n        \"summonerName\": \"Y Golem Y\",\n        \"tier\": \"CHALLENGER\",\n        \"veteran\": false,\n        \"wins\": 100\n    },\n    {\n        \"freshBlood\": true,\n        \"hotStreak\": false,\n        \"inactive\": false,\n        \"leagueId\": \"9a5f071c-c899-3750-b338-7b4eee40f8c0\",\n        \"leaguePoints\": 504,\n        \"losses\": 81,\n        \"queueType\": \"RANKED_SOLO_5x5\",\n        \"rank\": \"I\",\n        \"summonerId\": \"y9-mQthQ2DlV3PykbIb2pKmP-gMWNfW1RXegMM8nfrMSrrI\",\n        \"summonerName\": \"try me pls\",\n        \"tier\": \"CHALLENGER\",\n        \"veteran\": false,\n        \"wins\": 87\n    },\n    {\n        \"freshBlood\": false,\n        \"hotStreak\": false,\n        \"inactive\": false,\n        \"leagueId\": \"9a5f071c-c899-3750-b338-7b4eee40f8c0\",\n        \"leaguePoints\": 504,\n        \"losses\": 41,\n        \"queueType\": \"RANKED_SOLO_5x5\",\n        \"rank\": \"I\",\n        \"summonerId\": \"7BjTxr8LT0cZqBiePvKIbSIyE_e2vs1Q6YhRGq6JQ6VX2vpwS4NJpYQgRQ\",\n        \"summonerName\": \"mutant chill acc\",\n        \"tier\": \"CHALLENGER\",\n        \"veteran\": false,\n        \"wins\": 57\n    },\n    {\n        \"freshBlood\": true,\n        \"hotStreak\": true,\n        \"inactive\": false,\n        \"leagueId\": \"9a5f071c-c899-3750-b338-7b4eee40f8c0\",\n        \"leaguePoints\": 503,\n        \"losses\": 107,\n        \"queueType\": \"RANKED_SOLO_5x5\",\n        \"rank\": \"I\",\n        \"summonerId\": \"hA-OS1tE4CmP9UyUInwixFqYVOPHZFHtbJ8B3EwB5QUoetAl\",\n        \"summonerName\": \"ego go sky\",\n        \"tier\": \"CHALLENGER\",\n        \"veteran\": false,\n        \"wins\": 133\n    },\n    {\n        \"freshBlood\": true,\n        \"hotStreak\": false,\n        \"inactive\": false,\n        \"leagueId\": \"9a5f071c-c899-3750-b338-7b4eee40f8c0\",\n        \"leaguePoints\": 501,\n        \"losses\": 66,\n        \"queueType\": \"RANKED_SOLO_5x5\",\n        \"rank\": \"I\",\n        \"summonerId\": \"87ftjIWlg_iQwhpQRJw7WxA8-zW1SovVl3IyignPMjvIavkf\",\n        \"summonerName\": \"lol3\",\n        \"tier\": \"CHALLENGER\",\n        \"veteran\": false,\n        \"wins\": 88\n    },\n    {\n        \"freshBlood\": true,\n        \"hotStreak\": true,\n        \"inactive\": false,\n        \"leagueId\": \"9a5f071c-c899-3750-b338-7b4eee40f8c0\",\n        \"leaguePoints\": 501,\n        \"losses\": 28,\n        \"queueType\": \"RANKED_SOLO_5x5\",\n        \"rank\": \"I\",\n        \"summonerId\": \"NRCfL0JQd8YwcyhEw66k0eqL55K2ZKWNHECerb04ALMKxVLA\",\n        \"summonerName\": \"i am pr\\u00f8ud of me\",\n        \"tier\": \"CHALLENGER\",\n        \"veteran\": false,\n        \"wins\": 51\n    },\n    {\n        \"freshBlood\": false,\n        \"hotStreak\": false,\n        \"inactive\": false,\n        \"leagueId\": \"9a5f071c-c899-3750-b338-7b4eee40f8c0\",\n        \"leaguePoints\": 500,\n        \"losses\": 93,\n        \"queueType\": \"RANKED_SOLO_5x5\",\n        \"rank\": \"I\",\n        \"summonerId\": \"hpyXb-RwQc1fdGCfX4-KMcz6eW0LibMOMGGFZcgM7aKwSrhc\",\n        \"summonerName\": \"TWTVBioticZilean\",\n        \"tier\": \"CHALLENGER\",\n        \"veteran\": false,\n        \"wins\": 109\n    },\n    {\n        \"freshBlood\": true,\n        \"hotStreak\": false,\n        \"inactive\": false,\n        \"leagueId\": \"9a5f071c-c899-3750-b338-7b4eee40f8c0\",\n        \"leaguePoints\": 500,\n        \"losses\": 101,\n        \"queueType\": \"RANKED_SOLO_5x5\",\n        \"rank\": \"I\",\n        \"summonerId\": \"I_xqgrNpiZJtIiHBHyM0vyyPMtNtQow3EgvmrS7j3QRKh4Y\",\n        \"summonerName\": \"WWWWWWWWWWWLurkz\",\n        \"tier\": \"CHALLENGER\",\n        \"veteran\": false,\n        \"wins\": 108\n    },\n    {\n        \"freshBlood\": false,\n        \"hotStreak\": false,\n        \"inactive\": false,\n        \"leagueId\": \"9a5f071c-c899-3750-b338-7b4eee40f8c0\",\n        \"leaguePoints\": 500,\n        \"losses\": 74,\n        \"queueType\": \"RANKED_SOLO_5x5\",\n        \"rank\": \"I\",\n        \"summonerId\": \"hVxbyPdkC4Hw6wiAUMbm8chUSYvC4BAMJnai9DMu0mQsWPo\",\n        \"summonerName\": \"ToIerant\",\n        \"tier\": \"CHALLENGER\",\n        \"veteran\": false,\n        \"wins\": 82\n    },\n    {\n        \"freshBlood\": true,\n        \"hotStreak\": false,\n        \"inactive\": false,\n        \"leagueId\": \"9a5f071c-c899-3750-b338-7b4eee40f8c0\",\n        \"leaguePoints\": 478,\n        \"losses\": 53,\n        \"queueType\": \"RANKED_SOLO_5x5\",\n        \"rank\": \"I\",\n        \"summonerId\": \"UUCYSgDpWi9MvKdeREWpqwJiK8dDdHw05kZsDPsNKhhmar-x\",\n        \"summonerName\": \"QloTrGeSdV\",\n        \"tier\": \"CHALLENGER\",\n        \"veteran\": false,\n        \"wins\": 65\n    },\n    {\n        \"freshBlood\": true,\n        \"hotStreak\": false,\n        \"inactive\": false,\n        \"leagueId\": \"9a5f071c-c899-3750-b338-7b4eee40f8c0\",\n        \"leaguePoints\": 478,\n        \"losses\": 44,\n        \"queueType\": \"RANKED_SOLO_5x5\",\n        \"rank\": \"I\",\n        \"summonerId\": \"BE0dIVtfZbnl-YSEQBz8xYZeGbLC-3n8aoN0EDwc0vE8LKMe\",\n        \"summonerName\": \"happy she\\u00f8\",\n        \"tier\": \"CHALLENGER\",\n        \"veteran\": false,\n        \"wins\": 54\n    },\n    {\n        \"freshBlood\": true,\n        \"hotStreak\": false,\n        \"inactive\": false,\n        \"leagueId\": \"9a5f071c-c899-3750-b338-7b4eee40f8c0\",\n        \"leaguePoints\": 475,\n        \"losses\": 71,\n        \"queueType\": \"RANKED_SOLO_5x5\",\n        \"rank\": \"I\",\n        \"summonerId\": \"_ETla5Ljs6HO9P6hzu7rZR4uj7nI64E6_Hp08MP1y9-G9ADi\",\n        \"summonerName\": \"Thebausffs\",\n        \"tier\": \"CHALLENGER\",\n        \"veteran\": false,\n        \"wins\": 85\n    },\n    {\n        \"freshBlood\": true,\n        \"hotStreak\": false,\n        \"inactive\": false,\n        \"leagueId\": \"9a5f071c-c899-3750-b338-7b4eee40f8c0\",\n        \"leaguePoints\": 471,\n        \"losses\": 40,\n        \"queueType\": \"RANKED_SOLO_5x5\",\n        \"rank\": \"I\",\n        \"summonerId\": \"Qbpyyk2MJ2_5SP8uG5dxJ3HSsPNpMypi1GWA_Z2buNIMxE0P\",\n        \"summonerName\": \"Iust for life\",\n        \"tier\": \"CHALLENGER\",\n        \"veteran\": false,\n        \"wins\": 54\n    },\n    {\n        \"freshBlood\": true,\n        \"hotStreak\": false,\n        \"inactive\": false,\n        \"leagueId\": \"9a5f071c-c899-3750-b338-7b4eee40f8c0\",\n        \"leaguePoints\": 463,\n        \"losses\": 131,\n        \"queueType\": \"RANKED_SOLO_5x5\",\n        \"rank\": \"I\",\n        \"summonerId\": \"_qlnSFrD_YVY7W-aXnAXHQ_jww_SDsEgplr8S1ApSn2Vs0w\",\n        \"summonerName\": \"K1CK Matislaw\",\n        \"tier\": \"CHALLENGER\",\n        \"veteran\": false,\n        \"wins\": 143\n    },\n    {\n        \"freshBlood\": true,\n        \"hotStreak\": false,\n        \"inactive\": false,\n        \"leagueId\": \"9a5f071c-c899-3750-b338-7b4eee40f8c0\",\n        \"leaguePoints\": 452,\n        \"losses\": 130,\n        \"queueType\": \"RANKED_SOLO_5x5\",\n        \"rank\": \"I\",\n        \"summonerId\": \"h1GIpNdpsu6v7EBMTwoVehDQqZdjxqVJDYHRq56Pteo5O3Tjim_ICVIIRA\",\n        \"summonerName\": \"Mim1c\",\n        \"tier\": \"CHALLENGER\",\n        \"veteran\": false,\n        \"wins\": 147\n    },\n    {\n        \"freshBlood\": true,\n        \"hotStreak\": false,\n        \"inactive\": false,\n        \"leagueId\": \"9a5f071c-c899-3750-b338-7b4eee40f8c0\",\n        \"leaguePoints\": 442,\n        \"losses\": 134,\n        \"queueType\": \"RANKED_SOLO_5x5\",\n        \"rank\": \"I\",\n        \"summonerId\": \"MpQtG2d99ddltaE6AcF4Tt3lgu9EF0K2QsOe-DyuoM0_TSw\",\n        \"summonerName\": \"\\u0141aFleur\",\n        \"tier\": \"CHALLENGER\",\n        \"veteran\": false,\n        \"wins\": 141\n    },\n    {\n        \"freshBlood\": true,\n        \"hotStreak\": false,\n        \"inactive\": false,\n        \"leagueId\": \"9a5f071c-c899-3750-b338-7b4eee40f8c0\",\n        \"leaguePoints\": 389,\n        \"losses\": 150,\n        \"queueType\": \"RANKED_SOLO_5x5\",\n        \"rank\": \"I\",\n        \"summonerId\": \"jXkES4M-ydMB_R5T4DT1PegXJ11oK5vzOMUcWeNUiexy1jk\",\n        \"summonerName\": \"NVD Flufo\",\n        \"tier\": \"CHALLENGER\",\n        \"veteran\": false,\n        \"wins\": 158\n    },\n    {\n        \"freshBlood\": true,\n        \"hotStreak\": false,\n        \"inactive\": false,\n        \"leagueId\": \"9a5f071c-c899-3750-b338-7b4eee40f8c0\",\n        \"leaguePoints\": 387,\n        \"losses\": 115,\n        \"queueType\": \"RANKED_SOLO_5x5\",\n        \"rank\": \"I\",\n        \"summonerId\": \"v5vr3zkMgk1TTc31xYTrE9YKO_iKYpmA5XVu43Pjt1KVZ4D2\",\n        \"summonerName\": \"JOKERRRR\",\n        \"tier\": \"CHALLENGER\",\n        \"veteran\": false,\n        \"wins\": 133\n    }\n]\n"
     ]
    }
   ],
   "source": [
    "# importing grandmaster I \n",
    "\n",
    "import requests\n",
    "import pandas as pd\n",
    "import json\n",
    "\n",
    "# create a formatted string of the Python JSON object\n",
    "def jprint(obj):\n",
    "    text = json.dumps(obj, sort_keys=True, indent=4)\n",
    "    print(text)\n",
    "\n",
    "\n",
    "## something here to modify the URL \n",
    "final form: 'https://euw1.api.riotgames.com/lol/league-exp/v4/entries/RANKED_SOLO_5x5/CHALLENGER/I?page=1&api_key=RGAPI-e28d8c22-8799-441c-b1fe-a8335c3fbdc8'\n",
    "\n",
    "# iterate through the tiers\n",
    "tier_list = \n",
    "###\n",
    "\n",
    "# iterate through the divisions\n",
    "division_list = \n",
    "####\n",
    "\n",
    "# iterate through the pages\n",
    "####\n",
    "\n",
    "# set region\n",
    "region = 'euw1'\n",
    "\n",
    "# set queue type\n",
    "queue_type = 'RANKED_SOLO_5x5'\n",
    "\n",
    "\n",
    "\n",
    "\n",
    "# creating the URL to pull the data from\n",
    "URL_ids = ('https://' + y + '.api.riotgames.com/lol/league-exp/v4/entries/RANKED_SOLO_5x5/' +\n",
    "                           tierList[z][0] + '/' + tierList[z][1] + '/?page=' + str(page) + '&api_key=' + key)\n",
    "\n",
    "url_ids = ('https://' + region + '.api.riotgames.com/lol/league-exp/v4/entries/' + queue_type + \n",
    "\n",
    "\n",
    "\n",
    "\n",
    "\n",
    "apikey = 'RGAPI-e28d8c22-8799-441c-b1fe-a8335c3fbdc8'\n",
    "url_ids = ('https://euw1.api.riotgames.com/lol/league-exp/v4/entries/RANKED_SOLO_5x5/CHALLENGER/I?page=1&api_key=' + apikey)\n",
    "\n",
    "\n",
    "# ///// working under here \n",
    "\n",
    "response = requests.get(url_ids).json()\n",
    "# jprint (response)\n",
    "\n",
    "#grabbing summonerId, summonerName, wins, & losses and appending them to a new list summoner_list\n",
    "summoner_list = []\n",
    "for summoner_info in response:\n",
    "    summoner_list.append([summoner_info['summonerId'], summoner_info['summonerName'], summoner_info['wins'], summoner_info['losses']])\n",
    "    #jprint(summoner_list)\n",
    "\n",
    "#creating a dataframe with the results\n",
    "summoner_df = pd.DataFrame(data=summoner_list, columns=['summonerId', 'summonerName', 'wins', 'losses'])\n",
    "#displaying the first 10 results of the dataframe\n",
    "summoner_df.head(1000)\n"
   ]
  },
  {
   "cell_type": "code",
   "execution_count": null,
   "metadata": {},
   "outputs": [],
   "source": [
    "apikey = 'RGAPI-e28d8c22-8799-441c-b1fe-a8335c3fbdc8'\n",
    "url_ids = ('https://euw1.api.riotgames.com/lol/league-exp/v4/entries/RANKED_SOLO_5x5/CHALLENGER/I?page=1&api_key=' + apikey)\n",
    "\n",
    "\n",
    "# ///// working under here \n",
    "\n",
    "response = requests.get(url_ids).json()\n",
    "jprint (response)"
   ]
  }
 ]
}