{
 "cells": [
  {
   "cell_type": "markdown",
   "metadata": {},
   "source": [
    "# Imports"
   ]
  },
  {
   "cell_type": "code",
   "execution_count": 1,
   "metadata": {},
   "outputs": [],
   "source": [
    "from pathlib2 import Path\n",
    "from riotwatcher import LolWatcher, ApiError\n",
    "import json"
   ]
  },
  {
   "cell_type": "markdown",
   "metadata": {},
   "source": [
    "# Functions"
   ]
  },
  {
   "cell_type": "code",
   "execution_count": 2,
   "metadata": {},
   "outputs": [],
   "source": [
    "def api_key(credentials):\n",
    "    \"\"\"Checking if the development API key from riot's development portal has been set and/or needs to be updated\n",
    "    \n",
    "    Input is a JSON file \n",
    "\n",
    "    \"\"\"\n",
    "    with open(credentials) as json_data:\n",
    "        credentials = json.load(json_data)\n",
    "    return credentials\n",
    "    # TODO: add that it checks for if the key is still valid or not error 404 or something\n",
    "    # global api_key\n",
    "    # try:\n",
    "    #     api_key\n",
    "    # except NameError:\n",
    "    #     api_key = str(input(\"Input development API key.\"))\n",
    "    # else:\n",
    "    #     print(\"API key already defined.\")\n",
    "    "
   ]
  },
  {
   "source": [
    "# Main"
   ],
   "cell_type": "markdown",
   "metadata": {}
  },
  {
   "cell_type": "code",
   "execution_count": 3,
   "metadata": {},
   "outputs": [],
   "source": [
    "# Folder locations\n",
    "\n",
    "# Project folders\n",
    "project_folder = Path.cwd().parent\n",
    "\n",
    "# Raw data storage\n",
    "data_storagez= project_folder / \"data\"\n",
    "\n",
    "# Out folder\n",
    "out_folder = project_folder / \"out\""
   ]
  },
  {
   "cell_type": "code",
   "execution_count": 4,
   "metadata": {},
   "outputs": [
    {
     "output_type": "error",
     "ename": "SyntaxError",
     "evalue": "invalid syntax (<ipython-input-4-e6a6256e7eaf>, line 4)",
     "traceback": [
      "\u001b[1;36m  File \u001b[1;32m\"<ipython-input-4-e6a6256e7eaf>\"\u001b[1;36m, line \u001b[1;32m4\u001b[0m\n\u001b[1;33m    test.python.\u001b[0m\n\u001b[1;37m                 ^\u001b[0m\n\u001b[1;31mSyntaxError\u001b[0m\u001b[1;31m:\u001b[0m invalid syntax\n"
     ]
    }
   ],
   "source": [
    "# Set API key\n",
    "api_key_loc = project_folder / \"dev_api_key.json\"\n",
    "lol_watcher = LolWatcher(api_key(api_key_loc)) "
   ]
  },
  {
   "cell_type": "code",
   "execution_count": null,
   "metadata": {},
   "outputs": [],
   "source": []
  },
  {
   "source": [
    "# Calculating KDA\n"
   ],
   "cell_type": "markdown",
   "metadata": {}
  },
  {
   "cell_type": "code",
   "execution_count": null,
   "metadata": {},
   "outputs": [],
   "source": [
    "Defining variables\n",
    "\n",
    "KDA_Match: KDA calculated per match per player\n",
    "KDA_Season: Mean KDA for that player for this seasons\n",
    "\n",
    "K_Match: Total kills in that match\n",
    "D_Match: Total deaths in that match\n",
    "A_Match: Total assists in that match\n",
    "\n",
    "K_Season: Total kills in that season\n",
    "D_Season: Total deaths in that season\n",
    "A_Season: Total assists in that season\n",
    "? Should we use total or average?\n",
    "\n",
    "Calculations\n",
    "\n",
    "KDA base calculation= Kills + Assists / Deaths\n",
    "KDA_Match = K_Match + A_Match / D_Match\n",
    "KDA_Season = K_Season + A_Season / D_Season\n",
    "\n",
    "\n",
    "Setting things up: \n",
    "Season: sets the season we are pulling data from\n",
    "Region: sets the region we are pulling data from\n",
    "\n"
   ]
  },
  {
   "source": [
    "Confounding variables\n",
    "\n",
    "Rank\n"
   ],
   "cell_type": "code",
   "metadata": {},
   "execution_count": 7,
   "outputs": [
    {
     "output_type": "stream",
     "name": "stdout",
     "text": [
      "0 10.0\n1 9.900990099009901\n2 9.803921568627452\n3 9.70873786407767\n4 9.615384615384615\n5 9.523809523809524\n6 9.433962264150944\n7 9.345794392523365\n8 9.25925925925926\n9 9.174311926605505\n10 9.090909090909092\n11 9.00900900900901\n12 8.928571428571429\n13 8.849557522123893\n14 8.771929824561404\n15 8.695652173913043\n16 8.620689655172415\n17 8.547008547008547\n18 8.474576271186441\n19 8.403361344537815\n20 8.333333333333334\n21 8.264462809917354\n22 8.19672131147541\n23 8.130081300813009\n24 8.064516129032258\n25 8.0\n26 7.936507936507937\n27 7.874015748031496\n28 7.8125\n29 7.751937984496124\n30 7.6923076923076925\n31 7.633587786259542\n32 7.575757575757576\n33 7.518796992481203\n34 7.462686567164179\n35 7.407407407407407\n36 7.352941176470588\n37 7.299270072992701\n38 7.246376811594203\n39 7.194244604316546\n40 7.142857142857143\n41 7.092198581560283\n42 7.042253521126761\n43 6.993006993006993\n44 6.944444444444445\n45 6.896551724137931\n46 6.8493150684931505\n47 6.802721088435374\n48 6.756756756756757\n49 6.7114093959731544\n50 6.666666666666667\n51 6.622516556291391\n52 6.578947368421052\n53 6.5359477124183005\n54 6.4935064935064934\n55 6.451612903225806\n56 6.410256410256411\n57 6.369426751592357\n58 6.329113924050633\n59 6.289308176100629\n60 6.25\n61 6.211180124223603\n62 6.172839506172839\n63 6.134969325153374\n64 6.097560975609756\n65 6.0606060606060606\n66 6.024096385542169\n67 5.9880239520958085\n68 5.9523809523809526\n69 5.9171597633136095\n70 5.882352941176471\n71 5.847953216374269\n72 5.813953488372093\n73 5.780346820809249\n74 5.747126436781609\n75 5.714285714285714\n76 5.681818181818182\n77 5.649717514124294\n78 5.617977528089888\n79 5.58659217877095\n80 5.555555555555555\n81 5.524861878453039\n82 5.4945054945054945\n83 5.46448087431694\n84 5.434782608695652\n85 5.405405405405405\n86 5.376344086021505\n87 5.347593582887701\n88 5.319148936170213\n89 5.291005291005291\n90 5.2631578947368425\n91 5.2356020942408374\n92 5.208333333333333\n93 5.181347150259067\n94 5.154639175257732\n95 5.128205128205129\n96 5.1020408163265305\n97 5.0761421319796955\n98 5.05050505050505\n99 5.025125628140704\n100 5.0\n101 4.975124378109452\n102 4.9504950495049505\n103 4.926108374384237\n104 4.901960784313726\n105 4.878048780487805\n106 4.854368932038835\n107 4.830917874396135\n108 4.8076923076923075\n109 4.784688995215311\n110 4.761904761904762\n111 4.739336492890995\n112 4.716981132075472\n113 4.694835680751174\n114 4.672897196261682\n115 4.651162790697675\n116 4.62962962962963\n117 4.608294930875576\n118 4.587155963302752\n119 4.566210045662101\n120 4.545454545454546\n121 4.524886877828054\n122 4.504504504504505\n123 4.484304932735426\n124 4.464285714285714\n125 4.444444444444445\n126 4.424778761061947\n127 4.405286343612334\n128 4.385964912280702\n129 4.366812227074236\n130 4.3478260869565215\n131 4.329004329004329\n132 4.310344827586207\n133 4.291845493562231\n134 4.273504273504273\n135 4.25531914893617\n136 4.237288135593221\n137 4.219409282700422\n138 4.201680672268908\n139 4.184100418410042\n140 4.166666666666667\n141 4.149377593360996\n142 4.132231404958677\n143 4.11522633744856\n144 4.098360655737705\n145 4.081632653061225\n146 4.065040650406504\n147 4.048582995951417\n148 4.032258064516129\n149 4.016064257028113\n150 4.0\n151 3.9840637450199203\n152 3.9682539682539684\n153 3.952569169960474\n154 3.937007874015748\n155 3.9215686274509802\n156 3.90625\n157 3.8910505836575875\n158 3.875968992248062\n159 3.861003861003861\n160 3.8461538461538463\n161 3.8314176245210727\n162 3.816793893129771\n163 3.802281368821293\n164 3.787878787878788\n165 3.7735849056603774\n166 3.7593984962406015\n167 3.745318352059925\n168 3.7313432835820897\n169 3.717472118959108\n170 3.7037037037037037\n171 3.690036900369004\n172 3.676470588235294\n173 3.663003663003663\n174 3.6496350364963503\n175 3.6363636363636362\n176 3.6231884057971016\n177 3.6101083032490973\n178 3.597122302158273\n179 3.5842293906810037\n180 3.5714285714285716\n181 3.5587188612099645\n182 3.5460992907801416\n183 3.5335689045936394\n184 3.5211267605633805\n185 3.508771929824561\n186 3.4965034965034967\n187 3.484320557491289\n188 3.4722222222222223\n189 3.4602076124567476\n190 3.4482758620689653\n191 3.4364261168384878\n192 3.4246575342465753\n193 3.4129692832764507\n194 3.401360544217687\n195 3.389830508474576\n196 3.3783783783783785\n197 3.367003367003367\n198 3.3557046979865772\n199 3.3444816053511706\n200 3.3333333333333335\n201 3.3222591362126246\n202 3.3112582781456954\n203 3.3003300330033003\n204 3.289473684210526\n205 3.278688524590164\n206 3.2679738562091503\n207 3.257328990228013\n208 3.2467532467532467\n209 3.236245954692557\n210 3.225806451612903\n211 3.215434083601286\n212 3.2051282051282053\n213 3.194888178913738\n214 3.1847133757961785\n215 3.1746031746031744\n216 3.1645569620253164\n217 3.1545741324921135\n218 3.1446540880503147\n219 3.134796238244514\n220 3.125\n221 3.115264797507788\n222 3.1055900621118013\n"
     ]
    }
   ]
  },
  {
   "source": [
    "# Some extra info"
   ],
   "cell_type": "markdown",
   "metadata": {}
  },
  {
   "cell_type": "code",
   "execution_count": null,
   "metadata": {},
   "outputs": [],
   "source": [
    "# How a request link looks like and what all the parts do\n",
    "\n",
    "# https://na1.api.riotgames.com/lol/summoner/v4/summoners/by-name/Doublelift?api_key=RGAPI-edd56035-f7c2-4e06-83d4-3b578380b730\n",
    "\n",
    "# https://- All requests to the API must use HTTPS. This ensures maximum security on your requests.\n",
    "# na1– This is the “Platform” that you’re making the request on. For example, NA summoners will use NA1, EUW summoners will use EUW1. See the Regional Endpoints page for more platform IDs. For now, just understand that a platform is related to the region that the summoner plays on\n",
    "# api.riotgames.com – This means we’re accessing the Riot Games API\n",
    "# lol/summoner/v3/summoners/by-name/– The API we're wanting data from, in this case summoners by name\n",
    "# WxWatch – the parameter for the endpoint, in this case, the name of the summoner we want data for (it's me!)\n",
    "# ?api_key – Our API key which tells the API that we are allowed to get data\n"
   ]
  }
 ],
 "metadata": {
  "kernelspec": {
   "display_name": "Python 3",
   "name": "python3",
   "language": "python"
  },
  "language_info": {
   "codemirror_mode": {
    "name": "ipython",
    "version": 3
   },
   "file_extension": ".py",
   "mimetype": "text/x-python",
   "name": "python",
   "nbconvert_exporter": "python",
   "pygments_lexer": "ipython3",
   "version": "3.9.1-final"
  },
  "orig_nbformat": 2
 },
 "nbformat": 4,
 "nbformat_minor": 2
}