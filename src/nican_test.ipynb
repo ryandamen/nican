{
 "cells": [
  {
   "cell_type": "markdown",
   "metadata": {},
   "source": [
    "# Functions"
   ]
  },
  {
   "cell_type": "code",
   "execution_count": 1,
   "metadata": {},
   "outputs": [],
   "source": [
    "from pathlib2 import Path\n",
    "from riotwatcher import LolWatcher, ApiError\n",
    "import json"
   ]
  },
  {
   "cell_type": "markdown",
   "metadata": {},
   "source": [
    "# Imports"
   ]
  },
  {
   "cell_type": "code",
   "execution_count": 2,
   "metadata": {},
   "outputs": [],
   "source": [
    "def api_key(credentials):\n",
    "    \"\"\"Checking if the development API key from riot's development portal has been set and/or needs to be updated\n",
    "    \n",
    "    Input is a JSON file \n",
    "\n",
    "    \"\"\"\n",
    "    with open(credentials) as json_data:\n",
    "        credentials = json.load(json_data)\n",
    "    return credentials\n",
    "    # TODO: add that it checks for if the key is still valid or not error 404 or something\n",
    "    # global api_key\n",
    "    # try:\n",
    "    #     api_key\n",
    "    # except NameError:\n",
    "    #     api_key = str(input(\"Input development API key.\"))\n",
    "    # else:\n",
    "    #     print(\"API key already defined.\")\n",
    "    "
   ]
  },
  {
   "cell_type": "markdown",
   "metadata": {},
   "source": [
    "# Main"
   ]
  },
  {
   "cell_type": "code",
   "execution_count": 3,
   "metadata": {},
   "outputs": [],
   "source": [
    "# Folder locations\n",
    "\n",
    "# Project folders\n",
    "project_folder = Path.cwd().parent\n",
    "\n",
    "# Raw data storage\n",
    "data_storage = project_folder / \"data\"\n",
    "\n",
    "# Out folder\n",
    "out_folder = project_folder / \"out\""
   ]
  },
  {
   "cell_type": "code",
   "execution_count": null,
   "metadata": {},
   "outputs": [],
   "source": [
    "credentialscredentials"
   ]
  },
  {
   "cell_type": "code",
   "execution_count": 8,
   "metadata": {},
   "outputs": [
    {
     "output_type": "error",
     "ename": "ValueError",
     "evalue": "Either api_key or kernel_url must be set!",
     "traceback": [
      "\u001b[1;31m---------------------------------------------------------------------------\u001b[0m",
      "\u001b[1;31mValueError\u001b[0m                                Traceback (most recent call last)",
      "\u001b[1;32m<ipython-input-8-7abafba05108>\u001b[0m in \u001b[0;36m<module>\u001b[1;34m\u001b[0m\n\u001b[0;32m      2\u001b[0m \u001b[0mapi_key_loc\u001b[0m \u001b[1;33m=\u001b[0m \u001b[0mproject_folder\u001b[0m \u001b[1;33m/\u001b[0m \u001b[1;34m\"dev_api_key.json\"\u001b[0m\u001b[1;33m\u001b[0m\u001b[1;33m\u001b[0m\u001b[0m\n\u001b[0;32m      3\u001b[0m \u001b[1;33m\u001b[0m\u001b[0m\n\u001b[1;32m----> 4\u001b[1;33m \u001b[0mlol_watcher\u001b[0m \u001b[1;33m=\u001b[0m \u001b[0mLolWatcher\u001b[0m\u001b[1;33m(\u001b[0m\u001b[0mapi_key\u001b[0m\u001b[1;33m(\u001b[0m\u001b[0mapi_key_loc\u001b[0m\u001b[1;33m)\u001b[0m\u001b[1;33m)\u001b[0m\u001b[1;33m\u001b[0m\u001b[1;33m\u001b[0m\u001b[0m\n\u001b[0m",
      "\u001b[1;32m~\\miniconda3\\envs\\rito_games\\lib\\site-packages\\riotwatcher\\LolWatcher.py\u001b[0m in \u001b[0;36m__init__\u001b[1;34m(self, api_key, timeout, kernel_url, rate_limiter, deserializer)\u001b[0m\n\u001b[0;32m     57\u001b[0m         \"\"\"\n\u001b[0;32m     58\u001b[0m         \u001b[1;32mif\u001b[0m \u001b[1;32mnot\u001b[0m \u001b[0mkernel_url\u001b[0m \u001b[1;32mand\u001b[0m \u001b[1;32mnot\u001b[0m \u001b[0mapi_key\u001b[0m\u001b[1;33m:\u001b[0m\u001b[1;33m\u001b[0m\u001b[1;33m\u001b[0m\u001b[0m\n\u001b[1;32m---> 59\u001b[1;33m             \u001b[1;32mraise\u001b[0m \u001b[0mValueError\u001b[0m\u001b[1;33m(\u001b[0m\u001b[1;34m\"Either api_key or kernel_url must be set!\"\u001b[0m\u001b[1;33m)\u001b[0m\u001b[1;33m\u001b[0m\u001b[1;33m\u001b[0m\u001b[0m\n\u001b[0m\u001b[0;32m     60\u001b[0m \u001b[1;33m\u001b[0m\u001b[0m\n\u001b[0;32m     61\u001b[0m         \u001b[1;32mif\u001b[0m \u001b[0mkernel_url\u001b[0m\u001b[1;33m:\u001b[0m\u001b[1;33m\u001b[0m\u001b[1;33m\u001b[0m\u001b[0m\n",
      "\u001b[1;31mValueError\u001b[0m: Either api_key or kernel_url must be set!"
     ]
    }
   ],
   "source": [
    "# Set API key\n",
    "api_key_loc = project_folder / \"dev_api_key.json\"\n",
    "\n",
    "\n",
    "\n",
    "lol_watcher = LolWatcher(api_key(api_key_loc))"
   ]
  },
  {
   "cell_type": "code",
   "execution_count": null,
   "metadata": {},
   "outputs": [],
   "source": []
  },
  {
   "cell_type": "code",
   "execution_count": null,
   "metadata": {},
   "outputs": [],
   "source": []
  },
  {
   "cell_type": "code",
   "execution_count": null,
   "metadata": {},
   "outputs": [],
   "source": []
  },
  {
   "cell_type": "code",
   "execution_count": null,
   "metadata": {},
   "outputs": [],
   "source": []
  },
  {
   "source": [
    "# Some extra info"
   ],
   "cell_type": "markdown",
   "metadata": {}
  },
  {
   "cell_type": "code",
   "execution_count": null,
   "metadata": {},
   "outputs": [],
   "source": [
    "# How a request link looks like and what all the parts do\n",
    "\n",
    "# https://na1.api.riotgames.com/lol/summoner/v4/summoners/by-name/Doublelift?api_key=RGAPI-edd56035-f7c2-4e06-83d4-3b578380b730\n",
    "\n",
    "# https://- All requests to the API must use HTTPS. This ensures maximum security on your requests.\n",
    "# na1– This is the “Platform” that you’re making the request on. For example, NA summoners will use NA1, EUW summoners will use EUW1. See the Regional Endpoints page for more platform IDs. For now, just understand that a platform is related to the region that the summoner plays on\n",
    "# api.riotgames.com – This means we’re accessing the Riot Games API\n",
    "# lol/summoner/v3/summoners/by-name/– The API we're wanting data from, in this case summoners by name\n",
    "# WxWatch – the parameter for the endpoint, in this case, the name of the summoner we want data for (it's me!)\n",
    "# ?api_key – Our API key which tells the API that we are allowed to get data\n"
   ]
  }
 ],
 "metadata": {
  "kernelspec": {
   "display_name": "Python 3",
   "name": "python3",
   "language": "python"
  },
  "language_info": {
   "codemirror_mode": {
    "name": "ipython",
    "version": 3
   },
   "file_extension": ".py",
   "mimetype": "text/x-python",
   "name": "python",
   "nbconvert_exporter": "python",
   "pygments_lexer": "ipython3",
   "version": "3.9.1-final"
  },
  "orig_nbformat": 2
 },
 "nbformat": 4,
 "nbformat_minor": 2
}