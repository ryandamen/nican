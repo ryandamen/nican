{
 "cells": [
  {
   "cell_type": "markdown",
   "metadata": {},
   "source": [
    "# Imports"
   ]
  },
  {
   "cell_type": "code",
   "execution_count": 132,
   "metadata": {},
   "outputs": [],
   "source": [
    "from pathlib2 import Path\n",
    "from riotwatcher import LolWatcher, ApiError\n",
    "\n",
    "import arrow\n",
    "import json\n",
    "import pandas as pd"
   ]
  },
  {
   "cell_type": "markdown",
   "metadata": {},
   "source": [
    "# Functions"
   ]
  },
  {
   "cell_type": "code",
   "execution_count": 112,
   "metadata": {},
   "outputs": [],
   "source": [
    "def api_key(credentials):\n",
    "    \"\"\"Checking if the development API key from riot's development portal has been set and/or needs to be updated\n",
    "    \n",
    "    Input is a JSON file \n",
    "\n",
    "    \"\"\"\n",
    "    with open(credentials) as json_data:\n",
    "        credentials = json.load(json_data)\n",
    "    return credentials[\"dev_api_key\"]\n",
    "    # TODO: add that it checks for if the key is still valid or not error 404 or something and if so enter it and it updates the dev_api_key.json file\n",
    "    # global api_key\n",
    "    # try:\n",
    "    #     api_key\n",
    "    # except NameError:\n",
    "    #     api_key = str(input(\"Input development API key.\"))\n",
    "    # else:\n",
    "    #     print(\"API key already defined.\")\n",
    "    "
   ]
  },
  {
   "source": [
    "# Main"
   ],
   "cell_type": "markdown",
   "metadata": {}
  },
  {
   "cell_type": "code",
   "execution_count": 113,
   "metadata": {},
   "outputs": [],
   "source": [
    "# Folder locations\n",
    "\n",
    "# Project folders\n",
    "project_folder = Path.cwd().parent\n",
    "\n",
    "# Raw data storage\n",
    "data_folder = project_folder / \"data\"\n",
    "\n",
    "# Out folder\n",
    "out_folder = project_folder / \"out\""
   ]
  },
  {
   "cell_type": "code",
   "execution_count": 114,
   "metadata": {},
   "outputs": [],
   "source": [
    "# Set API key\n",
    "api_key_loc = data_folder / \"dev_api_key.json\"\n",
    "lol_watcher = LolWatcher(api_key(api_key_loc)) "
   ]
  },
  {
   "cell_type": "code",
   "execution_count": 121,
   "metadata": {},
   "outputs": [],
   "source": [
    "# Set user request parameters\n",
    "\n",
    "# Set region\n",
    "region = \"euw1\"\n",
    "\n",
    "# Set summonder name \n",
    "summoner_name = \"alnas\" # not case sensitive"
   ]
  },
  {
   "source": [
    "### User info"
   ],
   "cell_type": "markdown",
   "metadata": {}
  },
  {
   "cell_type": "code",
   "execution_count": 118,
   "metadata": {},
   "outputs": [
    {
     "output_type": "stream",
     "name": "stdout",
     "text": [
      "{'id': 'vvnJnOwimLDEuJz55em8ihuAIjfQcfQk0qNTs1xK1SujIEA', 'accountId': 'U8waP8B_8dhhTEMZOZtmyV4vqBfEYHiCNnUMXmPD4EaMeQ', 'puuid': '-0mFh1iO9XEjqTEh8xofNi7wsCx_I7sLHsxhSp7sv8q4sIDuQa_ei3MtfGkud7KyX9PO_ujw76m5yg', 'name': 'Alnas', 'profileIconId': 3382, 'revisionDate': 1608752230000, 'summonerLevel': 101}\n"
     ]
    }
   ],
   "source": [
    "# retrieve info using region and summoner name\n",
    "\n",
    "user = lol_watcher.summoner.by_name(region, summoner_name)\n",
    "print(user)"
   ]
  },
  {
   "cell_type": "code",
   "execution_count": 119,
   "metadata": {},
   "outputs": [
    {
     "output_type": "stream",
     "name": "stdout",
     "text": [
      "[{'leagueId': 'e74bb70a-b493-4f52-a031-c20909161b03', 'queueType': 'RANKED_SOLO_5x5', 'tier': 'GOLD', 'rank': 'II', 'summonerId': 'vvnJnOwimLDEuJz55em8ihuAIjfQcfQk0qNTs1xK1SujIEA', 'summonerName': 'Alnas', 'leaguePoints': 25, 'wins': 46, 'losses': 41, 'veteran': False, 'inactive': False, 'freshBlood': False, 'hotStreak': False}]\n"
     ]
    }
   ],
   "source": [
    "# Check rank stats using user id\n",
    "ranked_stats = lol_watcher.league.by_summoner(region, user[\"id\"])\n",
    "print(ranked_stats)"
   ]
  },
  {
   "source": [
    "### Match info"
   ],
   "cell_type": "markdown",
   "metadata": {}
  },
  {
   "cell_type": "code",
   "execution_count": null,
   "metadata": {},
   "outputs": [],
   "source": [
    "# set match request parameters\n",
    "\n",
    "# Set queue\n",
    "queue = 420\n",
    "\n",
    "# Set season"
   ]
  },
  {
   "cell_type": "code",
   "execution_count": 134,
   "metadata": {
    "tags": []
   },
   "outputs": [
    {
     "output_type": "stream",
     "name": "stdout",
     "text": [
      "0 {'platformId': 'EUW1', 'gameId': 4994448524, 'champion': 202, 'queue': 420, 'season': 13, 'timestamp': 1608750682906, 'role': 'SOLO', 'lane': 'BOTTOM'}\n"
     ]
    },
    {
     "output_type": "execute_result",
     "data": {
      "text/plain": [
       "   champion  spell1  spell2    win  kills  deaths  assists       KDA  \\\n",
       "0       245      14       4  False      3      12        2  0.416667   \n",
       "1       202       4       7  False      2       7        6  1.142857   \n",
       "2        75       4      12  False      6       4        6  3.000000   \n",
       "3        28       4      11  False      9       9        3  1.333333   \n",
       "4        99       4      14  False      2       5        4  1.200000   \n",
       "5       101       4      14   True     10       5        3  2.600000   \n",
       "6       777       4      14   True     12       5        8  4.000000   \n",
       "7        33       4      11   True      5       4       16  5.250000   \n",
       "8        67       4      12   True      5       6       10  2.500000   \n",
       "9       145       4       7   True      5       2        8  6.500000   \n",
       "\n",
       "   totalDamageDealt  goldEarned  champLevel  totalMinionsKilled  item0  item1  \n",
       "0             86328        6624          12                 117   2033   3152  \n",
       "1             52629        7906          11                 113   1055   3009  \n",
       "2             82125       10014          14                 130   1054   3110  \n",
       "3            117825       10215          13                  20   1082   3100  \n",
       "4             42003        6743          11                  63   3860   4005  \n",
       "5             48057        9959          12                  40   3853   3020  \n",
       "6            165417       12944          16                 175   1055   6673  \n",
       "7             97872        9997          14                  14   3068   3111  \n",
       "8             87816       10465          14                 134   1083   3009  \n",
       "9             76364       10332          13                 159   1055   6671  "
      ],
      "text/html": "<div>\n<style scoped>\n    .dataframe tbody tr th:only-of-type {\n        vertical-align: middle;\n    }\n\n    .dataframe tbody tr th {\n        vertical-align: top;\n    }\n\n    .dataframe thead th {\n        text-align: right;\n    }\n</style>\n<table border=\"1\" class=\"dataframe\">\n  <thead>\n    <tr style=\"text-align: right;\">\n      <th></th>\n      <th>champion</th>\n      <th>spell1</th>\n      <th>spell2</th>\n      <th>win</th>\n      <th>kills</th>\n      <th>deaths</th>\n      <th>assists</th>\n      <th>KDA</th>\n      <th>totalDamageDealt</th>\n      <th>goldEarned</th>\n      <th>champLevel</th>\n      <th>totalMinionsKilled</th>\n      <th>item0</th>\n      <th>item1</th>\n    </tr>\n  </thead>\n  <tbody>\n    <tr>\n      <th>0</th>\n      <td>245</td>\n      <td>14</td>\n      <td>4</td>\n      <td>False</td>\n      <td>3</td>\n      <td>12</td>\n      <td>2</td>\n      <td>0.416667</td>\n      <td>86328</td>\n      <td>6624</td>\n      <td>12</td>\n      <td>117</td>\n      <td>2033</td>\n      <td>3152</td>\n    </tr>\n    <tr>\n      <th>1</th>\n      <td>202</td>\n      <td>4</td>\n      <td>7</td>\n      <td>False</td>\n      <td>2</td>\n      <td>7</td>\n      <td>6</td>\n      <td>1.142857</td>\n      <td>52629</td>\n      <td>7906</td>\n      <td>11</td>\n      <td>113</td>\n      <td>1055</td>\n      <td>3009</td>\n    </tr>\n    <tr>\n      <th>2</th>\n      <td>75</td>\n      <td>4</td>\n      <td>12</td>\n      <td>False</td>\n      <td>6</td>\n      <td>4</td>\n      <td>6</td>\n      <td>3.000000</td>\n      <td>82125</td>\n      <td>10014</td>\n      <td>14</td>\n      <td>130</td>\n      <td>1054</td>\n      <td>3110</td>\n    </tr>\n    <tr>\n      <th>3</th>\n      <td>28</td>\n      <td>4</td>\n      <td>11</td>\n      <td>False</td>\n      <td>9</td>\n      <td>9</td>\n      <td>3</td>\n      <td>1.333333</td>\n      <td>117825</td>\n      <td>10215</td>\n      <td>13</td>\n      <td>20</td>\n      <td>1082</td>\n      <td>3100</td>\n    </tr>\n    <tr>\n      <th>4</th>\n      <td>99</td>\n      <td>4</td>\n      <td>14</td>\n      <td>False</td>\n      <td>2</td>\n      <td>5</td>\n      <td>4</td>\n      <td>1.200000</td>\n      <td>42003</td>\n      <td>6743</td>\n      <td>11</td>\n      <td>63</td>\n      <td>3860</td>\n      <td>4005</td>\n    </tr>\n    <tr>\n      <th>5</th>\n      <td>101</td>\n      <td>4</td>\n      <td>14</td>\n      <td>True</td>\n      <td>10</td>\n      <td>5</td>\n      <td>3</td>\n      <td>2.600000</td>\n      <td>48057</td>\n      <td>9959</td>\n      <td>12</td>\n      <td>40</td>\n      <td>3853</td>\n      <td>3020</td>\n    </tr>\n    <tr>\n      <th>6</th>\n      <td>777</td>\n      <td>4</td>\n      <td>14</td>\n      <td>True</td>\n      <td>12</td>\n      <td>5</td>\n      <td>8</td>\n      <td>4.000000</td>\n      <td>165417</td>\n      <td>12944</td>\n      <td>16</td>\n      <td>175</td>\n      <td>1055</td>\n      <td>6673</td>\n    </tr>\n    <tr>\n      <th>7</th>\n      <td>33</td>\n      <td>4</td>\n      <td>11</td>\n      <td>True</td>\n      <td>5</td>\n      <td>4</td>\n      <td>16</td>\n      <td>5.250000</td>\n      <td>97872</td>\n      <td>9997</td>\n      <td>14</td>\n      <td>14</td>\n      <td>3068</td>\n      <td>3111</td>\n    </tr>\n    <tr>\n      <th>8</th>\n      <td>67</td>\n      <td>4</td>\n      <td>12</td>\n      <td>True</td>\n      <td>5</td>\n      <td>6</td>\n      <td>10</td>\n      <td>2.500000</td>\n      <td>87816</td>\n      <td>10465</td>\n      <td>14</td>\n      <td>134</td>\n      <td>1083</td>\n      <td>3009</td>\n    </tr>\n    <tr>\n      <th>9</th>\n      <td>145</td>\n      <td>4</td>\n      <td>7</td>\n      <td>True</td>\n      <td>5</td>\n      <td>2</td>\n      <td>8</td>\n      <td>6.500000</td>\n      <td>76364</td>\n      <td>10332</td>\n      <td>13</td>\n      <td>159</td>\n      <td>1055</td>\n      <td>6671</td>\n    </tr>\n  </tbody>\n</table>\n</div>"
     },
     "metadata": {},
     "execution_count": 134
    }
   ],
   "source": [
    "# Retrieve last 100 matches (max is 100 matches https://developer.riotgames.com/apis#match-v4) but time range is 1 week \n",
    "matches = lol_watcher.match.matchlist_by_account(region=region,\n",
    "                                                 encrypted_account_id=user[\"accountId\"],\n",
    "                                                 queue=queue,\n",
    "                                                 begin_index=0,\n",
    "                                                 end_index=100)\n",
    "# print(matches.keys())\n",
    "\n",
    "# Get match details\n",
    "for i, match in enumerate(matches[\"matches\"][0:1]): # currently last 5 matches\n",
    "        print(i, match)\n",
    "        match_detail = lol_watcher.match.by_id(region, match['gameId'])\n",
    "        \n",
    "participants = []\n",
    "for row in match_detail['participants']:\n",
    "    participants_row = {}\n",
    "    participants_row['champion'] = row['championId']\n",
    "    participants_row['spell1'] = row['spell1Id']\n",
    "    participants_row['spell2'] = row['spell2Id']\n",
    "    participants_row['win'] = row['stats']['win']\n",
    "    participants_row['kills'] = row['stats']['kills']\n",
    "    participants_row['deaths'] = row['stats']['deaths']\n",
    "    participants_row['assists'] = row['stats']['assists']\n",
    "    participants_row['KDA'] = (row['stats']['kills']+row['stats']['assists'])/row['stats']['deaths']\n",
    "    participants_row['totalDamageDealt'] = row['stats']['totalDamageDealt']\n",
    "    participants_row['goldEarned'] = row['stats']['goldEarned']\n",
    "    participants_row['champLevel'] = row['stats']['champLevel']\n",
    "    participants_row['totalMinionsKilled'] = row['stats']['totalMinionsKilled']\n",
    "    participants_row['item0'] = row['stats']['item0']\n",
    "    participants_row['item1'] = row['stats']['item1']\n",
    "    participants.append(participants_row)\n",
    "df = pd.DataFrame(participants)\n",
    "df"
   ]
  },
  {
   "source": [
    "### Patch an season info"
   ],
   "cell_type": "markdown",
   "metadata": {}
  },
  {
   "cell_type": "code",
   "execution_count": 110,
   "metadata": {},
   "outputs": [
    {
     "output_type": "stream",
     "name": "stdout",
     "text": [
      "1607515200\n2020-12-09T04:00:00-08:00\n"
     ]
    }
   ],
   "source": [
    "# example of how to Read time\n",
    "with open(data_folder / \"patches.json\") as f:\n",
    "    data = json.load(f)\n",
    "\n",
    "patch = data['patches'][-1]  # most recent\n",
    "utc_timestamp = patch['start']\n",
    "north_america_timestamp = utc_timestamp + data['shifts']['NA1']\n",
    "print(north_america_timestamp)\n",
    "dt = arrow.get(north_america_timestamp)\n",
    "print(dt.to('US/Pacific'))"
   ]
  },
  {
   "source": [
    "# Calculating KDA\n"
   ],
   "cell_type": "markdown",
   "metadata": {}
  },
  {
   "cell_type": "code",
   "execution_count": null,
   "metadata": {},
   "outputs": [],
   "source": [
    "Defining variables\n",
    "\n",
    "KDA_Match: KDA calculated per match per player\n",
    "KDA_Season: Mean KDA for that player for this seasons\n",
    "\n",
    "K_Match: Total kills in that match\n",
    "D_Match: Total deaths in that match\n",
    "A_Match: Total assists in that match\n",
    "\n",
    "K_Season: Total kills in that season\n",
    "D_Season: Total deaths in that season\n",
    "A_Season: Total assists in that season\n",
    "? Should we use total or average?\n",
    "\n",
    "Calculations\n",
    "\n",
    "KDA base calculation= Kills + Assists / Deaths\n",
    "KDA_Match = K_Match + A_Match / D_Match\n",
    "KDA_Season = K_Season + A_Season / D_Season\n",
    "\n",
    "\n",
    "Setting things up: \n",
    "Season: sets the season we are pulling data from\n",
    "Region: sets the region we are pulling data from\n",
    "\n"
   ]
  },
  {
   "source": [
    "Confounding variables\n",
    "\n",
    "Rank\n"
   ],
   "cell_type": "code",
   "metadata": {},
   "execution_count": 7,
   "outputs": [
    {
     "output_type": "stream",
     "name": "stdout",
     "text": [
      "0 10.0\n1 9.900990099009901\n2 9.803921568627452\n3 9.70873786407767\n4 9.615384615384615\n5 9.523809523809524\n6 9.433962264150944\n7 9.345794392523365\n8 9.25925925925926\n9 9.174311926605505\n10 9.090909090909092\n11 9.00900900900901\n12 8.928571428571429\n13 8.849557522123893\n14 8.771929824561404\n15 8.695652173913043\n16 8.620689655172415\n17 8.547008547008547\n18 8.474576271186441\n19 8.403361344537815\n20 8.333333333333334\n21 8.264462809917354\n22 8.19672131147541\n23 8.130081300813009\n24 8.064516129032258\n25 8.0\n26 7.936507936507937\n27 7.874015748031496\n28 7.8125\n29 7.751937984496124\n30 7.6923076923076925\n31 7.633587786259542\n32 7.575757575757576\n33 7.518796992481203\n34 7.462686567164179\n35 7.407407407407407\n36 7.352941176470588\n37 7.299270072992701\n38 7.246376811594203\n39 7.194244604316546\n40 7.142857142857143\n41 7.092198581560283\n42 7.042253521126761\n43 6.993006993006993\n44 6.944444444444445\n45 6.896551724137931\n46 6.8493150684931505\n47 6.802721088435374\n48 6.756756756756757\n49 6.7114093959731544\n50 6.666666666666667\n51 6.622516556291391\n52 6.578947368421052\n53 6.5359477124183005\n54 6.4935064935064934\n55 6.451612903225806\n56 6.410256410256411\n57 6.369426751592357\n58 6.329113924050633\n59 6.289308176100629\n60 6.25\n61 6.211180124223603\n62 6.172839506172839\n63 6.134969325153374\n64 6.097560975609756\n65 6.0606060606060606\n66 6.024096385542169\n67 5.9880239520958085\n68 5.9523809523809526\n69 5.9171597633136095\n70 5.882352941176471\n71 5.847953216374269\n72 5.813953488372093\n73 5.780346820809249\n74 5.747126436781609\n75 5.714285714285714\n76 5.681818181818182\n77 5.649717514124294\n78 5.617977528089888\n79 5.58659217877095\n80 5.555555555555555\n81 5.524861878453039\n82 5.4945054945054945\n83 5.46448087431694\n84 5.434782608695652\n85 5.405405405405405\n86 5.376344086021505\n87 5.347593582887701\n88 5.319148936170213\n89 5.291005291005291\n90 5.2631578947368425\n91 5.2356020942408374\n92 5.208333333333333\n93 5.181347150259067\n94 5.154639175257732\n95 5.128205128205129\n96 5.1020408163265305\n97 5.0761421319796955\n98 5.05050505050505\n99 5.025125628140704\n100 5.0\n101 4.975124378109452\n102 4.9504950495049505\n103 4.926108374384237\n104 4.901960784313726\n105 4.878048780487805\n106 4.854368932038835\n107 4.830917874396135\n108 4.8076923076923075\n109 4.784688995215311\n110 4.761904761904762\n111 4.739336492890995\n112 4.716981132075472\n113 4.694835680751174\n114 4.672897196261682\n115 4.651162790697675\n116 4.62962962962963\n117 4.608294930875576\n118 4.587155963302752\n119 4.566210045662101\n120 4.545454545454546\n121 4.524886877828054\n122 4.504504504504505\n123 4.484304932735426\n124 4.464285714285714\n125 4.444444444444445\n126 4.424778761061947\n127 4.405286343612334\n128 4.385964912280702\n129 4.366812227074236\n130 4.3478260869565215\n131 4.329004329004329\n132 4.310344827586207\n133 4.291845493562231\n134 4.273504273504273\n135 4.25531914893617\n136 4.237288135593221\n137 4.219409282700422\n138 4.201680672268908\n139 4.184100418410042\n140 4.166666666666667\n141 4.149377593360996\n142 4.132231404958677\n143 4.11522633744856\n144 4.098360655737705\n145 4.081632653061225\n146 4.065040650406504\n147 4.048582995951417\n148 4.032258064516129\n149 4.016064257028113\n150 4.0\n151 3.9840637450199203\n152 3.9682539682539684\n153 3.952569169960474\n154 3.937007874015748\n155 3.9215686274509802\n156 3.90625\n157 3.8910505836575875\n158 3.875968992248062\n159 3.861003861003861\n160 3.8461538461538463\n161 3.8314176245210727\n162 3.816793893129771\n163 3.802281368821293\n164 3.787878787878788\n165 3.7735849056603774\n166 3.7593984962406015\n167 3.745318352059925\n168 3.7313432835820897\n169 3.717472118959108\n170 3.7037037037037037\n171 3.690036900369004\n172 3.676470588235294\n173 3.663003663003663\n174 3.6496350364963503\n175 3.6363636363636362\n176 3.6231884057971016\n177 3.6101083032490973\n178 3.597122302158273\n179 3.5842293906810037\n180 3.5714285714285716\n181 3.5587188612099645\n182 3.5460992907801416\n183 3.5335689045936394\n184 3.5211267605633805\n185 3.508771929824561\n186 3.4965034965034967\n187 3.484320557491289\n188 3.4722222222222223\n189 3.4602076124567476\n190 3.4482758620689653\n191 3.4364261168384878\n192 3.4246575342465753\n193 3.4129692832764507\n194 3.401360544217687\n195 3.389830508474576\n196 3.3783783783783785\n197 3.367003367003367\n198 3.3557046979865772\n199 3.3444816053511706\n200 3.3333333333333335\n201 3.3222591362126246\n202 3.3112582781456954\n203 3.3003300330033003\n204 3.289473684210526\n205 3.278688524590164\n206 3.2679738562091503\n207 3.257328990228013\n208 3.2467532467532467\n209 3.236245954692557\n210 3.225806451612903\n211 3.215434083601286\n212 3.2051282051282053\n213 3.194888178913738\n214 3.1847133757961785\n215 3.1746031746031744\n216 3.1645569620253164\n217 3.1545741324921135\n218 3.1446540880503147\n219 3.134796238244514\n220 3.125\n221 3.115264797507788\n222 3.1055900621118013\n"
     ]
    }
   ]
  },
  {
   "cell_type": "code",
   "execution_count": null,
   "metadata": {},
   "outputs": [],
   "source": []
  },
  {
   "cell_type": "code",
   "execution_count": null,
   "metadata": {},
   "outputs": [],
   "source": [
    "# example end script for wayyy later\n",
    "\n",
    "try:\n",
    "    response = lol_watcher.summoner.by_name(region, summoner_name)\n",
    "    print(response)\n",
    "except ApiError as error:\n",
    "    if error.response.status_code == 429:\n",
    "        print('Request limit reached retry in {} seconds.'.format(err.headers['Retry-After']))\n",
    "    elif error.response.status_code == 404: \n",
    "        print(\"Found no match\")"
   ]
  }
 ],
 "metadata": {
  "kernelspec": {
   "display_name": "Python 3",
   "name": "python3",
   "language": "python"
  },
  "language_info": {
   "codemirror_mode": {
    "name": "ipython",
    "version": 3
   },
   "file_extension": ".py",
   "mimetype": "text/x-python",
   "name": "python",
   "nbconvert_exporter": "python",
   "pygments_lexer": "ipython3",
   "version": "3.9.1-final"
  },
  "orig_nbformat": 2
 },
 "nbformat": 4,
 "nbformat_minor": 2
}