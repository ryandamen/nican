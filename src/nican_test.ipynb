{
 "cells": [
  {
   "cell_type": "markdown",
   "metadata": {},
   "source": [
    "# Imports"
   ]
  },
  {
   "cell_type": "code",
   "execution_count": 1,
   "metadata": {},
   "outputs": [],
   "source": [
    "from pathlib2 import Path\n",
    "from riotwatcher import LolWatcher, ApiError\n",
    "import json"
   ]
  },
  {
   "cell_type": "markdown",
   "metadata": {},
   "source": [
    "# Functions\n",
    "## API Key"
   ]
  },
  {
   "cell_type": "code",
   "execution_count": 2,
   "metadata": {},
   "outputs": [],
   "source": [
    "def api_key(credentials):\n",
    "    \"\"\"Checking if the development API key from riot's development portal has been set and/or needs to be updated\n",
    "    \n",
    "    Input is a JSON file \n",
    "\n",
    "    \"\"\"\n",
    "    with open(credentials) as json_data:\n",
    "        credentials = json.load(json_data)\n",
    "        api_key = credentials[\"dev_api_key\"]\n",
    "        lol_watcher = LolWatcher(credentials[\"dev_api_key\"])\n",
    "        try:\n",
    "            server_status = lol_watcher.lol_status.shard_data(\"euw1\")\n",
    "        except ApiError as error:\n",
    "            if error.response.status_code == 403:\n",
    "                print(\"the API key is no good bro\")\n",
    "            # elif error.response.status_code == 404: \n",
    "            #     print(\"Found no match\")\n",
    "            else:\n",
    "                return credentials[\"dev_api_key\"]\n",
    "   \n",
    "    # TODO: add that it checks for if the key is still valid or not error 404 or something and if so enter it and it updates the dev_api_key.json file\n",
    "    # global api_key\n",
    "    #     api_key # run something like check if server is online https://developer.riotgames.com/apis#lol-status-v4/GET_getPlatformData\n",
    "    # except NameError:\n",
    "    #     api_key = str(input(\"Input development API key.\"))\n",
    "    # else:\n",
    "    #     print(\"API key already defined.\")\n",
    "    "
   ]
  },
  {
   "cell_type": "code",
   "execution_count": 23,
   "metadata": {},
   "outputs": [
    {
     "output_type": "stream",
     "name": "stdout",
     "text": [
      "the API key is no good bro\n",
      "RGAPI-2e60d09f-0ce6-4485-ab5b-223c3352b6f6\n"
     ]
    }
   ],
   "source": [
    "api_key_loc = data_folder / \"dev_api_key.json\"\n",
    "with open(api_key_loc) as json_data:\n",
    "    credentials = json.load(json_data)\n",
    "    api_key = credentials[\"dev_api_key\"]\n",
    "    lol_watcher = LolWatcher(credentials[\"dev_api_key\"])\n",
    "    try:\n",
    "        server_status = lol_watcher.lol_status.shard_data(\"euw1\")\n",
    "        print(\"it works\") # return credentials[\"dev_api_key\"]\n",
    "    except ApiError as error:\n",
    "        if error.response.status_code == 403:\n",
    "            print(\"the API key is no good bro\")\n",
    "            new_api_key = input(\"Enter correct API key here.\")\n",
    "            credentials[\"dev_api_key\"] = new_api_key \n",
    "            print(new_api_key)"
   ]
  },
  {
   "cell_type": "code",
   "execution_count": 28,
   "metadata": {},
   "outputs": [
    {
     "output_type": "stream",
     "name": "stdout",
     "text": [
      "it worked\n"
     ]
    }
   ],
   "source": [
    "# Test API key\n",
    "api_key_loc = data_folder / \"dev_api_key.json\"\n",
    "# lol_watcher = LolWatcher(api_key(api_key_loc)) #the test\n",
    "\n",
    "lol_watcher = LolWatcher(\"RGAPI-2e60d09f-0ce6-4485-ab5b-223c3352b6f6\") # check\n",
    "if lol_watcher.lol_status.shard_data(\"euw1\"):\n",
    "    print(\"it worked\")"
   ]
  },
  {
   "cell_type": "markdown",
   "metadata": {},
   "source": [
    "# Folder locations"
   ],
   "cell_type": "markdown",
   "metadata": {}
  },
  {
   "cell_type": "code",
   "execution_count": 29,
   "metadata": {},
   "outputs": [],
   "source": [
    "# Folder locations\n",
    "\n",
    "# Project folders\n",
    "project_folder = Path.cwd().parent\n",
    "\n",
    "# Raw data storage\n",
    "data_storagez= project_folder / \"data\"\n",
    "\n",
    "# Out folder\n",
    "out_folder = project_folder / \"out\""
   ]
  },
  {
   "cell_type": "code",
   "execution_count": 30,
   "metadata": {},
   "outputs": [
    {
     "output_type": "error",
     "ename": "TypeError",
     "evalue": "'str' object is not callable",
     "traceback": [
      "\u001b[1;31m---------------------------------------------------------------------------\u001b[0m",
      "\u001b[1;31mTypeError\u001b[0m                                 Traceback (most recent call last)",
      "\u001b[1;32m<ipython-input-30-5d98f72a4911>\u001b[0m in \u001b[0;36m<module>\u001b[1;34m\u001b[0m\n\u001b[0;32m      1\u001b[0m \u001b[1;31m# Set API key\u001b[0m\u001b[1;33m\u001b[0m\u001b[1;33m\u001b[0m\u001b[1;33m\u001b[0m\u001b[0m\n\u001b[0;32m      2\u001b[0m \u001b[0mapi_key_loc\u001b[0m \u001b[1;33m=\u001b[0m \u001b[0mdata_folder\u001b[0m \u001b[1;33m/\u001b[0m \u001b[1;34m\"dev_api_key.json\"\u001b[0m\u001b[1;33m\u001b[0m\u001b[1;33m\u001b[0m\u001b[0m\n\u001b[1;32m----> 3\u001b[1;33m \u001b[0mlol_watcher\u001b[0m \u001b[1;33m=\u001b[0m \u001b[0mLolWatcher\u001b[0m\u001b[1;33m(\u001b[0m\u001b[0mapi_key\u001b[0m\u001b[1;33m(\u001b[0m\u001b[0mapi_key_loc\u001b[0m\u001b[1;33m)\u001b[0m\u001b[1;33m)\u001b[0m\u001b[1;33m\u001b[0m\u001b[1;33m\u001b[0m\u001b[0m\n\u001b[0m",
      "\u001b[1;31mTypeError\u001b[0m: 'str' object is not callable"
     ]
    }
   ],
   "source": [
    "# Set API key\n",
    "api_key_loc = project_folder / \"dev_api_key.json\"\n",
    "lol_watcher = LolWatcher(api_key(api_key_loc)) "
   ]
  },
  {
   "cell_type": "code",
   "execution_count": 7,
   "metadata": {},
   "outputs": [],
   "source": []
  },
  {
   "source": [
    "# Calculating KDA\n"
   ],
   "cell_type": "markdown",
   "metadata": {}
  },
  {
   "source": [
    "Defining variables\n",
    "\n",
    "KDA_Match: KDA calculated per match per player\n",
    "KDA_Season: Mean KDA for that player for this seasons\n",
    "\n",
    "K_Match: Total kills in that match\n",
    "D_Match: Total deaths in that match\n",
    "A_Match: Total assists in that match\n",
    "\n",
    "K_Season: Total kills in that season\n",
    "D_Season: Total deaths in that season\n",
    "A_Season: Total assists in that season\n",
    "? Should we use total or average?\n",
    "\n",
    "Calculations\n",
    "\n",
    "KDA base calculation= Kills + Assists / Deaths\n",
    "KDA_Match = K_Match + A_Match / D_Match\n",
    "KDA_Season = K_Season + A_Season / D_Season\n",
    "\n",
    "\n",
    "Setting things up: \n",
    "Season: sets the season we are pulling data from\n",
    "Region: sets the region we are pulling data from\n",
    "\n"
   ],
   "cell_type": "code",
   "metadata": {},
   "execution_count": 1,
   "outputs": [
    {
     "output_type": "error",
     "ename": "SyntaxError",
     "evalue": "invalid syntax (<ipython-input-1-263b48d9eeac>, line 2)",
     "traceback": [
      "\u001b[0;36m  File \u001b[0;32m\"<ipython-input-1-263b48d9eeac>\"\u001b[0;36m, line \u001b[0;32m2\u001b[0m\n\u001b[0;31m    Defining variables\u001b[0m\n\u001b[0m             ^\u001b[0m\n\u001b[0;31mSyntaxError\u001b[0m\u001b[0;31m:\u001b[0m invalid syntax\n"
     ]
    }
   ]
  },
  {
   "source": [
    "Confounding variables\n",
    "\n",
    "Rank\n"
   ],
   "cell_type": "code",
   "metadata": {},
   "outputs": [],
   "source": [
    "# set match request parameters\n",
    "\n",
    "# Set queue\n",
    "queue = 420\n",
    "\n",
    "# Set season"
   ]
  },
  {
   "cell_type": "code",
   "execution_count": 136,
   "metadata": {
    "tags": []
   },
   "outputs": [
    {
     "output_type": "stream",
     "name": "stdout",
     "text": [
      "0 {'platformId': 'EUW1', 'gameId': 4994448524, 'champion': 202, 'queue': 420, 'season': 13, 'timestamp': 1608750682906, 'role': 'SOLO', 'lane': 'BOTTOM'}\n"
     ]
    },
    {
     "output_type": "execute_result",
     "data": {
      "text/plain": [
       "   champion  spell1  spell2    win  kills  deaths  assists       KDA  \\\n",
       "0       245      14       4  False      3      12        2  0.416667   \n",
       "1       202       4       7  False      2       7        6  1.142857   \n",
       "2        75       4      12  False      6       4        6  3.000000   \n",
       "3        28       4      11  False      9       9        3  1.333333   \n",
       "4        99       4      14  False      2       5        4  1.200000   \n",
       "5       101       4      14   True     10       5        3  2.600000   \n",
       "6       777       4      14   True     12       5        8  4.000000   \n",
       "7        33       4      11   True      5       4       16  5.250000   \n",
       "8        67       4      12   True      5       6       10  2.500000   \n",
       "9       145       4       7   True      5       2        8  6.500000   \n",
       "\n",
       "   totalDamageDealt  goldEarned  champLevel  totalMinionsKilled  item0  item1  \n",
       "0             86328        6624          12                 117   2033   3152  \n",
       "1             52629        7906          11                 113   1055   3009  \n",
       "2             82125       10014          14                 130   1054   3110  \n",
       "3            117825       10215          13                  20   1082   3100  \n",
       "4             42003        6743          11                  63   3860   4005  \n",
       "5             48057        9959          12                  40   3853   3020  \n",
       "6            165417       12944          16                 175   1055   6673  \n",
       "7             97872        9997          14                  14   3068   3111  \n",
       "8             87816       10465          14                 134   1083   3009  \n",
       "9             76364       10332          13                 159   1055   6671  "
      ],
      "text/html": "<div>\n<style scoped>\n    .dataframe tbody tr th:only-of-type {\n        vertical-align: middle;\n    }\n\n    .dataframe tbody tr th {\n        vertical-align: top;\n    }\n\n    .dataframe thead th {\n        text-align: right;\n    }\n</style>\n<table border=\"1\" class=\"dataframe\">\n  <thead>\n    <tr style=\"text-align: right;\">\n      <th></th>\n      <th>champion</th>\n      <th>spell1</th>\n      <th>spell2</th>\n      <th>win</th>\n      <th>kills</th>\n      <th>deaths</th>\n      <th>assists</th>\n      <th>KDA</th>\n      <th>totalDamageDealt</th>\n      <th>goldEarned</th>\n      <th>champLevel</th>\n      <th>totalMinionsKilled</th>\n      <th>item0</th>\n      <th>item1</th>\n    </tr>\n  </thead>\n  <tbody>\n    <tr>\n      <th>0</th>\n      <td>245</td>\n      <td>14</td>\n      <td>4</td>\n      <td>False</td>\n      <td>3</td>\n      <td>12</td>\n      <td>2</td>\n      <td>0.416667</td>\n      <td>86328</td>\n      <td>6624</td>\n      <td>12</td>\n      <td>117</td>\n      <td>2033</td>\n      <td>3152</td>\n    </tr>\n    <tr>\n      <th>1</th>\n      <td>202</td>\n      <td>4</td>\n      <td>7</td>\n      <td>False</td>\n      <td>2</td>\n      <td>7</td>\n      <td>6</td>\n      <td>1.142857</td>\n      <td>52629</td>\n      <td>7906</td>\n      <td>11</td>\n      <td>113</td>\n      <td>1055</td>\n      <td>3009</td>\n    </tr>\n    <tr>\n      <th>2</th>\n      <td>75</td>\n      <td>4</td>\n      <td>12</td>\n      <td>False</td>\n      <td>6</td>\n      <td>4</td>\n      <td>6</td>\n      <td>3.000000</td>\n      <td>82125</td>\n      <td>10014</td>\n      <td>14</td>\n      <td>130</td>\n      <td>1054</td>\n      <td>3110</td>\n    </tr>\n    <tr>\n      <th>3</th>\n      <td>28</td>\n      <td>4</td>\n      <td>11</td>\n      <td>False</td>\n      <td>9</td>\n      <td>9</td>\n      <td>3</td>\n      <td>1.333333</td>\n      <td>117825</td>\n      <td>10215</td>\n      <td>13</td>\n      <td>20</td>\n      <td>1082</td>\n      <td>3100</td>\n    </tr>\n    <tr>\n      <th>4</th>\n      <td>99</td>\n      <td>4</td>\n      <td>14</td>\n      <td>False</td>\n      <td>2</td>\n      <td>5</td>\n      <td>4</td>\n      <td>1.200000</td>\n      <td>42003</td>\n      <td>6743</td>\n      <td>11</td>\n      <td>63</td>\n      <td>3860</td>\n      <td>4005</td>\n    </tr>\n    <tr>\n      <th>5</th>\n      <td>101</td>\n      <td>4</td>\n      <td>14</td>\n      <td>True</td>\n      <td>10</td>\n      <td>5</td>\n      <td>3</td>\n      <td>2.600000</td>\n      <td>48057</td>\n      <td>9959</td>\n      <td>12</td>\n      <td>40</td>\n      <td>3853</td>\n      <td>3020</td>\n    </tr>\n    <tr>\n      <th>6</th>\n      <td>777</td>\n      <td>4</td>\n      <td>14</td>\n      <td>True</td>\n      <td>12</td>\n      <td>5</td>\n      <td>8</td>\n      <td>4.000000</td>\n      <td>165417</td>\n      <td>12944</td>\n      <td>16</td>\n      <td>175</td>\n      <td>1055</td>\n      <td>6673</td>\n    </tr>\n    <tr>\n      <th>7</th>\n      <td>33</td>\n      <td>4</td>\n      <td>11</td>\n      <td>True</td>\n      <td>5</td>\n      <td>4</td>\n      <td>16</td>\n      <td>5.250000</td>\n      <td>97872</td>\n      <td>9997</td>\n      <td>14</td>\n      <td>14</td>\n      <td>3068</td>\n      <td>3111</td>\n    </tr>\n    <tr>\n      <th>8</th>\n      <td>67</td>\n      <td>4</td>\n      <td>12</td>\n      <td>True</td>\n      <td>5</td>\n      <td>6</td>\n      <td>10</td>\n      <td>2.500000</td>\n      <td>87816</td>\n      <td>10465</td>\n      <td>14</td>\n      <td>134</td>\n      <td>1083</td>\n      <td>3009</td>\n    </tr>\n    <tr>\n      <th>9</th>\n      <td>145</td>\n      <td>4</td>\n      <td>7</td>\n      <td>True</td>\n      <td>5</td>\n      <td>2</td>\n      <td>8</td>\n      <td>6.500000</td>\n      <td>76364</td>\n      <td>10332</td>\n      <td>13</td>\n      <td>159</td>\n      <td>1055</td>\n      <td>6671</td>\n    </tr>\n  </tbody>\n</table>\n</div>"
     },
     "metadata": {},
     "execution_count": 136
    }
   ],
   "source": [
    "# Retrieve last 100 matches (max is 100 matches https://developer.riotgames.com/apis#match-v4) but time range is 1 week \n",
    "matches = lol_watcher.match.matchlist_by_account(region=region,\n",
    "                                                 encrypted_account_id=user[\"accountId\"],\n",
    "                                                 queue=queue,\n",
    "                                                 begin_index=0,\n",
    "                                                 end_index=100)\n",
    "# print(matches.keys())\n",
    "\n",
    "# Get match details\n",
    "for i, match in enumerate(matches[\"matches\"][0:1]): # currently last 5 matches\n",
    "        print(i, match)\n",
    "        match_detail = lol_watcher.match.by_id(region, match['gameId'])\n",
    "        \n",
    "participants = []\n",
    "for row in match_detail['participants']:\n",
    "    participants_row = {}\n",
    "    participants_row['champion'] = row['championId']\n",
    "    participants_row['spell1'] = row['spell1Id']\n",
    "    participants_row['spell2'] = row['spell2Id']\n",
    "    participants_row['win'] = row['stats']['win']\n",
    "    participants_row['kills'] = row['stats']['kills']\n",
    "    participants_row['deaths'] = row['stats']['deaths']\n",
    "    participants_row['assists'] = row['stats']['assists']\n",
    "    participants_row['KDA'] = (row['stats']['kills']+row['stats']['assists'])/row['stats']['deaths']\n",
    "    participants_row['totalDamageDealt'] = row['stats']['totalDamageDealt']\n",
    "    participants_row['goldEarned'] = row['stats']['goldEarned']\n",
    "    participants_row['champLevel'] = row['stats']['champLevel']\n",
    "    participants_row['totalMinionsKilled'] = row['stats']['totalMinionsKilled']\n",
    "    participants_row['item0'] = row['stats']['item0']\n",
    "    participants_row['item1'] = row['stats']['item1']\n",
    "    participants.append(participants_row)\n",
    "df = pd.DataFrame(participants)\n",
    "df"
   ]
  },
  {
   "source": [
    "# Some extra info"
   ],
   "cell_type": "markdown",
   "metadata": {}
  },
  {
   "cell_type": "code",
   "execution_count": null,
   "metadata": {},
   "outputs": [],
   "source": [
    "# How a request link looks like and what all the parts do\n",
    "\n",
    "# https://na1.api.riotgames.com/lol/summoner/v4/summoners/by-name/Doublelift?api_key=RGAPI-edd56035-f7c2-4e06-83d4-3b578380b730\n",
    "\n",
    "# https://- All requests to the API must use HTTPS. This ensures maximum security on your requests.\n",
    "# na1– This is the “Platform” that you’re making the request on. For example, NA summoners will use NA1, EUW summoners will use EUW1. See the Regional Endpoints page for more platform IDs. For now, just understand that a platform is related to the region that the summoner plays on\n",
    "# api.riotgames.com – This means we’re accessing the Riot Games API\n",
    "# lol/summoner/v3/summoners/by-name/– The API we're wanting data from, in this case summoners by name\n",
    "# WxWatch – the parameter for the endpoint, in this case, the name of the summoner we want data for (it's me!)\n",
    "# ?api_key – Our API key which tells the API that we are allowed to get data\n"
   ]
  }
 ],
 "metadata": {
  "kernelspec": {
   "display_name": "Python 3",
   "name": "python3",
   "language": "python"
  },
  "language_info": {
   "codemirror_mode": {
    "name": "ipython",
    "version": 3
   },
   "file_extension": ".py",
   "mimetype": "text/x-python",
   "name": "python",
   "nbconvert_exporter": "python",
   "pygments_lexer": "ipython3",
   "version": "3.9.1-final"
  },
  "orig_nbformat": 2
 },
 "nbformat": 4,
 "nbformat_minor": 2
}