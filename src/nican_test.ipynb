{
 "cells": [
  {
   "cell_type": "markdown",
   "metadata": {},
   "source": [
    "# Imports"
   ]
  },
  {
   "cell_type": "code",
   "execution_count": 1,
   "metadata": {},
   "outputs": [],
   "source": [
    "from pathlib2 import Path\n",
    "from riotwatcher import LolWatcher, ApiError\n",
    "import json"
   ]
  },
  {
   "cell_type": "markdown",
   "metadata": {},
   "source": [
    "# Functions"
   ]
  },
  {
   "cell_type": "code",
   "execution_count": 2,
   "metadata": {},
   "outputs": [],
   "source": [
    "def api_key(credentials):\n",
    "    \"\"\"Checking if the development API key from riot's development portal has been set and/or needs to be updated\n",
    "    \n",
    "    Input is a JSON file \n",
    "\n",
    "    \"\"\"\n",
    "    with open(credentials) as json_data:\n",
    "        credentials = json.load(json_data)\n",
    "    return credentials\n",
    "    # TODO: add that it checks for if the key is still valid or not error 404 or something\n",
    "    # global api_key\n",
    "    # try:\n",
    "    #     api_key\n",
    "    # except NameError:\n",
    "    #     api_key = str(input(\"Input development API key.\"))\n",
    "    # else:\n",
    "    #     print(\"API key already defined.\")\n",
    "    "
   ]
  },
  {
   "cell_type": "markdown",
   "metadata": {},
   "source": [
    "# Main"
   ]
  },
  {
   "cell_type": "code",
   "execution_count": 3,
   "metadata": {},
   "outputs": [],
   "source": [
    "# Folder locations\n",
    "\n",
    "# Project folders\n",
    "project_folder = Path.cwd().parent\n",
    "\n",
    "# Raw data storage\n",
    "data_storagez= project_folder / \"data\"\n",
    "\n",
    "# Out folder\n",
    "out_folder = project_folder / \"out\""
   ]
  },
  {
   "cell_type": "code",
   "execution_count": 4,
   "metadata": {},
   "outputs": [
    {
     "output_type": "error",
     "ename": "SyntaxError",
     "evalue": "invalid syntax (<ipython-input-4-e6a6256e7eaf>, line 4)",
     "traceback": [
      "\u001b[1;36m  File \u001b[1;32m\"<ipython-input-4-e6a6256e7eaf>\"\u001b[1;36m, line \u001b[1;32m4\u001b[0m\n\u001b[1;33m    test.python.\u001b[0m\n\u001b[1;37m                 ^\u001b[0m\n\u001b[1;31mSyntaxError\u001b[0m\u001b[1;31m:\u001b[0m invalid syntax\n"
     ]
    }
   ],
   "source": [
    "# Set API key\n",
    "api_key_loc = project_folder / \"dev_api_key.json\"\n",
    "lol_watcher = LolWatcher(api_key(api_key_loc)) "
   ]
  },
  {
   "cell_type": "code",
   "execution_count": null,
   "metadata": {},
   "outputs": [],
   "source": []
  },
  {
   "cell_type": "code",
   "execution_count": null,
   "metadata": {},
   "outputs": [],
   "source": []
  },
  {
   "cell_type": "code",
   "execution_count": null,
   "metadata": {},
   "outputs": [],
   "source": []
  },
  {
   "cell_type": "code",
   "execution_count": null,
   "metadata": {},
   "outputs": [],
   "source": []
  },
  {
   "source": [
    "# Some extra info"
   ],
   "cell_type": "markdown",
   "metadata": {}
  },
  {
   "cell_type": "code",
   "execution_count": null,
   "metadata": {},
   "outputs": [],
   "source": [
    "# How a request link looks like and what all the parts do\n",
    "\n",
    "# https://na1.api.riotgames.com/lol/summoner/v4/summoners/by-name/Doublelift?api_key=RGAPI-edd56035-f7c2-4e06-83d4-3b578380b730\n",
    "\n",
    "# https://- All requests to the API must use HTTPS. This ensures maximum security on your requests.\n",
    "# na1– This is the “Platform” that you’re making the request on. For example, NA summoners will use NA1, EUW summoners will use EUW1. See the Regional Endpoints page for more platform IDs. For now, just understand that a platform is related to the region that the summoner plays on\n",
    "# api.riotgames.com – This means we’re accessing the Riot Games API\n",
    "# lol/summoner/v3/summoners/by-name/– The API we're wanting data from, in this case summoners by name\n",
    "# WxWatch – the parameter for the endpoint, in this case, the name of the summoner we want data for (it's me!)\n",
    "# ?api_key – Our API key which tells the API that we are allowed to get data\n"
   ]
  }
 ],
 "metadata": {
  "kernelspec": {
   "display_name": "Python 3",
   "name": "python3",
   "language": "python"
  },
  "language_info": {
   "codemirror_mode": {
    "name": "ipython",
    "version": 3
   },
   "file_extension": ".py",
   "mimetype": "text/x-python",
   "name": "python",
   "nbconvert_exporter": "python",
   "pygments_lexer": "ipython3",
   "version": "3.9.1-final"
  },
  "orig_nbformat": 2
 },
 "nbformat": 4,
 "nbformat_minor": 2
}