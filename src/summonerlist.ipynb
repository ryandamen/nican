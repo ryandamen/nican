{
 "metadata": {
  "language_info": {
   "codemirror_mode": {
    "name": "ipython",
    "version": 3
   },
   "file_extension": ".py",
   "mimetype": "text/x-python",
   "name": "python",
   "nbconvert_exporter": "python",
   "pygments_lexer": "ipython3",
   "version": "3.9.1-final"
  },
  "orig_nbformat": 2,
  "kernelspec": {
   "name": "python3",
   "display_name": "Python 3",
   "language": "python"
  }
 },
 "nbformat": 4,
 "nbformat_minor": 2,
 "cells": [
  {
   "source": [
    "# Collecting summoner IDs per Region, Division & Tier"
   ],
   "cell_type": "markdown",
   "metadata": {}
  },
  {
   "cell_type": "code",
   "execution_count": null,
   "metadata": {},
   "outputs": [],
   "source": [
    "## Notes\n",
    "\n",
    "! Display line numbers by clicking left of the green bar of the cell and pressing L. Has to be done on a per cell basis. \n",
    "\n",
    "Source: https://riot-api-libraries.readthedocs.io/en/latest/collectingdata.html\n",
    "\n",
    "You can also use the League endpoints to get lists of ranked summoners. The positional league endpoints provide a paginated list of all summoners in a Tier + Division + Position (e.g. all ranked Diamond II Top laners). Alternatively, Canisback on the Discord currently hosts a list of league IDs that you can use to pull summoners from the leagues/{leagueId} endpoints. These lists are provided for free to the community for use, and may go down or stop being updated at any time.\n",
    "    https://developer.riotgames.com/apis#league-exp-v4/GET_getLeagueEntries\n",
    "\n",
    "Helpful tutorial for this\n",
    "- pulling specific data from API https://www.dataquest.io/blog/python-api-tutorial/ \n",
    "\n",
    "List of public API's for playing around another time\n",
    "- https://github.com/public-apis/public-apis\n",
    "\n",
    "Other (unused so far) tutorials:\n",
    "- Writing & reading Json files https://stackabuse.com/reading-and-writing-json-to-a-file-in-python/ \n",
    "\n"
   ]
  },
  {
   "source": [
    "## Get summoner IDs & names by region, tier & division https://developer.riotgames.com/apis#league-exp-v4/GET_getLeagueEntries"
   ],
   "cell_type": "markdown",
   "metadata": {}
  },
  {
   "cell_type": "code",
   "execution_count": null,
   "metadata": {
    "tags": [
     "outputPrepend"
    ]
   },
   "outputs": [],
   "source": [
    "# Main\n",
    "# do not remove! works on test dataset tier_list2 & division_list2\n",
    "# gets all the summonerName, summonerID, wins & losses for all tiers & divisions in a region. \n",
    "\n",
    "\n",
    "# importing tools\n",
    "import requests\n",
    "import pandas as pd\n",
    "import json\n",
    "import numpy as np\n",
    "import itertools\n",
    "\n",
    "def jprint(obj):\n",
    "    text = json.dumps(obj, sort_keys=True, indent=4)\n",
    "    print(text)\n",
    "\n",
    "# temp api key location\n",
    "apikey = ## empty for github\n",
    "\n",
    "# set variables set\n",
    "region = 'euw1'\n",
    "queue_type = 'RANKED_SOLO_5x5' \n",
    "\n",
    "# create variables that will be looped\n",
    "tier_list = ['IRON', 'BRONZE', 'SILVER', 'GOLD', 'PLATINUM', 'DIAMOND', 'MASTER', 'GRANDMASTER', 'CHALLENGER']\n",
    "division_list = ['I', 'II', 'III', 'IV']\n",
    "\n",
    "tier_list2 = ['GRANDMASTER', 'CHALLENGER'] # testing with these\n",
    "division_list2 = ['I', 'II'] # testing with these\n",
    "\n",
    "# iterate through the variables to create the dataset\n",
    "for tier_counter in tier_list2:      # iterate through the tiers\n",
    "    for division_counter in division_list2: # iterate through the divisions\n",
    "        summoner_list = [] # create an empty summoner_list for each tier & division combination. data from more pages will go into the existing list\n",
    "        print(tier_counter, division_counter)\n",
    "        page_counter = 1\n",
    "        keep_going = True\n",
    "        while keep_going == True:\n",
    "            url_id = ('https://' + region + '.api.riotgames.com/lol/league-exp/v4/entries/' + queue_type + '/' + str(tier_counter) + '/' + str(division_counter) + '?page=' + str(page_counter) + '&api_key=' + apikey) # create the URL  \n",
    "            print (url_id)\n",
    "            response_code = requests.get(url_id) # access the url\n",
    "            print(str(response_code.status_code)) # response_code is an object, so have to change the type of reponse_code to a string with str(response_code)\n",
    "            if response_code.status_code == 200: \n",
    "                print('if response code')\n",
    "                response_json = response_code.json() # put the response in a json format\n",
    "                if bool(response_json):    ##? I think it makes more sense to pull just a little bit of text, no need to put everything in and then run the check, just put in a little bit and if that works keep going. > looking for code efficiency\n",
    "                    print('if bool')\n",
    "                    # grab summonerId, summonerName, wins, & losses and append them to a new list summoner_list\n",
    "                    for summoner_counter in response_json:\n",
    "                        summoner_list.append([summoner_counter['summonerId'], summoner_counter['summonerName'], summoner_counter['wins'], summoner_counter['losses']])\n",
    "                        # jprint (summoner_list)\n",
    "                        summoner_df = pd.DataFrame(data=summoner_list, columns=['summonerId', 'summonerName', 'wins', 'losses']) # create and fill a dataframe from the list summoner_list\n",
    "                        # summoner_df.head(10)    #displaying the first 10 results of the dataframe\n",
    "                        # summoner_df.tail(10)    #displaying the last 10 results of the dataframe\n",
    "                        summoner_dict = summoner_df.to_dict() # converting the dataframe into a dictionary\n",
    "                        # summoner_dict.keys() # returns a list of all the available keys in the dictionary\n",
    "                        # summoner_dict.values() # returns a list of all the available values in the dictionary\n",
    "                    print ('page ', page_counter, 'done')\n",
    "                    page_counter = page_counter+1\n",
    "                else:\n",
    "                    print('else bool')\n",
    "                    keep_going = False\n",
    "                    print('page_counter: ', page_counter)\n",
    "                    break\n",
    "            else:  # else if there is no data, exit this loop\n",
    "                print('else response code')\n",
    "                print('page_counter: ', page_counter)\n",
    "                break\n",
    "        \n",
    "# challenger has 1 page of data\n",
    "# grandmaster has 4 pages of data\n",
    "\n"
   ]
  },
  {
   "cell_type": "code",
   "execution_count": null,
   "metadata": {},
   "outputs": [],
   "source": [
    "# remaining to do\n",
    "\n",
    "    * [ ] create a dataframe that tracks the last page with data for each tier/division\n",
    "    * [ ] when done put the dataframe in a dict where the key is the tier+division\n",
    "\n",
    "## displaying dataframe doesnt seem to work\n",
    "summoner_df.head(10)    #displaying the first 10 results of the dataframe\n",
    "summoner_df.tail(10)    #displaying the last 10 results of the dataframe\n"
   ]
  },
  {
   "source": [
    "## Get account ID by summoner ID or name https://developer.riotgames.com/apis#summoner-v4/GET_getBySummonerName"
   ],
   "cell_type": "markdown",
   "metadata": {}
  },
  {
   "cell_type": "code",
   "execution_count": null,
   "metadata": {},
   "outputs": [],
   "source": []
  }
 ]
}