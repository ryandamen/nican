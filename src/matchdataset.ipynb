{
 "metadata": {
  "language_info": {
   "codemirror_mode": {
    "name": "ipython",
    "version": 3
   },
   "file_extension": ".py",
   "mimetype": "text/x-python",
   "name": "python",
   "nbconvert_exporter": "python",
   "pygments_lexer": "ipython3",
   "version": "3.9.1-final"
  },
  "orig_nbformat": 2,
  "kernelspec": {
   "name": "python3",
   "display_name": "Python 3",
   "language": "python"
  }
 },
 "nbformat": 4,
 "nbformat_minor": 2,
 "cells": [
  {
   "source": [
    "## 3/4 Get match list by account ID https://developer.riotgames.com/apis#match-v4/GET_getMatchlist"
   ],
   "cell_type": "markdown",
   "metadata": {}
  },
  {
   "cell_type": "code",
   "execution_count": null,
   "metadata": {},
   "outputs": [],
   "source": [
    "# remaining to do for Block: [get match list]\n",
    "    * [ ] per account Id, cycle through queue types and make that a dict where the key is the queue type \n",
    "    * [ ] when done put the dataframe in a dict where the key is the accountId\n",
    "    * [ ] make the block into a function\n",
    "\n"
   ]
  },
  {
   "cell_type": "code",
   "execution_count": null,
   "metadata": {},
   "outputs": [],
   "source": [
    "## temp instance of account_list\n",
    "\n",
    "account_list = [['g2YD33k6-PJP1GXbOomLnunrGgnh43arV_knNEoKSUJk_zM', 'Bg4Ejd_O72GTvMx8IBMyOignD-1eMifVxacJDcXYjvUUZQ'], ['p5yXs9T4RbRCLVMbKQYEIPYvf6SpLnuV06W4lLk4uplyDVs', 'nnRoPXZ-f4rxwFUtOfElmwnmczB8kjPjPZLcn2H9AEy3nw'], ['PKWTXuIqlW-sVxu9giyen6sKtQEGhqMthdOwb2KXKhAMyc4', 'bLa61l1IQywQN8bZ_kD_3cgJyzTqJS4xxByoxaQ8vlnUHg'], ['RQwkFLRLJAA39aI6qru1PE6NIZgztRPU7hR0PLp1Vq09ApQ', 'ccak3NKbEk8r8sVVRNl2y8kRFRpQSgJVXUIL2iGDtcCDOqg'], ['1PnvjdQ8fp9RrXg9pdJMGb00Del3rqwjFqZwHDr6lnzCR18', 'K71CJD8vIGKUzfPA3bUrMb8Y3FueCSNr7oSzAUBKSiUMGcE'], ['MGV5ICWr6QKalToGZ5p-fykdB6I5hXPwi5oig89iuMy6vfgD', 'nNjqpA0y0EiqLA2L0_rfHRoFC7RV4zRHNayHTIDi2gLH_4vTRairGA8u'], ['Ni0KtYINGti4Xvna202thV4UJgq98ABoD-2p6GX2FkB76LQ', 'jcNK6MXCs6Met12ozVU4T59IpCrgwH-S2nDdySbp12WVHg'], ['1BcwUfjWBdBrJcP2Xn3w9GRzVFcERudGzUOW3N0ZZ1AIe_A', 'FhrN1TwOcxc3Jcu7DFNrwnich-e4QxU5FFn3bgdyjLPGxg'], ['_G1CJBv0bslZ-9-anVIyYIXeZXtppcpf5Ci8qEDrDG1Trac', 'yaaOTEigH9oSRlYzKjbAw9XhzMAH7oIlWFsl24vfFDpNxg'], ['XC0i5PmsvYaDEO2yyDfBdlCobFKG1RXJaDe-CHd8CJKukwsI', 'ASNqg5OSyFLO14SCn5g448rmC18mL42gEgRdvE1YT_Y1FzOvPV4pCD-C'], ['6_umUZuI_TMoOdsoW_t_511MvPHqrQMM0zMm8F1noDbhlU4', '6kVn9UjdU-l0mtgBLqETMo6iaD8MWWxZG9ELYhrP9Ea6_b8']]\n",
    "\n",
    "jprint (account_list)\n",
    "\n",
    "# account_list.append([response_json_account['id'], response_json_account['accountId']]) # \n",
    "\n"
   ]
  },
  {
   "cell_type": "code",
   "execution_count": null,
   "metadata": {},
   "outputs": [],
   "source": [
    "## temp tiny account list\n",
    "\n",
    "account_list2 = [['g2YD33k6-PJP1GXbOomLnunrGgnh43arV_knNEoKSUJk_zM', 'Bg4Ejd_O72GTvMx8IBMyOignD-1eMifVxacJDcXYjvUUZQ'], ['p5yXs9T4RbRCLVMbKQYEIPYvf6SpLnuV06W4lLk4uplyDVs', 'nnRoPXZ-f4rxwFUtOfElmwnmczB8kjPjPZLcn2H9AEy3nw']]\n",
    "\n",
    "jprint (account_list2)"
   ]
  },
  {
   "cell_type": "code",
   "execution_count": 237,
   "metadata": {
    "tags": []
   },
   "outputs": [
    {
     "output_type": "stream",
     "name": "stdout",
     "text": [
      "url_id https://euw1.api.riotgames.com/lol/match/v4/matchlists/by-account/Bg4Ejd_O72GTvMx8IBMyOignD-1eMifVxacJDcXYjvUUZQ?queue=420&beginTime=1603872000&api_key=RGAPI-853eea41-c5c5-4ef7-83a6-9855143e7b98\n",
      "if response code 200\n",
      "if bool\n",
      "url_id https://euw1.api.riotgames.com/lol/match/v4/matchlists/by-account/nnRoPXZ-f4rxwFUtOfElmwnmczB8kjPjPZLcn2H9AEy3nw?queue=420&beginTime=1603872000&api_key=RGAPI-853eea41-c5c5-4ef7-83a6-9855143e7b98\n",
      "if response code 200\n",
      "if bool\n"
     ]
    }
   ],
   "source": [
    "# Block: [get match list]\n",
    "# gets a list of matches using the account ID and creates a new matchlist dataframe for that account. \n",
    "\n",
    "# importing tools\n",
    "import requests\n",
    "import pandas as pd\n",
    "import json\n",
    "\n",
    "# set variables\n",
    "region = 'euw1'\n",
    "queue = 420\n",
    "# 5v5 ranked games (queueId 420 and 440) \n",
    "# 5v5 normal games (queueId 400 and 430)\n",
    "beginTime = 1603872000\n",
    "# max 1 week, so start at first week of patch, then run it again with start of 2nd patch week\n",
    "\n",
    "\n",
    "# printing things more readable (in a vertical list instead of horizontal)\n",
    "def jprint(obj):\n",
    "    text = json.dumps(obj, sort_keys=True, indent=4)\n",
    "    print(text)\n",
    "\n",
    "# temp api key location\n",
    "apikey = 'RGAPI-853eea41-c5c5-4ef7-83a6-9855143e7b98'\n",
    "\n",
    "# create an empty matchlist\n",
    "match_list = []\n",
    "\n",
    "# take the accountId from each 'row' from the nested list\n",
    "for accountId_location in account_list2:  \n",
    "    # print(accountId_location[1])\n",
    "    ## in de URl filter for queue \n",
    "    url_id = ('https://' + region + '.api.riotgames.com/lol/match/v4/matchlists/by-account/' + str(accountId_location[1]) + '?queue=' + str(queue) + '&beginTime=' + str(beginTime) + '&api_key=' + apikey) # create the URL\n",
    "    print ('url_id', url_id)\n",
    "    response_code_match = requests.get(url_id) # access the url\n",
    "    if response_code_match.status_code == 200: \n",
    "        print('if response code', str(response_code_match.status_code))\n",
    "        response_json_match = response_code_match.json() # put the response in a json format\n",
    "        if bool(response_json_match):    ##? I think it makes more sense to pull just a little bit of text, no need to put everything in and then run the check, just put in a little bit and if that works keep going. > looking for code efficiency\n",
    "            print('if bool')\n",
    "            # print('response_json_match', response_json_match) # print the response body\n",
    "            for matches_counter in range(len(response_json_match['matches'])):\n",
    "                # print(response_json_match['matches'][matches_counter]['gameId'], response_json_match['matches'][matches_counter]['champion'], response_json_match['matches'][matches_counter]['timestamp'], response_json_match['matches'][matches_counter]['role'], response_json_match['matches'][matches_counter]['lane']) # print the gameId, champion, timestamp, role & lane\n",
    "                match_list.append([response_json_match['matches'][matches_counter]['gameId'], response_json_match['matches'][matches_counter]['champion'], response_json_match['matches'][matches_counter]['timestamp'], response_json_match['matches'][matches_counter]['role'], response_json_match['matches'][matches_counter]['lane']]) # append the gameId, champion, timestamp, role & lane to the match_list list\n",
    "            # print (match_list)\n",
    "            match_df = pd.DataFrame(data=match_list, columns=['gameId', 'champion', 'timestamp', 'role', 'lane']) # create and fill a dataframe from the list match_list ## note this should be at the end of running through all the pages, so it only has to be done 1x. ##? not sure if this is the right place, I feel like it should be more to the left indented. Leaving it for now cuz it works, albeit not efficient\n",
    "            # match_df.head(10)    #displaying the first 10 results of the dataframe\n",
    "            # match_df.tail(10)    #displaying the last 10 results of the dataframe\n",
    "            match_dict = match_df.to_dict() # converting the dataframe into a dictionary\n",
    "            # match_dict.keys() # returns a list of all the available keys in the dictionary\n",
    "            # match_dict.values() # returns a list of all the available values in the dictionary\n",
    "        else:\n",
    "            print('else bool')\n",
    "    else:\n",
    "        print('else response code', str(response_code_match.status_code)) # response_code is an object, so have to change the type of reponse_code to a string with str(response_code)\n",
    "\n",
    "\n"
   ]
  },
  {
   "cell_type": "code",
   "execution_count": null,
   "metadata": {},
   "outputs": [],
   "source": []
  }
 ]
}