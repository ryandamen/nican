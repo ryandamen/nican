{
 "cells": [
  {
   "cell_type": "markdown",
   "metadata": {},
   "source": [
    "# Imports"
   ]
  },
  {
   "cell_type": "code",
   "execution_count": 24,
   "metadata": {},
   "outputs": [],
   "source": [
    "from pathlib2 import Path\n",
    "from riotwatcher import LolWatcher, ApiError\n",
    "\n",
    "import arrow\n",
    "import json\n",
    "import pandas as pd"
   ]
  },
  {
   "cell_type": "markdown",
   "metadata": {},
   "source": [
    "# Functions"
   ]
  },
  {
   "cell_type": "code",
   "execution_count": 25,
   "metadata": {},
   "outputs": [],
   "source": [
    "def api_key(credentials):\n",
    "    \"\"\"Reads in the development API key from a file and checks if it is viable \n",
    "    \n",
    "    Input is a JSON file \n",
    "\n",
    "    \"\"\"\n",
    "    while True:\n",
    "        with open(api_key_loc, \"r\") as json_data:\n",
    "            credentials = json.load(json_data)\n",
    "            api_key = credentials[\"dev_api_key\"]\n",
    "            lol_watcher = LolWatcher(credentials[\"dev_api_key\"])\n",
    "            try:\n",
    "                # Use the current API key to check server status\n",
    "                server_status = lol_watcher.lol_status.shard_data(\"euw1\")\n",
    "                # break if works\n",
    "                break\n",
    "            except ApiError as error:\n",
    "                # If the current API key does not work input new one\n",
    "                if error.response.status_code == 403:\n",
    "                    new_api_key = input(\"API key is incorrect, enter correct key here.\")\n",
    "                    credentials[\"dev_api_key\"] = new_api_key\n",
    "                    # Replace the old API key\n",
    "                    with open(api_key_loc, \"w\") as json_data:\n",
    "                        json.dump(credentials, json_data)\n",
    "    return api_key"
   ]
  },
  {
   "cell_type": "markdown",
   "metadata": {},
   "source": [
    "# Main"
   ]
  },
  {
   "cell_type": "code",
   "execution_count": 6,
   "metadata": {},
   "outputs": [],
   "source": [
    "# Folder locations\n",
    "\n",
    "# Project folders\n",
    "project_folder = Path.cwd().parent\n",
    "\n",
    "# Raw data storage\n",
    "data_folder = project_folder / \"data\"\n",
    "\n",
    "# Out folder\n",
    "out_folder = project_folder / \"out\""
   ]
  },
  {
   "cell_type": "code",
   "execution_count": 27,
   "metadata": {},
   "outputs": [],
   "source": [
    "# Set API key\n",
    "api_key_loc = data_folder / \"dev_api_key.json\"\n",
    "lol_watcher = LolWatcher(api_key(api_key_loc)) "
   ]
  },
  {
   "cell_type": "code",
   "execution_count": 7,
   "metadata": {},
   "outputs": [],
   "source": [
    "# Set user request parameters\n",
    "\n",
    "# Set region\n",
    "region = \"euw1\"\n",
    "\n",
    "# Set summonder name \n",
    "summoner_name = \"alnas\" # not case sensitive"
   ]
  },
  {
   "source": [
    "### User info"
   ],
   "cell_type": "markdown",
   "metadata": {}
  },
  {
   "cell_type": "code",
   "execution_count": 118,
   "metadata": {},
   "outputs": [
    {
     "output_type": "stream",
     "name": "stdout",
     "text": [
      "{'id': 'vvnJnOwimLDEuJz55em8ihuAIjfQcfQk0qNTs1xK1SujIEA', 'accountId': 'U8waP8B_8dhhTEMZOZtmyV4vqBfEYHiCNnUMXmPD4EaMeQ', 'puuid': '-0mFh1iO9XEjqTEh8xofNi7wsCx_I7sLHsxhSp7sv8q4sIDuQa_ei3MtfGkud7KyX9PO_ujw76m5yg', 'name': 'Alnas', 'profileIconId': 3382, 'revisionDate': 1608752230000, 'summonerLevel': 101}\n"
     ]
    }
   ],
   "source": [
    "# retrieve info using region and summoner name\n",
    "\n",
    "user = lol_watcher.summoner.by_name(region, summoner_name)\n",
    "print(user)"
   ]
  },
  {
   "cell_type": "code",
   "execution_count": 119,
   "metadata": {},
   "outputs": [
    {
     "output_type": "stream",
     "name": "stdout",
     "text": [
      "[{'leagueId': 'e74bb70a-b493-4f52-a031-c20909161b03', 'queueType': 'RANKED_SOLO_5x5', 'tier': 'GOLD', 'rank': 'II', 'summonerId': 'vvnJnOwimLDEuJz55em8ihuAIjfQcfQk0qNTs1xK1SujIEA', 'summonerName': 'Alnas', 'leaguePoints': 25, 'wins': 46, 'losses': 41, 'veteran': False, 'inactive': False, 'freshBlood': False, 'hotStreak': False}]\n"
     ]
    }
   ],
   "source": [
    "# Check rank stats using user id\n",
    "ranked_stats = lol_watcher.league.by_summoner(region, user[\"id\"])\n",
    "print(ranked_stats)"
   ]
  },
  {
   "source": [
    "### Match info"
   ],
   "cell_type": "markdown",
   "metadata": {}
  },
  {
   "cell_type": "code",
   "execution_count": null,
   "metadata": {},
   "outputs": [],
   "source": [
    "# set match request parameters\n",
    "\n",
    "# Set queue\n",
    "queue = 420\n",
    "\n",
    "# Set season"
   ]
  },
  {
   "cell_type": "code",
   "execution_count": 38,
   "metadata": {
    "tags": []
   },
   "outputs": [
    {
     "output_type": "stream",
     "name": "stdout",
     "text": [
      "0 {'platformId': 'EUW1', 'gameId': 4994448524, 'champion': 202, 'queue': 420, 'season': 13, 'timestamp': 1608750682906, 'role': 'SOLO', 'lane': 'BOTTOM'}\n",
      "   champion  spell1  spell2    win  kills  deaths  assists       KDA  \\\n",
      "0       245      14       4  False      3      12        2  0.416667   \n",
      "1       202       4       7  False      2       7        6  1.142857   \n",
      "2        75       4      12  False      6       4        6  3.000000   \n",
      "3        28       4      11  False      9       9        3  1.333333   \n",
      "4        99       4      14  False      2       5        4  1.200000   \n",
      "5       101       4      14   True     10       5        3  2.600000   \n",
      "6       777       4      14   True     12       5        8  4.000000   \n",
      "7        33       4      11   True      5       4       16  5.250000   \n",
      "8        67       4      12   True      5       6       10  2.500000   \n",
      "9       145       4       7   True      5       2        8  6.500000   \n",
      "\n",
      "   totalDamageDealt  goldEarned  champLevel  totalMinionsKilled  item0  item1  \n",
      "0             86328        6624          12                 117   2033   3152  \n",
      "1             52629        7906          11                 113   1055   3009  \n",
      "2             82125       10014          14                 130   1054   3110  \n",
      "3            117825       10215          13                  20   1082   3100  \n",
      "4             42003        6743          11                  63   3860   4005  \n",
      "5             48057        9959          12                  40   3853   3020  \n",
      "6            165417       12944          16                 175   1055   6673  \n",
      "7             97872        9997          14                  14   3068   3111  \n",
      "8             87816       10465          14                 134   1083   3009  \n",
      "9             76364       10332          13                 159   1055   6671  \n"
     ]
    }
   ],
   "source": [
    "# Retrieve last 100 matches (max is 100 matches https://developer.riotgames.com/apis#match-v4) but time range is 1 week \n",
    "matches = lol_watcher.match.matchlist_by_account(region=region,\n",
    "                                                 encrypted_account_id=user[\"accountId\"],\n",
    "                                                 queue=queue,\n",
    "                                                 begin_index=0,\n",
    "                                                 end_index=100)\n",
    "# print(matches.keys())\n",
    "\n",
    "# for i in match:\n",
    "    # print(i)\n",
    "# Get match details\n",
    "for i, match in enumerate(matches[\"matches\"][0:1]): # currently last matches\n",
    "        print(i, match)\n",
    "        match_detail = lol_watcher.match.by_id(region, match[\"gameId\"])\n",
    "\n",
    "participants = []\n",
    "for row in match_detail['participants']:\n",
    "    participants_row = {}\n",
    "    participants_row['champion'] = row['championId']\n",
    "    participants_row['spell1'] = row['spell1Id']\n",
    "    participants_row['spell2'] = row['spell2Id']\n",
    "    participants_row['win'] = row['stats']['win']\n",
    "    participants_row['kills'] = row['stats']['kills']\n",
    "    participants_row['deaths'] = row['stats']['deaths']\n",
    "    participants_row['assists'] = row['stats']['assists']\n",
    "    participants_row['KDA'] = (row['stats']['kills']+row['stats']['assists'])/row['stats']['deaths']\n",
    "    participants_row['goldEarned'] = row['stats']['goldEarned']\n",
    "    participants_row['champLevel'] = row['stats']['champLevel']\n",
    "    participants_row['totalMinionsKilled'] = row['stats']['totalMinionsKilled']\n",
    "    participants.append(participants_row)\n",
    "df = pd.DataFrame(participants)\n",
    "print(df)\n"
   ]
  },
  {
   "cell_type": "code",
   "execution_count": 47,
   "metadata": {
    "tags": []
   },
   "outputs": [
    {
     "output_type": "execute_result",
     "data": {
      "text/plain": [
       "678124197234366517339321153600493929917014594057658061586520687179421532408178132258921859893671892437189035374278632013824"
      ]
     },
     "metadata": {},
     "execution_count": 47
    }
   ],
   "source": [
    "# for row in match_detail['participants']:\n",
    "#     print(row)\n",
    "\n",
    "# len(\"bNDTw_Yf9nAiNKHKsZvbNByeq2Pi2uZy1UaJU5uuFjnmeA\")\n",
    "\n",
    "(52*9)**46"
   ]
  },
  {
   "source": [
    "### Patch an season info"
   ],
   "cell_type": "markdown",
   "metadata": {}
  },
  {
   "cell_type": "code",
   "execution_count": 110,
   "metadata": {},
   "outputs": [
    {
     "output_type": "stream",
     "name": "stdout",
     "text": [
      "1607515200\n2020-12-09T04:00:00-08:00\n"
     ]
    }
   ],
   "source": [
    "# example of how to Read time\n",
    "with open(data_folder / \"patches.json\") as f:\n",
    "    data = json.load(f)\n",
    "\n",
    "patch = data['patches'][-1]  # most recent\n",
    "utc_timestamp = patch['start']\n",
    "north_america_timestamp = utc_timestamp + data['shifts']['NA1']\n",
    "print(north_america_timestamp)\n",
    "dt = arrow.get(north_america_timestamp)\n",
    "print(dt.to('US/Pacific'))"
   ]
  },
  {
   "cell_type": "code",
   "execution_count": null,
   "metadata": {},
   "outputs": [],
   "source": []
  },
  {
   "cell_type": "code",
   "execution_count": null,
   "metadata": {},
   "outputs": [],
   "source": []
  },
  {
   "cell_type": "code",
   "execution_count": null,
   "metadata": {},
   "outputs": [],
   "source": []
  },
  {
   "cell_type": "code",
   "execution_count": null,
   "metadata": {},
   "outputs": [],
   "source": []
  },
  {
   "cell_type": "code",
   "execution_count": null,
   "metadata": {},
   "outputs": [],
   "source": [
    "# example end script for wayyy later\n",
    "\n",
    "try:\n",
    "    response = lol_watcher.summoner.by_name(region, summoner_name)\n",
    "    print(response)\n",
    "except ApiError as error:\n",
    "    if error.response.status_code == 429:\n",
    "        print('Request limit reached retry in {} seconds.'.format(err.headers['Retry-After']))\n",
    "    elif error.response.status_code == 404: \n",
    "        print(\"Found no match\")"
   ]
  }
 ],
 "metadata": {
  "kernelspec": {
   "display_name": "Python 3",
   "name": "python3",
   "language": "python"
  },
  "language_info": {
   "codemirror_mode": {
    "name": "ipython",
    "version": 3
   },
   "file_extension": ".py",
   "mimetype": "text/x-python",
   "name": "python",
   "nbconvert_exporter": "python",
   "pygments_lexer": "ipython3",
   "version": "3.9.1-final"
  },
  "orig_nbformat": 2
 },
 "nbformat": 4,
 "nbformat_minor": 2
}