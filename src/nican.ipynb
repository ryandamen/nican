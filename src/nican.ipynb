{
 "cells": [
  {
   "cell_type": "markdown",
   "metadata": {},
   "source": [
    "# Imports"
   ]
  },
  {
   "cell_type": "code",
   "execution_count": 1,
   "metadata": {},
   "outputs": [],
   "source": [
    "from pathlib2 import Path\n",
    "from riotwatcher import LolWatcher, ApiError\n",
    "\n",
    "import arrow\n",
    "import json\n",
    "import pandas as pd"
   ]
  },
  {
   "cell_type": "markdown",
   "metadata": {},
   "source": [
    "# Functions"
   ]
  },
  {
   "cell_type": "code",
   "execution_count": 52,
   "metadata": {},
   "outputs": [],
   "source": [
    "  \n",
    "def api_key(credentials):\n",
    "    \"\"\"Reads in the development API key from a file and checks if it is viable \n",
    "    \n",
    "    Input is a JSON file \n",
    "\n",
    "    \"\"\"\n",
    "    with open(api_key_loc, \"r\") as json_data:\n",
    "            credentials = json.load(json_data)\n",
    "    return api_key\n",
    "\n",
    "# TODO: Currently broken update when riot watcher is able to use lol_status_v4\n",
    "#     # while True:\n",
    "#         with open(api_key_loc, \"r\") as json_data:\n",
    "#             credentials = json.load(json_data)\n",
    "#             api_key = credentials[\"dev_api_key\"]\n",
    "#             lol_watcher = LolWatcher(credentials[\"dev_api_key\"])\n",
    "#             try:\n",
    "#                 # Use the current API key to check server status\n",
    "#                 server_status = lol_watcher.lol_status.shard_data(\"euw1\")\n",
    "#                 # break if key is functional\n",
    "#                 break\n",
    "#             except ApiError as error:\n",
    "#                 # If the current API key does not work input new one\n",
    "#                 if error.response.status_code == 403:\n",
    "#                     new_api_key = input(\"API key is incorrect, enter correct key here.\")\n",
    "#                     credentials[\"dev_api_key\"] = new_api_key\n",
    "#                     # Replace the old API key\n",
    "#                     with open(api_key_loc, \"w\") as json_data:\n",
    "#                         json.dump(credentials, json_data)\n",
    "#     return api_key"
   ]
  },
  {
   "cell_type": "code",
   "execution_count": 36,
   "metadata": {},
   "outputs": [],
   "source": [
    "def kda(kill, death, assist):\n",
    "    \"\"\"Takes the kills, deaths, and assists of a player and calculates the KDA ratio order is kills, deaths, assists \n",
    "    \n",
    "    Input is string\n",
    "\n",
    "    \"\"\"\n",
    "    score = round((kill + assist) / max(1, death), 3)\n",
    "    return score"
   ]
  },
  {
   "cell_type": "markdown",
   "metadata": {},
   "source": [
    "# Main"
   ]
  },
  {
   "cell_type": "code",
   "execution_count": 37,
   "metadata": {},
   "outputs": [],
   "source": [
    "# Folder locations\n",
    "\n",
    "# Project folders\n",
    "project_folder = Path.cwd().parent\n",
    "\n",
    "# Raw data storage\n",
    "data_folder = project_folder / \"data\"\n",
    "\n",
    "# Out folder\n",
    "out_folder = project_folder / \"out\""
   ]
  },
  {
   "cell_type": "code",
   "execution_count": 57,
   "metadata": {},
   "outputs": [],
   "source": [
    "# Set API key\n",
    "# api_key_loc = data_folder / \"dev_api_key.json\"\n",
    "# lol_watcher = LolWatcher(api_key(api_key_loc))\n",
    "lol_watcher = LolWatcher(\"RGAPI-e3c22909-0aff-43cb-b279-a6ecc66a940b\") "
   ]
  },
  {
   "cell_type": "code",
   "execution_count": 60,
   "metadata": {},
   "outputs": [],
   "source": [
    "# Set user request parameters\n",
    "\n",
    "# Set region\n",
    "region = \"europe\"\n",
    "\n",
    "# Set summonder name \n",
    "summoner_name = \"alnas\" # not case sensitive"
   ]
  },
  {
   "source": [
    "### User info"
   ],
   "cell_type": "markdown",
   "metadata": {}
  },
  {
   "cell_type": "code",
   "execution_count": 61,
   "metadata": {},
   "outputs": [
    {
     "output_type": "error",
     "ename": "HTTPError",
     "evalue": "403 Client Error: Forbidden for url: https://europe.api.riotgames.com/lol/summoner/v4/summoners/by-name/alnas",
     "traceback": [
      "\u001b[1;31m---------------------------------------------------------------------------\u001b[0m",
      "\u001b[1;31mHTTPError\u001b[0m                                 Traceback (most recent call last)",
      "\u001b[1;32m~\\miniconda3\\envs\\rito_games\\lib\\site-packages\\riotwatcher\\Handlers\\ThrowOnErrorHandler.py\u001b[0m in \u001b[0;36mafter_request\u001b[1;34m(self, region, endpoint_name, method_name, url, response)\u001b[0m\n\u001b[0;32m     17\u001b[0m         \u001b[1;32mtry\u001b[0m\u001b[1;33m:\u001b[0m\u001b[1;33m\u001b[0m\u001b[1;33m\u001b[0m\u001b[0m\n\u001b[1;32m---> 18\u001b[1;33m             \u001b[0mresponse\u001b[0m\u001b[1;33m.\u001b[0m\u001b[0mraise_for_status\u001b[0m\u001b[1;33m(\u001b[0m\u001b[1;33m)\u001b[0m\u001b[1;33m\u001b[0m\u001b[1;33m\u001b[0m\u001b[0m\n\u001b[0m\u001b[0;32m     19\u001b[0m         \u001b[1;32mexcept\u001b[0m \u001b[0mrequests\u001b[0m\u001b[1;33m.\u001b[0m\u001b[0mHTTPError\u001b[0m \u001b[1;32mas\u001b[0m \u001b[0merr\u001b[0m\u001b[1;33m:\u001b[0m\u001b[1;33m\u001b[0m\u001b[1;33m\u001b[0m\u001b[0m\n",
      "\u001b[1;32m~\\miniconda3\\envs\\rito_games\\lib\\site-packages\\requests\\models.py\u001b[0m in \u001b[0;36mraise_for_status\u001b[1;34m(self)\u001b[0m\n\u001b[0;32m    942\u001b[0m         \u001b[1;32mif\u001b[0m \u001b[0mhttp_error_msg\u001b[0m\u001b[1;33m:\u001b[0m\u001b[1;33m\u001b[0m\u001b[1;33m\u001b[0m\u001b[0m\n\u001b[1;32m--> 943\u001b[1;33m             \u001b[1;32mraise\u001b[0m \u001b[0mHTTPError\u001b[0m\u001b[1;33m(\u001b[0m\u001b[0mhttp_error_msg\u001b[0m\u001b[1;33m,\u001b[0m \u001b[0mresponse\u001b[0m\u001b[1;33m=\u001b[0m\u001b[0mself\u001b[0m\u001b[1;33m)\u001b[0m\u001b[1;33m\u001b[0m\u001b[1;33m\u001b[0m\u001b[0m\n\u001b[0m\u001b[0;32m    944\u001b[0m \u001b[1;33m\u001b[0m\u001b[0m\n",
      "\u001b[1;31mHTTPError\u001b[0m: 403 Client Error: Forbidden for url: https://europe.api.riotgames.com/lol/summoner/v4/summoners/by-name/alnas",
      "\nDuring handling of the above exception, another exception occurred:\n",
      "\u001b[1;31mHTTPError\u001b[0m                                 Traceback (most recent call last)",
      "\u001b[1;32m<ipython-input-61-c9c6c89522f8>\u001b[0m in \u001b[0;36m<module>\u001b[1;34m\u001b[0m\n\u001b[0;32m      1\u001b[0m \u001b[1;31m# retrieve info using region and summoner name\u001b[0m\u001b[1;33m\u001b[0m\u001b[1;33m\u001b[0m\u001b[1;33m\u001b[0m\u001b[0m\n\u001b[0;32m      2\u001b[0m \u001b[1;33m\u001b[0m\u001b[0m\n\u001b[1;32m----> 3\u001b[1;33m \u001b[0muser\u001b[0m \u001b[1;33m=\u001b[0m \u001b[0mlol_watcher\u001b[0m\u001b[1;33m.\u001b[0m\u001b[0msummoner\u001b[0m\u001b[1;33m.\u001b[0m\u001b[0mby_name\u001b[0m\u001b[1;33m(\u001b[0m\u001b[0mregion\u001b[0m\u001b[1;33m,\u001b[0m \u001b[0msummoner_name\u001b[0m\u001b[1;33m)\u001b[0m\u001b[1;33m\u001b[0m\u001b[1;33m\u001b[0m\u001b[0m\n\u001b[0m\u001b[0;32m      4\u001b[0m \u001b[0mprint\u001b[0m\u001b[1;33m(\u001b[0m\u001b[0muser\u001b[0m\u001b[1;33m)\u001b[0m\u001b[1;33m\u001b[0m\u001b[1;33m\u001b[0m\u001b[0m\n",
      "\u001b[1;32m~\\miniconda3\\envs\\rito_games\\lib\\site-packages\\riotwatcher\\_apis\\league_of_legends\\SummonerApiV4.py\u001b[0m in \u001b[0;36mby_name\u001b[1;34m(self, region, summoner_name)\u001b[0m\n\u001b[0;32m     43\u001b[0m         \u001b[1;33m:\u001b[0m\u001b[0mreturns\u001b[0m\u001b[1;33m:\u001b[0m \u001b[0mSummonerDTO\u001b[0m\u001b[1;33m:\u001b[0m \u001b[0mrepresents\u001b[0m \u001b[0ma\u001b[0m \u001b[0msummoner\u001b[0m\u001b[1;33m\u001b[0m\u001b[1;33m\u001b[0m\u001b[0m\n\u001b[0;32m     44\u001b[0m         \"\"\"\n\u001b[1;32m---> 45\u001b[1;33m         return self._request_endpoint(\n\u001b[0m\u001b[0;32m     46\u001b[0m             \u001b[0mself\u001b[0m\u001b[1;33m.\u001b[0m\u001b[0mby_name\u001b[0m\u001b[1;33m.\u001b[0m\u001b[0m__name__\u001b[0m\u001b[1;33m,\u001b[0m\u001b[1;33m\u001b[0m\u001b[1;33m\u001b[0m\u001b[0m\n\u001b[0;32m     47\u001b[0m             \u001b[0mregion\u001b[0m\u001b[1;33m,\u001b[0m\u001b[1;33m\u001b[0m\u001b[1;33m\u001b[0m\u001b[0m\n",
      "\u001b[1;32m~\\miniconda3\\envs\\rito_games\\lib\\site-packages\\riotwatcher\\_apis\\NamedEndpoint.py\u001b[0m in \u001b[0;36m_request_endpoint\u001b[1;34m(self, method_name, region, endpoint, **kwargs)\u001b[0m\n\u001b[0;32m     33\u001b[0m         \"\"\"\n\u001b[0;32m     34\u001b[0m         \u001b[0murl\u001b[0m\u001b[1;33m,\u001b[0m \u001b[0mquery\u001b[0m \u001b[1;33m=\u001b[0m \u001b[0mendpoint\u001b[0m\u001b[1;33m(\u001b[0m\u001b[0mplatform\u001b[0m\u001b[1;33m=\u001b[0m\u001b[0mregion\u001b[0m\u001b[1;33m,\u001b[0m \u001b[1;33m**\u001b[0m\u001b[0mkwargs\u001b[0m\u001b[1;33m)\u001b[0m\u001b[1;33m\u001b[0m\u001b[1;33m\u001b[0m\u001b[0m\n\u001b[1;32m---> 35\u001b[1;33m         return self._base_api.raw_request(\n\u001b[0m\u001b[0;32m     36\u001b[0m             \u001b[0mself\u001b[0m\u001b[1;33m.\u001b[0m\u001b[0m_endpoint_name\u001b[0m\u001b[1;33m,\u001b[0m \u001b[0mmethod_name\u001b[0m\u001b[1;33m,\u001b[0m \u001b[0mregion\u001b[0m\u001b[1;33m,\u001b[0m \u001b[0murl\u001b[0m\u001b[1;33m,\u001b[0m \u001b[0mquery\u001b[0m\u001b[1;33m\u001b[0m\u001b[1;33m\u001b[0m\u001b[0m\n\u001b[0;32m     37\u001b[0m         )\n",
      "\u001b[1;32m~\\miniconda3\\envs\\rito_games\\lib\\site-packages\\riotwatcher\\_apis\\BaseApi.py\u001b[0m in \u001b[0;36mraw_request\u001b[1;34m(self, endpoint_name, method_name, region, url, query_params)\u001b[0m\n\u001b[0;32m     48\u001b[0m         \u001b[1;32mif\u001b[0m \u001b[0mself\u001b[0m\u001b[1;33m.\u001b[0m\u001b[0m_request_handlers\u001b[0m \u001b[1;32mis\u001b[0m \u001b[1;32mnot\u001b[0m \u001b[1;32mNone\u001b[0m\u001b[1;33m:\u001b[0m\u001b[1;33m\u001b[0m\u001b[1;33m\u001b[0m\u001b[0m\n\u001b[0;32m     49\u001b[0m             \u001b[1;32mfor\u001b[0m \u001b[0mhandler\u001b[0m \u001b[1;32min\u001b[0m \u001b[0mself\u001b[0m\u001b[1;33m.\u001b[0m\u001b[0m_request_handlers\u001b[0m\u001b[1;33m[\u001b[0m\u001b[0mearly_ret_idx\u001b[0m\u001b[1;33m:\u001b[0m\u001b[1;32mNone\u001b[0m\u001b[1;33m:\u001b[0m\u001b[1;33m-\u001b[0m\u001b[1;36m1\u001b[0m\u001b[1;33m]\u001b[0m\u001b[1;33m:\u001b[0m\u001b[1;33m\u001b[0m\u001b[1;33m\u001b[0m\u001b[0m\n\u001b[1;32m---> 50\u001b[1;33m                 mod = handler.after_request(\n\u001b[0m\u001b[0;32m     51\u001b[0m                     \u001b[0mregion\u001b[0m\u001b[1;33m,\u001b[0m \u001b[0mendpoint_name\u001b[0m\u001b[1;33m,\u001b[0m \u001b[0mmethod_name\u001b[0m\u001b[1;33m,\u001b[0m \u001b[0murl\u001b[0m\u001b[1;33m,\u001b[0m \u001b[0mresponse\u001b[0m\u001b[1;33m\u001b[0m\u001b[1;33m\u001b[0m\u001b[0m\n\u001b[0;32m     52\u001b[0m                 )\n",
      "\u001b[1;32m~\\miniconda3\\envs\\rito_games\\lib\\site-packages\\riotwatcher\\Handlers\\ThrowOnErrorHandler.py\u001b[0m in \u001b[0;36mafter_request\u001b[1;34m(self, region, endpoint_name, method_name, url, response)\u001b[0m\n\u001b[0;32m     18\u001b[0m             \u001b[0mresponse\u001b[0m\u001b[1;33m.\u001b[0m\u001b[0mraise_for_status\u001b[0m\u001b[1;33m(\u001b[0m\u001b[1;33m)\u001b[0m\u001b[1;33m\u001b[0m\u001b[1;33m\u001b[0m\u001b[0m\n\u001b[0;32m     19\u001b[0m         \u001b[1;32mexcept\u001b[0m \u001b[0mrequests\u001b[0m\u001b[1;33m.\u001b[0m\u001b[0mHTTPError\u001b[0m \u001b[1;32mas\u001b[0m \u001b[0merr\u001b[0m\u001b[1;33m:\u001b[0m\u001b[1;33m\u001b[0m\u001b[1;33m\u001b[0m\u001b[0m\n\u001b[1;32m---> 20\u001b[1;33m             \u001b[1;32mraise\u001b[0m \u001b[0mApiError\u001b[0m\u001b[1;33m(\u001b[0m\u001b[1;33m*\u001b[0m\u001b[0merr\u001b[0m\u001b[1;33m.\u001b[0m\u001b[0margs\u001b[0m\u001b[1;33m,\u001b[0m \u001b[0mrequest\u001b[0m\u001b[1;33m=\u001b[0m\u001b[0merr\u001b[0m\u001b[1;33m.\u001b[0m\u001b[0mrequest\u001b[0m\u001b[1;33m,\u001b[0m \u001b[0mresponse\u001b[0m\u001b[1;33m=\u001b[0m\u001b[0merr\u001b[0m\u001b[1;33m.\u001b[0m\u001b[0mresponse\u001b[0m\u001b[1;33m)\u001b[0m\u001b[1;33m\u001b[0m\u001b[1;33m\u001b[0m\u001b[0m\n\u001b[0m",
      "\u001b[1;31mHTTPError\u001b[0m: 403 Client Error: Forbidden for url: https://europe.api.riotgames.com/lol/summoner/v4/summoners/by-name/alnas"
     ]
    }
   ],
   "source": [
    "# retrieve info using region and summoner name\n",
    "\n",
    "user = lol_watcher.summoner.by_name(region, summoner_name)\n",
    "print(user)"
   ]
  },
  {
   "cell_type": "code",
   "execution_count": 79,
   "metadata": {},
   "outputs": [
    {
     "output_type": "stream",
     "name": "stdout",
     "text": [
      "[]\n"
     ]
    }
   ],
   "source": [
    "# Check rank stats using user id\n",
    "ranked_stats = lol_watcher.league.by_summoner(region, user[\"id\"])\n",
    "print(ranked_stats)"
   ]
  },
  {
   "source": [
    "### Match info"
   ],
   "cell_type": "markdown",
   "metadata": {}
  },
  {
   "cell_type": "code",
   "execution_count": 73,
   "metadata": {},
   "outputs": [],
   "source": [
    "# set match request parameters\n",
    "\n",
    "# Set queue\n",
    "queue = 450\n",
    "\n",
    "# Set season"
   ]
  },
  {
   "cell_type": "code",
   "execution_count": 78,
   "metadata": {
    "tags": []
   },
   "outputs": [
    {
     "output_type": "stream",
     "name": "stdout",
     "text": [
      "0 {'platformId': 'EUW1', 'gameId': 5019622638, 'champion': 62, 'queue': 450, 'season': 13, 'timestamp': 1610062035126, 'role': 'DUO_SUPPORT', 'lane': 'MID'}\n"
     ]
    },
    {
     "output_type": "execute_result",
     "data": {
      "text/plain": [
       "   champion  spell1  spell2    win  kills  deaths  assists  KDA  \\\n",
       "0        38       4      32   True     17      12       23   21   \n",
       "1        25       4       7   True      4       9       38   19   \n",
       "2       875       4      32   True     11      14       25    5   \n",
       "3        51       4       7   True     12      10       20   14   \n",
       "4        45       4       7   True     12       4       28   40   \n",
       "5        36      32       4  False      5       9       22    5   \n",
       "6       236       7       4  False     18      10       18   24   \n",
       "7        62       4      32  False      8      13       24    1   \n",
       "8       114       4      32  False     10      13       18   -1   \n",
       "9       104      14       4  False      7      11       19    0   \n",
       "\n",
       "   totalDamageDealt  goldEarned  champLevel  totalMinionsKilled  item0  item1  \n",
       "0             49897       17055          18                  19   3100   3157  \n",
       "1             44646       13643          18                  25   6653   3157  \n",
       "2             65946       15191          18                  39   6630   3053  \n",
       "3            134908       16443          18                  98   6672   3006  \n",
       "4            129098       16076          18                  91   6655   3157  \n",
       "5             40883       12927          18                   9   3068   3111  \n",
       "6            128540       17908          18                 121   3111   6672  \n",
       "7             44348       14544          18                  24   3068   3193  \n",
       "8             72665       14505          18                  53   6630   3111  \n",
       "9            110942       14616          18                  82   6691   6676  "
      ],
      "text/html": "<div>\n<style scoped>\n    .dataframe tbody tr th:only-of-type {\n        vertical-align: middle;\n    }\n\n    .dataframe tbody tr th {\n        vertical-align: top;\n    }\n\n    .dataframe thead th {\n        text-align: right;\n    }\n</style>\n<table border=\"1\" class=\"dataframe\">\n  <thead>\n    <tr style=\"text-align: right;\">\n      <th></th>\n      <th>champion</th>\n      <th>spell1</th>\n      <th>spell2</th>\n      <th>win</th>\n      <th>kills</th>\n      <th>deaths</th>\n      <th>assists</th>\n      <th>KDA</th>\n      <th>totalDamageDealt</th>\n      <th>goldEarned</th>\n      <th>champLevel</th>\n      <th>totalMinionsKilled</th>\n      <th>item0</th>\n      <th>item1</th>\n    </tr>\n  </thead>\n  <tbody>\n    <tr>\n      <th>0</th>\n      <td>38</td>\n      <td>4</td>\n      <td>32</td>\n      <td>True</td>\n      <td>17</td>\n      <td>12</td>\n      <td>23</td>\n      <td>21</td>\n      <td>49897</td>\n      <td>17055</td>\n      <td>18</td>\n      <td>19</td>\n      <td>3100</td>\n      <td>3157</td>\n    </tr>\n    <tr>\n      <th>1</th>\n      <td>25</td>\n      <td>4</td>\n      <td>7</td>\n      <td>True</td>\n      <td>4</td>\n      <td>9</td>\n      <td>38</td>\n      <td>19</td>\n      <td>44646</td>\n      <td>13643</td>\n      <td>18</td>\n      <td>25</td>\n      <td>6653</td>\n      <td>3157</td>\n    </tr>\n    <tr>\n      <th>2</th>\n      <td>875</td>\n      <td>4</td>\n      <td>32</td>\n      <td>True</td>\n      <td>11</td>\n      <td>14</td>\n      <td>25</td>\n      <td>5</td>\n      <td>65946</td>\n      <td>15191</td>\n      <td>18</td>\n      <td>39</td>\n      <td>6630</td>\n      <td>3053</td>\n    </tr>\n    <tr>\n      <th>3</th>\n      <td>51</td>\n      <td>4</td>\n      <td>7</td>\n      <td>True</td>\n      <td>12</td>\n      <td>10</td>\n      <td>20</td>\n      <td>14</td>\n      <td>134908</td>\n      <td>16443</td>\n      <td>18</td>\n      <td>98</td>\n      <td>6672</td>\n      <td>3006</td>\n    </tr>\n    <tr>\n      <th>4</th>\n      <td>45</td>\n      <td>4</td>\n      <td>7</td>\n      <td>True</td>\n      <td>12</td>\n      <td>4</td>\n      <td>28</td>\n      <td>40</td>\n      <td>129098</td>\n      <td>16076</td>\n      <td>18</td>\n      <td>91</td>\n      <td>6655</td>\n      <td>3157</td>\n    </tr>\n    <tr>\n      <th>5</th>\n      <td>36</td>\n      <td>32</td>\n      <td>4</td>\n      <td>False</td>\n      <td>5</td>\n      <td>9</td>\n      <td>22</td>\n      <td>5</td>\n      <td>40883</td>\n      <td>12927</td>\n      <td>18</td>\n      <td>9</td>\n      <td>3068</td>\n      <td>3111</td>\n    </tr>\n    <tr>\n      <th>6</th>\n      <td>236</td>\n      <td>7</td>\n      <td>4</td>\n      <td>False</td>\n      <td>18</td>\n      <td>10</td>\n      <td>18</td>\n      <td>24</td>\n      <td>128540</td>\n      <td>17908</td>\n      <td>18</td>\n      <td>121</td>\n      <td>3111</td>\n      <td>6672</td>\n    </tr>\n    <tr>\n      <th>7</th>\n      <td>62</td>\n      <td>4</td>\n      <td>32</td>\n      <td>False</td>\n      <td>8</td>\n      <td>13</td>\n      <td>24</td>\n      <td>1</td>\n      <td>44348</td>\n      <td>14544</td>\n      <td>18</td>\n      <td>24</td>\n      <td>3068</td>\n      <td>3193</td>\n    </tr>\n    <tr>\n      <th>8</th>\n      <td>114</td>\n      <td>4</td>\n      <td>32</td>\n      <td>False</td>\n      <td>10</td>\n      <td>13</td>\n      <td>18</td>\n      <td>-1</td>\n      <td>72665</td>\n      <td>14505</td>\n      <td>18</td>\n      <td>53</td>\n      <td>6630</td>\n      <td>3111</td>\n    </tr>\n    <tr>\n      <th>9</th>\n      <td>104</td>\n      <td>14</td>\n      <td>4</td>\n      <td>False</td>\n      <td>7</td>\n      <td>11</td>\n      <td>19</td>\n      <td>0</td>\n      <td>110942</td>\n      <td>14616</td>\n      <td>18</td>\n      <td>82</td>\n      <td>6691</td>\n      <td>6676</td>\n    </tr>\n  </tbody>\n</table>\n</div>"
     },
     "metadata": {},
     "execution_count": 78
    }
   ],
   "source": [
    "# Retrieve last 100 matches (max is 100 matches https://developer.riotgames.com/apis#match-v4) but time range is 1 week \n",
    "matches = lol_watcher.match.matchlist_by_account(region=region,\n",
    "                                                 encrypted_account_id=user[\"accountId\"],\n",
    "                                                 queue=queue,\n",
    "                                                 begin_index=0,\n",
    "                                                 end_index=100)\n",
    "\n",
    "                                                 \n",
    "# print(matches.keys())\n",
    "\n",
    "# Get match details\n",
    "for i, match in enumerate(matches[\"matches\"][0:1]): # currently last 5 matches\n",
    "        print(i, match)\n",
    "        match_detail = lol_watcher.match.by_id(region, match['gameId'])\n",
    "        \n",
    "participants = []\n",
    "for row in match_detail['participants']:\n",
    "    participants_row = {}\n",
    "    participants_row['champion'] = row['championId']\n",
    "    participants_row['spell1'] = row['spell1Id']\n",
    "    participants_row['spell2'] = row['spell2Id']\n",
    "    participants_row['win'] = row['stats']['win']\n",
    "    participants_row['kills'] = row['stats']['kills']\n",
    "    participants_row['deaths'] = row['stats']['deaths']\n",
    "    participants_row['assists'] = row['stats']['assists']\n",
    "    participants_row['KDA'] = kda(row['stats']['kills'], row['stats']['deaths'], row['stats']['assists'])\n",
    "    participants_row['totalDamageDealt'] = row['stats']['totalDamageDealt']\n",
    "    participants_row['goldEarned'] = row['stats']['goldEarned']\n",
    "    participants_row['champLevel'] = row['stats']['champLevel']\n",
    "    participants_row['totalMinionsKilled'] = row['stats']['totalMinionsKilled']\n",
    "    participants_row['item0'] = row['stats']['item0']\n",
    "    participants_row['item1'] = row['stats']['item1']\n",
    "    participants.append(participants_row)\n",
    "df = pd.DataFrame(participants)\n",
    "df"
   ]
  },
  {
   "source": [
    "### Patch an season info"
   ],
   "cell_type": "markdown",
   "metadata": {}
  },
  {
   "cell_type": "code",
   "execution_count": 62,
   "metadata": {},
   "outputs": [
    {
     "output_type": "stream",
     "name": "stdout",
     "text": [
      "1607515200\n",
      "2020-12-09T04:00:00-08:00\n"
     ]
    }
   ],
   "source": [
    "# example of how to Read time\n",
    "with open(data_folder / \"patches.json\") as f:\n",
    "    data = json.load(f)\n",
    "\n",
    "patch = data[\"patches\"][-1]  # most recent\n",
    "utc_timestamp = patch[\"start\"]\n",
    "north_america_timestamp = utc_timestamp + data[\"shifts\"][\"NA1\"]\n",
    "print(north_america_timestamp)\n",
    "dt = arrow.get(north_america_timestamp)\n",
    "print(dt.to(\"US/Pacific\"))"
   ]
  },
  {
   "cell_type": "code",
   "execution_count": null,
   "metadata": {},
   "outputs": [],
   "source": []
  },
  {
   "cell_type": "code",
   "execution_count": null,
   "metadata": {},
   "outputs": [],
   "source": []
  },
  {
   "cell_type": "code",
   "execution_count": null,
   "metadata": {},
   "outputs": [],
   "source": []
  },
  {
   "cell_type": "code",
   "execution_count": null,
   "metadata": {},
   "outputs": [],
   "source": []
  },
  {
   "cell_type": "code",
   "execution_count": null,
   "metadata": {},
   "outputs": [],
   "source": [
    "# example end script for wayyy later\n",
    "\n",
    "try:\n",
    "    response = lol_watcher.summoner.by_name(region, summoner_name)\n",
    "    print(response)\n",
    "except ApiError as error:\n",
    "    if error.response.status_code == 429:\n",
    "        print('Request limit reached retry in {} seconds.'.format(err.headers['Retry-After']))\n",
    "    elif error.response.status_code == 404: \n",
    "        print(\"Found no match\")"
   ]
  }
 ],
 "metadata": {
  "kernelspec": {
   "name": "python3",
   "display_name": "Python 3",
   "language": "python"
  },
  "language_info": {
   "codemirror_mode": {
    "name": "ipython",
    "version": 3
   },
   "file_extension": ".py",
   "mimetype": "text/x-python",
   "name": "python",
   "nbconvert_exporter": "python",
   "pygments_lexer": "ipython3",
   "version": "3.9.1-final"
  },
  "orig_nbformat": 2
 },
 "nbformat": 4,
 "nbformat_minor": 2
}