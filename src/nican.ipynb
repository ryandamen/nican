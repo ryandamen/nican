{
 "cells": [
  {
   "cell_type": "markdown",
   "metadata": {},
   "source": [
    "# Imports"
   ]
  },
  {
   "cell_type": "code",
   "execution_count": 1,
   "metadata": {},
   "outputs": [],
   "source": [
    "from collections import defaultdict\n",
    "from pathlib2 import Path\n",
    "from riotwatcher import LolWatcher, ApiError\n",
    "\n",
    "\n",
    "import arrow\n",
    "import json\n",
    "import numpy as np\n",
    "import pandas as pd"
   ]
  },
  {
   "cell_type": "markdown",
   "metadata": {},
   "source": [
    "# Functions"
   ]
  },
  {
   "cell_type": "code",
   "execution_count": 2,
   "metadata": {},
   "outputs": [],
   "source": [
    "  \n",
    "def api_key(credentials):\n",
    "    \"\"\"Reads in the development API key from a file and checks if it is viable \n",
    "    \n",
    "    Input is a JSON file \n",
    "\n",
    "    \"\"\"\n",
    "    with open(api_key_loc, \"r\") as json_data:\n",
    "            credentials = json.load(json_data)\n",
    "    return api_key\n",
    "\n",
    "# TODO: Currently broken update when riot watcher is able to use lol_status_v4\n",
    "#     # while True:\n",
    "#         with open(api_key_loc, \"r\") as json_data:\n",
    "#             credentials = json.load(json_data)\n",
    "#             api_key = credentials[\"dev_api_key\"]\n",
    "#             lol_watcher = LolWatcher(credentials[\"dev_api_key\"])\n",
    "#             try:\n",
    "#                 # Use the current API key to check server status\n",
    "#                 server_status = lol_watcher.lol_status.shard_data(\"euw1\")\n",
    "#                 # break if key is functional\n",
    "#                 break\n",
    "#             except ApiError as error:\n",
    "#                 # If the current API key does not work input new one\n",
    "#                 if error.response.status_code == 403:\n",
    "#                     new_api_key = input(\"API key is incorrect, enter correct key here.\")\n",
    "#                     credentials[\"dev_api_key\"] = new_api_key\n",
    "#                     # Replace the old API key\n",
    "#                     with open(api_key_loc, \"w\") as json_data:\n",
    "#                         json.dump(credentials, json_data)\n",
    "#     return api_key"
   ]
  },
  {
   "cell_type": "code",
   "execution_count": 3,
   "metadata": {},
   "outputs": [],
   "source": [
    "def kda(kill, death, assist):\n",
    "    #somehow does not work\n",
    "    \"\"\"Takes the kills, deaths, and assists of a player and calculates the KDA ratio order is kills, deaths, assists \n",
    "    \n",
    "    Input is string\n",
    "\n",
    "    \"\"\"\n",
    "    score = round((kills+assists) / max(1, death), 3)\n",
    "\n",
    "    return score"
   ]
  },
  {
   "cell_type": "markdown",
   "metadata": {},
   "source": [
    "# Main"
   ]
  },
  {
   "cell_type": "code",
   "execution_count": 8,
   "metadata": {},
   "outputs": [],
   "source": [
    "# Folder locations\n",
    "\n",
    "# Project folders\n",
    "project_folder = Path.cwd().parent\n",
    "\n",
    "# Raw data storage\n",
    "data_folder = project_folder / \"data\"\n",
    "\n",
    "# Out folder\n",
    "out_folder = project_folder / \"out\""
   ]
  },
  {
   "cell_type": "code",
   "execution_count": 9,
   "metadata": {},
   "outputs": [],
   "source": [
    "# Set API key\n",
    "api_key_loc = data_folder / \"dev_api_key.json\"\n",
    "# lol_watcher = LolWatcher(api_key(api_key_loc))\n",
    "\n",
    "with open(api_key_loc, \"r\") as json_data:\n",
    "            credentials = json.load(json_data)\n",
    "            api_key = credentials[\"dev_api_key\"]\n",
    "            lol_watcher = LolWatcher(credentials[\"dev_api_key\"])"
   ]
  },
  {
   "cell_type": "code",
   "execution_count": 10,
   "metadata": {},
   "outputs": [],
   "source": [
    "# Set user request parameters\n",
    "\n",
    "# Set region\n",
    "region = \"euw1\"\n",
    "\n",
    "# Set summonder name \n",
    "protagonist = \"alnas\" # not case sensitive"
   ]
  },
  {
   "source": [
    "### User info"
   ],
   "cell_type": "markdown",
   "metadata": {}
  },
  {
   "cell_type": "code",
   "execution_count": 11,
   "metadata": {},
   "outputs": [
    {
     "output_type": "stream",
     "name": "stdout",
     "text": [
      "{'id': 'L2OqMzNqsCelFfcFlPx5iQWRB7dKLDdf9xGgO_W1dNau3EI', 'accountId': 'fYybzHGf_HSjunX7VEs-9jXIEvVLk-eQhAyhq_VzaXWi2w', 'puuid': 'tKPszy2ygrLuiS7AYcfh4pjDzc3jQO2xOIjAf4YKq8XjytTznNaQc88wPYMmJkONT1JjtkioHEfaMg', 'name': 'Alnas', 'profileIconId': 3382, 'revisionDate': 1612224300000, 'summonerLevel': 107}\n"
     ]
    }
   ],
   "source": [
    "# retrieve info using region and summoner name\n",
    "user = lol_watcher.summoner.by_name(region, protagonist)\n",
    "print(user)"
   ]
  },
  {
   "cell_type": "code",
   "execution_count": 12,
   "metadata": {},
   "outputs": [
    {
     "output_type": "stream",
     "name": "stdout",
     "text": [
      "[{'leagueId': 'f45c0593-8eab-41ca-a45e-987f2cff8cca', 'queueType': 'RANKED_SOLO_5x5', 'tier': 'GOLD', 'rank': 'IV', 'summonerId': 'L2OqMzNqsCelFfcFlPx5iQWRB7dKLDdf9xGgO_W1dNau3EI', 'summonerName': 'Alnas', 'leaguePoints': 50, 'wins': 16, 'losses': 18, 'veteran': False, 'inactive': False, 'freshBlood': False, 'hotStreak': False}]\n"
     ]
    }
   ],
   "source": [
    "# Check rank stats using user id\n",
    "ranked_stats = lol_watcher.league.by_summoner(region, user[\"id\"])\n",
    "print(ranked_stats)"
   ]
  },
  {
   "source": [
    "### Match info"
   ],
   "cell_type": "markdown",
   "metadata": {}
  },
  {
   "cell_type": "code",
   "execution_count": 14,
   "metadata": {},
   "outputs": [],
   "source": [
    "# set match request parameters\n",
    "\n",
    "# Set queue\n",
    "queue = 420\n",
    "\n",
    "# Set season ????"
   ]
  },
  {
   "cell_type": "code",
   "execution_count": 26,
   "metadata": {
    "tags": []
   },
   "outputs": [
    {
     "output_type": "stream",
     "name": "stdout",
     "text": [
      "dict_keys(['matches', 'startIndex', 'endIndex', 'totalGames'])\n{'platformId': 'EUW1', 'gameId': 5064394827, 'champion': 412, 'queue': 420, 'season': 13, 'timestamp': 1612040868387, 'role': 'SOLO', 'lane': 'BOTTOM'}\n"
     ]
    }
   ],
   "source": [
    "# Retrieve match id from a single match, ranked queue based on time\n",
    "# (max is last 100 matches https://developer.riotgames.com/apis#match-v4) but time range is 1 week \n",
    "\n",
    "\n",
    "matches = lol_watcher.match.matchlist_by_account(region=region,\n",
    "                                                 encrypted_account_id=user[\"accountId\"],\n",
    "                                                 queue=queue,\n",
    "                                                 begin_index=0,\n",
    "                                                 end_index=100)\n",
    "#TODO: make this work with time\n",
    "\n",
    "                                                 \n",
    "print(matches.keys())\n",
    "print(matches[\"matches\"][0])\n",
    "# print(matches[\"startIndex\"])\n",
    "# print(matches[\"endIndex\"])\n",
    "# print(matches[\"totalGames\"]) \n"
   ]
  },
  {
   "cell_type": "code",
   "execution_count": 27,
   "metadata": {
    "tags": []
   },
   "outputs": [
    {
     "output_type": "stream",
     "name": "stdout",
     "text": [
      "done\n"
     ]
    }
   ],
   "source": [
    "# Create a dictionary to store all the results\n",
    "match_info = defaultdict(lambda: defaultdict(lambda: defaultdict(dict)))\n",
    "\n",
    "# Get match details of last 10 matches\n",
    "for match in matches[\"matches\"][:10]:\n",
    "        # Store filtered information pertinent to the match itself\n",
    "        game_id = match[\"gameId\"]\n",
    "        queue_type = match[\"queue\"]\n",
    "        match_info[game_id][\"game_info\"][\"game_type\"] = queue_type\n",
    "        match_info[game_id][\"game_info\"][\"begin_time\"] = None\n",
    "        match_info[game_id][\"game_info\"][\"end_time\"] = None\n",
    "        # TODO: add time \n",
    "\n",
    "\n",
    "        # Store filtered information pertinent to participants\n",
    "        match_detail = lol_watcher.match.by_id(region, game_id)\n",
    "        protagonist_blue = None\n",
    "        # Collect participant ID and summoner name\n",
    "        for participant in match_detail[\"participantIdentities\"]:\n",
    "                part_id = participant[\"participantId\"]\n",
    "                summoner_name = participant[\"player\"][\"summonerName\"]\n",
    "                # Storing summoner name using participant ID as key\n",
    "                match_info[game_id][\"player_data\"][part_id][\"participant_id\"] = part_id \n",
    "                match_info[game_id][\"player_data\"][part_id][\"name\"] = summoner_name\n",
    "                if summoner_name.lower() == protagonist.lower():\n",
    "                        protagonist_blue = True if part_id <=5 else False\n",
    "\n",
    "        # Collect kills, deaths, assists and win\n",
    "        for participant in match_detail[\"participants\"]:\n",
    "                part_id = participant[\"stats\"][\"participantId\"]\n",
    "                kills = participant[\"stats\"][\"kills\"] \n",
    "                deaths = participant[\"stats\"][\"deaths\"]\n",
    "                assists = participant[\"stats\"][\"assists\"]\n",
    "                kda = round((kills+assists)/ max(1, deaths), 3)\n",
    "                win = participant[\"stats\"][\"win\"]\n",
    "\n",
    "                # Store kills, deaths, assists, kda and win\n",
    "                match_info[game_id][\"player_data\"][part_id][\"kills\"] = kills\n",
    "                match_info[game_id][\"player_data\"][part_id][\"deaths\"] = deaths\n",
    "                match_info[game_id][\"player_data\"][part_id][\"assists\"] = assists\n",
    "                match_info[game_id][\"player_data\"][part_id][\"kda\"] = kda\n",
    "                match_info[game_id][\"player_data\"][part_id][\"win\"] = win\n",
    "\n",
    "                # Assign participants as ally or enemy of the protagonist                   \n",
    "                match_info[game_id][\"player_data\"][part_id][\"allied\"] = bool(part_id <=5) == protagonist_blue\n",
    "\n",
    "print(\"done\")\n",
    "# TODO: print how long it took"
   ]
  },
  {
   "cell_type": "code",
   "execution_count": 28,
   "metadata": {},
   "outputs": [
    {
     "output_type": "stream",
     "name": "stdout",
     "text": [
      "this is match 5064394827\ndict_keys(['game_info', 'player_data'])\ndict_keys(['game_type', 'begin_time', 'end_time'])\n\nmatch info\n420\nNone\nNone\n\nplayer info\n{'participant_id': 1, 'name': 'HeroicBrother', 'kills': 6, 'deaths': 11, 'assists': 6, 'kda': 1.091, 'win': False, 'allied': True}\n{'participant_id': 2, 'name': 'viscer0', 'kills': 2, 'deaths': 5, 'assists': 3, 'kda': 1.0, 'win': False, 'allied': True}\n{'participant_id': 3, 'name': 'Alnas', 'kills': 0, 'deaths': 5, 'assists': 6, 'kda': 1.2, 'win': False, 'allied': True}\n{'participant_id': 4, 'name': 'Likeabossbart', 'kills': 3, 'deaths': 8, 'assists': 3, 'kda': 0.75, 'win': False, 'allied': True}\n{'participant_id': 5, 'name': 'Lux4200', 'kills': 4, 'deaths': 7, 'assists': 1, 'kda': 0.714, 'win': False, 'allied': True}\n{'participant_id': 6, 'name': 'HomeMadeCookies', 'kills': 6, 'deaths': 3, 'assists': 7, 'kda': 4.333, 'win': True, 'allied': False}\n{'participant_id': 7, 'name': 'CoolFroggy', 'kills': 1, 'deaths': 1, 'assists': 19, 'kda': 20.0, 'win': True, 'allied': False}\n{'participant_id': 8, 'name': 'LiLPax123', 'kills': 3, 'deaths': 2, 'assists': 6, 'kda': 4.5, 'win': True, 'allied': False}\n{'participant_id': 9, 'name': 'Red Lôtus', 'kills': 16, 'deaths': 7, 'assists': 6, 'kda': 3.143, 'win': True, 'allied': False}\n{'participant_id': 10, 'name': 'DAEHYLRUCEHT', 'kills': 10, 'deaths': 2, 'assists': 7, 'kda': 8.5, 'win': True, 'allied': False}\n\n------------------------\n\nthis is match 5064173273\ndict_keys(['game_info', 'player_data'])\ndict_keys(['game_type', 'begin_time', 'end_time'])\n\nmatch info\n420\nNone\nNone\n\nplayer info\n{'participant_id': 1, 'name': 'XΛVΛ', 'kills': 14, 'deaths': 15, 'assists': 3, 'kda': 1.133, 'win': False, 'allied': False}\n{'participant_id': 2, 'name': 'SΘΘ LUCIΛN', 'kills': 5, 'deaths': 12, 'assists': 12, 'kda': 1.417, 'win': False, 'allied': False}\n{'participant_id': 3, 'name': 'friendly bear', 'kills': 19, 'deaths': 6, 'assists': 5, 'kda': 4.0, 'win': False, 'allied': False}\n{'participant_id': 4, 'name': 'Fu5ti', 'kills': 1, 'deaths': 7, 'assists': 26, 'kda': 3.857, 'win': False, 'allied': False}\n{'participant_id': 5, 'name': 'Steamy Lobster', 'kills': 0, 'deaths': 4, 'assists': 27, 'kda': 6.75, 'win': False, 'allied': False}\n{'participant_id': 6, 'name': 'Alnas', 'kills': 3, 'deaths': 10, 'assists': 17, 'kda': 2.0, 'win': True, 'allied': True}\n{'participant_id': 7, 'name': 'Likeabossbart', 'kills': 6, 'deaths': 6, 'assists': 19, 'kda': 4.167, 'win': True, 'allied': True}\n{'participant_id': 8, 'name': 'EP1 The Stink', 'kills': 18, 'deaths': 11, 'assists': 14, 'kda': 2.909, 'win': True, 'allied': True}\n{'participant_id': 9, 'name': 'TPWT El Arce', 'kills': 10, 'deaths': 9, 'assists': 12, 'kda': 2.444, 'win': True, 'allied': True}\n{'participant_id': 10, 'name': 'TPWT Mr Donger', 'kills': 7, 'deaths': 4, 'assists': 20, 'kda': 6.75, 'win': True, 'allied': True}\n\n------------------------\n\nthis is match 5063929826\ndict_keys(['game_info', 'player_data'])\ndict_keys(['game_type', 'begin_time', 'end_time'])\n\nmatch info\n420\nNone\nNone\n\nplayer info\n{'participant_id': 1, 'name': 'One K', 'kills': 1, 'deaths': 4, 'assists': 3, 'kda': 1.0, 'win': False, 'allied': True}\n{'participant_id': 2, 'name': 'Alnas', 'kills': 1, 'deaths': 7, 'assists': 8, 'kda': 1.286, 'win': False, 'allied': True}\n{'participant_id': 3, 'name': 'Likeabossbart', 'kills': 2, 'deaths': 7, 'assists': 3, 'kda': 0.714, 'win': False, 'allied': True}\n{'participant_id': 4, 'name': 'VoyVolao', 'kills': 4, 'deaths': 6, 'assists': 1, 'kda': 0.833, 'win': False, 'allied': True}\n{'participant_id': 5, 'name': 'LeRouxdu64', 'kills': 3, 'deaths': 4, 'assists': 1, 'kda': 1.0, 'win': False, 'allied': True}\n{'participant_id': 6, 'name': 'Desperate 3ffort', 'kills': 11, 'deaths': 2, 'assists': 6, 'kda': 8.5, 'win': True, 'allied': False}\n{'participant_id': 7, 'name': 'Aviansie', 'kills': 6, 'deaths': 3, 'assists': 9, 'kda': 5.0, 'win': True, 'allied': False}\n{'participant_id': 8, 'name': 'pxybhrd', 'kills': 3, 'deaths': 0, 'assists': 17, 'kda': 20.0, 'win': True, 'allied': False}\n{'participant_id': 9, 'name': 'dopaharvesting', 'kills': 6, 'deaths': 5, 'assists': 3, 'kda': 1.8, 'win': True, 'allied': False}\n{'participant_id': 10, 'name': 'MllePoppy', 'kills': 2, 'deaths': 1, 'assists': 7, 'kda': 9.0, 'win': True, 'allied': False}\n\n------------------------\n\nthis is match 5063983191\ndict_keys(['game_info', 'player_data'])\ndict_keys(['game_type', 'begin_time', 'end_time'])\n\nmatch info\n420\nNone\nNone\n\nplayer info\n{'participant_id': 1, 'name': 'Mâx Verstappenn', 'kills': 4, 'deaths': 4, 'assists': 2, 'kda': 1.5, 'win': True, 'allied': True}\n{'participant_id': 2, 'name': 'Alnas', 'kills': 4, 'deaths': 3, 'assists': 10, 'kda': 4.667, 'win': True, 'allied': True}\n{'participant_id': 3, 'name': 'Likeabossbart', 'kills': 6, 'deaths': 4, 'assists': 4, 'kda': 2.5, 'win': True, 'allied': True}\n{'participant_id': 4, 'name': 'YOUZIyo', 'kills': 7, 'deaths': 3, 'assists': 11, 'kda': 6.0, 'win': True, 'allied': True}\n{'participant_id': 5, 'name': 'Astol', 'kills': 8, 'deaths': 2, 'assists': 7, 'kda': 7.5, 'win': True, 'allied': True}\n{'participant_id': 6, 'name': 'Eldomus', 'kills': 4, 'deaths': 5, 'assists': 6, 'kda': 2.0, 'win': False, 'allied': False}\n{'participant_id': 7, 'name': 'Μιγγατε', 'kills': 4, 'deaths': 6, 'assists': 2, 'kda': 1.0, 'win': False, 'allied': False}\n{'participant_id': 8, 'name': 'Mettsko', 'kills': 4, 'deaths': 8, 'assists': 1, 'kda': 0.625, 'win': False, 'allied': False}\n{'participant_id': 9, 'name': 'timtom13', 'kills': 1, 'deaths': 8, 'assists': 4, 'kda': 0.625, 'win': False, 'allied': False}\n{'participant_id': 10, 'name': 'Dzfgwdup', 'kills': 3, 'deaths': 2, 'assists': 6, 'kda': 4.5, 'win': False, 'allied': False}\n\n------------------------\n\nthis is match 5063485536\ndict_keys(['game_info', 'player_data'])\ndict_keys(['game_type', 'begin_time', 'end_time'])\n\nmatch info\n420\nNone\nNone\n\nplayer info\n{'participant_id': 1, 'name': 'Alnas', 'kills': 3, 'deaths': 4, 'assists': 4, 'kda': 1.75, 'win': False, 'allied': True}\n{'participant_id': 2, 'name': 'Likeabossbart', 'kills': 3, 'deaths': 5, 'assists': 3, 'kda': 1.2, 'win': False, 'allied': True}\n{'participant_id': 3, 'name': 'Maggieiwn', 'kills': 3, 'deaths': 8, 'assists': 3, 'kda': 0.75, 'win': False, 'allied': True}\n{'participant_id': 4, 'name': 'ddddffsadasdsaas', 'kills': 1, 'deaths': 4, 'assists': 2, 'kda': 0.75, 'win': False, 'allied': True}\n{'participant_id': 5, 'name': 'JónatasQ', 'kills': 3, 'deaths': 6, 'assists': 4, 'kda': 1.167, 'win': False, 'allied': True}\n{'participant_id': 6, 'name': 'Tiberium prime', 'kills': 10, 'deaths': 5, 'assists': 5, 'kda': 3.0, 'win': True, 'allied': False}\n{'participant_id': 7, 'name': 'RG Skipten', 'kills': 2, 'deaths': 3, 'assists': 15, 'kda': 5.667, 'win': True, 'allied': False}\n{'participant_id': 8, 'name': 'Lil Magico', 'kills': 5, 'deaths': 1, 'assists': 5, 'kda': 10.0, 'win': True, 'allied': False}\n{'participant_id': 9, 'name': 'Shaadey', 'kills': 6, 'deaths': 3, 'assists': 7, 'kda': 4.333, 'win': True, 'allied': False}\n{'participant_id': 10, 'name': 'Enkelindeaars', 'kills': 4, 'deaths': 3, 'assists': 3, 'kda': 2.333, 'win': True, 'allied': False}\n\n------------------------\n\nthis is match 5063389276\ndict_keys(['game_info', 'player_data'])\ndict_keys(['game_type', 'begin_time', 'end_time'])\n\nmatch info\n420\nNone\nNone\n\nplayer info\n{'participant_id': 1, 'name': 'Alnas', 'kills': 4, 'deaths': 7, 'assists': 9, 'kda': 1.857, 'win': False, 'allied': True}\n{'participant_id': 2, 'name': 'Likeabossbart', 'kills': 2, 'deaths': 10, 'assists': 10, 'kda': 1.2, 'win': False, 'allied': True}\n{'participant_id': 3, 'name': 'Bro Melo', 'kills': 13, 'deaths': 7, 'assists': 5, 'kda': 2.571, 'win': False, 'allied': True}\n{'participant_id': 4, 'name': 'Potatoe Game', 'kills': 2, 'deaths': 3, 'assists': 10, 'kda': 4.0, 'win': False, 'allied': True}\n{'participant_id': 5, 'name': 'MadgepSfO', 'kills': 4, 'deaths': 10, 'assists': 7, 'kda': 1.1, 'win': False, 'allied': True}\n{'participant_id': 6, 'name': 'andresthebest99', 'kills': 10, 'deaths': 6, 'assists': 14, 'kda': 4.0, 'win': True, 'allied': False}\n{'participant_id': 7, 'name': 'Diablo0070', 'kills': 5, 'deaths': 3, 'assists': 7, 'kda': 4.0, 'win': True, 'allied': False}\n{'participant_id': 8, 'name': 'Taz13', 'kills': 3, 'deaths': 5, 'assists': 23, 'kda': 5.2, 'win': True, 'allied': False}\n{'participant_id': 9, 'name': 'Yùreì', 'kills': 13, 'deaths': 6, 'assists': 12, 'kda': 4.167, 'win': True, 'allied': False}\n{'participant_id': 10, 'name': 'IC8H11NO2I', 'kills': 6, 'deaths': 5, 'assists': 23, 'kda': 5.8, 'win': True, 'allied': False}\n\n------------------------\n\nthis is match 5058324101\ndict_keys(['game_info', 'player_data'])\ndict_keys(['game_type', 'begin_time', 'end_time'])\n\nmatch info\n420\nNone\nNone\n\nplayer info\n{'participant_id': 1, 'name': 'ssoBatsilaK', 'kills': 3, 'deaths': 6, 'assists': 6, 'kda': 1.5, 'win': False, 'allied': True}\n{'participant_id': 2, 'name': 'matatata96', 'kills': 13, 'deaths': 9, 'assists': 11, 'kda': 2.667, 'win': False, 'allied': True}\n{'participant_id': 3, 'name': 'IG OnlyADCarry', 'kills': 13, 'deaths': 8, 'assists': 3, 'kda': 2.0, 'win': False, 'allied': True}\n{'participant_id': 4, 'name': 'Alnas', 'kills': 1, 'deaths': 11, 'assists': 14, 'kda': 1.364, 'win': False, 'allied': True}\n{'participant_id': 5, 'name': 'Cpt1Price', 'kills': 6, 'deaths': 10, 'assists': 8, 'kda': 1.4, 'win': False, 'allied': True}\n{'participant_id': 6, 'name': 'Machirlee', 'kills': 3, 'deaths': 8, 'assists': 15, 'kda': 2.25, 'win': True, 'allied': False}\n{'participant_id': 7, 'name': 'AzN NT', 'kills': 9, 'deaths': 11, 'assists': 13, 'kda': 2.0, 'win': True, 'allied': False}\n{'participant_id': 8, 'name': 'Sh1in', 'kills': 7, 'deaths': 7, 'assists': 16, 'kda': 3.286, 'win': True, 'allied': False}\n{'participant_id': 9, 'name': 'MarinaiEw', 'kills': 21, 'deaths': 6, 'assists': 4, 'kda': 4.167, 'win': True, 'allied': False}\n{'participant_id': 10, 'name': 'OfficerRagBack', 'kills': 3, 'deaths': 5, 'assists': 9, 'kda': 2.4, 'win': True, 'allied': False}\n\n------------------------\n\nthis is match 5054764838\ndict_keys(['game_info', 'player_data'])\ndict_keys(['game_type', 'begin_time', 'end_time'])\n\nmatch info\n420\nNone\nNone\n\nplayer info\n{'participant_id': 1, 'name': 'Akup0', 'kills': 11, 'deaths': 6, 'assists': 8, 'kda': 3.167, 'win': True, 'allied': True}\n{'participant_id': 2, 'name': 'Reformed Bebuzz', 'kills': 7, 'deaths': 4, 'assists': 11, 'kda': 4.5, 'win': True, 'allied': True}\n{'participant_id': 3, 'name': 'Alnas', 'kills': 4, 'deaths': 2, 'assists': 18, 'kda': 11.0, 'win': True, 'allied': True}\n{'participant_id': 4, 'name': 'PiCoPiCoLo', 'kills': 9, 'deaths': 6, 'assists': 9, 'kda': 3.0, 'win': True, 'allied': True}\n{'participant_id': 5, 'name': 'Propbagurs', 'kills': 10, 'deaths': 6, 'assists': 10, 'kda': 3.333, 'win': True, 'allied': True}\n{'participant_id': 6, 'name': 'LonelyFeels', 'kills': 12, 'deaths': 6, 'assists': 9, 'kda': 3.5, 'win': False, 'allied': False}\n{'participant_id': 7, 'name': 'agiulia', 'kills': 0, 'deaths': 8, 'assists': 17, 'kda': 2.125, 'win': False, 'allied': False}\n{'participant_id': 8, 'name': 'Zantoryu', 'kills': 2, 'deaths': 13, 'assists': 12, 'kda': 1.077, 'win': False, 'allied': False}\n{'participant_id': 9, 'name': 'SKhaøZ', 'kills': 3, 'deaths': 9, 'assists': 12, 'kda': 1.667, 'win': False, 'allied': False}\n{'participant_id': 10, 'name': 'Stiif', 'kills': 7, 'deaths': 5, 'assists': 8, 'kda': 3.0, 'win': False, 'allied': False}\n\n------------------------\n\nthis is match 5054073201\ndict_keys(['game_info', 'player_data'])\ndict_keys(['game_type', 'begin_time', 'end_time'])\n\nmatch info\n420\nNone\nNone\n\nplayer info\n{'participant_id': 1, 'name': 'Blue Büff Cult', 'kills': 3, 'deaths': 6, 'assists': 13, 'kda': 2.667, 'win': True, 'allied': False}\n{'participant_id': 2, 'name': 'B4RBENOIR', 'kills': 4, 'deaths': 1, 'assists': 10, 'kda': 14.0, 'win': True, 'allied': False}\n{'participant_id': 3, 'name': 'Spear UnleasheD', 'kills': 7, 'deaths': 4, 'assists': 5, 'kda': 3.0, 'win': True, 'allied': False}\n{'participant_id': 4, 'name': 'iSt0p', 'kills': 12, 'deaths': 3, 'assists': 8, 'kda': 6.667, 'win': True, 'allied': False}\n{'participant_id': 5, 'name': 'Basteed', 'kills': 11, 'deaths': 4, 'assists': 10, 'kda': 5.25, 'win': True, 'allied': False}\n{'participant_id': 6, 'name': 'Alnas', 'kills': 2, 'deaths': 5, 'assists': 9, 'kda': 2.2, 'win': False, 'allied': True}\n{'participant_id': 7, 'name': 'K4Y4C', 'kills': 2, 'deaths': 8, 'assists': 7, 'kda': 1.125, 'win': False, 'allied': True}\n{'participant_id': 8, 'name': 'D Trump1', 'kills': 11, 'deaths': 6, 'assists': 2, 'kda': 2.167, 'win': False, 'allied': True}\n{'participant_id': 9, 'name': ' Man Öf culture ', 'kills': 3, 'deaths': 10, 'assists': 1, 'kda': 0.4, 'win': False, 'allied': True}\n{'participant_id': 10, 'name': 'Ubanaciel', 'kills': 0, 'deaths': 8, 'assists': 8, 'kda': 1.0, 'win': False, 'allied': True}\n\n------------------------\n\nthis is match 5053847879\ndict_keys(['game_info', 'player_data'])\ndict_keys(['game_type', 'begin_time', 'end_time'])\n\nmatch info\n420\nNone\nNone\n\nplayer info\n{'participant_id': 1, 'name': 'Assist Main', 'kills': 0, 'deaths': 8, 'assists': 3, 'kda': 0.375, 'win': False, 'allied': True}\n{'participant_id': 2, 'name': 'YΔSUΘ', 'kills': 5, 'deaths': 4, 'assists': 2, 'kda': 1.75, 'win': False, 'allied': True}\n{'participant_id': 3, 'name': 'SehuBoi', 'kills': 3, 'deaths': 9, 'assists': 2, 'kda': 0.556, 'win': False, 'allied': True}\n{'participant_id': 4, 'name': 'Alnas', 'kills': 3, 'deaths': 4, 'assists': 2, 'kda': 1.25, 'win': False, 'allied': True}\n{'participant_id': 5, 'name': 'Hawlero', 'kills': 1, 'deaths': 5, 'assists': 6, 'kda': 1.4, 'win': False, 'allied': True}\n{'participant_id': 6, 'name': 'mEowhDavid', 'kills': 11, 'deaths': 3, 'assists': 5, 'kda': 5.333, 'win': True, 'allied': False}\n{'participant_id': 7, 'name': 'Etsakq', 'kills': 1, 'deaths': 2, 'assists': 18, 'kda': 9.5, 'win': True, 'allied': False}\n{'participant_id': 8, 'name': 'Hi im Silitbang', 'kills': 3, 'deaths': 5, 'assists': 6, 'kda': 1.8, 'win': True, 'allied': False}\n{'participant_id': 9, 'name': 'Shadowzzz', 'kills': 3, 'deaths': 1, 'assists': 7, 'kda': 10.0, 'win': True, 'allied': False}\n{'participant_id': 10, 'name': 'ToutNoir', 'kills': 12, 'deaths': 1, 'assists': 7, 'kda': 19.0, 'win': True, 'allied': False}\n\n------------------------\n\n"
     ]
    }
   ],
   "source": [
    "# Output for for easy reading\n",
    "for i in match_info.keys():\n",
    "        print(\"this is match\", i)\n",
    "        print(match_info[i].keys())\n",
    "        print(match_info[i][\"game_info\"].keys())\n",
    "        print(\"\")\n",
    "\n",
    "        print(\"match info\")\n",
    "        for y in match_info[i][\"game_info\"]:\n",
    "                print(match_info[i][\"game_info\"][y])\n",
    "\n",
    "        print(\"\")\n",
    "        print(\"player info\")\n",
    "        for player in match_info[i][\"player_data\"]:\n",
    "                print(match_info[i][\"player_data\"][player])\n",
    "\n",
    "        print(\"\\n------------------------\\n\")"
   ]
  },
  {
   "cell_type": "code",
   "execution_count": 35,
   "metadata": {},
   "outputs": [
    {
     "output_type": "stream",
     "name": "stdout",
     "text": [
      "dict_keys(['gameId', 'platformId', 'gameCreation', 'gameDuration', 'queueId', 'mapId', 'seasonId', 'gameVersion', 'gameMode', 'gameType', 'teams', 'participants', 'participantIdentities'])\n1611592052124\n1881\n"
     ]
    }
   ],
   "source": [
    "\n",
    "\n",
    "\n",
    "# print(player[\"participant_id\"])\n",
    "\n",
    "print(match_detail.keys()) # also contains game duration this might be interresting\n",
    "# print(match_detail[\"participantIdentities\"])\n",
    "\n",
    "\n",
    "# print(match_detail[\"teams\"])\n",
    "\n",
    "# for i in match_detail[\"teams\"]:\n",
    "#         print(i)\n",
    "\n",
    "\n",
    "# steps to take.\n",
    "# get teams. check\n",
    "# assign players to teams\n",
    "#\n",
    "# get a form like this ID, name, win of protagonist\n",
    "# group all the ones that have win together and lose together based on protagonist\n",
    "# Add player names to table of interrest\n",
    "# add win or lose status to players \n",
    "\n",
    "\n",
    "\n",
    "# for player in match_detail[\"participants\"]:\n",
    "#         print(player)\n",
    "#         break\n",
    "# #     # print(player.keys()) #'participantId', 'teamId', 'championId', 'spell1Id', 'spell2Id', 'stats', 'timeline'])\n",
    "# #     # print(player[\"participantId\"]) # is also found in stats so this one can be ignored\n",
    "# #     # print(player[\"teamId\"]) # 100 is blue 200 is red prolly but this is useless\n",
    "# #     # print(player[\"championId\"]) # which champ they are playing maaybe needed to link back to player\n",
    "#     print(player[\"stats\"].keys()) # is a dictionary of player stats during the game\n",
    "#     break\n",
    "#     # print(player[\"timeline\"])\n",
    "# {teams:allied{players:{sumname{},kills{}}},enemy{}}\n",
    "\n",
    "\n",
    "\n",
    "print(match_detail['gameCreation'])\n",
    "print(match_detail[\"gameDuration\"])\n",
    "# print(part_id_sum_name_dict)\n",
    "\n"
   ]
  },
  {
   "cell_type": "code",
   "execution_count": null,
   "metadata": {},
   "outputs": [],
   "source": [
    "\n",
    "\n",
    "# participants = []\n",
    "# for row in match_detail['participants']:\n",
    "#     participants_row = {}\n",
    "#     participants_row['champion'] = row['championId']\n",
    "#     # participants_row['spell1'] = row['spell1Id']\n",
    "#     # participants_row['spell2'] = row['spell2Id']\n",
    "#     participants_row['win'] = row['stats']['win']\n",
    "#     participants_row['kills'] = row['stats']['kills']\n",
    "#     participants_row['deaths'] = row['stats']['deaths']\n",
    "#     participants_row['assists'] = row['stats']['assists']\n",
    "#     participants_row['KDA'] = kda(row['stats']['kills'], row['stats']['deaths'], row['stats']['assists'])\n",
    "#     participants_row['totalDamageDealt'] = row['stats']['totalDamageDealt']\n",
    "#     participants_row['goldEarned'] = row['stats']['goldEarned']\n",
    "#     participants_row['champLevel'] = row['stats']['champLevel']\n",
    "#     participants_row['totalMinionsKilled'] = row['stats']['totalMinionsKilled']\n",
    "#     # participants_row['item0'] = row['stats']['item0']\n",
    "#     # participants_row['item1'] = row['stats']['item1']\n",
    "#     participants.append(participants_row)\n",
    "# df = pd.DataFrame(participants)\n",
    "# df"
   ]
  },
  {
   "source": [
    "### Patch an season info"
   ],
   "cell_type": "markdown",
   "metadata": {}
  },
  {
   "cell_type": "code",
   "execution_count": 62,
   "metadata": {},
   "outputs": [
    {
     "output_type": "stream",
     "name": "stdout",
     "text": [
      "1607515200\n",
      "2020-12-09T04:00:00-08:00\n"
     ]
    }
   ],
   "source": [
    "# example of how to Read time\n",
    "# 2018-01-24T03:00:00-08:00  (for patch 8.2) --> corresponds to 3am on January 24th, 2018 in Pacific Time\n",
    "\n",
    "with open(data_folder / \"patches.json\") as f:\n",
    "    data = json.load(f)\n",
    "\n",
    "patch = data[\"patches\"][-1]  # most recent\n",
    "utc_timestamp = patch[\"start\"]\n",
    "north_america_timestamp = utc_timestamp + data[\"shifts\"][\"NA1\"]\n",
    "print(north_america_timestamp)\n",
    "dt = arrow.get(north_america_timestamp)\n",
    "print(dt.to(\"US/Pacific\"))\n",
    "\n"
   ]
  },
  {
   "cell_type": "code",
   "execution_count": null,
   "metadata": {},
   "outputs": [],
   "source": []
  },
  {
   "cell_type": "code",
   "execution_count": null,
   "metadata": {},
   "outputs": [],
   "source": []
  },
  {
   "cell_type": "code",
   "execution_count": null,
   "metadata": {},
   "outputs": [],
   "source": []
  },
  {
   "cell_type": "code",
   "execution_count": null,
   "metadata": {},
   "outputs": [],
   "source": []
  },
  {
   "cell_type": "code",
   "execution_count": null,
   "metadata": {},
   "outputs": [],
   "source": [
    "# example end script for wayyy later\n",
    "\n",
    "try:\n",
    "    response = lol_watcher.summoner.by_name(region, summoner_name)\n",
    "    print(response)\n",
    "except ApiError as error:\n",
    "    if error.response.status_code == 429:\n",
    "        print('Request limit reached retry in {} seconds.'.format(err.headers['Retry-After']))\n",
    "    elif error.response.status_code == 404: \n",
    "        print(\"Found no match\")"
   ]
  }
 ],
 "metadata": {
  "kernelspec": {
   "name": "python3",
   "display_name": "Python 3",
   "language": "python"
  },
  "language_info": {
   "codemirror_mode": {
    "name": "ipython",
    "version": 3
   },
   "file_extension": ".py",
   "mimetype": "text/x-python",
   "name": "python",
   "nbconvert_exporter": "python",
   "pygments_lexer": "ipython3",
   "version": "3.9.1-final"
  },
  "orig_nbformat": 2
 },
 "nbformat": 4,
 "nbformat_minor": 2
}