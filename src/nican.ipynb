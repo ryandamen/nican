{
 "cells": [
  {
   "cell_type": "markdown",
   "metadata": {},
   "source": [
    "# Imports"
   ]
  },
  {
   "cell_type": "code",
   "execution_count": 76,
   "metadata": {},
   "outputs": [],
   "source": [
    "from collections import defaultdict\n",
    "from pathlib2 import Path\n",
    "from riotwatcher import LolWatcher, ApiError\n",
    "\n",
    "\n",
    "# import arrow\n",
    "import datetime\n",
    "import time\n",
    "import json\n",
    "import numpy as np\n",
    "import pandas as pd"
   ]
  },
  {
   "cell_type": "markdown",
   "metadata": {},
   "source": [
    "# Functions"
   ]
  },
  {
   "cell_type": "code",
   "execution_count": 46,
   "metadata": {},
   "outputs": [],
   "source": [
    "  \n",
    "def api_key(credentials):\n",
    "    \"\"\"Reads in the development API key from a file and checks if it is viable \n",
    "    \n",
    "    Input is a JSON file \n",
    "\n",
    "    \"\"\"\n",
    "    with open(api_key_loc, \"r\") as json_data:\n",
    "            credentials = json.load(json_data)\n",
    "    return api_key\n",
    "\n",
    "# TODO: Currently broken update when riot watcher is able to use lol_status_v4\n",
    "#     # while True:\n",
    "#         with open(api_key_loc, \"r\") as json_data:\n",
    "#             credentials = json.load(json_data)\n",
    "#             api_key = credentials[\"dev_api_key\"]\n",
    "#             lol_watcher = LolWatcher(credentials[\"dev_api_key\"])\n",
    "#             try:\n",
    "#                 # Use the current API key to check server status\n",
    "#                 server_status = lol_watcher.lol_status.shard_data(\"euw1\")\n",
    "#                 # break if key is functional\n",
    "#                 break\n",
    "#             except ApiError as error:\n",
    "#                 # If the current API key does not work input new one\n",
    "#                 if error.response.status_code == 403:\n",
    "#                     new_api_key = input(\"API key is incorrect, enter correct key here.\")\n",
    "#                     credentials[\"dev_api_key\"] = new_api_key\n",
    "#                     # Replace the old API key\n",
    "#                     with open(api_key_loc, \"w\") as json_data:\n",
    "#                         json.dump(credentials, json_data)\n",
    "#     return api_key"
   ]
  },
  {
   "cell_type": "code",
   "execution_count": 150,
   "metadata": {},
   "outputs": [],
   "source": [
    "def convert_time(epoch_utc_timestamp):\n",
    "    \"\"\"converts epoch to human readable date and time\n",
    "    \n",
    "    Input is integer and in Coordinated Universal Time (UTC) format \n",
    "\n",
    "    \"\"\"\n",
    "    hr_time = datetime.datetime.fromtimestamp(epoch_utc_timestamp / 1000)\n",
    "    return(hr_time)"
   ]
  },
  {
   "cell_type": "code",
   "execution_count": 151,
   "metadata": {},
   "outputs": [],
   "source": [
    "def kda(kill, death, assist):\n",
    "    #somehow does not work\n",
    "    \"\"\"Takes the kills, deaths, and assists of a player and calculates the KDA ratio order is kills, deaths, assists \n",
    "    \n",
    "    Input is string\n",
    "\n",
    "    \"\"\"\n",
    "    score = round((kills+assists) / max(1, death), 3)\n",
    "\n",
    "    return score"
   ]
  },
  {
   "cell_type": "markdown",
   "metadata": {},
   "source": [
    "# Main"
   ]
  },
  {
   "cell_type": "code",
   "execution_count": 152,
   "metadata": {},
   "outputs": [],
   "source": [
    "# Folder locations\n",
    "\n",
    "# Project folders\n",
    "project_folder = Path.cwd().parent\n",
    "\n",
    "# Raw data storage\n",
    "data_folder = project_folder / \"data\"\n",
    "\n",
    "# Out folder\n",
    "out_folder = project_folder / \"out\""
   ]
  },
  {
   "cell_type": "code",
   "execution_count": 153,
   "metadata": {},
   "outputs": [],
   "source": [
    "# Set API key\n",
    "api_key_loc = data_folder / \"dev_api_key.json\"\n",
    "# lol_watcher = LolWatcher(api_key(api_key_loc))\n",
    "\n",
    "with open(api_key_loc, \"r\") as json_data:\n",
    "            credentials = json.load(json_data)\n",
    "            api_key = credentials[\"dev_api_key\"]\n",
    "            lol_watcher = LolWatcher(credentials[\"dev_api_key\"])"
   ]
  },
  {
   "cell_type": "code",
   "execution_count": 154,
   "metadata": {},
   "outputs": [],
   "source": [
    "# TODO: Create a section called constants\n",
    "\n",
    "# Minimum durtion of champion select according to https://leagueoflegends.fandom.com/wiki/Draft_Pick 7-02-2021\n",
    "min_lobby_time = 239*1000 \n"
   ]
  },
  {
   "cell_type": "code",
   "execution_count": 155,
   "metadata": {},
   "outputs": [],
   "source": [
    "# Set user request parameters\n",
    "\n",
    "# Set region\n",
    "region = \"euw1\"\n",
    "\n",
    "# Set summonder name \n",
    "protagonist = \"alnas\" # not case sensitive"
   ]
  },
  {
   "source": [
    "### User info"
   ],
   "cell_type": "markdown",
   "metadata": {}
  },
  {
   "cell_type": "code",
   "execution_count": 171,
   "metadata": {},
   "outputs": [
    {
     "output_type": "stream",
     "name": "stdout",
     "text": [
      "{'id': 'L2OqMzNqsCelFfcFlPx5iQWRB7dKLDdf9xGgO_W1dNau3EI', 'accountId': 'fYybzHGf_HSjunX7VEs-9jXIEvVLk-eQhAyhq_VzaXWi2w', 'puuid': 'tKPszy2ygrLuiS7AYcfh4pjDzc3jQO2xOIjAf4YKq8XjytTznNaQc88wPYMmJkONT1JjtkioHEfaMg', 'name': 'Alnas', 'profileIconId': 3382, 'revisionDate': 1612224300000, 'summonerLevel': 107}\n"
     ]
    }
   ],
   "source": [
    "# retrieve info using region and summoner name\n",
    "user = lol_watcher.summoner.by_name(region, protagonist)\n",
    "print(user)"
   ]
  },
  {
   "cell_type": "code",
   "execution_count": 157,
   "metadata": {},
   "outputs": [
    {
     "output_type": "stream",
     "name": "stdout",
     "text": [
      "[{'leagueId': 'f45c0593-8eab-41ca-a45e-987f2cff8cca', 'queueType': 'RANKED_SOLO_5x5', 'tier': 'GOLD', 'rank': 'IV', 'summonerId': 'L2OqMzNqsCelFfcFlPx5iQWRB7dKLDdf9xGgO_W1dNau3EI', 'summonerName': 'Alnas', 'leaguePoints': 50, 'wins': 16, 'losses': 18, 'veteran': False, 'inactive': False, 'freshBlood': False, 'hotStreak': False}]\n"
     ]
    }
   ],
   "source": [
    "# Check rank stats using user id\n",
    "ranked_stats = lol_watcher.league.by_summoner(region, user[\"id\"])\n",
    "print(ranked_stats)"
   ]
  },
  {
   "source": [
    "### Match info"
   ],
   "cell_type": "markdown",
   "metadata": {}
  },
  {
   "cell_type": "code",
   "execution_count": 158,
   "metadata": {},
   "outputs": [],
   "source": [
    "# set match request parameters\n",
    "\n",
    "# Set queue\n",
    "queue = 420\n",
    "\n",
    "# Set season ????"
   ]
  },
  {
   "cell_type": "code",
   "execution_count": 159,
   "metadata": {
    "tags": []
   },
   "outputs": [
    {
     "output_type": "stream",
     "name": "stdout",
     "text": [
      "dict_keys(['matches', 'startIndex', 'endIndex', 'totalGames'])\n{'platformId': 'EUW1', 'gameId': 5064394827, 'champion': 412, 'queue': 420, 'season': 13, 'timestamp': 1612040868387, 'role': 'SOLO', 'lane': 'BOTTOM'}\n"
     ]
    }
   ],
   "source": [
    "# Retrieve match id from a single match, ranked queue based on time\n",
    "# (max is last 100 matches https://developer.riotgames.com/apis#match-v4) but time range is 1 week \n",
    "\n",
    "\n",
    "matches = lol_watcher.match.matchlist_by_account(region=region,\n",
    "                                                 encrypted_account_id=user[\"accountId\"],\n",
    "                                                 queue=queue,\n",
    "                                                 begin_index=0,\n",
    "                                                 end_index=100)\n",
    "#TODO: make this work with time\n",
    "\n",
    "                                                 \n",
    "print(matches.keys())\n",
    "print(matches[\"matches\"][0])\n",
    "# print(matches[\"startIndex\"])\n",
    "# print(matches[\"endIndex\"])\n",
    "# print(matches[\"totalGames\"]) \n"
   ]
  },
  {
   "cell_type": "code",
   "execution_count": 170,
   "metadata": {
    "tags": []
   },
   "outputs": [
    {
     "output_type": "stream",
     "name": "stdout",
     "text": [
      "done 2021-02-07 23:02:01.661135\n"
     ]
    }
   ],
   "source": [
    "# Create a dictionary to store all the results\n",
    "match_info = defaultdict(lambda: defaultdict(lambda: defaultdict(dict)))\n",
    "\n",
    "# Get match details of last 10 matches\n",
    "for match in matches[\"matches\"][:1]:\n",
    "        # Collect information pertinent to the match itself\n",
    "        game_id = match[\"gameId\"]\n",
    "        queue_type = match[\"queue\"]\n",
    "        match_detail = lol_watcher.match.by_id(region, game_id)\n",
    "        match_start = match[\"timestamp\"]\n",
    "        match_duration = match_detail[\"gameDuration\"]*1000\n",
    "        lobby_end = match_detail[\"gameCreation\"]\n",
    "\n",
    "        # Store filtered information pertinent to the match itself\n",
    "        match_info[game_id][\"game_info\"][\"game_type\"] = queue_type\n",
    "        match_info[game_id][\"game_info\"][\"begin_time\"] = lobby_end - min_lobby_time\n",
    "        match_info[game_id][\"game_info\"][\"end_time\"] = match_start + match_duration\n",
    "\n",
    "        # Store filtered information pertinent to participants\n",
    "        protagonist_blue = None\n",
    "        # Collect participant ID and summoner name\n",
    "        for participant in match_detail[\"participantIdentities\"]:\n",
    "                part_id = participant[\"participantId\"]\n",
    "                summoner_name = participant[\"player\"][\"summonerName\"]\n",
    "                # Storing summoner name using participant ID as key\n",
    "                match_info[game_id][\"player_data\"][part_id][\"participant_id\"] = part_id \n",
    "                match_info[game_id][\"player_data\"][part_id][\"name\"] = summoner_name\n",
    "                if summoner_name.lower() == protagonist.lower():\n",
    "                        protagonist_blue = True if part_id <=5 else False\n",
    "\n",
    "        # Collect kills, deaths, assists and win\n",
    "        for participant in match_detail[\"participants\"]:\n",
    "                part_id = participant[\"stats\"][\"participantId\"]\n",
    "                kills = participant[\"stats\"][\"kills\"] \n",
    "                deaths = participant[\"stats\"][\"deaths\"]\n",
    "                assists = participant[\"stats\"][\"assists\"]\n",
    "                kda = round((kills+assists)/ max(1, deaths), 3)\n",
    "                win = participant[\"stats\"][\"win\"]\n",
    "\n",
    "                # Store kills, deaths, assists, kda and win\n",
    "                match_info[game_id][\"player_data\"][part_id][\"kills\"] = kills\n",
    "                match_info[game_id][\"player_data\"][part_id][\"deaths\"] = deaths\n",
    "                match_info[game_id][\"player_data\"][part_id][\"assists\"] = assists\n",
    "                match_info[game_id][\"player_data\"][part_id][\"kda\"] = kda\n",
    "                match_info[game_id][\"player_data\"][part_id][\"win\"] = win\n",
    "\n",
    "                # Assign participants as ally or enemy of the protagonist                   \n",
    "                match_info[game_id][\"player_data\"][part_id][\"allied\"] = bool(part_id <=5) == protagonist_blue\n",
    "\n",
    "print(\"done\", datetime.datetime.now())\n",
    "# TODO: print how long it took"
   ]
  },
  {
   "cell_type": "code",
   "execution_count": 166,
   "metadata": {},
   "outputs": [
    {
     "output_type": "stream",
     "name": "stdout",
     "text": [
      "this is match 5064394827\ndict_keys(['game_info', 'player_data'])\ndict_keys(['game_type', 'begin_time', 'end_time'])\n2021-01-30 22:03:49.387000\n2021-01-30 22:32:18.387000\n\nmatch info\n420\n1612040629387\n1612042338387\n\nplayer info\n{'participant_id': 1, 'name': 'HeroicBrother', 'kills': 6, 'deaths': 11, 'assists': 6, 'kda': 1.091, 'win': False, 'allied': True}\n{'participant_id': 2, 'name': 'viscer0', 'kills': 2, 'deaths': 5, 'assists': 3, 'kda': 1.0, 'win': False, 'allied': True}\n{'participant_id': 3, 'name': 'Alnas', 'kills': 0, 'deaths': 5, 'assists': 6, 'kda': 1.2, 'win': False, 'allied': True}\n{'participant_id': 4, 'name': 'Likeabossbart', 'kills': 3, 'deaths': 8, 'assists': 3, 'kda': 0.75, 'win': False, 'allied': True}\n{'participant_id': 5, 'name': 'Lux4200', 'kills': 4, 'deaths': 7, 'assists': 1, 'kda': 0.714, 'win': False, 'allied': True}\n{'participant_id': 6, 'name': 'HomeMadeCookies', 'kills': 6, 'deaths': 3, 'assists': 7, 'kda': 4.333, 'win': True, 'allied': False}\n{'participant_id': 7, 'name': 'CoolFroggy', 'kills': 1, 'deaths': 1, 'assists': 19, 'kda': 20.0, 'win': True, 'allied': False}\n{'participant_id': 8, 'name': 'LiLPax123', 'kills': 3, 'deaths': 2, 'assists': 6, 'kda': 4.5, 'win': True, 'allied': False}\n{'participant_id': 9, 'name': 'Red Lôtus', 'kills': 16, 'deaths': 7, 'assists': 6, 'kda': 3.143, 'win': True, 'allied': False}\n{'participant_id': 10, 'name': 'DAEHYLRUCEHT', 'kills': 10, 'deaths': 2, 'assists': 7, 'kda': 8.5, 'win': True, 'allied': False}\n\n------------------------\n\n"
     ]
    }
   ],
   "source": [
    "# Output for for easy reading\n",
    "for i in match_info.keys():\n",
    "        print(\"this is match\", i)\n",
    "        print(match_info[i].keys())\n",
    "        print(match_info[i][\"game_info\"].keys())\n",
    "        print(convert_time(match_info[i][\"game_info\"][\"begin_time\"]))\n",
    "        print(convert_time(match_info[i][\"game_info\"][\"end_time\"]))\n",
    "        print(\"\")\n",
    "\n",
    "        print(\"match info\")\n",
    "        for y in match_info[i][\"game_info\"]:\n",
    "                print(match_info[i][\"game_info\"][y])\n",
    "\n",
    "        print(\"\")\n",
    "        print(\"player info\")\n",
    "        for player in match_info[i][\"player_data\"]:\n",
    "                print(match_info[i][\"player_data\"][player])\n",
    "\n",
    "        print(\"\\n------------------------\\n\")"
   ]
  },
  {
   "cell_type": "code",
   "execution_count": null,
   "metadata": {},
   "outputs": [],
   "source": [
    "# todo: write a function that measures how long a block took to run\n",
    "# datetime.now()"
   ]
  },
  {
   "cell_type": "code",
   "execution_count": 71,
   "metadata": {},
   "outputs": [
    {
     "output_type": "stream",
     "name": "stdout",
     "text": [
      "1607493600\n",
      "2020-12-08T22:00:00-08:00\n"
     ]
    }
   ],
   "source": [
    "with open(data_folder / \"patches.json\") as f:\n",
    "    data = json.load(f)\n",
    "\n",
    "patch = data[\"patches\"][-1]  # most recent\n",
    "utc_timestamp = patch[\"start\"]\n",
    "\n",
    "north_america_timestamp = utc_timestamp + data[\"shifts\"][region.upper()]\n",
    "print(north_america_timestamp)\n",
    "dt = arrow.get(north_america_timestamp)\n",
    "print(dt.to(\"US/Pacific\"))"
   ]
  },
  {
   "cell_type": "code",
   "execution_count": null,
   "metadata": {},
   "outputs": [],
   "source": [
    "\n",
    "# participants = []\n",
    "# for row in match_detail['participants']:\n",
    "#     participants_row = {}\n",
    "#     participants_row['champion'] = row['championId']\n",
    "#     # participants_row['spell1'] = row['spell1Id']\n",
    "#     # participants_row['spell2'] = row['spell2Id']\n",
    "#     participants_row['win'] = row['stats']['win']\n",
    "#     participants_row['kills'] = row['stats']['kills']\n",
    "#     participants_row['deaths'] = row['stats']['deaths']\n",
    "#     participants_row['assists'] = row['stats']['assists']\n",
    "#     participants_row['KDA'] = kda(row['stats']['kills'], row['stats']['deaths'], row['stats']['assists'])\n",
    "#     participants_row['totalDamageDealt'] = row['stats']['totalDamageDealt']\n",
    "#     participants_row['goldEarned'] = row['stats']['goldEarned']\n",
    "#     participants_row['champLevel'] = row['stats']['champLevel']\n",
    "#     participants_row['totalMinionsKilled'] = row['stats']['totalMinionsKilled']\n",
    "#     # participants_row['item0'] = row['stats']['item0']\n",
    "#     # participants_row['item1'] = row['stats']['item1']\n",
    "#     participants.append(participants_row)\n",
    "# df = pd.DataFrame(participants) # this step is still important 07-2\n",
    "# # df"
   ]
  },
  {
   "cell_type": "code",
   "execution_count": 44,
   "metadata": {},
   "outputs": [
    {
     "output_type": "stream",
     "name": "stdout",
     "text": [
      "[220 330 440 550]\n"
     ]
    }
   ],
   "source": [
    "\n",
    "thingy = np.arange(220,551,110)\n",
    "\n",
    "print(thingy)"
   ]
  },
  {
   "source": [
    "### Patch an season info"
   ],
   "cell_type": "markdown",
   "metadata": {}
  },
  {
   "cell_type": "code",
   "execution_count": 62,
   "metadata": {},
   "outputs": [
    {
     "output_type": "stream",
     "name": "stdout",
     "text": [
      "1607515200\n",
      "2020-12-09T04:00:00-08:00\n"
     ]
    }
   ],
   "source": [
    "# example of how to Read time\n",
    "# 2018-01-24T03:00:00-08:00  (for patch 8.2) --> corresponds to 3am on January 24th, 2018 in Pacific Time\n",
    "\n",
    "with open(data_folder / \"patches.json\") as f:\n",
    "    data = json.load(f)\n",
    "\n",
    "patch = data[\"patches\"][-1]  # most recent\n",
    "utc_timestamp = patch[\"start\"]\n",
    "north_america_timestamp = utc_timestamp + data[\"shifts\"][\"NA1\"]\n",
    "print(north_america_timestamp)\n",
    "dt = arrow.get(north_america_timestamp)\n",
    "print(dt.to(\"US/Pacific\"))\n",
    "\n"
   ]
  },
  {
   "cell_type": "code",
   "execution_count": null,
   "metadata": {},
   "outputs": [],
   "source": []
  },
  {
   "cell_type": "code",
   "execution_count": null,
   "metadata": {},
   "outputs": [],
   "source": []
  },
  {
   "cell_type": "code",
   "execution_count": null,
   "metadata": {},
   "outputs": [],
   "source": []
  },
  {
   "cell_type": "code",
   "execution_count": null,
   "metadata": {},
   "outputs": [],
   "source": []
  },
  {
   "cell_type": "code",
   "execution_count": null,
   "metadata": {},
   "outputs": [],
   "source": [
    "# example end script for wayyy later\n",
    "\n",
    "try:\n",
    "    response = lol_watcher.summoner.by_name(region, summoner_name)\n",
    "    print(response)\n",
    "except ApiError as error:\n",
    "    if error.response.status_code == 429:\n",
    "        print('Request limit reached retry in {} seconds.'.format(err.headers['Retry-After']))\n",
    "    elif error.response.status_code == 404: \n",
    "        print(\"Found no match\")"
   ]
  }
 ],
 "metadata": {
  "kernelspec": {
   "name": "python3",
   "display_name": "Python 3",
   "language": "python"
  },
  "language_info": {
   "codemirror_mode": {
    "name": "ipython",
    "version": 3
   },
   "file_extension": ".py",
   "mimetype": "text/x-python",
   "name": "python",
   "nbconvert_exporter": "python",
   "pygments_lexer": "ipython3",
   "version": "3.9.1-final"
  },
  "orig_nbformat": 2
 },
 "nbformat": 4,
 "nbformat_minor": 2
}