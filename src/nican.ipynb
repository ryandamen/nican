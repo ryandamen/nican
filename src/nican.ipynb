{
 "cells": [
  {
   "cell_type": "markdown",
   "metadata": {},
   "source": [
    "# Imports"
   ]
  },
  {
   "cell_type": "code",
   "execution_count": 1,
   "metadata": {},
   "outputs": [],
   "source": [
    "from pathlib2 import Path\n",
    "from riotwatcher import LolWatcher, ApiError\n",
    "\n",
    "import arrow\n",
    "import collections\n",
    "import json\n",
    "import numpy as np\n",
    "import pandas as pd"
   ]
  },
  {
   "cell_type": "markdown",
   "metadata": {},
   "source": [
    "# Functions"
   ]
  },
  {
   "cell_type": "code",
   "execution_count": 2,
   "metadata": {},
   "outputs": [],
   "source": [
    "  \n",
    "def api_key(credentials):\n",
    "    \"\"\"Reads in the development API key from a file and checks if it is viable \n",
    "    \n",
    "    Input is a JSON file \n",
    "\n",
    "    \"\"\"\n",
    "    with open(api_key_loc, \"r\") as json_data:\n",
    "            credentials = json.load(json_data)\n",
    "    return api_key\n",
    "\n",
    "# TODO: Currently broken update when riot watcher is able to use lol_status_v4\n",
    "#     # while True:\n",
    "#         with open(api_key_loc, \"r\") as json_data:\n",
    "#             credentials = json.load(json_data)\n",
    "#             api_key = credentials[\"dev_api_key\"]\n",
    "#             lol_watcher = LolWatcher(credentials[\"dev_api_key\"])\n",
    "#             try:\n",
    "#                 # Use the current API key to check server status\n",
    "#                 server_status = lol_watcher.lol_status.shard_data(\"euw1\")\n",
    "#                 # break if key is functional\n",
    "#                 break\n",
    "#             except ApiError as error:\n",
    "#                 # If the current API key does not work input new one\n",
    "#                 if error.response.status_code == 403:\n",
    "#                     new_api_key = input(\"API key is incorrect, enter correct key here.\")\n",
    "#                     credentials[\"dev_api_key\"] = new_api_key\n",
    "#                     # Replace the old API key\n",
    "#                     with open(api_key_loc, \"w\") as json_data:\n",
    "#                         json.dump(credentials, json_data)\n",
    "#     return api_key"
   ]
  },
  {
   "cell_type": "code",
   "execution_count": 4,
   "metadata": {},
   "outputs": [],
   "source": [
    "def kda(kill, death, assist):\n",
    "    #somehow does not work\n",
    "    \"\"\"Takes the kills, deaths, and assists of a player and calculates the KDA ratio order is kills, deaths, assists \n",
    "    \n",
    "    Input is string\n",
    "\n",
    "    \"\"\"\n",
    "    score = round((kills+assists) / max(1, death), 3)\n",
    "\n",
    "    return score"
   ]
  },
  {
   "cell_type": "markdown",
   "metadata": {},
   "source": [
    "# Main"
   ]
  },
  {
   "cell_type": "code",
   "execution_count": 5,
   "metadata": {},
   "outputs": [],
   "source": [
    "# Folder locations\n",
    "\n",
    "# Project folders\n",
    "project_folder = Path.cwd().parent\n",
    "\n",
    "# Raw data storage\n",
    "data_folder = project_folder / \"data\"\n",
    "\n",
    "# Out folder\n",
    "out_folder = project_folder / \"out\""
   ]
  },
  {
   "cell_type": "code",
   "execution_count": 6,
   "metadata": {},
   "outputs": [],
   "source": [
    "# Set API key\n",
    "api_key_loc = data_folder / \"dev_api_key.json\"\n",
    "# lol_watcher = LolWatcher(api_key(api_key_loc))\n",
    "\n",
    "with open(api_key_loc, \"r\") as json_data:\n",
    "            credentials = json.load(json_data)\n",
    "            api_key = credentials[\"dev_api_key\"]\n",
    "            lol_watcher = LolWatcher(credentials[\"dev_api_key\"])"
   ]
  },
  {
   "cell_type": "code",
   "execution_count": 7,
   "metadata": {},
   "outputs": [],
   "source": [
    "# Set user request parameters\n",
    "\n",
    "# Set region\n",
    "region = \"euw1\"\n",
    "\n",
    "# Set summonder name \n",
    "protagonist = \"alnas\" # not case sensitive"
   ]
  },
  {
   "source": [
    "### User info"
   ],
   "cell_type": "markdown",
   "metadata": {}
  },
  {
   "cell_type": "code",
   "execution_count": 8,
   "metadata": {},
   "outputs": [
    {
     "output_type": "stream",
     "name": "stdout",
     "text": [
      "{'id': 'vvnJnOwimLDEuJz55em8ihuAIjfQcfQk0qNTs1xK1SujIEA', 'accountId': 'U8waP8B_8dhhTEMZOZtmyV4vqBfEYHiCNnUMXmPD4EaMeQ', 'puuid': '-0mFh1iO9XEjqTEh8xofNi7wsCx_I7sLHsxhSp7sv8q4sIDuQa_ei3MtfGkud7KyX9PO_ujw76m5yg', 'name': 'Alnas', 'profileIconId': 3382, 'revisionDate': 1611779913000, 'summonerLevel': 107}\n"
     ]
    }
   ],
   "source": [
    "# retrieve info using region and summoner name\n",
    "user = lol_watcher.summoner.by_name(region, protagonist)\n",
    "print(user)"
   ]
  },
  {
   "cell_type": "code",
   "execution_count": 9,
   "metadata": {},
   "outputs": [
    {
     "output_type": "stream",
     "name": "stdout",
     "text": [
      "[{'leagueId': 'f45c0593-8eab-41ca-a45e-987f2cff8cca', 'queueType': 'RANKED_SOLO_5x5', 'tier': 'GOLD', 'rank': 'IV', 'summonerId': 'vvnJnOwimLDEuJz55em8ihuAIjfQcfQk0qNTs1xK1SujIEA', 'summonerName': 'Alnas', 'leaguePoints': 50, 'wins': 16, 'losses': 18, 'veteran': False, 'inactive': False, 'freshBlood': False, 'hotStreak': False}]\n"
     ]
    }
   ],
   "source": [
    "# Check rank stats using user id\n",
    "ranked_stats = lol_watcher.league.by_summoner(region, user[\"id\"])\n",
    "print(ranked_stats)"
   ]
  },
  {
   "source": [
    "### Match info"
   ],
   "cell_type": "markdown",
   "metadata": {}
  },
  {
   "cell_type": "code",
   "execution_count": 10,
   "metadata": {},
   "outputs": [],
   "source": [
    "# set match request parameters\n",
    "\n",
    "# Set queue\n",
    "queue = 420\n",
    "\n",
    "# Set season ????"
   ]
  },
  {
   "cell_type": "code",
   "execution_count": 11,
   "metadata": {
    "tags": []
   },
   "outputs": [
    {
     "output_type": "stream",
     "name": "stdout",
     "text": [
      "dict_keys(['matches', 'startIndex', 'endIndex', 'totalGames'])\n{'platformId': 'EUW1', 'gameId': 5064394827, 'champion': 412, 'queue': 420, 'season': 13, 'timestamp': 1612040868387, 'role': 'SOLO', 'lane': 'BOTTOM'}\n"
     ]
    }
   ],
   "source": [
    "# Retrieve match id from a single match, ranked queue based on time\n",
    "# (max is last 100 matches https://developer.riotgames.com/apis#match-v4) but time range is 1 week \n",
    "\n",
    "\n",
    "matches = lol_watcher.match.matchlist_by_account(region=region,\n",
    "                                                 encrypted_account_id=user[\"accountId\"],\n",
    "                                                 queue=queue,\n",
    "                                                 begin_index=0,\n",
    "                                                 end_index=100)\n",
    "#TODO: make this work with time\n",
    "\n",
    "                                                 \n",
    "print(matches.keys())\n",
    "print(matches[\"matches\"][0])\n",
    "# print(matches[\"startIndex\"])\n",
    "# print(matches[\"endIndex\"])\n",
    "# print(matches[\"totalGames\"])  \n",
    "\n",
    "\n"
   ]
  },
  {
   "cell_type": "code",
   "execution_count": 12,
   "metadata": {
    "tags": []
   },
   "outputs": [
    {
     "output_type": "execute_result",
     "data": {
      "text/plain": [
       "[{'platformId': 'EUW1',\n",
       "  'gameId': 5064394827,\n",
       "  'champion': 412,\n",
       "  'queue': 420,\n",
       "  'season': 13,\n",
       "  'timestamp': 1612040868387,\n",
       "  'role': 'SOLO',\n",
       "  'lane': 'BOTTOM'},\n",
       " {'platformId': 'EUW1',\n",
       "  'gameId': 5064173273,\n",
       "  'champion': 412,\n",
       "  'queue': 420,\n",
       "  'season': 13,\n",
       "  'timestamp': 1612037769436,\n",
       "  'role': 'DUO_SUPPORT',\n",
       "  'lane': 'BOTTOM'},\n",
       " {'platformId': 'EUW1',\n",
       "  'gameId': 5063929826,\n",
       "  'champion': 412,\n",
       "  'queue': 420,\n",
       "  'season': 13,\n",
       "  'timestamp': 1612035927898,\n",
       "  'role': 'DUO_SUPPORT',\n",
       "  'lane': 'BOTTOM'},\n",
       " {'platformId': 'EUW1',\n",
       "  'gameId': 5063983191,\n",
       "  'champion': 412,\n",
       "  'queue': 420,\n",
       "  'season': 13,\n",
       "  'timestamp': 1612034418316,\n",
       "  'role': 'DUO_SUPPORT',\n",
       "  'lane': 'NONE'},\n",
       " {'platformId': 'EUW1',\n",
       "  'gameId': 5063485536,\n",
       "  'champion': 53,\n",
       "  'queue': 420,\n",
       "  'season': 13,\n",
       "  'timestamp': 1612018810146,\n",
       "  'role': 'DUO_SUPPORT',\n",
       "  'lane': 'NONE'},\n",
       " {'platformId': 'EUW1',\n",
       "  'gameId': 5063389276,\n",
       "  'champion': 53,\n",
       "  'queue': 420,\n",
       "  'season': 13,\n",
       "  'timestamp': 1612016609810,\n",
       "  'role': 'DUO_SUPPORT',\n",
       "  'lane': 'BOTTOM'},\n",
       " {'platformId': 'EUW1',\n",
       "  'gameId': 5058324101,\n",
       "  'champion': 53,\n",
       "  'queue': 420,\n",
       "  'season': 13,\n",
       "  'timestamp': 1611777882831,\n",
       "  'role': 'DUO_SUPPORT',\n",
       "  'lane': 'MID'},\n",
       " {'platformId': 'EUW1',\n",
       "  'gameId': 5054764838,\n",
       "  'champion': 53,\n",
       "  'queue': 420,\n",
       "  'season': 13,\n",
       "  'timestamp': 1611615047035,\n",
       "  'role': 'NONE',\n",
       "  'lane': 'JUNGLE'},\n",
       " {'platformId': 'EUW1',\n",
       "  'gameId': 5054073201,\n",
       "  'champion': 53,\n",
       "  'queue': 420,\n",
       "  'season': 13,\n",
       "  'timestamp': 1611594305769,\n",
       "  'role': 'DUO_SUPPORT',\n",
       "  'lane': 'BOTTOM'},\n",
       " {'platformId': 'EUW1',\n",
       "  'gameId': 5053847879,\n",
       "  'champion': 235,\n",
       "  'queue': 420,\n",
       "  'season': 13,\n",
       "  'timestamp': 1611592052124,\n",
       "  'role': 'DUO_SUPPORT',\n",
       "  'lane': 'BOTTOM'}]"
      ]
     },
     "metadata": {},
     "execution_count": 12
    }
   ],
   "source": [
    "# Create a dictionary to store all the results\n",
    "match_results = collections.defaultdict(dict)\n",
    "\n",
    "# Get match details of last 10 match\n",
    "matches[\"matches\"][0:10]\n",
    "\n",
    "\n",
    "# for i, match in enumerate(matches[\"matches\"][:11]): # select latest match\n",
    "#         # print(i, match)\n",
    "#         match_detail = lol_watcher.match.by_id(region, match['gameId'])\n",
    "#         print(match_detail[\"gameId\"])\n",
    "# print(match_detail.keys())\n",
    "        "
   ]
  },
  {
   "cell_type": "code",
   "execution_count": 14,
   "metadata": {
    "tags": []
   },
   "outputs": [
    {
     "output_type": "stream",
     "name": "stdout",
     "text": [
      "1 {'participant_id': 1, 'name': 'HeroicBrother', 'kills': 6, 'deaths': 11, 'assists': 6, 'kda': 1.091, 'win': False, 'allied': True}\n2 {'participant_id': 2, 'name': 'viscer0', 'kills': 2, 'deaths': 5, 'assists': 3, 'kda': 1.0, 'win': False, 'allied': True}\n3 {'participant_id': 3, 'name': 'Alnas', 'kills': 0, 'deaths': 5, 'assists': 6, 'kda': 1.2, 'win': False, 'allied': True}\n4 {'participant_id': 4, 'name': 'Likeabossbart', 'kills': 3, 'deaths': 8, 'assists': 3, 'kda': 0.75, 'win': False, 'allied': True}\n5 {'participant_id': 5, 'name': 'Lux4200', 'kills': 4, 'deaths': 7, 'assists': 1, 'kda': 0.714, 'win': False, 'allied': True}\n6 {'participant_id': 6, 'name': 'HomeMadeCookies', 'kills': 6, 'deaths': 3, 'assists': 7, 'kda': 4.333, 'win': True, 'allied': False}\n7 {'participant_id': 7, 'name': 'CoolFroggy', 'kills': 1, 'deaths': 1, 'assists': 19, 'kda': 20.0, 'win': True, 'allied': False}\n8 {'participant_id': 8, 'name': 'LiLPax123', 'kills': 3, 'deaths': 2, 'assists': 6, 'kda': 4.5, 'win': True, 'allied': False}\n9 {'participant_id': 9, 'name': 'Red Lôtus', 'kills': 16, 'deaths': 7, 'assists': 6, 'kda': 3.143, 'win': True, 'allied': False}\n10 {'participant_id': 10, 'name': 'DAEHYLRUCEHT', 'kills': 10, 'deaths': 2, 'assists': 7, 'kda': 8.5, 'win': True, 'allied': False}\n"
     ]
    }
   ],
   "source": [
    "\n",
    "# Get match details of lastest match\n",
    "for i, match in enumerate(matches[\"matches\"][:1]): # select latest match\n",
    "        # print(i, match)\n",
    "        match_detail = lol_watcher.match.by_id(region, match['gameId'])\n",
    "\n",
    "\n",
    "\n",
    "# Store all relevant information of participants from a single match\n",
    "\n",
    "# create a dataframe to store player information in\n",
    "player_data = collections.defaultdict(dict)\n",
    "protagonist_blue = None\n",
    "\n",
    "# Collect participant ID and summoner name\n",
    "for participant in match_detail[\"participantIdentities\"]:\n",
    "        participant_id = participant[\"participantId\"]\n",
    "        summoner_name = participant[\"player\"][\"summonerName\"]\n",
    "        # Storing summoner name using participant ID as key\n",
    "        player_data[participant_id][\"participant_id\"] = participant_id\n",
    "        player_data[participant_id][\"name\"] = summoner_name\n",
    "        if summoner_name.lower() == protagonist.lower():\n",
    "                protagonist_blue = True if participant_id <=5 else False\n",
    "\n",
    "# Collect kills, deaths, assists and win\n",
    "for participant in match_detail[\"participants\"]:\n",
    "        participant_id = participant[\"stats\"][\"participantId\"]\n",
    "        kills = participant[\"stats\"][\"kills\"] \n",
    "        deaths = participant[\"stats\"][\"deaths\"]\n",
    "        assists = participant[\"stats\"][\"assists\"]\n",
    "        kda = round((kills+assists)/ max(1, deaths), 3)\n",
    "        win = participant[\"stats\"][\"win\"]\n",
    "\n",
    "        # Store Collect kills, deaths, assists, kda and win\n",
    "        player_data[participant_id][\"kills\"] = kills\n",
    "        player_data[participant_id][\"deaths\"] = deaths\n",
    "        player_data[participant_id][\"assists\"] = assists\n",
    "        player_data[participant_id][\"kda\"] = kda\n",
    "        player_data[participant_id][\"win\"] = win\n",
    "\n",
    "        # Assign participants as ally or enemy of the protagonist                        \n",
    "        player_data[participant_id][\"allied\"] = bool(player_data[participant_id][\"participant_id\"] <=5) == protagonist_blue\n",
    "\n",
    "for k, v in player_data.items():\n",
    "        print(k, v)\n",
    "\n"
   ]
  },
  {
   "cell_type": "code",
   "execution_count": null,
   "metadata": {},
   "outputs": [],
   "source": [
    "\n",
    "\n",
    "\n",
    "# print(player[\"participant_id\"])\n",
    "\n",
    "# print(match_detail.keys()) # also contains game duration this might be interresting\n",
    "# print(match_detail[\"participantIdentities\"])\n",
    "\n",
    "\n",
    "# print(match_detail[\"teams\"])\n",
    "\n",
    "# for i in match_detail[\"teams\"]:\n",
    "#         print(i)\n",
    "\n",
    "\n",
    "# steps to take.\n",
    "# get teams. check\n",
    "# assign players to teams\n",
    "#\n",
    "# get a form like this ID, name, win of protagonist\n",
    "# group all the ones that have win together and lose together based on protagonist\n",
    "# Add player names to table of interrest\n",
    "# add win or lose status to players \n",
    "\n",
    "\n",
    "\n",
    "# for player in match_detail[\"participants\"]:\n",
    "#         print(player)\n",
    "#         break\n",
    "# #     # print(player.keys()) #'participantId', 'teamId', 'championId', 'spell1Id', 'spell2Id', 'stats', 'timeline'])\n",
    "# #     # print(player[\"participantId\"]) # is also found in stats so this one can be ignored\n",
    "# #     # print(player[\"teamId\"]) # 100 is blue 200 is red prolly but this is useless\n",
    "# #     # print(player[\"championId\"]) # which champ they are playing maaybe needed to link back to player\n",
    "#     print(player[\"stats\"].keys()) # is a dictionary of player stats during the game\n",
    "#     break\n",
    "#     # print(player[\"timeline\"])\n",
    "# {teams:allied{players:{sumname{},kills{}}},enemy{}}\n",
    "\n",
    "\n",
    "\n",
    "\n",
    "# print(part_id_sum_name_dict)\n",
    "\n"
   ]
  },
  {
   "cell_type": "code",
   "execution_count": null,
   "metadata": {},
   "outputs": [],
   "source": [
    "\n"
   ]
  },
  {
   "cell_type": "code",
   "execution_count": null,
   "metadata": {},
   "outputs": [],
   "source": [
    "\n",
    "\n",
    "# participants = []\n",
    "# for row in match_detail['participants']:\n",
    "#     participants_row = {}\n",
    "#     participants_row['champion'] = row['championId']\n",
    "#     # participants_row['spell1'] = row['spell1Id']\n",
    "#     # participants_row['spell2'] = row['spell2Id']\n",
    "#     participants_row['win'] = row['stats']['win']\n",
    "#     participants_row['kills'] = row['stats']['kills']\n",
    "#     participants_row['deaths'] = row['stats']['deaths']\n",
    "#     participants_row['assists'] = row['stats']['assists']\n",
    "#     participants_row['KDA'] = kda(row['stats']['kills'], row['stats']['deaths'], row['stats']['assists'])\n",
    "#     participants_row['totalDamageDealt'] = row['stats']['totalDamageDealt']\n",
    "#     participants_row['goldEarned'] = row['stats']['goldEarned']\n",
    "#     participants_row['champLevel'] = row['stats']['champLevel']\n",
    "#     participants_row['totalMinionsKilled'] = row['stats']['totalMinionsKilled']\n",
    "#     # participants_row['item0'] = row['stats']['item0']\n",
    "#     # participants_row['item1'] = row['stats']['item1']\n",
    "#     participants.append(participants_row)\n",
    "# df = pd.DataFrame(participants)\n",
    "# df"
   ]
  },
  {
   "source": [
    "### Patch an season info"
   ],
   "cell_type": "markdown",
   "metadata": {}
  },
  {
   "cell_type": "code",
   "execution_count": 62,
   "metadata": {},
   "outputs": [
    {
     "output_type": "stream",
     "name": "stdout",
     "text": [
      "1607515200\n",
      "2020-12-09T04:00:00-08:00\n"
     ]
    }
   ],
   "source": [
    "# example of how to Read time\n",
    "with open(data_folder / \"patches.json\") as f:\n",
    "    data = json.load(f)\n",
    "\n",
    "patch = data[\"patches\"][-1]  # most recent\n",
    "utc_timestamp = patch[\"start\"]\n",
    "north_america_timestamp = utc_timestamp + data[\"shifts\"][\"NA1\"]\n",
    "print(north_america_timestamp)\n",
    "dt = arrow.get(north_america_timestamp)\n",
    "print(dt.to(\"US/Pacific\"))"
   ]
  },
  {
   "cell_type": "code",
   "execution_count": null,
   "metadata": {},
   "outputs": [],
   "source": []
  },
  {
   "cell_type": "code",
   "execution_count": null,
   "metadata": {},
   "outputs": [],
   "source": []
  },
  {
   "cell_type": "code",
   "execution_count": null,
   "metadata": {},
   "outputs": [],
   "source": []
  },
  {
   "cell_type": "code",
   "execution_count": null,
   "metadata": {},
   "outputs": [],
   "source": []
  },
  {
   "cell_type": "code",
   "execution_count": null,
   "metadata": {},
   "outputs": [],
   "source": [
    "# example end script for wayyy later\n",
    "\n",
    "try:\n",
    "    response = lol_watcher.summoner.by_name(region, summoner_name)\n",
    "    print(response)\n",
    "except ApiError as error:\n",
    "    if error.response.status_code == 429:\n",
    "        print('Request limit reached retry in {} seconds.'.format(err.headers['Retry-After']))\n",
    "    elif error.response.status_code == 404: \n",
    "        print(\"Found no match\")"
   ]
  }
 ],
 "metadata": {
  "kernelspec": {
   "name": "python3",
   "display_name": "Python 3",
   "language": "python"
  },
  "language_info": {
   "codemirror_mode": {
    "name": "ipython",
    "version": 3
   },
   "file_extension": ".py",
   "mimetype": "text/x-python",
   "name": "python",
   "nbconvert_exporter": "python",
   "pygments_lexer": "ipython3",
   "version": "3.9.1-final"
  },
  "orig_nbformat": 2
 },
 "nbformat": 4,
 "nbformat_minor": 2
}